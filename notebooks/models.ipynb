{
 "cells": [
  {
   "cell_type": "code",
   "execution_count": 1,
   "metadata": {},
   "outputs": [],
   "source": [
    "import numpy as np \n",
    "import tensorflow as tf\n",
    "from tensorflow import keras\n",
    "from tensorflow.keras import layers"
   ]
  },
  {
   "cell_type": "code",
   "execution_count": 2,
   "metadata": {},
   "outputs": [
    {
     "name": "stderr",
     "output_type": "stream",
     "text": [
      "2021-12-27 14:31:35.790511: I tensorflow/core/platform/cpu_feature_guard.cc:142] This TensorFlow binary is optimized with oneAPI Deep Neural Network Library (oneDNN) to use the following CPU instructions in performance-critical operations:  SSE4.1 SSE4.2\n",
      "To enable them in other operations, rebuild TensorFlow with the appropriate compiler flags.\n"
     ]
    }
   ],
   "source": [
    "(xtrain, ytrain), (_, _) = keras.datasets.mnist.load_data()\n",
    "\n",
    "# 10 class classifier \n",
    "y_out_a = keras.utils.to_categorical(ytrain, num_classes=10) \n",
    "\n",
    "# 2 class classifier, even or odd \n",
    "y_out_b = keras.utils.to_categorical((ytrain % 2 == 0).astype(int), num_classes=2) \n",
    "\n",
    "# regression, predict square of an input digit image\n",
    "y_out_c = tf.square(tf.cast(ytrain, tf.float32))"
   ]
  },
  {
   "cell_type": "code",
   "execution_count": 3,
   "metadata": {},
   "outputs": [],
   "source": [
    "input = keras.Input(shape=(28, 28, 1), name=\"original_img\")\n",
    "x = layers.Conv2D(16, 3, activation=\"relu\")(input)\n",
    "x = layers.Conv2D(32, 3, activation=\"relu\")(x)\n",
    "x = layers.MaxPooling2D(3)(x)\n",
    "x = layers.Conv2D(32, 3, activation=\"relu\")(x)\n",
    "x = layers.Conv2D(16, 3, activation=\"relu\")(x)\n",
    "x = layers.GlobalMaxPooling2D()(x)\n",
    "\n",
    "out_a = keras.layers.Dense(10, activation='softmax', name='10cls')(x)\n",
    "out_b = keras.layers.Dense(2, activation='softmax', name='2cls')(x)\n",
    "out_c = keras.layers.Dense(1, activation='linear', name='1rg')(x)\n",
    "\n",
    "encoder = keras.Model( inputs = input, outputs = [out_a, out_b, out_c], name=\"encoder\")"
   ]
  },
  {
   "cell_type": "code",
   "execution_count": 5,
   "metadata": {},
   "outputs": [
    {
     "name": "stdout",
     "output_type": "stream",
     "text": [
      "('Failed to import pydot. You must `pip install pydot` and install graphviz (https://graphviz.gitlab.io/download/), ', 'for `pydotprint` to work.')\n"
     ]
    }
   ],
   "source": [
    "# Let's plot \n",
    "keras.utils.plot_model(\n",
    "    encoder\n",
    ")"
   ]
  },
  {
   "cell_type": "code",
   "execution_count": 6,
   "metadata": {},
   "outputs": [],
   "source": [
    "encoder.compile(\n",
    "    loss = {\n",
    "        \"10cls\": tf.keras.losses.CategoricalCrossentropy(),\n",
    "        \"2cls\": tf.keras.losses.CategoricalCrossentropy(),\n",
    "        \"1rg\": tf.keras.losses.MeanSquaredError()\n",
    "    },\n",
    "\n",
    "    metrics = {\n",
    "        \"10cls\": 'accuracy',\n",
    "        \"2cls\": 'accuracy',\n",
    "        \"1rg\": 'mse'\n",
    "    },\n",
    "\n",
    "    optimizer = tf.keras.optimizers.Adam(learning_rate=0.001)\n",
    ")"
   ]
  },
  {
   "cell_type": "code",
   "execution_count": 7,
   "metadata": {},
   "outputs": [
    {
     "name": "stderr",
     "output_type": "stream",
     "text": [
      "2021-12-27 14:33:44.335755: I tensorflow/compiler/mlir/mlir_graph_optimization_pass.cc:116] None of the MLIR optimization passes are enabled (registered 2)\n"
     ]
    },
    {
     "name": "stdout",
     "output_type": "stream",
     "text": [
      "Epoch 1/30\n",
      "1875/1875 - 22s - loss: 132.6182 - 10cls_loss: 2.7340 - 2cls_loss: 1.0333 - 1rg_loss: 128.8508 - 10cls_accuracy: 0.5922 - 2cls_accuracy: 0.8201 - 1rg_mse: 128.8508\n",
      "Epoch 2/30\n",
      "1875/1875 - 21s - loss: 64.2100 - 10cls_loss: 0.4234 - 2cls_loss: 0.2421 - 1rg_loss: 63.5446 - 10cls_accuracy: 0.8801 - 2cls_accuracy: 0.9263 - 1rg_mse: 63.5446\n",
      "Epoch 3/30\n",
      "1875/1875 - 23s - loss: 51.1286 - 10cls_loss: 0.2615 - 2cls_loss: 0.1373 - 1rg_loss: 50.7299 - 10cls_accuracy: 0.9238 - 2cls_accuracy: 0.9512 - 1rg_mse: 50.7299\n",
      "Epoch 4/30\n",
      "1875/1875 - 22s - loss: 44.4774 - 10cls_loss: 0.2079 - 2cls_loss: 0.1124 - 1rg_loss: 44.1571 - 10cls_accuracy: 0.9384 - 2cls_accuracy: 0.9592 - 1rg_mse: 44.1571\n",
      "Epoch 5/30\n",
      "1875/1875 - 21s - loss: 40.0827 - 10cls_loss: 0.1845 - 2cls_loss: 0.1027 - 1rg_loss: 39.7954 - 10cls_accuracy: 0.9451 - 2cls_accuracy: 0.9632 - 1rg_mse: 39.7954\n",
      "Epoch 6/30\n",
      "1875/1875 - 21s - loss: 36.2314 - 10cls_loss: 0.1631 - 2cls_loss: 0.0962 - 1rg_loss: 35.9721 - 10cls_accuracy: 0.9513 - 2cls_accuracy: 0.9666 - 1rg_mse: 35.9721\n",
      "Epoch 7/30\n",
      "1875/1875 - 21s - loss: 33.7495 - 10cls_loss: 0.1538 - 2cls_loss: 0.0890 - 1rg_loss: 33.5067 - 10cls_accuracy: 0.9534 - 2cls_accuracy: 0.9687 - 1rg_mse: 33.5067\n",
      "Epoch 8/30\n",
      "1875/1875 - 21s - loss: 31.3692 - 10cls_loss: 0.1422 - 2cls_loss: 0.0859 - 1rg_loss: 31.1410 - 10cls_accuracy: 0.9581 - 2cls_accuracy: 0.9698 - 1rg_mse: 31.1410\n",
      "Epoch 9/30\n",
      "1875/1875 - 21s - loss: 29.4395 - 10cls_loss: 0.1346 - 2cls_loss: 0.0826 - 1rg_loss: 29.2223 - 10cls_accuracy: 0.9601 - 2cls_accuracy: 0.9718 - 1rg_mse: 29.2223\n",
      "Epoch 10/30\n",
      "1875/1875 - 21s - loss: 27.7647 - 10cls_loss: 0.1254 - 2cls_loss: 0.0826 - 1rg_loss: 27.5568 - 10cls_accuracy: 0.9634 - 2cls_accuracy: 0.9727 - 1rg_mse: 27.5568\n",
      "Epoch 11/30\n",
      "1875/1875 - 21s - loss: 26.6151 - 10cls_loss: 0.1205 - 2cls_loss: 0.0806 - 1rg_loss: 26.4140 - 10cls_accuracy: 0.9650 - 2cls_accuracy: 0.9727 - 1rg_mse: 26.4140\n",
      "Epoch 12/30\n",
      "1875/1875 - 21s - loss: 25.4496 - 10cls_loss: 0.1172 - 2cls_loss: 0.0794 - 1rg_loss: 25.2530 - 10cls_accuracy: 0.9660 - 2cls_accuracy: 0.9742 - 1rg_mse: 25.2530\n",
      "Epoch 13/30\n",
      "1875/1875 - 22s - loss: 24.2243 - 10cls_loss: 0.1160 - 2cls_loss: 0.0817 - 1rg_loss: 24.0266 - 10cls_accuracy: 0.9665 - 2cls_accuracy: 0.9732 - 1rg_mse: 24.0266\n",
      "Epoch 14/30\n",
      "1875/1875 - 22s - loss: 23.4078 - 10cls_loss: 0.1111 - 2cls_loss: 0.0789 - 1rg_loss: 23.2178 - 10cls_accuracy: 0.9682 - 2cls_accuracy: 0.9732 - 1rg_mse: 23.2178\n",
      "Epoch 15/30\n",
      "1875/1875 - 21s - loss: 22.8006 - 10cls_loss: 0.1073 - 2cls_loss: 0.0748 - 1rg_loss: 22.6184 - 10cls_accuracy: 0.9696 - 2cls_accuracy: 0.9757 - 1rg_mse: 22.6184\n",
      "Epoch 16/30\n",
      "1875/1875 - 21s - loss: 21.7256 - 10cls_loss: 0.1029 - 2cls_loss: 0.0719 - 1rg_loss: 21.5508 - 10cls_accuracy: 0.9710 - 2cls_accuracy: 0.9760 - 1rg_mse: 21.5508\n",
      "Epoch 17/30\n",
      "1875/1875 - 22s - loss: 21.1348 - 10cls_loss: 0.1003 - 2cls_loss: 0.0727 - 1rg_loss: 20.9618 - 10cls_accuracy: 0.9715 - 2cls_accuracy: 0.9754 - 1rg_mse: 20.9618\n",
      "Epoch 18/30\n",
      "1875/1875 - 22s - loss: 20.4658 - 10cls_loss: 0.0997 - 2cls_loss: 0.0750 - 1rg_loss: 20.2910 - 10cls_accuracy: 0.9712 - 2cls_accuracy: 0.9748 - 1rg_mse: 20.2910\n",
      "Epoch 19/30\n",
      "1875/1875 - 21s - loss: 20.2420 - 10cls_loss: 0.0981 - 2cls_loss: 0.0730 - 1rg_loss: 20.0710 - 10cls_accuracy: 0.9725 - 2cls_accuracy: 0.9757 - 1rg_mse: 20.0710\n",
      "Epoch 20/30\n",
      "1875/1875 - 21s - loss: 19.3367 - 10cls_loss: 0.0958 - 2cls_loss: 0.0727 - 1rg_loss: 19.1682 - 10cls_accuracy: 0.9725 - 2cls_accuracy: 0.9765 - 1rg_mse: 19.1682\n",
      "Epoch 21/30\n",
      "1875/1875 - 21s - loss: 19.0071 - 10cls_loss: 0.0943 - 2cls_loss: 0.0730 - 1rg_loss: 18.8398 - 10cls_accuracy: 0.9736 - 2cls_accuracy: 0.9763 - 1rg_mse: 18.8398\n",
      "Epoch 22/30\n",
      "1875/1875 - 21s - loss: 18.5086 - 10cls_loss: 0.0956 - 2cls_loss: 0.0748 - 1rg_loss: 18.3383 - 10cls_accuracy: 0.9727 - 2cls_accuracy: 0.9754 - 1rg_mse: 18.3383\n",
      "Epoch 23/30\n",
      "1875/1875 - 21s - loss: 17.9743 - 10cls_loss: 0.0959 - 2cls_loss: 0.0737 - 1rg_loss: 17.8046 - 10cls_accuracy: 0.9727 - 2cls_accuracy: 0.9758 - 1rg_mse: 17.8046\n",
      "Epoch 24/30\n",
      "1875/1875 - 21s - loss: 17.7856 - 10cls_loss: 0.0924 - 2cls_loss: 0.0713 - 1rg_loss: 17.6219 - 10cls_accuracy: 0.9737 - 2cls_accuracy: 0.9771 - 1rg_mse: 17.6219\n",
      "Epoch 25/30\n",
      "1875/1875 - 21s - loss: 17.4850 - 10cls_loss: 0.0939 - 2cls_loss: 0.0719 - 1rg_loss: 17.3192 - 10cls_accuracy: 0.9734 - 2cls_accuracy: 0.9769 - 1rg_mse: 17.3192\n",
      "Epoch 26/30\n",
      "1875/1875 - 21s - loss: 16.9946 - 10cls_loss: 0.0913 - 2cls_loss: 0.0718 - 1rg_loss: 16.8315 - 10cls_accuracy: 0.9741 - 2cls_accuracy: 0.9764 - 1rg_mse: 16.8315\n",
      "Epoch 27/30\n",
      "1875/1875 - 21s - loss: 16.3203 - 10cls_loss: 0.0884 - 2cls_loss: 0.0683 - 1rg_loss: 16.1636 - 10cls_accuracy: 0.9760 - 2cls_accuracy: 0.9780 - 1rg_mse: 16.1636\n",
      "Epoch 28/30\n",
      "1875/1875 - 21s - loss: 16.2475 - 10cls_loss: 0.0901 - 2cls_loss: 0.0702 - 1rg_loss: 16.0872 - 10cls_accuracy: 0.9756 - 2cls_accuracy: 0.9772 - 1rg_mse: 16.0872\n",
      "Epoch 29/30\n",
      "1875/1875 - 21s - loss: 15.9393 - 10cls_loss: 0.0899 - 2cls_loss: 0.0700 - 1rg_loss: 15.7794 - 10cls_accuracy: 0.9748 - 2cls_accuracy: 0.9772 - 1rg_mse: 15.7794\n",
      "Epoch 30/30\n",
      "1875/1875 - 21s - loss: 15.6257 - 10cls_loss: 0.0890 - 2cls_loss: 0.0720 - 1rg_loss: 15.4647 - 10cls_accuracy: 0.9765 - 2cls_accuracy: 0.9766 - 1rg_mse: 15.4647\n"
     ]
    },
    {
     "data": {
      "text/plain": [
       "<tensorflow.python.keras.callbacks.History at 0x7fd90d4d4c90>"
      ]
     },
     "execution_count": 7,
     "metadata": {},
     "output_type": "execute_result"
    }
   ],
   "source": [
    "encoder.fit(xtrain, [y_out_a, y_out_b, y_out_c], epochs=30, verbose=2)"
   ]
  },
  {
   "cell_type": "code",
   "execution_count": 8,
   "metadata": {},
   "outputs": [
    {
     "data": {
      "text/plain": [
       "<matplotlib.image.AxesImage at 0x7fd90e4f7150>"
      ]
     },
     "execution_count": 8,
     "metadata": {},
     "output_type": "execute_result"
    },
    {
     "data": {
      "image/png": "[encoded data removed]",
      "text/plain": [
       "<Figure size 432x288 with 1 Axes>"
      ]
     },
     "metadata": {
      "needs_background": "light"
     },
     "output_type": "display_data"
    }
   ],
   "source": [
    "import matplotlib.pyplot as plt\n",
    "plt.imshow(xtrain[0])"
   ]
  },
  {
   "cell_type": "code",
   "execution_count": 9,
   "metadata": {},
   "outputs": [
    {
     "data": {
      "text/plain": [
       "[<KerasTensor: shape=(None, 10) dtype=float32 (created by layer '10cls')>,\n",
       " <KerasTensor: shape=(None, 2) dtype=float32 (created by layer '2cls')>,\n",
       " <KerasTensor: shape=(None, 1) dtype=float32 (created by layer '1rg')>]"
      ]
     },
     "execution_count": 9,
     "metadata": {},
     "output_type": "execute_result"
    }
   ],
   "source": [
    "encoder.output"
   ]
  },
  {
   "cell_type": "code",
   "execution_count": 10,
   "metadata": {},
   "outputs": [],
   "source": [
    "pred10, pred2, pred1 = encoder.predict(tf.expand_dims(xtrain[0], 0))"
   ]
  },
  {
   "cell_type": "code",
   "execution_count": 11,
   "metadata": {},
   "outputs": [
    {
     "data": {
      "text/plain": [
       "array([[24.344992]], dtype=float32)"
      ]
     },
     "execution_count": 11,
     "metadata": {},
     "output_type": "execute_result"
    }
   ],
   "source": [
    "pred1 "
   ]
  },
  {
   "cell_type": "code",
   "execution_count": 12,
   "metadata": {},
   "outputs": [
    {
     "data": {
      "text/plain": [
       "0"
      ]
     },
     "execution_count": 12,
     "metadata": {},
     "output_type": "execute_result"
    }
   ],
   "source": [
    "pred2.argmax()"
   ]
  },
  {
   "cell_type": "code",
   "execution_count": 13,
   "metadata": {},
   "outputs": [
    {
     "data": {
      "text/plain": [
       "5"
      ]
     },
     "execution_count": 13,
     "metadata": {},
     "output_type": "execute_result"
    }
   ],
   "source": [
    "pred10.argmax()"
   ]
  },
  {
   "cell_type": "code",
   "execution_count": 14,
   "metadata": {},
   "outputs": [
    {
     "name": "stdout",
     "output_type": "stream",
     "text": [
      "(10000, 28, 28) (10000, 28, 28)\n",
      "(10000, 10) (10000, 2) (10000,)\n"
     ]
    }
   ],
   "source": [
    "(xtrain, ytrain), (xtest, _) = keras.datasets.mnist.load_data()\n",
    "\n",
    "xtrain = xtrain[:10000] # both input sample should be same number \n",
    "ytrain = ytrain[:10000] # both input sample should be same number\n",
    "\n",
    "y_out_a = keras.utils.to_categorical(ytrain, num_classes=10)\n",
    "y_out_b = keras.utils.to_categorical((ytrain % 2 == 0).astype(int), num_classes=2)\n",
    "y_out_c = tf.square(tf.cast(ytrain, tf.float32))\n",
    "\n",
    "print(xtrain.shape, xtest.shape) \n",
    "print(y_out_a.shape, y_out_b.shape, y_out_c.shape)\n",
    "# (10000, 28, 28) (10000, 28, 28)\n",
    "# (10000, 10) (10000, 2) (10000,)"
   ]
  },
  {
   "cell_type": "code",
   "execution_count": 15,
   "metadata": {},
   "outputs": [],
   "source": [
    "input0 = keras.Input(shape=(28, 28, 1), name=\"img2\")\n",
    "input1 = keras.Input(shape=(28, 28, 1), name=\"img1\")\n",
    "concate_input = layers.Concatenate()([input0, input1])\n",
    "\n",
    "x = layers.Conv2D(16, 3, activation=\"relu\")(concate_input)\n",
    "x = layers.Conv2D(32, 3, activation=\"relu\")(x)\n",
    "x = layers.MaxPooling2D(3)(x)\n",
    "x = layers.Conv2D(32, 3, activation=\"relu\")(x)\n",
    "x = layers.Conv2D(16, 3, activation=\"relu\")(x)\n",
    "x = layers.GlobalMaxPooling2D()(x)\n",
    "\n",
    "out_a = keras.layers.Dense(10, activation='softmax', name='10cls')(x)\n",
    "out_b = keras.layers.Dense(2, activation='softmax', name='2cls')(x)\n",
    "out_c = keras.layers.Dense(1, activation='linear', name='1rg')(x)"
   ]
  },
  {
   "cell_type": "code",
   "execution_count": 16,
   "metadata": {},
   "outputs": [],
   "source": [
    "# multi-input , multi-output\n",
    "encoder = keras.Model( inputs = [input0, input1], \n",
    "                       outputs = [out_a, out_b, out_c], name=\"encoder\")"
   ]
  },
  {
   "cell_type": "code",
   "execution_count": 18,
   "metadata": {},
   "outputs": [],
   "source": [
    "encoder.compile(\n",
    "    loss = {\n",
    "        \"10cls\": tf.keras.losses.CategoricalCrossentropy(),\n",
    "        \"2cls\": tf.keras.losses.CategoricalCrossentropy(),\n",
    "        \"1rg\": tf.keras.losses.MeanSquaredError()\n",
    "    },\n",
    "\n",
    "    metrics = {\n",
    "        \"10cls\": 'accuracy',\n",
    "        \"2cls\": 'accuracy',\n",
    "        \"1rg\": 'mse'\n",
    "    },\n",
    "\n",
    "    optimizer = tf.keras.optimizers.Adam(learning_rate=0.001)\n",
    ")"
   ]
  },
  {
   "cell_type": "code",
   "execution_count": 19,
   "metadata": {},
   "outputs": [
    {
     "name": "stdout",
     "output_type": "stream",
     "text": [
      "Epoch 1/30\n",
      "40/40 - 3s - loss: 618.9952 - 10cls_loss: 27.7201 - 2cls_loss: 14.3539 - 1rg_loss: 576.9213 - 10cls_accuracy: 0.1144 - 2cls_accuracy: 0.5053 - 1rg_mse: 576.9213\n",
      "Epoch 2/30\n",
      "40/40 - 3s - loss: 315.7523 - 10cls_loss: 24.3919 - 2cls_loss: 6.0730 - 1rg_loss: 285.2874 - 10cls_accuracy: 0.1634 - 2cls_accuracy: 0.5890 - 1rg_mse: 285.2874\n",
      "Epoch 3/30\n",
      "40/40 - 3s - loss: 221.8605 - 10cls_loss: 15.8143 - 2cls_loss: 4.6098 - 1rg_loss: 201.4364 - 10cls_accuracy: 0.1692 - 2cls_accuracy: 0.6487 - 1rg_mse: 201.4364\n",
      "Epoch 4/30\n",
      "40/40 - 3s - loss: 177.9383 - 10cls_loss: 10.4659 - 2cls_loss: 4.2535 - 1rg_loss: 163.2189 - 10cls_accuracy: 0.2180 - 2cls_accuracy: 0.6674 - 1rg_mse: 163.2189\n",
      "Epoch 5/30\n",
      "40/40 - 3s - loss: 159.5819 - 10cls_loss: 7.1036 - 2cls_loss: 3.8686 - 1rg_loss: 148.6098 - 10cls_accuracy: 0.2661 - 2cls_accuracy: 0.6803 - 1rg_mse: 148.6098\n",
      "Epoch 6/30\n",
      "40/40 - 3s - loss: 136.1491 - 10cls_loss: 5.4425 - 2cls_loss: 3.5096 - 1rg_loss: 127.1970 - 10cls_accuracy: 0.3636 - 2cls_accuracy: 0.6982 - 1rg_mse: 127.1970\n",
      "Epoch 7/30\n",
      "40/40 - 3s - loss: 123.1320 - 10cls_loss: 4.2595 - 2cls_loss: 2.9389 - 1rg_loss: 115.9336 - 10cls_accuracy: 0.4398 - 2cls_accuracy: 0.7269 - 1rg_mse: 115.9336\n",
      "Epoch 8/30\n",
      "40/40 - 3s - loss: 113.1410 - 10cls_loss: 3.6201 - 2cls_loss: 2.4463 - 1rg_loss: 107.0745 - 10cls_accuracy: 0.4996 - 2cls_accuracy: 0.7522 - 1rg_mse: 107.0745\n",
      "Epoch 9/30\n",
      "40/40 - 3s - loss: 103.3218 - 10cls_loss: 3.2497 - 2cls_loss: 2.1857 - 1rg_loss: 97.8863 - 10cls_accuracy: 0.5394 - 2cls_accuracy: 0.7743 - 1rg_mse: 97.8863\n",
      "Epoch 10/30\n",
      "40/40 - 3s - loss: 95.0930 - 10cls_loss: 2.8249 - 2cls_loss: 1.9519 - 1rg_loss: 90.3162 - 10cls_accuracy: 0.5792 - 2cls_accuracy: 0.7854 - 1rg_mse: 90.3162\n",
      "Epoch 11/30\n",
      "40/40 - 3s - loss: 89.5845 - 10cls_loss: 2.6936 - 2cls_loss: 1.7866 - 1rg_loss: 85.1043 - 10cls_accuracy: 0.5969 - 2cls_accuracy: 0.8062 - 1rg_mse: 85.1043\n",
      "Epoch 12/30\n",
      "40/40 - 3s - loss: 87.9742 - 10cls_loss: 2.5488 - 2cls_loss: 1.6437 - 1rg_loss: 83.7816 - 10cls_accuracy: 0.6202 - 2cls_accuracy: 0.8017 - 1rg_mse: 83.7816\n",
      "Epoch 13/30\n",
      "40/40 - 3s - loss: 84.7486 - 10cls_loss: 2.2998 - 2cls_loss: 1.5593 - 1rg_loss: 80.8895 - 10cls_accuracy: 0.6441 - 2cls_accuracy: 0.8200 - 1rg_mse: 80.8895\n",
      "Epoch 14/30\n",
      "40/40 - 3s - loss: 76.1942 - 10cls_loss: 2.0756 - 2cls_loss: 1.4703 - 1rg_loss: 72.6483 - 10cls_accuracy: 0.6653 - 2cls_accuracy: 0.8257 - 1rg_mse: 72.6483\n",
      "Epoch 15/30\n",
      "40/40 - 3s - loss: 72.2637 - 10cls_loss: 2.0246 - 2cls_loss: 1.3962 - 1rg_loss: 68.8428 - 10cls_accuracy: 0.6699 - 2cls_accuracy: 0.8279 - 1rg_mse: 68.8428\n",
      "Epoch 16/30\n",
      "40/40 - 3s - loss: 70.1513 - 10cls_loss: 1.8632 - 2cls_loss: 1.4222 - 1rg_loss: 66.8660 - 10cls_accuracy: 0.6918 - 2cls_accuracy: 0.8310 - 1rg_mse: 66.8660\n",
      "Epoch 17/30\n",
      "40/40 - 3s - loss: 74.4800 - 10cls_loss: 1.7587 - 2cls_loss: 1.3371 - 1rg_loss: 71.3842 - 10cls_accuracy: 0.6967 - 2cls_accuracy: 0.8343 - 1rg_mse: 71.3842\n",
      "Epoch 18/30\n",
      "40/40 - 3s - loss: 61.6119 - 10cls_loss: 1.6233 - 2cls_loss: 1.2986 - 1rg_loss: 58.6899 - 10cls_accuracy: 0.7164 - 2cls_accuracy: 0.8437 - 1rg_mse: 58.6899\n",
      "Epoch 19/30\n",
      "40/40 - 3s - loss: 58.2588 - 10cls_loss: 1.5344 - 2cls_loss: 1.1766 - 1rg_loss: 55.5478 - 10cls_accuracy: 0.7228 - 2cls_accuracy: 0.8517 - 1rg_mse: 55.5478\n",
      "Epoch 20/30\n",
      "40/40 - 3s - loss: 55.8002 - 10cls_loss: 1.5145 - 2cls_loss: 1.1630 - 1rg_loss: 53.1227 - 10cls_accuracy: 0.7281 - 2cls_accuracy: 0.8550 - 1rg_mse: 53.1227\n",
      "Epoch 21/30\n",
      "40/40 - 3s - loss: 55.3015 - 10cls_loss: 1.3871 - 2cls_loss: 1.1058 - 1rg_loss: 52.8086 - 10cls_accuracy: 0.7432 - 2cls_accuracy: 0.8608 - 1rg_mse: 52.8086\n",
      "Epoch 22/30\n",
      "40/40 - 3s - loss: 51.2493 - 10cls_loss: 1.3394 - 2cls_loss: 1.0958 - 1rg_loss: 48.8141 - 10cls_accuracy: 0.7512 - 2cls_accuracy: 0.8604 - 1rg_mse: 48.8141\n",
      "Epoch 23/30\n",
      "40/40 - 3s - loss: 48.8481 - 10cls_loss: 1.2569 - 2cls_loss: 1.0436 - 1rg_loss: 46.5476 - 10cls_accuracy: 0.7579 - 2cls_accuracy: 0.8612 - 1rg_mse: 46.5476\n",
      "Epoch 24/30\n",
      "40/40 - 3s - loss: 49.9928 - 10cls_loss: 1.2451 - 2cls_loss: 1.1022 - 1rg_loss: 47.6455 - 10cls_accuracy: 0.7588 - 2cls_accuracy: 0.8580 - 1rg_mse: 47.6455\n",
      "Epoch 25/30\n",
      "40/40 - 3s - loss: 46.6347 - 10cls_loss: 1.1288 - 2cls_loss: 0.9578 - 1rg_loss: 44.5482 - 10cls_accuracy: 0.7780 - 2cls_accuracy: 0.8694 - 1rg_mse: 44.5482\n",
      "Epoch 26/30\n",
      "40/40 - 3s - loss: 43.6084 - 10cls_loss: 1.1050 - 2cls_loss: 0.9268 - 1rg_loss: 41.5765 - 10cls_accuracy: 0.7803 - 2cls_accuracy: 0.8719 - 1rg_mse: 41.5765\n",
      "Epoch 27/30\n",
      "40/40 - 3s - loss: 44.3438 - 10cls_loss: 1.0563 - 2cls_loss: 0.9092 - 1rg_loss: 42.3782 - 10cls_accuracy: 0.7839 - 2cls_accuracy: 0.8738 - 1rg_mse: 42.3782\n",
      "Epoch 28/30\n",
      "40/40 - 3s - loss: 40.2184 - 10cls_loss: 1.0259 - 2cls_loss: 0.8830 - 1rg_loss: 38.3094 - 10cls_accuracy: 0.7898 - 2cls_accuracy: 0.8776 - 1rg_mse: 38.3094\n",
      "Epoch 29/30\n",
      "40/40 - 3s - loss: 41.2008 - 10cls_loss: 1.0015 - 2cls_loss: 0.8764 - 1rg_loss: 39.3229 - 10cls_accuracy: 0.7980 - 2cls_accuracy: 0.8801 - 1rg_mse: 39.3229\n",
      "Epoch 30/30\n",
      "40/40 - 3s - loss: 38.2623 - 10cls_loss: 0.9282 - 2cls_loss: 0.8177 - 1rg_loss: 36.5164 - 10cls_accuracy: 0.8078 - 2cls_accuracy: 0.8789 - 1rg_mse: 36.5164\n"
     ]
    },
    {
     "data": {
      "text/plain": [
       "<tensorflow.python.keras.callbacks.History at 0x7fd8b8401590>"
      ]
     },
     "execution_count": 19,
     "metadata": {},
     "output_type": "execute_result"
    }
   ],
   "source": [
    "# multi-input, multi-output\n",
    "encoder.fit([xtrain, xtest], [y_out_a, y_out_b, y_out_c], \n",
    "             epochs=30, batch_size = 256, verbose=2)"
   ]
  },
  {
   "cell_type": "code",
   "execution_count": 20,
   "metadata": {},
   "outputs": [],
   "source": [
    "pred10, pred2, pred1 = encoder.predict(\n",
    "    [\n",
    "         tf.expand_dims(xtrain[0], 0),\n",
    "         tf.expand_dims(xtrain[0], 0)\n",
    "    ]\n",
    ")"
   ]
  },
  {
   "cell_type": "code",
   "execution_count": 21,
   "metadata": {},
   "outputs": [
    {
     "data": {
      "text/plain": [
       "array([[13.920458]], dtype=float32)"
      ]
     },
     "execution_count": 21,
     "metadata": {},
     "output_type": "execute_result"
    }
   ],
   "source": [
    "# regression part \n",
    "pred1"
   ]
  },
  {
   "cell_type": "code",
   "execution_count": 22,
   "metadata": {},
   "outputs": [
    {
     "data": {
      "text/plain": [
       "0"
      ]
     },
     "execution_count": 22,
     "metadata": {},
     "output_type": "execute_result"
    }
   ],
   "source": [
    "# even or odd \n",
    "pred2.argmax()"
   ]
  },
  {
   "cell_type": "code",
   "execution_count": 23,
   "metadata": {},
   "outputs": [
    {
     "data": {
      "text/plain": [
       "5"
      ]
     },
     "execution_count": 23,
     "metadata": {},
     "output_type": "execute_result"
    }
   ],
   "source": [
    "# what digit \n",
    "pred10.argmax()"
   ]
  },
  {
   "cell_type": "code",
   "execution_count": null,
   "metadata": {},
   "outputs": [],
   "source": []
  }
 ],
 "metadata": {
  "interpreter": {
   "hash": "57d90a0d5206cb8c5b9db8483062199213e9c1caa67fa5bd2b77ad127df23393"
  },
  "kernelspec": {
   "display_name": "Python 3.7.11 64-bit ('cwbd': conda)",
   "language": "python",
   "name": "python3"
  },
  "language_info": {
   "codemirror_mode": {
    "name": "ipython",
    "version": 3
   },
   "file_extension": ".py",
   "mimetype": "text/x-python",
   "name": "python",
   "nbconvert_exporter": "python",
   "pygments_lexer": "ipython3",
   "version": "3.7.11"
  },
  "orig_nbformat": 4
 },
 "nbformat": 4,
 "nbformat_minor": 2
}
