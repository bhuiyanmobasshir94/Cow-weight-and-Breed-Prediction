{
  "cells": [
    {
      "cell_type": "markdown",
      "metadata": {
        "id": "view-in-github",
        "colab_type": "text"
      },
      "source": [
        "<a href=\"https://colab.research.google.com/github/bhuiyanmobasshir94/Cow-weight-and-Breed-Prediction/blob/main/notebooks/031_dec.ipynb\" target=\"_parent\"><img src=\"https://colab.research.google.com/assets/colab-badge.svg\" alt=\"Open In Colab\"/></a>"
      ]
    },
    {
      "cell_type": "code",
      "execution_count": 1,
      "metadata": {
        "id": "B3W_pFmsfyih"
      },
      "outputs": [],
      "source": [
        "import numpy as np\n",
        "import pandas as pd\n",
        "import sys\n",
        "import os\n",
        "import PIL\n",
        "import PIL.Image\n",
        "import tensorflow as tf\n",
        "import tensorflow.keras as keras\n",
        "from tensorflow.keras import layers\n",
        "import tensorflow_datasets as tfds\n",
        "import pathlib\n",
        "from sklearn.model_selection import train_test_split\n",
        "from sklearn import preprocessing"
      ]
    },
    {
      "cell_type": "code",
      "source": [
        "## Globals \n",
        "YT_IMAGE_TO_TAKE = 4"
      ],
      "metadata": {
        "id": "5kYcqMyc1hS7"
      },
      "execution_count": 2,
      "outputs": []
    },
    {
      "cell_type": "code",
      "execution_count": 3,
      "metadata": {
        "colab": {
          "base_uri": "https://localhost:8080/"
        },
        "id": "-HJIoeP8gQX8",
        "outputId": "ec7cb056-d971-45bb-af52-4a2ead4555a8"
      },
      "outputs": [
        {
          "output_type": "stream",
          "name": "stdout",
          "text": [
            "Downloading data from https://cv-datasets-2021.s3.amazonaws.com/images.tar.gz\n",
            "833052672/833046463 [==============================] - 14s 0us/step\n",
            "833060864/833046463 [==============================] - 14s 0us/step\n"
          ]
        }
      ],
      "source": [
        "images_dataset_url = \"https://cv-datasets-2021.s3.amazonaws.com/images.tar.gz\"\n",
        "images_data_dir = tf.keras.utils.get_file(origin=images_dataset_url,\n",
        "                                   fname='images',\n",
        "                                   untar=True)\n",
        "images_data_dir = pathlib.Path(images_data_dir)"
      ]
    },
    {
      "cell_type": "code",
      "execution_count": 4,
      "metadata": {
        "colab": {
          "base_uri": "https://localhost:8080/"
        },
        "id": "wR0GlGtWgp9C",
        "outputId": "f0e69563-8062-402a-e836-e345c7170232"
      },
      "outputs": [
        {
          "output_type": "stream",
          "name": "stdout",
          "text": [
            "Downloading data from https://cv-datasets-2021.s3.amazonaws.com/yt_images.tar.gz\n",
            "4026998784/4026992587 [==============================] - 86s 0us/step\n",
            "4027006976/4026992587 [==============================] - 86s 0us/step\n"
          ]
        }
      ],
      "source": [
        "yt_images_dataset_url = \"https://cv-datasets-2021.s3.amazonaws.com/yt_images.tar.gz\"\n",
        "yt_images_data_dir = tf.keras.utils.get_file(origin=yt_images_dataset_url,\n",
        "                                   fname='yt_images',\n",
        "                                   untar=True)\n",
        "yt_images_data_dir = pathlib.Path(yt_images_data_dir)"
      ]
    },
    {
      "cell_type": "code",
      "execution_count": 5,
      "metadata": {
        "id": "TO0FsOzFgkLP"
      },
      "outputs": [],
      "source": [
        "if sys.platform == 'darwin':\n",
        "  os.system(f\"dot_clean {images_data_dir}\")\n",
        "  os.system(f\"dot_clean {yt_images_data_dir}\")\n",
        "elif sys.platform.startswith(\"lin\"):\n",
        "  os.system(f\"cd {images_data_dir} && find . -type f -name '._*' -delete\")\n",
        "  os.system(f\"cd {yt_images_data_dir} && find . -type f -name '._*' -delete\")\n"
      ]
    },
    {
      "cell_type": "code",
      "execution_count": 6,
      "metadata": {
        "colab": {
          "base_uri": "https://localhost:8080/"
        },
        "id": "Ef98wX12jI95",
        "outputId": "f0b88fd3-61cb-4b75-8b5b-d1cc9e0f8c82"
      },
      "outputs": [
        {
          "output_type": "stream",
          "name": "stdout",
          "text": [
            "2056\n"
          ]
        }
      ],
      "source": [
        "image_count = len(list(images_data_dir.glob('*/*.jpg')))\n",
        "print(image_count)"
      ]
    },
    {
      "cell_type": "code",
      "execution_count": 7,
      "metadata": {
        "colab": {
          "base_uri": "https://localhost:8080/"
        },
        "id": "O0m9qMV9jRNJ",
        "outputId": "8f81b07b-2982-41c0-b771-2364e9193e96"
      },
      "outputs": [
        {
          "output_type": "stream",
          "name": "stdout",
          "text": [
            "15843\n"
          ]
        }
      ],
      "source": [
        "yt_image_count = len(list(yt_images_data_dir.glob('*/*.jpg')))\n",
        "print(yt_image_count)"
      ]
    },
    {
      "cell_type": "code",
      "execution_count": 8,
      "metadata": {
        "colab": {
          "base_uri": "https://localhost:8080/"
        },
        "id": "H4DBG2Lkogb0",
        "outputId": "19567e80-82c0-4f09-a518-4d6d2eb5c07b"
      },
      "outputs": [
        {
          "output_type": "execute_result",
          "data": {
            "text/plain": [
              "(513, 14)"
            ]
          },
          "metadata": {},
          "execution_count": 8
        }
      ],
      "source": [
        "df = pd.read_csv(\"https://cv-datasets-2021.s3.amazonaws.com/dataset.csv\")\n",
        "df.shape"
      ]
    },
    {
      "cell_type": "code",
      "source": [
        "df.columns"
      ],
      "metadata": {
        "id": "C9lCtkXupZSs",
        "outputId": "9659f55a-de68-4c41-f21e-5bbb3769fba7",
        "colab": {
          "base_uri": "https://localhost:8080/"
        }
      },
      "execution_count": 9,
      "outputs": [
        {
          "output_type": "execute_result",
          "data": {
            "text/plain": [
              "Index(['sku', 'sex', 'color', 'breed', 'feed', 'age_in_year', 'teeth',\n",
              "       'height_in_inch', 'weight_in_kg', 'price', 'size', 'images_count',\n",
              "       'yt_images_count', 'total_images'],\n",
              "      dtype='object')"
            ]
          },
          "metadata": {},
          "execution_count": 9
        }
      ]
    },
    {
      "cell_type": "code",
      "execution_count": 10,
      "metadata": {
        "colab": {
          "base_uri": "https://localhost:8080/",
          "height": 112
        },
        "id": "dRPCUNW7CtOO",
        "outputId": "ad3426ee-1d1c-45d3-a166-d94087435e54"
      },
      "outputs": [
        {
          "output_type": "execute_result",
          "data": {
            "text/html": [
              "\n",
              "  <div id=\"df-81e89335-b40c-452e-a598-cfa6b2c11915\">\n",
              "    <div class=\"colab-df-container\">\n",
              "      <div>\n",
              "<style scoped>\n",
              "    .dataframe tbody tr th:only-of-type {\n",
              "        vertical-align: middle;\n",
              "    }\n",
              "\n",
              "    .dataframe tbody tr th {\n",
              "        vertical-align: top;\n",
              "    }\n",
              "\n",
              "    .dataframe thead th {\n",
              "        text-align: right;\n",
              "    }\n",
              "</style>\n",
              "<table border=\"1\" class=\"dataframe\">\n",
              "  <thead>\n",
              "    <tr style=\"text-align: right;\">\n",
              "      <th></th>\n",
              "      <th>sku</th>\n",
              "      <th>sex</th>\n",
              "      <th>color</th>\n",
              "      <th>breed</th>\n",
              "      <th>feed</th>\n",
              "      <th>age_in_year</th>\n",
              "      <th>teeth</th>\n",
              "      <th>height_in_inch</th>\n",
              "      <th>weight_in_kg</th>\n",
              "      <th>price</th>\n",
              "      <th>size</th>\n",
              "      <th>images_count</th>\n",
              "      <th>yt_images_count</th>\n",
              "      <th>total_images</th>\n",
              "    </tr>\n",
              "  </thead>\n",
              "  <tbody>\n",
              "    <tr>\n",
              "      <th>0</th>\n",
              "      <td>BLF 2340</td>\n",
              "      <td>MALE_BULL</td>\n",
              "      <td>RED</td>\n",
              "      <td>LOCAL</td>\n",
              "      <td>['JUMBOO', 'LUCERNE', 'NAPIER', 'SILAGE', 'STR...</td>\n",
              "      <td>2.0</td>\n",
              "      <td>2</td>\n",
              "      <td>50.9</td>\n",
              "      <td>270.0</td>\n",
              "      <td>19000.0</td>\n",
              "      <td>MEDIUM</td>\n",
              "      <td>4</td>\n",
              "      <td>0</td>\n",
              "      <td>4</td>\n",
              "    </tr>\n",
              "    <tr>\n",
              "      <th>1</th>\n",
              "      <td>BLF 2342</td>\n",
              "      <td>MALE_BULL</td>\n",
              "      <td>NON_RED</td>\n",
              "      <td>LOCAL</td>\n",
              "      <td>['JUMBOO', 'LUCERNE', 'NAPIER', 'SILAGE', 'STR...</td>\n",
              "      <td>2.0</td>\n",
              "      <td>2</td>\n",
              "      <td>52.0</td>\n",
              "      <td>256.0</td>\n",
              "      <td>18000.0</td>\n",
              "      <td>LARGE</td>\n",
              "      <td>4</td>\n",
              "      <td>31</td>\n",
              "      <td>35</td>\n",
              "    </tr>\n",
              "  </tbody>\n",
              "</table>\n",
              "</div>\n",
              "      <button class=\"colab-df-convert\" onclick=\"convertToInteractive('df-81e89335-b40c-452e-a598-cfa6b2c11915')\"\n",
              "              title=\"Convert this dataframe to an interactive table.\"\n",
              "              style=\"display:none;\">\n",
              "        \n",
              "  <svg xmlns=\"http://www.w3.org/2000/svg\" height=\"24px\"viewBox=\"0 0 24 24\"\n",
              "       width=\"24px\">\n",
              "    <path d=\"M0 0h24v24H0V0z\" fill=\"none\"/>\n",
              "    <path d=\"M18.56 5.44l.94 2.06.94-2.06 2.06-.94-2.06-.94-.94-2.06-.94 2.06-2.06.94zm-11 1L8.5 8.5l.94-2.06 2.06-.94-2.06-.94L8.5 2.5l-.94 2.06-2.06.94zm10 10l.94 2.06.94-2.06 2.06-.94-2.06-.94-.94-2.06-.94 2.06-2.06.94z\"/><path d=\"M17.41 7.96l-1.37-1.37c-.4-.4-.92-.59-1.43-.59-.52 0-1.04.2-1.43.59L10.3 9.45l-7.72 7.72c-.78.78-.78 2.05 0 2.83L4 21.41c.39.39.9.59 1.41.59.51 0 1.02-.2 1.41-.59l7.78-7.78 2.81-2.81c.8-.78.8-2.07 0-2.86zM5.41 20L4 18.59l7.72-7.72 1.47 1.35L5.41 20z\"/>\n",
              "  </svg>\n",
              "      </button>\n",
              "      \n",
              "  <style>\n",
              "    .colab-df-container {\n",
              "      display:flex;\n",
              "      flex-wrap:wrap;\n",
              "      gap: 12px;\n",
              "    }\n",
              "\n",
              "    .colab-df-convert {\n",
              "      background-color: #E8F0FE;\n",
              "      border: none;\n",
              "      border-radius: 50%;\n",
              "      cursor: pointer;\n",
              "      display: none;\n",
              "      fill: #1967D2;\n",
              "      height: 32px;\n",
              "      padding: 0 0 0 0;\n",
              "      width: 32px;\n",
              "    }\n",
              "\n",
              "    .colab-df-convert:hover {\n",
              "      background-color: #E2EBFA;\n",
              "      box-shadow: 0px 1px 2px rgba(60, 64, 67, 0.3), 0px 1px 3px 1px rgba(60, 64, 67, 0.15);\n",
              "      fill: #174EA6;\n",
              "    }\n",
              "\n",
              "    [theme=dark] .colab-df-convert {\n",
              "      background-color: #3B4455;\n",
              "      fill: #D2E3FC;\n",
              "    }\n",
              "\n",
              "    [theme=dark] .colab-df-convert:hover {\n",
              "      background-color: #434B5C;\n",
              "      box-shadow: 0px 1px 3px 1px rgba(0, 0, 0, 0.15);\n",
              "      filter: drop-shadow(0px 1px 2px rgba(0, 0, 0, 0.3));\n",
              "      fill: #FFFFFF;\n",
              "    }\n",
              "  </style>\n",
              "\n",
              "      <script>\n",
              "        const buttonEl =\n",
              "          document.querySelector('#df-81e89335-b40c-452e-a598-cfa6b2c11915 button.colab-df-convert');\n",
              "        buttonEl.style.display =\n",
              "          google.colab.kernel.accessAllowed ? 'block' : 'none';\n",
              "\n",
              "        async function convertToInteractive(key) {\n",
              "          const element = document.querySelector('#df-81e89335-b40c-452e-a598-cfa6b2c11915');\n",
              "          const dataTable =\n",
              "            await google.colab.kernel.invokeFunction('convertToInteractive',\n",
              "                                                     [key], {});\n",
              "          if (!dataTable) return;\n",
              "\n",
              "          const docLinkHtml = 'Like what you see? Visit the ' +\n",
              "            '<a target=\"_blank\" href=https://colab.research.google.com/notebooks/data_table.ipynb>data table notebook</a>'\n",
              "            + ' to learn more about interactive tables.';\n",
              "          element.innerHTML = '';\n",
              "          dataTable['output_type'] = 'display_data';\n",
              "          await google.colab.output.renderOutput(dataTable, element);\n",
              "          const docLink = document.createElement('div');\n",
              "          docLink.innerHTML = docLinkHtml;\n",
              "          element.appendChild(docLink);\n",
              "        }\n",
              "      </script>\n",
              "    </div>\n",
              "  </div>\n",
              "  "
            ],
            "text/plain": [
              "        sku        sex    color  ... images_count yt_images_count  total_images\n",
              "0  BLF 2340  MALE_BULL      RED  ...            4               0             4\n",
              "1  BLF 2342  MALE_BULL  NON_RED  ...            4              31            35\n",
              "\n",
              "[2 rows x 14 columns]"
            ]
          },
          "metadata": {},
          "execution_count": 10
        }
      ],
      "source": [
        "df.head(2)"
      ]
    },
    {
      "cell_type": "code",
      "execution_count": 11,
      "metadata": {
        "id": "ekUY7D5lpzwz"
      },
      "outputs": [],
      "source": [
        "images = list(images_data_dir.glob('*/*.jpg'))\n",
        "yt_images = list(yt_images_data_dir.glob('*/*.jpg'))"
      ]
    },
    {
      "cell_type": "code",
      "execution_count": 12,
      "metadata": {
        "colab": {
          "base_uri": "https://localhost:8080/"
        },
        "id": "FDpz4yme0wX7",
        "outputId": "c937cda7-f4e6-496e-e4f9-0fa4868cc70a"
      },
      "outputs": [
        {
          "output_type": "stream",
          "name": "stdout",
          "text": [
            "min_height: 450\n",
            "min_width: 800\n",
            "max_height: 675\n",
            "max_width: 1200\n"
          ]
        }
      ],
      "source": [
        "min_height = 0\n",
        "max_height = 0\n",
        "min_width = 0\n",
        "max_width = 0\n",
        "for i, image in enumerate(images):\n",
        "  w, h = PIL.Image.open(str(image)).size\n",
        "  if i == 0:\n",
        "    min_height = h\n",
        "    max_height = h\n",
        "    min_width = w\n",
        "    max_width = w\n",
        "  \n",
        "  if h <= min_height:\n",
        "    min_height = h\n",
        "  if h >= max_height:\n",
        "    max_height = h\n",
        "\n",
        "  if w <= min_width:\n",
        "    min_width = w\n",
        "  if w >= max_width:\n",
        "    max_width = w\n",
        "\n",
        "print(f\"min_height: {min_height}\")\n",
        "print(f\"min_width: {min_width}\")\n",
        "print(f\"max_height: {max_height}\")\n",
        "print(f\"max_width: {max_width}\")"
      ]
    },
    {
      "cell_type": "code",
      "execution_count": 13,
      "metadata": {
        "colab": {
          "base_uri": "https://localhost:8080/"
        },
        "id": "zzLkutbX3PEM",
        "outputId": "af881c79-9217-4162-c6e2-231a589b400f"
      },
      "outputs": [
        {
          "output_type": "stream",
          "name": "stdout",
          "text": [
            "min_height: 720\n",
            "min_width: 1280\n",
            "max_height: 720\n",
            "max_width: 1280\n"
          ]
        }
      ],
      "source": [
        "min_height = 0\n",
        "max_height = 0\n",
        "min_width = 0\n",
        "max_width = 0\n",
        "for i, image in enumerate(yt_images):\n",
        "  w, h = PIL.Image.open(str(image)).size\n",
        "  if i == 0:\n",
        "    min_height = h\n",
        "    max_height = h\n",
        "    min_width = w\n",
        "    max_width = w\n",
        "\n",
        "  if h <= min_height:\n",
        "    min_height = h\n",
        "  if h >= max_height:\n",
        "    max_height = h\n",
        "\n",
        "  if w <= min_width:\n",
        "    min_width = w\n",
        "  if w >= max_width:\n",
        "    max_width = w\n",
        "\n",
        "print(f\"min_height: {min_height}\")\n",
        "print(f\"min_width: {min_width}\")\n",
        "print(f\"max_height: {max_height}\")\n",
        "print(f\"max_width: {max_width}\")"
      ]
    },
    {
      "cell_type": "code",
      "execution_count": 14,
      "metadata": {
        "id": "sTf9VTBJCSRP"
      },
      "outputs": [],
      "source": [
        "f_df = pd.DataFrame(columns = ['file_path', 'teeth', 'age_in_year', 'breed', 'height_in_inch', 'weight_in_kg'])\n",
        "for index, row in df.iterrows():\n",
        "  images = list(images_data_dir.glob(f\"{row['sku']}/*.jpg\"))\n",
        "  yt_images = list(yt_images_data_dir.glob(f\"{row['sku']}/*.jpg\"))\n",
        "\n",
        "  for image in images:\n",
        "    f_df = f_df.append({'file_path' : image, 'teeth' : row['teeth'], 'age_in_year' : row['age_in_year'], 'breed': row['breed'], 'height_in_inch': row['height_in_inch'], 'weight_in_kg': row['weight_in_kg']}, \n",
        "                ignore_index = True)\n",
        "    \n",
        "  for idx, image in enumerate(yt_images):\n",
        "    if idx == (YT_IMAGE_TO_TAKE - 1):\n",
        "      break\n",
        "    f_df = f_df.append({'file_path' : image, 'teeth' : row['teeth'], 'age_in_year' : row['age_in_year'], 'breed': row['breed'], 'height_in_inch': row['height_in_inch'], 'weight_in_kg': row['weight_in_kg']}, \n",
        "                ignore_index = True)\n"
      ]
    },
    {
      "cell_type": "code",
      "execution_count": 15,
      "metadata": {
        "colab": {
          "base_uri": "https://localhost:8080/"
        },
        "id": "cmd0yBH0CSNi",
        "outputId": "6f758f9e-5c70-4bbc-9bc6-a3b200a4c4e2"
      },
      "outputs": [
        {
          "output_type": "execute_result",
          "data": {
            "text/plain": [
              "(3585, 6)"
            ]
          },
          "metadata": {},
          "execution_count": 15
        }
      ],
      "source": [
        "f_df.shape"
      ]
    },
    {
      "cell_type": "code",
      "execution_count": 16,
      "metadata": {
        "colab": {
          "base_uri": "https://localhost:8080/",
          "height": 81
        },
        "id": "yLrlazxDCSIU",
        "outputId": "ac917220-b54a-40be-c208-5949b0bd0214"
      },
      "outputs": [
        {
          "output_type": "execute_result",
          "data": {
            "text/html": [
              "\n",
              "  <div id=\"df-b04519c6-fa12-4c77-baff-8ffb73567a86\">\n",
              "    <div class=\"colab-df-container\">\n",
              "      <div>\n",
              "<style scoped>\n",
              "    .dataframe tbody tr th:only-of-type {\n",
              "        vertical-align: middle;\n",
              "    }\n",
              "\n",
              "    .dataframe tbody tr th {\n",
              "        vertical-align: top;\n",
              "    }\n",
              "\n",
              "    .dataframe thead th {\n",
              "        text-align: right;\n",
              "    }\n",
              "</style>\n",
              "<table border=\"1\" class=\"dataframe\">\n",
              "  <thead>\n",
              "    <tr style=\"text-align: right;\">\n",
              "      <th></th>\n",
              "      <th>file_path</th>\n",
              "      <th>teeth</th>\n",
              "      <th>age_in_year</th>\n",
              "      <th>breed</th>\n",
              "      <th>height_in_inch</th>\n",
              "      <th>weight_in_kg</th>\n",
              "    </tr>\n",
              "  </thead>\n",
              "  <tbody>\n",
              "    <tr>\n",
              "      <th>0</th>\n",
              "      <td>/root/.keras/datasets/images/BLF 2340/BLF 2340...</td>\n",
              "      <td>2</td>\n",
              "      <td>2.0</td>\n",
              "      <td>LOCAL</td>\n",
              "      <td>50.9</td>\n",
              "      <td>270.0</td>\n",
              "    </tr>\n",
              "  </tbody>\n",
              "</table>\n",
              "</div>\n",
              "      <button class=\"colab-df-convert\" onclick=\"convertToInteractive('df-b04519c6-fa12-4c77-baff-8ffb73567a86')\"\n",
              "              title=\"Convert this dataframe to an interactive table.\"\n",
              "              style=\"display:none;\">\n",
              "        \n",
              "  <svg xmlns=\"http://www.w3.org/2000/svg\" height=\"24px\"viewBox=\"0 0 24 24\"\n",
              "       width=\"24px\">\n",
              "    <path d=\"M0 0h24v24H0V0z\" fill=\"none\"/>\n",
              "    <path d=\"M18.56 5.44l.94 2.06.94-2.06 2.06-.94-2.06-.94-.94-2.06-.94 2.06-2.06.94zm-11 1L8.5 8.5l.94-2.06 2.06-.94-2.06-.94L8.5 2.5l-.94 2.06-2.06.94zm10 10l.94 2.06.94-2.06 2.06-.94-2.06-.94-.94-2.06-.94 2.06-2.06.94z\"/><path d=\"M17.41 7.96l-1.37-1.37c-.4-.4-.92-.59-1.43-.59-.52 0-1.04.2-1.43.59L10.3 9.45l-7.72 7.72c-.78.78-.78 2.05 0 2.83L4 21.41c.39.39.9.59 1.41.59.51 0 1.02-.2 1.41-.59l7.78-7.78 2.81-2.81c.8-.78.8-2.07 0-2.86zM5.41 20L4 18.59l7.72-7.72 1.47 1.35L5.41 20z\"/>\n",
              "  </svg>\n",
              "      </button>\n",
              "      \n",
              "  <style>\n",
              "    .colab-df-container {\n",
              "      display:flex;\n",
              "      flex-wrap:wrap;\n",
              "      gap: 12px;\n",
              "    }\n",
              "\n",
              "    .colab-df-convert {\n",
              "      background-color: #E8F0FE;\n",
              "      border: none;\n",
              "      border-radius: 50%;\n",
              "      cursor: pointer;\n",
              "      display: none;\n",
              "      fill: #1967D2;\n",
              "      height: 32px;\n",
              "      padding: 0 0 0 0;\n",
              "      width: 32px;\n",
              "    }\n",
              "\n",
              "    .colab-df-convert:hover {\n",
              "      background-color: #E2EBFA;\n",
              "      box-shadow: 0px 1px 2px rgba(60, 64, 67, 0.3), 0px 1px 3px 1px rgba(60, 64, 67, 0.15);\n",
              "      fill: #174EA6;\n",
              "    }\n",
              "\n",
              "    [theme=dark] .colab-df-convert {\n",
              "      background-color: #3B4455;\n",
              "      fill: #D2E3FC;\n",
              "    }\n",
              "\n",
              "    [theme=dark] .colab-df-convert:hover {\n",
              "      background-color: #434B5C;\n",
              "      box-shadow: 0px 1px 3px 1px rgba(0, 0, 0, 0.15);\n",
              "      filter: drop-shadow(0px 1px 2px rgba(0, 0, 0, 0.3));\n",
              "      fill: #FFFFFF;\n",
              "    }\n",
              "  </style>\n",
              "\n",
              "      <script>\n",
              "        const buttonEl =\n",
              "          document.querySelector('#df-b04519c6-fa12-4c77-baff-8ffb73567a86 button.colab-df-convert');\n",
              "        buttonEl.style.display =\n",
              "          google.colab.kernel.accessAllowed ? 'block' : 'none';\n",
              "\n",
              "        async function convertToInteractive(key) {\n",
              "          const element = document.querySelector('#df-b04519c6-fa12-4c77-baff-8ffb73567a86');\n",
              "          const dataTable =\n",
              "            await google.colab.kernel.invokeFunction('convertToInteractive',\n",
              "                                                     [key], {});\n",
              "          if (!dataTable) return;\n",
              "\n",
              "          const docLinkHtml = 'Like what you see? Visit the ' +\n",
              "            '<a target=\"_blank\" href=https://colab.research.google.com/notebooks/data_table.ipynb>data table notebook</a>'\n",
              "            + ' to learn more about interactive tables.';\n",
              "          element.innerHTML = '';\n",
              "          dataTable['output_type'] = 'display_data';\n",
              "          await google.colab.output.renderOutput(dataTable, element);\n",
              "          const docLink = document.createElement('div');\n",
              "          docLink.innerHTML = docLinkHtml;\n",
              "          element.appendChild(docLink);\n",
              "        }\n",
              "      </script>\n",
              "    </div>\n",
              "  </div>\n",
              "  "
            ],
            "text/plain": [
              "                                           file_path  ... weight_in_kg\n",
              "0  /root/.keras/datasets/images/BLF 2340/BLF 2340...  ...        270.0\n",
              "\n",
              "[1 rows x 6 columns]"
            ]
          },
          "metadata": {},
          "execution_count": 16
        }
      ],
      "source": [
        "f_df.head(1)"
      ]
    },
    {
      "cell_type": "code",
      "source": [
        "def label_encode(df):\n",
        "  teeth_le = preprocessing.LabelEncoder()\n",
        "  df['teeth']= teeth_le.fit_transform(df['teeth'])\n",
        "  breed_le = preprocessing.LabelEncoder()\n",
        "  df['breed']= breed_le.fit_transform(df['breed'])\n",
        "  age_in_year_le = preprocessing.LabelEncoder()\n",
        "  df['age_in_year']= age_in_year_le.fit_transform(df['age_in_year'])\n",
        "  print(teeth_le.classes_)\n",
        "  print(breed_le.classes_)\n",
        "  print(age_in_year_le.classes_)\n",
        "  return df\n",
        "\n",
        "def inverse_transform(le, series=[]):\n",
        "  return le.inverse_transform(series)\n"
      ],
      "metadata": {
        "id": "3uDbQNKIBCwF"
      },
      "execution_count": 17,
      "outputs": []
    },
    {
      "cell_type": "code",
      "source": [
        "f_df = label_encode(f_df)"
      ],
      "metadata": {
        "colab": {
          "base_uri": "https://localhost:8080/"
        },
        "id": "VOgAnGI2DK7n",
        "outputId": "d6608edc-0b40-4c1b-f0e1-e0705bd9395f"
      },
      "execution_count": 18,
      "outputs": [
        {
          "output_type": "stream",
          "name": "stdout",
          "text": [
            "[2 4 6]\n",
            "['BRAHMA' 'HOSTINE_CROSS' 'LOCAL' 'MIR_KADIM' 'PABNA_BREED'\n",
            " 'RED_CHITTAGONG' 'SAHIWAL' 'SINDHI']\n",
            "[2.  2.5 3. ]\n"
          ]
        }
      ]
    },
    {
      "cell_type": "code",
      "execution_count": 19,
      "metadata": {
        "colab": {
          "base_uri": "https://localhost:8080/"
        },
        "id": "QgSiTmzzDrzA",
        "outputId": "22197a1a-858f-48c7-d252-1b65e372c4ba"
      },
      "outputs": [
        {
          "output_type": "stream",
          "name": "stdout",
          "text": [
            "train_df: (3226, 6)\n",
            "test_df: (359, 6)\n"
          ]
        }
      ],
      "source": [
        "# train_df, valid_test_df = train_test_split(f_df, test_size=0.3)\n",
        "# validation_df, test_df = train_test_split(valid_test_df, test_size=0.3)\n",
        "# print(f\"train_df: {train_df.shape}\")\n",
        "# print(f\"validation_df: {validation_df.shape}\")\n",
        "# print(f\"test_df: {test_df.shape}\")\n",
        "\n",
        "train_df, test_df = train_test_split(f_df, test_size=0.1)\n",
        "print(f\"train_df: {train_df.shape}\")\n",
        "print(f\"test_df: {test_df.shape}\")"
      ]
    },
    {
      "cell_type": "code",
      "execution_count": 20,
      "metadata": {
        "id": "L_8HLC9VT03R"
      },
      "outputs": [],
      "source": [
        "# min_height: 450\n",
        "# min_width: 800\n",
        "\n",
        "# input: [image, teeth]\n",
        "# outpur: [age_in_year, breed, height_in_inch, weight_in_kg]\n",
        "\n",
        "# class CustomDataGen(tf.keras.utils.Sequence):\n",
        "    \n",
        "#     def __init__(self, df, X_col, y_col,\n",
        "#                  batch_size,\n",
        "#                  input_size=(450, 800, 3), # (input_height, input_width, input_channel)\n",
        "#                  shuffle=True):\n",
        "        \n",
        "#         self.df = df.copy()\n",
        "#         self.X_col = X_col\n",
        "#         self.y_col = y_col\n",
        "#         self.batch_size = batch_size\n",
        "#         self.input_size = input_size\n",
        "#         self.shuffle = shuffle\n",
        "        \n",
        "#         self.n = len(self.df)\n",
        "#         # self.n_teeth = df[X_col['teeth']].max()\n",
        "#         # self.n_breed = df[y_col['breed']].nunique()\n",
        "    \n",
        "#     def on_epoch_end(self):\n",
        "#         if self.shuffle:\n",
        "#             self.df = self.df.sample(frac=1).reset_index(drop=True)\n",
        "    \n",
        "#     def __get_input(self, path, target_size):\n",
        "#         image = tf.keras.preprocessing.image.load_img(path)\n",
        "#         image_arr = tf.keras.preprocessing.image.img_to_array(image)\n",
        "\n",
        "#         # image_arr = image_arr[ymin:ymin+h, xmin:xmin+w]\n",
        "#         image_arr = tf.image.resize(image_arr,(target_size[0], target_size[1])).numpy()\n",
        "\n",
        "#         return image_arr/255.\n",
        "    \n",
        "#     def __get_output(self, label, num_classes):\n",
        "#         return tf.keras.utils.to_categorical(label, num_classes=num_classes)\n",
        "    \n",
        "#     def __get_data(self, batches):\n",
        "#         # Generates data containing batch_size samples\n",
        "\n",
        "#         path_batch = batches[self.X_col['file_path']]       \n",
        "#         # teeth_batch = batches[self.X_col['teeth']]\n",
        "\n",
        "#         # breed_batch = batches[self.y_col['breed']]\n",
        "#         weight_in_kg_batch = batches[self.y_col['weight_in_kg']]\n",
        "#         height_in_inch_batch = batches[self.y_col['height_in_inch']]\n",
        "#         age_in_year_batch = batches[self.y_col['age_in_year']]\n",
        "\n",
        "#         X0 = np.asarray([self.__get_input(x, self.input_size) for x in path_batch])\n",
        "\n",
        "#         # y0_batch = np.asarray([self.__get_output(y, self.n_teeth) for y in teeth_batch])\n",
        "#         # y1_batch = np.asarray([self.__get_output(y, self.n_breed) for y in breed_batch])\n",
        "\n",
        "#         y0 = np.asarray([tf.cast(y, tf.float32) for y in weight_in_kg_batch])\n",
        "#         y1 = np.asarray([tf.cast(y, tf.float32) for y in height_in_inch_batch])\n",
        "#         y2 = np.asarray([tf.cast(y, tf.float32) for y in age_in_year_batch])\n",
        "\n",
        "#         return X0, tuple([y0, y1, y2])\n",
        "    \n",
        "#     def __getitem__(self, index):\n",
        "        \n",
        "#         batches = self.df[index * self.batch_size:(index + 1) * self.batch_size]\n",
        "#         X, y = self.__get_data(batches)        \n",
        "#         return X, y\n",
        "    \n",
        "#     def __len__(self):\n",
        "#         return self.n // self.batch_size"
      ]
    },
    {
      "cell_type": "code",
      "execution_count": 21,
      "metadata": {
        "id": "AG8j82VLZrPg"
      },
      "outputs": [],
      "source": [
        "# traingen = CustomDataGen(train_df,\n",
        "#                          X_col={'file_path':'file_path', 'teeth': 'teeth'},\n",
        "#                          y_col={'breed': 'breed', 'weight_in_kg': 'weight_in_kg', 'height_in_inch': 'height_in_inch', 'age_in_year': 'age_in_year'},\n",
        "#                          batch_size=128, input_size=(450, 800, 3))"
      ]
    },
    {
      "cell_type": "code",
      "execution_count": 22,
      "metadata": {
        "id": "tFSlX4JdayDJ"
      },
      "outputs": [],
      "source": [
        "# testgen = CustomDataGen(test_df,\n",
        "#                          X_col={'file_path':'file_path', 'teeth': 'teeth'},\n",
        "#                          y_col={'breed': 'breed', 'weight_in_kg': 'weight_in_kg', 'height_in_inch': 'height_in_inch', 'age_in_year': 'age_in_year'},\n",
        "#                          batch_size=128, input_size=(450, 800, 3))"
      ]
    },
    {
      "cell_type": "code",
      "execution_count": 23,
      "metadata": {
        "id": "T3ELi9-GkkAz"
      },
      "outputs": [],
      "source": [
        "# validgen = CustomDataGen(validation_df,\n",
        "#                          X_col={'file_path':'file_path', 'teeth': 'teeth'},\n",
        "#                          y_col={'breed': 'breed', 'weight_in_kg': 'weight_in_kg', 'height_in_inch': 'height_in_inch', 'age_in_year': 'age_in_year'},\n",
        "#                          batch_size=128, input_size=(450, 800, 3))"
      ]
    },
    {
      "cell_type": "code",
      "execution_count": 24,
      "metadata": {
        "id": "YhNEK1P1o7ay"
      },
      "outputs": [],
      "source": [
        "def __get_input(path, target_size):\n",
        "  image = tf.keras.preprocessing.image.load_img(path)\n",
        "  image_arr = tf.keras.preprocessing.image.img_to_array(image)\n",
        "  image_arr = tf.image.resize(image_arr,(target_size[0], target_size[1])).numpy()\n",
        "  return image_arr/255.\n",
        "\n",
        "def data_loader(df, image_size=(450, 800, 3)):\n",
        "  y0 = tf.cast(df.weight_in_kg, tf.float32)\n",
        "  print(y0.shape)\n",
        "  y1 = tf.cast(df.height_in_inch, tf.float32)\n",
        "  print(y1.shape)\n",
        "  # y2 = tf.cast(df.age_in_year, tf.float32)\n",
        "  y2 = keras.utils.to_categorical(df.age_in_year)\n",
        "  print(y2.shape)\n",
        "  y3 = keras.utils.to_categorical(df.breed)\n",
        "  print(y3.shape)\n",
        "\n",
        "  path_batch = df.file_path\n",
        "  X0 = tf.cast([__get_input(x, image_size) for x in path_batch], tf.float32)\n",
        "  print(X0.shape)\n",
        "  X1 = keras.utils.to_categorical(df.teeth)\n",
        "  print(X1.shape)\n",
        "\n",
        "  return (X0, X1), (y0, y1, y2, y3)"
      ]
    },
    {
      "cell_type": "code",
      "execution_count": 25,
      "metadata": {
        "colab": {
          "base_uri": "https://localhost:8080/"
        },
        "id": "YwD7Wu5Xrb2n",
        "outputId": "e131c94e-43b5-44d0-9638-5b9eb89dae1f"
      },
      "outputs": [
        {
          "output_type": "stream",
          "name": "stdout",
          "text": [
            "(3226,)\n",
            "(3226,)\n",
            "(3226, 3)\n",
            "(3226, 8)\n",
            "(3226, 150, 150, 3)\n",
            "(3226, 3)\n"
          ]
        }
      ],
      "source": [
        "(X0, X1), (y0, y1, y2, y3) = data_loader(train_df, (150, 150, 3))"
      ]
    },
    {
      "cell_type": "code",
      "execution_count": 26,
      "metadata": {
        "id": "QUdjf26kubkr"
      },
      "outputs": [],
      "source": [
        "# input = keras.Input(shape=(128, 128, 3), name=\"original_img\")\n",
        "# x = layers.Conv2D(64, 3, activation=\"relu\")(input)\n",
        "# x = layers.Conv2D(128, 3, activation=\"relu\")(x)\n",
        "# x = layers.MaxPooling2D(3)(x)\n",
        "# x = layers.Conv2D(128, 3, activation=\"relu\")(x)\n",
        "# x = layers.Conv2D(64, 3, activation=\"relu\")(x)\n",
        "# x = layers.GlobalMaxPooling2D()(x)\n",
        "\n",
        "input0 = keras.Input(shape=(150, 150, 3), name=\"img\")\n",
        "x = layers.Conv2D(32, 3, activation=\"relu\")(input0)\n",
        "x = layers.MaxPooling2D(2)(x)\n",
        "x = layers.Conv2D(32, 3, activation=\"relu\")(x)\n",
        "x = layers.MaxPooling2D(2)(x)\n",
        "x = layers.Conv2D(64, 3, activation=\"relu\")(x)\n",
        "x = layers.GlobalMaxPooling2D()(x)\n",
        "\n",
        "# input1 = keras.Input(shape=(3,), name=\"teeth\")\n",
        "\n",
        "\n",
        "out_a = keras.layers.Dense(1, activation='linear', name='wt_rg')(x)\n",
        "out_b = keras.layers.Dense(1, activation='linear', name='ht_rg')(x)\n",
        "# out_c = keras.layers.Dense(1, activation='linear', name='ag_rg')(x)\n",
        "out_c = keras.layers.Dense(3, activation='softmax', name='ag_3cls')(x)\n",
        "out_d = keras.layers.Dense(8, activation='softmax', name='brd_8cls')(x)\n",
        "\n",
        "encoder = keras.Model( inputs = input0 , outputs = [out_a, out_b, out_c, out_d], name=\"encoder\")"
      ]
    },
    {
      "cell_type": "code",
      "execution_count": 27,
      "metadata": {
        "id": "h_LArmJdv0rX"
      },
      "outputs": [],
      "source": [
        "encoder.compile(\n",
        "    loss = {\n",
        "        \"wt_rg\": tf.keras.losses.MeanSquaredError(),\n",
        "        \"ht_rg\": tf.keras.losses.MeanSquaredError(),\n",
        "        # \"ag_rg\": tf.keras.losses.MeanSquaredError()\n",
        "        \"ag_3cls\": tf.keras.losses.CategoricalCrossentropy(),\n",
        "        \"brd_8cls\": tf.keras.losses.CategoricalCrossentropy()\n",
        "    },\n",
        "\n",
        "    metrics = {\n",
        "        \"wt_rg\": 'mse',\n",
        "        \"ht_rg\": 'mse',\n",
        "        \"ag_3cls\": 'accuracy',\n",
        "        \"brd_8cls\": 'accuracy'\n",
        "    },\n",
        "\n",
        "    optimizer = tf.keras.optimizers.Adam(learning_rate=0.0001)\n",
        ")"
      ]
    },
    {
      "cell_type": "code",
      "execution_count": null,
      "metadata": {
        "id": "avMTkBsrljNt",
        "colab": {
          "base_uri": "https://localhost:8080/"
        },
        "outputId": "7f5e8d4e-027d-43d3-c5c5-89619e1cec9c"
      },
      "outputs": [
        {
          "output_type": "stream",
          "name": "stdout",
          "text": [
            "Epoch 1/30\n",
            "81/81 - 14s - loss: 71239.4531 - wt_rg_loss: 69169.8281 - ht_rg_loss: 2066.5310 - ag_3cls_loss: 1.1228 - brd_8cls_loss: 1.9676 - wt_rg_mse: 69169.8281 - ht_rg_mse: 2066.5310 - ag_3cls_accuracy: 0.1907 - brd_8cls_accuracy: 0.2225 - val_loss: 62893.9609 - val_wt_rg_loss: 61172.4844 - val_ht_rg_loss: 1718.7097 - val_ag_3cls_loss: 0.7986 - val_brd_8cls_loss: 1.9765 - val_wt_rg_mse: 61172.4844 - val_ht_rg_mse: 1718.7097 - val_ag_3cls_accuracy: 0.7399 - val_brd_8cls_accuracy: 0.6920 - 14s/epoch - 178ms/step\n",
            "Epoch 2/30\n",
            "81/81 - 3s - loss: 41962.5859 - wt_rg_loss: 41237.3359 - ht_rg_loss: 719.1522 - ag_3cls_loss: 0.8783 - brd_8cls_loss: 5.2167 - wt_rg_mse: 41237.3359 - ht_rg_mse: 719.1522 - ag_3cls_accuracy: 0.7442 - brd_8cls_accuracy: 0.6868 - val_loss: 10999.4951 - val_wt_rg_loss: 10736.9385 - val_ht_rg_loss: 252.1356 - val_ag_3cls_loss: 0.7562 - val_brd_8cls_loss: 9.6649 - val_wt_rg_mse: 10736.9385 - val_ht_rg_mse: 252.1356 - val_ag_3cls_accuracy: 0.7399 - val_brd_8cls_accuracy: 0.6920 - 3s/epoch - 38ms/step\n",
            "Epoch 3/30\n",
            "81/81 - 3s - loss: 6469.2407 - wt_rg_loss: 6187.5010 - ht_rg_loss: 271.5002 - ag_3cls_loss: 0.8326 - brd_8cls_loss: 9.4047 - wt_rg_mse: 6187.5010 - ht_rg_mse: 271.5002 - ag_3cls_accuracy: 0.7442 - brd_8cls_accuracy: 0.6868 - val_loss: 5251.0410 - val_wt_rg_loss: 5220.6035 - val_ht_rg_loss: 22.8110 - val_ag_3cls_loss: 0.8248 - val_brd_8cls_loss: 6.8019 - val_wt_rg_mse: 5220.6035 - val_ht_rg_mse: 22.8110 - val_ag_3cls_accuracy: 0.7399 - val_brd_8cls_accuracy: 0.6920 - 3s/epoch - 39ms/step\n",
            "Epoch 4/30\n",
            "81/81 - 3s - loss: 5487.1382 - wt_rg_loss: 5461.9053 - ht_rg_loss: 19.5016 - ag_3cls_loss: 0.7965 - brd_8cls_loss: 4.9348 - wt_rg_mse: 5461.9053 - ht_rg_mse: 19.5016 - ag_3cls_accuracy: 0.7438 - brd_8cls_accuracy: 0.6868 - val_loss: 5243.9229 - val_wt_rg_loss: 5218.7241 - val_ht_rg_loss: 20.7916 - val_ag_3cls_loss: 0.7442 - val_brd_8cls_loss: 3.6625 - val_wt_rg_mse: 5218.7241 - val_ht_rg_mse: 20.7916 - val_ag_3cls_accuracy: 0.7399 - val_brd_8cls_accuracy: 0.6920 - 3s/epoch - 38ms/step\n",
            "Epoch 5/30\n",
            "81/81 - 3s - loss: 5491.6138 - wt_rg_loss: 5468.1226 - ht_rg_loss: 19.5821 - ag_3cls_loss: 0.7241 - brd_8cls_loss: 3.1849 - wt_rg_mse: 5468.1226 - ht_rg_mse: 19.5821 - ag_3cls_accuracy: 0.7442 - brd_8cls_accuracy: 0.6868 - val_loss: 5255.9204 - val_wt_rg_loss: 5231.6826 - val_ht_rg_loss: 20.9131 - val_ag_3cls_loss: 0.6941 - val_brd_8cls_loss: 2.6304 - val_wt_rg_mse: 5231.6826 - val_ht_rg_mse: 20.9131 - val_ag_3cls_accuracy: 0.7399 - val_brd_8cls_accuracy: 0.6920 - 3s/epoch - 42ms/step\n",
            "Epoch 6/30\n",
            "81/81 - 3s - loss: 5484.4688 - wt_rg_loss: 5462.1382 - ht_rg_loss: 19.5443 - ag_3cls_loss: 0.6576 - brd_8cls_loss: 2.1285 - wt_rg_mse: 5462.1382 - ht_rg_mse: 19.5443 - ag_3cls_accuracy: 0.7442 - brd_8cls_accuracy: 0.6868 - val_loss: 5233.8491 - val_wt_rg_loss: 5210.8672 - val_ht_rg_loss: 20.7759 - val_ag_3cls_loss: 0.6255 - val_brd_8cls_loss: 1.5809 - val_wt_rg_mse: 5210.8672 - val_ht_rg_mse: 20.7759 - val_ag_3cls_accuracy: 0.7399 - val_brd_8cls_accuracy: 0.6920 - 3s/epoch - 38ms/step\n",
            "Epoch 7/30\n",
            "81/81 - 3s - loss: 5491.5205 - wt_rg_loss: 5469.8281 - ht_rg_loss: 19.7537 - ag_3cls_loss: 0.6303 - brd_8cls_loss: 1.3073 - wt_rg_mse: 5469.8281 - ht_rg_mse: 19.7537 - ag_3cls_accuracy: 0.7442 - brd_8cls_accuracy: 0.6868 - val_loss: 5231.3491 - val_wt_rg_loss: 5208.8887 - val_ht_rg_loss: 20.6115 - val_ag_3cls_loss: 0.6242 - val_brd_8cls_loss: 1.2249 - val_wt_rg_mse: 5208.8887 - val_ht_rg_mse: 20.6115 - val_ag_3cls_accuracy: 0.7399 - val_brd_8cls_accuracy: 0.6920 - 3s/epoch - 42ms/step\n",
            "Epoch 8/30\n",
            "81/81 - 3s - loss: 5488.8394 - wt_rg_loss: 5467.2397 - ht_rg_loss: 19.7576 - ag_3cls_loss: 0.6194 - brd_8cls_loss: 1.2246 - wt_rg_mse: 5467.2397 - ht_rg_mse: 19.7576 - ag_3cls_accuracy: 0.7442 - brd_8cls_accuracy: 0.6868 - val_loss: 5260.1479 - val_wt_rg_loss: 5236.2700 - val_ht_rg_loss: 22.0472 - val_ag_3cls_loss: 0.6144 - val_brd_8cls_loss: 1.2152 - val_wt_rg_mse: 5236.2700 - val_ht_rg_mse: 22.0472 - val_ag_3cls_accuracy: 0.7399 - val_brd_8cls_accuracy: 0.6920 - 3s/epoch - 38ms/step\n",
            "Epoch 9/30\n",
            "81/81 - 3s - loss: 5486.9819 - wt_rg_loss: 5465.4614 - ht_rg_loss: 19.6847 - ag_3cls_loss: 0.6162 - brd_8cls_loss: 1.2186 - wt_rg_mse: 5465.4614 - ht_rg_mse: 19.6847 - ag_3cls_accuracy: 0.7442 - brd_8cls_accuracy: 0.6868 - val_loss: 5273.9834 - val_wt_rg_loss: 5251.3477 - val_ht_rg_loss: 20.8050 - val_ag_3cls_loss: 0.6159 - val_brd_8cls_loss: 1.2143 - val_wt_rg_mse: 5251.3477 - val_ht_rg_mse: 20.8050 - val_ag_3cls_accuracy: 0.7399 - val_brd_8cls_accuracy: 0.6920 - 3s/epoch - 43ms/step\n",
            "Epoch 10/30\n",
            "81/81 - 3s - loss: 5484.0747 - wt_rg_loss: 5462.3384 - ht_rg_loss: 19.9137 - ag_3cls_loss: 0.6163 - brd_8cls_loss: 1.2054 - wt_rg_mse: 5462.3384 - ht_rg_mse: 19.9137 - ag_3cls_accuracy: 0.7442 - brd_8cls_accuracy: 0.6868 - val_loss: 5241.5718 - val_wt_rg_loss: 5218.9463 - val_ht_rg_loss: 20.8057 - val_ag_3cls_loss: 0.6152 - val_brd_8cls_loss: 1.2050 - val_wt_rg_mse: 5218.9463 - val_ht_rg_mse: 20.8057 - val_ag_3cls_accuracy: 0.7399 - val_brd_8cls_accuracy: 0.6920 - 3s/epoch - 39ms/step\n",
            "Epoch 11/30\n",
            "81/81 - 3s - loss: 5475.7871 - wt_rg_loss: 5454.7998 - ht_rg_loss: 19.1725 - ag_3cls_loss: 0.6174 - brd_8cls_loss: 1.1974 - wt_rg_mse: 5454.7998 - ht_rg_mse: 19.1725 - ag_3cls_accuracy: 0.7442 - brd_8cls_accuracy: 0.6868 - val_loss: 5262.5591 - val_wt_rg_loss: 5239.7539 - val_ht_rg_loss: 20.9894 - val_ag_3cls_loss: 0.6266 - val_brd_8cls_loss: 1.1894 - val_wt_rg_mse: 5239.7539 - val_ht_rg_mse: 20.9894 - val_ag_3cls_accuracy: 0.7399 - val_brd_8cls_accuracy: 0.6920 - 3s/epoch - 43ms/step\n",
            "Epoch 12/30\n",
            "81/81 - 3s - loss: 5482.3730 - wt_rg_loss: 5461.0669 - ht_rg_loss: 19.5039 - ag_3cls_loss: 0.6170 - brd_8cls_loss: 1.1868 - wt_rg_mse: 5461.0669 - ht_rg_mse: 19.5039 - ag_3cls_accuracy: 0.7442 - brd_8cls_accuracy: 0.6868 - val_loss: 5222.7026 - val_wt_rg_loss: 5200.5552 - val_ht_rg_loss: 20.3575 - val_ag_3cls_loss: 0.6148 - val_brd_8cls_loss: 1.1748 - val_wt_rg_mse: 5200.5552 - val_ht_rg_mse: 20.3575 - val_ag_3cls_accuracy: 0.7399 - val_brd_8cls_accuracy: 0.6920 - 3s/epoch - 43ms/step\n",
            "Epoch 13/30\n",
            "81/81 - 3s - loss: 5480.8208 - wt_rg_loss: 5459.6572 - ht_rg_loss: 19.3662 - ag_3cls_loss: 0.6203 - brd_8cls_loss: 1.1779 - wt_rg_mse: 5459.6572 - ht_rg_mse: 19.3662 - ag_3cls_accuracy: 0.7442 - brd_8cls_accuracy: 0.6868 - val_loss: 5224.9541 - val_wt_rg_loss: 5202.8447 - val_ht_rg_loss: 20.3281 - val_ag_3cls_loss: 0.6145 - val_brd_8cls_loss: 1.1663 - val_wt_rg_mse: 5202.8447 - val_ht_rg_mse: 20.3281 - val_ag_3cls_accuracy: 0.7399 - val_brd_8cls_accuracy: 0.6920 - 3s/epoch - 38ms/step\n",
            "Epoch 14/30\n",
            "81/81 - 3s - loss: 5474.0107 - wt_rg_loss: 5452.7417 - ht_rg_loss: 19.4853 - ag_3cls_loss: 0.6176 - brd_8cls_loss: 1.1674 - wt_rg_mse: 5452.7417 - ht_rg_mse: 19.4853 - ag_3cls_accuracy: 0.7442 - brd_8cls_accuracy: 0.6868 - val_loss: 5363.3979 - val_wt_rg_loss: 5339.8887 - val_ht_rg_loss: 21.7348 - val_ag_3cls_loss: 0.6149 - val_brd_8cls_loss: 1.1602 - val_wt_rg_mse: 5339.8887 - val_ht_rg_mse: 21.7348 - val_ag_3cls_accuracy: 0.7399 - val_brd_8cls_accuracy: 0.6920 - 3s/epoch - 39ms/step\n",
            "Epoch 15/30\n",
            "81/81 - 3s - loss: 5468.7129 - wt_rg_loss: 5447.4453 - ht_rg_loss: 19.4934 - ag_3cls_loss: 0.6158 - brd_8cls_loss: 1.1590 - wt_rg_mse: 5447.4453 - ht_rg_mse: 19.4934 - ag_3cls_accuracy: 0.7442 - brd_8cls_accuracy: 0.6868 - val_loss: 5201.9116 - val_wt_rg_loss: 5179.1660 - val_ht_rg_loss: 20.9824 - val_ag_3cls_loss: 0.6158 - val_brd_8cls_loss: 1.1473 - val_wt_rg_mse: 5179.1660 - val_ht_rg_mse: 20.9824 - val_ag_3cls_accuracy: 0.7399 - val_brd_8cls_accuracy: 0.6920 - 3s/epoch - 39ms/step\n",
            "Epoch 16/30\n",
            "81/81 - 3s - loss: 5482.6104 - wt_rg_loss: 5460.5288 - ht_rg_loss: 20.3163 - ag_3cls_loss: 0.6189 - brd_8cls_loss: 1.1467 - wt_rg_mse: 5460.5288 - ht_rg_mse: 20.3163 - ag_3cls_accuracy: 0.7442 - brd_8cls_accuracy: 0.6868 - val_loss: 5277.6270 - val_wt_rg_loss: 5252.2739 - val_ht_rg_loss: 23.5817 - val_ag_3cls_loss: 0.6145 - val_brd_8cls_loss: 1.1558 - val_wt_rg_mse: 5252.2739 - val_ht_rg_mse: 23.5817 - val_ag_3cls_accuracy: 0.7399 - val_brd_8cls_accuracy: 0.6920 - 3s/epoch - 39ms/step\n",
            "Epoch 17/30\n",
            "81/81 - 3s - loss: 5486.6831 - wt_rg_loss: 5464.7041 - ht_rg_loss: 20.2209 - ag_3cls_loss: 0.6141 - brd_8cls_loss: 1.1439 - wt_rg_mse: 5464.7041 - ht_rg_mse: 20.2209 - ag_3cls_accuracy: 0.7442 - brd_8cls_accuracy: 0.6868 - val_loss: 5268.2759 - val_wt_rg_loss: 5243.4150 - val_ht_rg_loss: 23.0955 - val_ag_3cls_loss: 0.6319 - val_brd_8cls_loss: 1.1340 - val_wt_rg_mse: 5243.4150 - val_ht_rg_mse: 23.0955 - val_ag_3cls_accuracy: 0.7399 - val_brd_8cls_accuracy: 0.6920 - 3s/epoch - 38ms/step\n",
            "Epoch 18/30\n",
            "81/81 - 3s - loss: 5497.1807 - wt_rg_loss: 5475.1924 - ht_rg_loss: 20.2323 - ag_3cls_loss: 0.6210 - brd_8cls_loss: 1.1345 - wt_rg_mse: 5475.1924 - ht_rg_mse: 20.2323 - ag_3cls_accuracy: 0.7438 - brd_8cls_accuracy: 0.6868 - val_loss: 5286.1958 - val_wt_rg_loss: 5261.8188 - val_ht_rg_loss: 22.6348 - val_ag_3cls_loss: 0.6153 - val_brd_8cls_loss: 1.1277 - val_wt_rg_mse: 5261.8188 - val_ht_rg_mse: 22.6348 - val_ag_3cls_accuracy: 0.7399 - val_brd_8cls_accuracy: 0.6920 - 3s/epoch - 38ms/step\n",
            "Epoch 19/30\n",
            "81/81 - 3s - loss: 5455.6362 - wt_rg_loss: 5434.4727 - ht_rg_loss: 19.4327 - ag_3cls_loss: 0.6178 - brd_8cls_loss: 1.1154 - wt_rg_mse: 5434.4727 - ht_rg_mse: 19.4327 - ag_3cls_accuracy: 0.7442 - brd_8cls_accuracy: 0.6868 - val_loss: 5201.7720 - val_wt_rg_loss: 5179.6533 - val_ht_rg_loss: 20.3914 - val_ag_3cls_loss: 0.6143 - val_brd_8cls_loss: 1.1134 - val_wt_rg_mse: 5179.6533 - val_ht_rg_mse: 20.3914 - val_ag_3cls_accuracy: 0.7399 - val_brd_8cls_accuracy: 0.6920 - 3s/epoch - 38ms/step\n",
            "Epoch 20/30\n"
          ]
        }
      ],
      "source": [
        "encoder.fit(X0, [y0, y1, y2, y3], epochs=30, verbose=2, batch_size=32, validation_split=0.2)"
      ]
    },
    {
      "cell_type": "code",
      "execution_count": null,
      "metadata": {
        "id": "OS_zKeP11Buh"
      },
      "outputs": [],
      "source": [
        "# encoder.output\n",
        "keras.utils.plot_model(encoder, \"encoder.png\", show_shapes=True)"
      ]
    },
    {
      "cell_type": "code",
      "source": [
        "(tX0, tX1), (ty0, ty1, ty2, ty3) = data_loader(test_df, (150, 150, 3))"
      ],
      "metadata": {
        "id": "U3_Qm4mOJzC4"
      },
      "execution_count": null,
      "outputs": []
    },
    {
      "cell_type": "code",
      "source": [
        "test_scores = encoder.evaluate(tX0, [ty0, ty1, ty2, ty3], verbose=2)"
      ],
      "metadata": {
        "id": "b7XnFqweNwUB"
      },
      "execution_count": null,
      "outputs": []
    },
    {
      "cell_type": "code",
      "source": [
        "print(\"Test loss:\", test_scores[0])\n",
        "print(\"Test accuracy:\", test_scores[1])"
      ],
      "metadata": {
        "id": "ix1tL2chOUdA"
      },
      "execution_count": null,
      "outputs": []
    },
    {
      "cell_type": "code",
      "execution_count": null,
      "metadata": {
        "id": "pknNE0XJ1TtU"
      },
      "outputs": [],
      "source": [
        "p1, p2, p3 = encoder.predict([tf.expand_dims(tX0[0], 0), tf.expand_dims(tX1[0], 0)])"
      ]
    },
    {
      "cell_type": "code",
      "execution_count": null,
      "metadata": {
        "id": "iUbdFp4I1gR2"
      },
      "outputs": [],
      "source": [
        "# print(p0);ty0[0]"
      ]
    },
    {
      "cell_type": "code",
      "execution_count": null,
      "metadata": {
        "id": "NBWS4n921izy",
        "colab": {
          "base_uri": "https://localhost:8080/"
        },
        "outputId": "39fc1618-40dc-4fdf-8e6e-387b05fa4ec3"
      },
      "outputs": [
        {
          "output_type": "stream",
          "name": "stdout",
          "text": [
            "[[45.881622]]\n"
          ]
        },
        {
          "output_type": "execute_result",
          "data": {
            "text/plain": [
              "<tf.Tensor: shape=(), dtype=float32, numpy=48.0>"
            ]
          },
          "metadata": {},
          "execution_count": 158
        }
      ],
      "source": [
        "print(p1);ty1[0]"
      ]
    },
    {
      "cell_type": "code",
      "execution_count": null,
      "metadata": {
        "id": "JgKtF9Dc1lRW",
        "colab": {
          "base_uri": "https://localhost:8080/"
        },
        "outputId": "fd669f34-8835-4830-8c3f-62bf5397f01c"
      },
      "outputs": [
        {
          "output_type": "stream",
          "name": "stdout",
          "text": [
            "0\n"
          ]
        },
        {
          "output_type": "execute_result",
          "data": {
            "text/plain": [
              "1"
            ]
          },
          "metadata": {},
          "execution_count": 159
        }
      ],
      "source": [
        "print(p2.argmax());ty2[0].argmax()"
      ]
    },
    {
      "cell_type": "code",
      "execution_count": null,
      "metadata": {
        "id": "5wCRToDy1nRH",
        "colab": {
          "base_uri": "https://localhost:8080/"
        },
        "outputId": "a921efb8-ca61-4e41-df7c-22cdba4b5e46"
      },
      "outputs": [
        {
          "output_type": "stream",
          "name": "stdout",
          "text": [
            "2\n"
          ]
        },
        {
          "output_type": "execute_result",
          "data": {
            "text/plain": [
              "7"
            ]
          },
          "metadata": {},
          "execution_count": 160
        }
      ],
      "source": [
        "print(p3.argmax());ty3[0].argmax()"
      ]
    },
    {
      "cell_type": "code",
      "source": [
        "Cattle are commonly raised as livestock for meat (beef or veal, see beef cattle), for milk (see dairy cattle), and for hides, which are used to make leather. They are used as riding animals and draft animals (oxen or bullocks, which pull carts, plows and other implements). Another product of cattle is their dung, which can be used to create manure or fuel."
      ],
      "metadata": {
        "id": "7hPxQCKTxp49"
      },
      "execution_count": null,
      "outputs": []
    }
  ],
  "metadata": {
    "accelerator": "GPU",
    "colab": {
      "name": "031-dec.ipynb",
      "provenance": [],
      "authorship_tag": "ABX9TyOMCsMxFrbPW4R0esqj5aMj",
      "include_colab_link": true
    },
    "kernelspec": {
      "display_name": "Python 3",
      "name": "python3"
    },
    "language_info": {
      "name": "python"
    }
  },
  "nbformat": 4,
  "nbformat_minor": 0
}