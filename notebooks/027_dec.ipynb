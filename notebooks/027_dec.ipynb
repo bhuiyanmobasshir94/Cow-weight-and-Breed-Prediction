{
  "nbformat": 4,
  "nbformat_minor": 0,
  "metadata": {
    "colab": {
      "name": "027-dec.ipynb",
      "provenance": [],
      "authorship_tag": "ABX9TyNxDrZel0TDiFDlLQznI4Fb",
      "include_colab_link": true
    },
    "kernelspec": {
      "name": "python3",
      "display_name": "Python 3"
    },
    "language_info": {
      "name": "python"
    },
    "accelerator": "GPU"
  },
  "cells": [
    {
      "cell_type": "markdown",
      "metadata": {
        "id": "view-in-github",
        "colab_type": "text"
      },
      "source": [
        "<a href=\"https://colab.research.google.com/github/bhuiyanmobasshir94/Cow-weight-and-Breed-Prediction/blob/main/notebooks/027_dec.ipynb\" target=\"_parent\"><img src=\"https://colab.research.google.com/assets/colab-badge.svg\" alt=\"Open In Colab\"/></a>"
      ]
    },
    {
      "cell_type": "code",
      "execution_count": 1,
      "metadata": {
        "id": "B3W_pFmsfyih"
      },
      "outputs": [],
      "source": [
        "import numpy as np\n",
        "import pandas as pd\n",
        "import sys\n",
        "import os\n",
        "import PIL\n",
        "import PIL.Image\n",
        "import tensorflow as tf\n",
        "import tensorflow.keras as keras\n",
        "from tensorflow.keras import layers\n",
        "import tensorflow_datasets as tfds\n",
        "import pathlib\n",
        "from sklearn.model_selection import train_test_split"
      ]
    },
    {
      "cell_type": "code",
      "source": [
        "images_dataset_url = \"https://cv-datasets-2021.s3.amazonaws.com/images.tar.gz\"\n",
        "images_data_dir = tf.keras.utils.get_file(origin=images_dataset_url,\n",
        "                                   fname='images',\n",
        "                                   untar=True)\n",
        "images_data_dir = pathlib.Path(images_data_dir)"
      ],
      "metadata": {
        "colab": {
          "base_uri": "https://localhost:8080/"
        },
        "id": "-HJIoeP8gQX8",
        "outputId": "9bcb185c-5601-404a-b0fb-ec19940f0a4e"
      },
      "execution_count": 2,
      "outputs": [
        {
          "output_type": "stream",
          "name": "stdout",
          "text": [
            "Downloading data from https://cv-datasets-2021.s3.amazonaws.com/images.tar.gz\n",
            "833052672/833046463 [==============================] - 55s 0us/step\n",
            "833060864/833046463 [==============================] - 55s 0us/step\n"
          ]
        }
      ]
    },
    {
      "cell_type": "code",
      "source": [
        "yt_images_dataset_url = \"https://cv-datasets-2021.s3.amazonaws.com/yt_images.tar.gz\"\n",
        "yt_images_data_dir = tf.keras.utils.get_file(origin=yt_images_dataset_url,\n",
        "                                   fname='yt_images',\n",
        "                                   untar=True)\n",
        "yt_images_data_dir = pathlib.Path(yt_images_data_dir)"
      ],
      "metadata": {
        "colab": {
          "base_uri": "https://localhost:8080/"
        },
        "id": "wR0GlGtWgp9C",
        "outputId": "4e66900b-c1cc-47e8-9bf9-d83187650205"
      },
      "execution_count": 3,
      "outputs": [
        {
          "output_type": "stream",
          "name": "stdout",
          "text": [
            "Downloading data from https://cv-datasets-2021.s3.amazonaws.com/yt_images.tar.gz\n",
            "4026998784/4026992587 [==============================] - 261s 0us/step\n",
            "4027006976/4026992587 [==============================] - 261s 0us/step\n"
          ]
        }
      ]
    },
    {
      "cell_type": "code",
      "source": [
        "if sys.platform == 'darwin':\n",
        "  os.system(f\"dot_clean {images_data_dir}\")\n",
        "  os.system(f\"dot_clean {yt_images_data_dir}\")\n",
        "elif sys.platform.startswith(\"lin\"):\n",
        "  os.system(f\"cd {images_data_dir} && find . -type f -name '._*' -delete\")\n",
        "  os.system(f\"cd {yt_images_data_dir} && find . -type f -name '._*' -delete\")\n"
      ],
      "metadata": {
        "id": "TO0FsOzFgkLP"
      },
      "execution_count": 4,
      "outputs": []
    },
    {
      "cell_type": "code",
      "source": [
        "image_count = len(list(images_data_dir.glob('*/*.jpg')))\n",
        "print(image_count)"
      ],
      "metadata": {
        "colab": {
          "base_uri": "https://localhost:8080/"
        },
        "id": "Ef98wX12jI95",
        "outputId": "05c43a18-b065-473a-99da-4d03e59e3128"
      },
      "execution_count": 5,
      "outputs": [
        {
          "output_type": "stream",
          "name": "stdout",
          "text": [
            "2056\n"
          ]
        }
      ]
    },
    {
      "cell_type": "code",
      "source": [
        "yt_image_count = len(list(yt_images_data_dir.glob('*/*.jpg')))\n",
        "print(yt_image_count)"
      ],
      "metadata": {
        "colab": {
          "base_uri": "https://localhost:8080/"
        },
        "id": "O0m9qMV9jRNJ",
        "outputId": "e7f555eb-0900-4c7e-e3cd-7842856de0d7"
      },
      "execution_count": 6,
      "outputs": [
        {
          "output_type": "stream",
          "name": "stdout",
          "text": [
            "15843\n"
          ]
        }
      ]
    },
    {
      "cell_type": "code",
      "source": [
        "df = pd.read_csv(\"https://cv-datasets-2021.s3.amazonaws.com/dataset.csv\")\n",
        "df.shape"
      ],
      "metadata": {
        "colab": {
          "base_uri": "https://localhost:8080/"
        },
        "id": "H4DBG2Lkogb0",
        "outputId": "2e83755d-1c61-48f8-8224-a94535a5a515"
      },
      "execution_count": 7,
      "outputs": [
        {
          "output_type": "execute_result",
          "data": {
            "text/plain": [
              "(513, 14)"
            ]
          },
          "metadata": {},
          "execution_count": 7
        }
      ]
    },
    {
      "cell_type": "code",
      "source": [
        "df.head(2)"
      ],
      "metadata": {
        "colab": {
          "base_uri": "https://localhost:8080/",
          "height": 112
        },
        "id": "dRPCUNW7CtOO",
        "outputId": "93be090a-e05e-4ef3-c252-048e32251f09"
      },
      "execution_count": 8,
      "outputs": [
        {
          "output_type": "execute_result",
          "data": {
            "text/html": [
              "\n",
              "  <div id=\"df-cfc92154-705d-4d64-ad2c-a828eed90283\">\n",
              "    <div class=\"colab-df-container\">\n",
              "      <div>\n",
              "<style scoped>\n",
              "    .dataframe tbody tr th:only-of-type {\n",
              "        vertical-align: middle;\n",
              "    }\n",
              "\n",
              "    .dataframe tbody tr th {\n",
              "        vertical-align: top;\n",
              "    }\n",
              "\n",
              "    .dataframe thead th {\n",
              "        text-align: right;\n",
              "    }\n",
              "</style>\n",
              "<table border=\"1\" class=\"dataframe\">\n",
              "  <thead>\n",
              "    <tr style=\"text-align: right;\">\n",
              "      <th></th>\n",
              "      <th>sku</th>\n",
              "      <th>sex</th>\n",
              "      <th>color</th>\n",
              "      <th>breed</th>\n",
              "      <th>feed</th>\n",
              "      <th>age_in_year</th>\n",
              "      <th>teeth</th>\n",
              "      <th>height_in_inch</th>\n",
              "      <th>weight_in_kg</th>\n",
              "      <th>price</th>\n",
              "      <th>size</th>\n",
              "      <th>images_count</th>\n",
              "      <th>yt_images_count</th>\n",
              "      <th>total_images</th>\n",
              "    </tr>\n",
              "  </thead>\n",
              "  <tbody>\n",
              "    <tr>\n",
              "      <th>0</th>\n",
              "      <td>BLF 2340</td>\n",
              "      <td>MALE_BULL</td>\n",
              "      <td>RED</td>\n",
              "      <td>LOCAL</td>\n",
              "      <td>['JUMBOO', 'LUCERNE', 'NAPIER', 'SILAGE', 'STR...</td>\n",
              "      <td>2.0</td>\n",
              "      <td>2</td>\n",
              "      <td>50.9</td>\n",
              "      <td>270.0</td>\n",
              "      <td>19000.0</td>\n",
              "      <td>MEDIUM</td>\n",
              "      <td>4</td>\n",
              "      <td>0</td>\n",
              "      <td>4</td>\n",
              "    </tr>\n",
              "    <tr>\n",
              "      <th>1</th>\n",
              "      <td>BLF 2342</td>\n",
              "      <td>MALE_BULL</td>\n",
              "      <td>NON_RED</td>\n",
              "      <td>LOCAL</td>\n",
              "      <td>['JUMBOO', 'LUCERNE', 'NAPIER', 'SILAGE', 'STR...</td>\n",
              "      <td>2.0</td>\n",
              "      <td>2</td>\n",
              "      <td>52.0</td>\n",
              "      <td>256.0</td>\n",
              "      <td>18000.0</td>\n",
              "      <td>LARGE</td>\n",
              "      <td>4</td>\n",
              "      <td>31</td>\n",
              "      <td>35</td>\n",
              "    </tr>\n",
              "  </tbody>\n",
              "</table>\n",
              "</div>\n",
              "      <button class=\"colab-df-convert\" onclick=\"convertToInteractive('df-cfc92154-705d-4d64-ad2c-a828eed90283')\"\n",
              "              title=\"Convert this dataframe to an interactive table.\"\n",
              "              style=\"display:none;\">\n",
              "        \n",
              "  <svg xmlns=\"http://www.w3.org/2000/svg\" height=\"24px\"viewBox=\"0 0 24 24\"\n",
              "       width=\"24px\">\n",
              "    <path d=\"M0 0h24v24H0V0z\" fill=\"none\"/>\n",
              "    <path d=\"M18.56 5.44l.94 2.06.94-2.06 2.06-.94-2.06-.94-.94-2.06-.94 2.06-2.06.94zm-11 1L8.5 8.5l.94-2.06 2.06-.94-2.06-.94L8.5 2.5l-.94 2.06-2.06.94zm10 10l.94 2.06.94-2.06 2.06-.94-2.06-.94-.94-2.06-.94 2.06-2.06.94z\"/><path d=\"M17.41 7.96l-1.37-1.37c-.4-.4-.92-.59-1.43-.59-.52 0-1.04.2-1.43.59L10.3 9.45l-7.72 7.72c-.78.78-.78 2.05 0 2.83L4 21.41c.39.39.9.59 1.41.59.51 0 1.02-.2 1.41-.59l7.78-7.78 2.81-2.81c.8-.78.8-2.07 0-2.86zM5.41 20L4 18.59l7.72-7.72 1.47 1.35L5.41 20z\"/>\n",
              "  </svg>\n",
              "      </button>\n",
              "      \n",
              "  <style>\n",
              "    .colab-df-container {\n",
              "      display:flex;\n",
              "      flex-wrap:wrap;\n",
              "      gap: 12px;\n",
              "    }\n",
              "\n",
              "    .colab-df-convert {\n",
              "      background-color: #E8F0FE;\n",
              "      border: none;\n",
              "      border-radius: 50%;\n",
              "      cursor: pointer;\n",
              "      display: none;\n",
              "      fill: #1967D2;\n",
              "      height: 32px;\n",
              "      padding: 0 0 0 0;\n",
              "      width: 32px;\n",
              "    }\n",
              "\n",
              "    .colab-df-convert:hover {\n",
              "      background-color: #E2EBFA;\n",
              "      box-shadow: 0px 1px 2px rgba(60, 64, 67, 0.3), 0px 1px 3px 1px rgba(60, 64, 67, 0.15);\n",
              "      fill: #174EA6;\n",
              "    }\n",
              "\n",
              "    [theme=dark] .colab-df-convert {\n",
              "      background-color: #3B4455;\n",
              "      fill: #D2E3FC;\n",
              "    }\n",
              "\n",
              "    [theme=dark] .colab-df-convert:hover {\n",
              "      background-color: #434B5C;\n",
              "      box-shadow: 0px 1px 3px 1px rgba(0, 0, 0, 0.15);\n",
              "      filter: drop-shadow(0px 1px 2px rgba(0, 0, 0, 0.3));\n",
              "      fill: #FFFFFF;\n",
              "    }\n",
              "  </style>\n",
              "\n",
              "      <script>\n",
              "        const buttonEl =\n",
              "          document.querySelector('#df-cfc92154-705d-4d64-ad2c-a828eed90283 button.colab-df-convert');\n",
              "        buttonEl.style.display =\n",
              "          google.colab.kernel.accessAllowed ? 'block' : 'none';\n",
              "\n",
              "        async function convertToInteractive(key) {\n",
              "          const element = document.querySelector('#df-cfc92154-705d-4d64-ad2c-a828eed90283');\n",
              "          const dataTable =\n",
              "            await google.colab.kernel.invokeFunction('convertToInteractive',\n",
              "                                                     [key], {});\n",
              "          if (!dataTable) return;\n",
              "\n",
              "          const docLinkHtml = 'Like what you see? Visit the ' +\n",
              "            '<a target=\"_blank\" href=https://colab.research.google.com/notebooks/data_table.ipynb>data table notebook</a>'\n",
              "            + ' to learn more about interactive tables.';\n",
              "          element.innerHTML = '';\n",
              "          dataTable['output_type'] = 'display_data';\n",
              "          await google.colab.output.renderOutput(dataTable, element);\n",
              "          const docLink = document.createElement('div');\n",
              "          docLink.innerHTML = docLinkHtml;\n",
              "          element.appendChild(docLink);\n",
              "        }\n",
              "      </script>\n",
              "    </div>\n",
              "  </div>\n",
              "  "
            ],
            "text/plain": [
              "        sku        sex    color  ... images_count yt_images_count  total_images\n",
              "0  BLF 2340  MALE_BULL      RED  ...            4               0             4\n",
              "1  BLF 2342  MALE_BULL  NON_RED  ...            4              31            35\n",
              "\n",
              "[2 rows x 14 columns]"
            ]
          },
          "metadata": {},
          "execution_count": 8
        }
      ]
    },
    {
      "cell_type": "code",
      "source": [
        "images = list(images_data_dir.glob('*/*.jpg'))\n",
        "yt_images = list(yt_images_data_dir.glob('*/*.jpg'))"
      ],
      "metadata": {
        "id": "ekUY7D5lpzwz"
      },
      "execution_count": 9,
      "outputs": []
    },
    {
      "cell_type": "code",
      "source": [
        "min_height = 0\n",
        "max_height = 0\n",
        "min_width = 0\n",
        "max_width = 0\n",
        "for i, image in enumerate(images):\n",
        "  w, h = PIL.Image.open(str(image)).size\n",
        "  if i == 0:\n",
        "    min_height = h\n",
        "    max_height = h\n",
        "    min_width = w\n",
        "    max_width = w\n",
        "  \n",
        "  if h <= min_height:\n",
        "    min_height = h\n",
        "  if h >= max_height:\n",
        "    max_height = h\n",
        "\n",
        "  if w <= min_width:\n",
        "    min_width = w\n",
        "  if w >= max_width:\n",
        "    max_width = w\n",
        "\n",
        "print(f\"min_height: {min_height}\")\n",
        "print(f\"min_width: {min_width}\")\n",
        "print(f\"max_height: {max_height}\")\n",
        "print(f\"max_width: {max_width}\")"
      ],
      "metadata": {
        "colab": {
          "base_uri": "https://localhost:8080/"
        },
        "id": "FDpz4yme0wX7",
        "outputId": "101fd1e0-dec1-4152-e73c-7d3c72870bdb"
      },
      "execution_count": 10,
      "outputs": [
        {
          "output_type": "stream",
          "name": "stdout",
          "text": [
            "min_height: 450\n",
            "min_width: 800\n",
            "max_height: 675\n",
            "max_width: 1200\n"
          ]
        }
      ]
    },
    {
      "cell_type": "code",
      "source": [
        "min_height = 0\n",
        "max_height = 0\n",
        "min_width = 0\n",
        "max_width = 0\n",
        "for i, image in enumerate(yt_images):\n",
        "  w, h = PIL.Image.open(str(image)).size\n",
        "  if i == 0:\n",
        "    min_height = h\n",
        "    max_height = h\n",
        "    min_width = w\n",
        "    max_width = w\n",
        "\n",
        "  if h <= min_height:\n",
        "    min_height = h\n",
        "  if h >= max_height:\n",
        "    max_height = h\n",
        "\n",
        "  if w <= min_width:\n",
        "    min_width = w\n",
        "  if w >= max_width:\n",
        "    max_width = w\n",
        "\n",
        "print(f\"min_height: {min_height}\")\n",
        "print(f\"min_width: {min_width}\")\n",
        "print(f\"max_height: {max_height}\")\n",
        "print(f\"max_width: {max_width}\")"
      ],
      "metadata": {
        "colab": {
          "base_uri": "https://localhost:8080/"
        },
        "id": "zzLkutbX3PEM",
        "outputId": "bb380314-16d0-41dc-9c1f-0fd00f26c56f"
      },
      "execution_count": 11,
      "outputs": [
        {
          "output_type": "stream",
          "name": "stdout",
          "text": [
            "min_height: 720\n",
            "min_width: 1280\n",
            "max_height: 720\n",
            "max_width: 1280\n"
          ]
        }
      ]
    },
    {
      "cell_type": "code",
      "source": [
        "f_df = pd.DataFrame(columns = ['file_path', 'teeth', 'age_in_year', 'breed', 'height_in_inch', 'weight_in_kg'])\n",
        "for index, row in df.iterrows():\n",
        "  images = list(images_data_dir.glob(f\"{row['sku']}/*.jpg\"))\n",
        "  yt_images = list(yt_images_data_dir.glob(f\"{row['sku']}/*.jpg\"))\n",
        "\n",
        "  for image in images:\n",
        "    f_df = f_df.append({'file_path' : image, 'teeth' : row['teeth'], 'age_in_year' : row['age_in_year'], 'breed': row['breed'], 'height_in_inch': row['height_in_inch'], 'weight_in_kg': row['weight_in_kg']}, \n",
        "                ignore_index = True)\n",
        "    \n",
        "  # for image in yt_images:\n",
        "  #   f_df = f_df.append({'file_path' : image, 'teeth' : row['teeth'], 'age_in_year' : row['age_in_year'], 'breed': row['breed'], 'height_in_inch': row['height_in_inch'], 'weight_in_kg': row['weight_in_kg']}, \n",
        "  #               ignore_index = True)\n"
      ],
      "metadata": {
        "id": "sTf9VTBJCSRP"
      },
      "execution_count": 12,
      "outputs": []
    },
    {
      "cell_type": "code",
      "source": [
        "f_df.shape"
      ],
      "metadata": {
        "colab": {
          "base_uri": "https://localhost:8080/"
        },
        "id": "cmd0yBH0CSNi",
        "outputId": "eb55a698-9041-4f72-b58b-138e0d2884d8"
      },
      "execution_count": 13,
      "outputs": [
        {
          "output_type": "execute_result",
          "data": {
            "text/plain": [
              "(2052, 6)"
            ]
          },
          "metadata": {},
          "execution_count": 13
        }
      ]
    },
    {
      "cell_type": "code",
      "source": [
        "f_df.head(1)"
      ],
      "metadata": {
        "colab": {
          "base_uri": "https://localhost:8080/",
          "height": 81
        },
        "id": "yLrlazxDCSIU",
        "outputId": "df125c6d-ce7a-4954-f7d3-34811927a163"
      },
      "execution_count": 14,
      "outputs": [
        {
          "output_type": "execute_result",
          "data": {
            "text/html": [
              "\n",
              "  <div id=\"df-318e5ce9-4ead-497f-9a81-7108b2e6ae62\">\n",
              "    <div class=\"colab-df-container\">\n",
              "      <div>\n",
              "<style scoped>\n",
              "    .dataframe tbody tr th:only-of-type {\n",
              "        vertical-align: middle;\n",
              "    }\n",
              "\n",
              "    .dataframe tbody tr th {\n",
              "        vertical-align: top;\n",
              "    }\n",
              "\n",
              "    .dataframe thead th {\n",
              "        text-align: right;\n",
              "    }\n",
              "</style>\n",
              "<table border=\"1\" class=\"dataframe\">\n",
              "  <thead>\n",
              "    <tr style=\"text-align: right;\">\n",
              "      <th></th>\n",
              "      <th>file_path</th>\n",
              "      <th>teeth</th>\n",
              "      <th>age_in_year</th>\n",
              "      <th>breed</th>\n",
              "      <th>height_in_inch</th>\n",
              "      <th>weight_in_kg</th>\n",
              "    </tr>\n",
              "  </thead>\n",
              "  <tbody>\n",
              "    <tr>\n",
              "      <th>0</th>\n",
              "      <td>/root/.keras/datasets/images/BLF 2340/BLF 2340...</td>\n",
              "      <td>2</td>\n",
              "      <td>2.0</td>\n",
              "      <td>LOCAL</td>\n",
              "      <td>50.9</td>\n",
              "      <td>270.0</td>\n",
              "    </tr>\n",
              "  </tbody>\n",
              "</table>\n",
              "</div>\n",
              "      <button class=\"colab-df-convert\" onclick=\"convertToInteractive('df-318e5ce9-4ead-497f-9a81-7108b2e6ae62')\"\n",
              "              title=\"Convert this dataframe to an interactive table.\"\n",
              "              style=\"display:none;\">\n",
              "        \n",
              "  <svg xmlns=\"http://www.w3.org/2000/svg\" height=\"24px\"viewBox=\"0 0 24 24\"\n",
              "       width=\"24px\">\n",
              "    <path d=\"M0 0h24v24H0V0z\" fill=\"none\"/>\n",
              "    <path d=\"M18.56 5.44l.94 2.06.94-2.06 2.06-.94-2.06-.94-.94-2.06-.94 2.06-2.06.94zm-11 1L8.5 8.5l.94-2.06 2.06-.94-2.06-.94L8.5 2.5l-.94 2.06-2.06.94zm10 10l.94 2.06.94-2.06 2.06-.94-2.06-.94-.94-2.06-.94 2.06-2.06.94z\"/><path d=\"M17.41 7.96l-1.37-1.37c-.4-.4-.92-.59-1.43-.59-.52 0-1.04.2-1.43.59L10.3 9.45l-7.72 7.72c-.78.78-.78 2.05 0 2.83L4 21.41c.39.39.9.59 1.41.59.51 0 1.02-.2 1.41-.59l7.78-7.78 2.81-2.81c.8-.78.8-2.07 0-2.86zM5.41 20L4 18.59l7.72-7.72 1.47 1.35L5.41 20z\"/>\n",
              "  </svg>\n",
              "      </button>\n",
              "      \n",
              "  <style>\n",
              "    .colab-df-container {\n",
              "      display:flex;\n",
              "      flex-wrap:wrap;\n",
              "      gap: 12px;\n",
              "    }\n",
              "\n",
              "    .colab-df-convert {\n",
              "      background-color: #E8F0FE;\n",
              "      border: none;\n",
              "      border-radius: 50%;\n",
              "      cursor: pointer;\n",
              "      display: none;\n",
              "      fill: #1967D2;\n",
              "      height: 32px;\n",
              "      padding: 0 0 0 0;\n",
              "      width: 32px;\n",
              "    }\n",
              "\n",
              "    .colab-df-convert:hover {\n",
              "      background-color: #E2EBFA;\n",
              "      box-shadow: 0px 1px 2px rgba(60, 64, 67, 0.3), 0px 1px 3px 1px rgba(60, 64, 67, 0.15);\n",
              "      fill: #174EA6;\n",
              "    }\n",
              "\n",
              "    [theme=dark] .colab-df-convert {\n",
              "      background-color: #3B4455;\n",
              "      fill: #D2E3FC;\n",
              "    }\n",
              "\n",
              "    [theme=dark] .colab-df-convert:hover {\n",
              "      background-color: #434B5C;\n",
              "      box-shadow: 0px 1px 3px 1px rgba(0, 0, 0, 0.15);\n",
              "      filter: drop-shadow(0px 1px 2px rgba(0, 0, 0, 0.3));\n",
              "      fill: #FFFFFF;\n",
              "    }\n",
              "  </style>\n",
              "\n",
              "      <script>\n",
              "        const buttonEl =\n",
              "          document.querySelector('#df-318e5ce9-4ead-497f-9a81-7108b2e6ae62 button.colab-df-convert');\n",
              "        buttonEl.style.display =\n",
              "          google.colab.kernel.accessAllowed ? 'block' : 'none';\n",
              "\n",
              "        async function convertToInteractive(key) {\n",
              "          const element = document.querySelector('#df-318e5ce9-4ead-497f-9a81-7108b2e6ae62');\n",
              "          const dataTable =\n",
              "            await google.colab.kernel.invokeFunction('convertToInteractive',\n",
              "                                                     [key], {});\n",
              "          if (!dataTable) return;\n",
              "\n",
              "          const docLinkHtml = 'Like what you see? Visit the ' +\n",
              "            '<a target=\"_blank\" href=https://colab.research.google.com/notebooks/data_table.ipynb>data table notebook</a>'\n",
              "            + ' to learn more about interactive tables.';\n",
              "          element.innerHTML = '';\n",
              "          dataTable['output_type'] = 'display_data';\n",
              "          await google.colab.output.renderOutput(dataTable, element);\n",
              "          const docLink = document.createElement('div');\n",
              "          docLink.innerHTML = docLinkHtml;\n",
              "          element.appendChild(docLink);\n",
              "        }\n",
              "      </script>\n",
              "    </div>\n",
              "  </div>\n",
              "  "
            ],
            "text/plain": [
              "                                           file_path  ... weight_in_kg\n",
              "0  /root/.keras/datasets/images/BLF 2340/BLF 2340...  ...        270.0\n",
              "\n",
              "[1 rows x 6 columns]"
            ]
          },
          "metadata": {},
          "execution_count": 14
        }
      ]
    },
    {
      "cell_type": "code",
      "source": [
        "train_df, valid_test_df = train_test_split(f_df, test_size=0.3)\n",
        "validation_df, test_df = train_test_split(valid_test_df, test_size=0.3)\n",
        "print(f\"train_df: {train_df.shape}\")\n",
        "print(f\"validation_df: {validation_df.shape}\")\n",
        "print(f\"test_df: {test_df.shape}\")"
      ],
      "metadata": {
        "colab": {
          "base_uri": "https://localhost:8080/"
        },
        "id": "QgSiTmzzDrzA",
        "outputId": "75012289-03ce-45f2-a5a7-55ff35a5e247"
      },
      "execution_count": 15,
      "outputs": [
        {
          "output_type": "stream",
          "name": "stdout",
          "text": [
            "train_df: (1436, 6)\n",
            "validation_df: (431, 6)\n",
            "test_df: (185, 6)\n"
          ]
        }
      ]
    },
    {
      "cell_type": "code",
      "source": [
        "# min_height: 450\n",
        "# min_width: 800\n",
        "\n",
        "# input: [image, teeth]\n",
        "# outpur: [age_in_year, breed, height_in_inch, weight_in_kg]\n",
        "\n",
        "# class CustomDataGen(tf.keras.utils.Sequence):\n",
        "    \n",
        "#     def __init__(self, df, X_col, y_col,\n",
        "#                  batch_size,\n",
        "#                  input_size=(450, 800, 3), # (input_height, input_width, input_channel)\n",
        "#                  shuffle=True):\n",
        "        \n",
        "#         self.df = df.copy()\n",
        "#         self.X_col = X_col\n",
        "#         self.y_col = y_col\n",
        "#         self.batch_size = batch_size\n",
        "#         self.input_size = input_size\n",
        "#         self.shuffle = shuffle\n",
        "        \n",
        "#         self.n = len(self.df)\n",
        "#         # self.n_teeth = df[X_col['teeth']].max()\n",
        "#         # self.n_breed = df[y_col['breed']].nunique()\n",
        "    \n",
        "#     def on_epoch_end(self):\n",
        "#         if self.shuffle:\n",
        "#             self.df = self.df.sample(frac=1).reset_index(drop=True)\n",
        "    \n",
        "#     def __get_input(self, path, target_size):\n",
        "#         image = tf.keras.preprocessing.image.load_img(path)\n",
        "#         image_arr = tf.keras.preprocessing.image.img_to_array(image)\n",
        "\n",
        "#         # image_arr = image_arr[ymin:ymin+h, xmin:xmin+w]\n",
        "#         image_arr = tf.image.resize(image_arr,(target_size[0], target_size[1])).numpy()\n",
        "\n",
        "#         return image_arr/255.\n",
        "    \n",
        "#     def __get_output(self, label, num_classes):\n",
        "#         return tf.keras.utils.to_categorical(label, num_classes=num_classes)\n",
        "    \n",
        "#     def __get_data(self, batches):\n",
        "#         # Generates data containing batch_size samples\n",
        "\n",
        "#         path_batch = batches[self.X_col['file_path']]       \n",
        "#         # teeth_batch = batches[self.X_col['teeth']]\n",
        "\n",
        "#         # breed_batch = batches[self.y_col['breed']]\n",
        "#         weight_in_kg_batch = batches[self.y_col['weight_in_kg']]\n",
        "#         height_in_inch_batch = batches[self.y_col['height_in_inch']]\n",
        "#         age_in_year_batch = batches[self.y_col['age_in_year']]\n",
        "\n",
        "#         X0 = np.asarray([self.__get_input(x, self.input_size) for x in path_batch])\n",
        "\n",
        "#         # y0_batch = np.asarray([self.__get_output(y, self.n_teeth) for y in teeth_batch])\n",
        "#         # y1_batch = np.asarray([self.__get_output(y, self.n_breed) for y in breed_batch])\n",
        "\n",
        "#         y0 = np.asarray([tf.cast(y, tf.float32) for y in weight_in_kg_batch])\n",
        "#         y1 = np.asarray([tf.cast(y, tf.float32) for y in height_in_inch_batch])\n",
        "#         y2 = np.asarray([tf.cast(y, tf.float32) for y in age_in_year_batch])\n",
        "\n",
        "#         return X0, tuple([y0, y1, y2])\n",
        "    \n",
        "#     def __getitem__(self, index):\n",
        "        \n",
        "#         batches = self.df[index * self.batch_size:(index + 1) * self.batch_size]\n",
        "#         X, y = self.__get_data(batches)        \n",
        "#         return X, y\n",
        "    \n",
        "#     def __len__(self):\n",
        "#         return self.n // self.batch_size"
      ],
      "metadata": {
        "id": "L_8HLC9VT03R"
      },
      "execution_count": 18,
      "outputs": []
    },
    {
      "cell_type": "code",
      "source": [
        "# traingen = CustomDataGen(train_df,\n",
        "#                          X_col={'file_path':'file_path', 'teeth': 'teeth'},\n",
        "#                          y_col={'breed': 'breed', 'weight_in_kg': 'weight_in_kg', 'height_in_inch': 'height_in_inch', 'age_in_year': 'age_in_year'},\n",
        "#                          batch_size=128, input_size=(450, 800, 3))"
      ],
      "metadata": {
        "id": "AG8j82VLZrPg"
      },
      "execution_count": 19,
      "outputs": []
    },
    {
      "cell_type": "code",
      "source": [
        "# testgen = CustomDataGen(test_df,\n",
        "#                          X_col={'file_path':'file_path', 'teeth': 'teeth'},\n",
        "#                          y_col={'breed': 'breed', 'weight_in_kg': 'weight_in_kg', 'height_in_inch': 'height_in_inch', 'age_in_year': 'age_in_year'},\n",
        "#                          batch_size=128, input_size=(450, 800, 3))"
      ],
      "metadata": {
        "id": "tFSlX4JdayDJ"
      },
      "execution_count": 20,
      "outputs": []
    },
    {
      "cell_type": "code",
      "source": [
        "# validgen = CustomDataGen(validation_df,\n",
        "#                          X_col={'file_path':'file_path', 'teeth': 'teeth'},\n",
        "#                          y_col={'breed': 'breed', 'weight_in_kg': 'weight_in_kg', 'height_in_inch': 'height_in_inch', 'age_in_year': 'age_in_year'},\n",
        "#                          batch_size=128, input_size=(450, 800, 3))"
      ],
      "metadata": {
        "id": "T3ELi9-GkkAz"
      },
      "execution_count": 21,
      "outputs": []
    },
    {
      "cell_type": "code",
      "source": [
        "def __get_input(path, target_size):\n",
        "  image = tf.keras.preprocessing.image.load_img(path)\n",
        "  image_arr = tf.keras.preprocessing.image.img_to_array(image)\n",
        "  image_arr = tf.image.resize(image_arr,(target_size[0], target_size[1])).numpy()\n",
        "  return image_arr/255.\n",
        "\n",
        "def data_loader(df, image_size=(450, 800, 3)):\n",
        "  y0 = tf.cast(df.weight_in_kg, tf.float32)\n",
        "  print(y0.shape)\n",
        "  y1 = tf.cast(df.height_in_inch, tf.float32)\n",
        "  print(y1.shape)\n",
        "  y2 = tf.cast(df.age_in_year, tf.float32)\n",
        "  print(y2.shape)\n",
        "  path_batch = df.file_path\n",
        "  X0 = tf.cast([__get_input(x, image_size) for x in path_batch], tf.float32)\n",
        "  print(X0.shape)\n",
        "\n",
        "  return X0, (y0, y1, y2)"
      ],
      "metadata": {
        "id": "YhNEK1P1o7ay"
      },
      "execution_count": 16,
      "outputs": []
    },
    {
      "cell_type": "code",
      "source": [
        "X0, (y0, y1, y2) = data_loader(f_df, (128, 128, 3))"
      ],
      "metadata": {
        "colab": {
          "base_uri": "https://localhost:8080/"
        },
        "id": "YwD7Wu5Xrb2n",
        "outputId": "bb2aafb0-ee98-44c0-ae10-8237047715d3"
      },
      "execution_count": 17,
      "outputs": [
        {
          "output_type": "stream",
          "name": "stdout",
          "text": [
            "(2052,)\n",
            "(2052,)\n",
            "(2052,)\n",
            "(2052, 128, 128, 3)\n"
          ]
        }
      ]
    },
    {
      "cell_type": "code",
      "source": [
        "input = keras.Input(shape=(128, 128, 3), name=\"original_img\")\n",
        "x = layers.Conv2D(64, 3, activation=\"relu\")(input)\n",
        "x = layers.Conv2D(128, 3, activation=\"relu\")(x)\n",
        "x = layers.MaxPooling2D(3)(x)\n",
        "x = layers.Conv2D(128, 3, activation=\"relu\")(x)\n",
        "x = layers.Conv2D(64, 3, activation=\"relu\")(x)\n",
        "x = layers.GlobalMaxPooling2D()(x)\n",
        "\n",
        "out_a = keras.layers.Dense(1, activation='linear', name='wt_rg')(x)\n",
        "out_b = keras.layers.Dense(1, activation='linear', name='ht_rg')(x)\n",
        "out_c = keras.layers.Dense(1, activation='linear', name='ag_rg')(x)\n",
        "\n",
        "encoder = keras.Model( inputs = input, outputs = [out_a, out_b, out_c], name=\"encoder\")"
      ],
      "metadata": {
        "id": "QUdjf26kubkr"
      },
      "execution_count": 19,
      "outputs": []
    },
    {
      "cell_type": "code",
      "source": [
        "encoder.compile(\n",
        "    loss = {\n",
        "        \"wt_rg\": tf.keras.losses.MeanSquaredError(),\n",
        "        \"ht_rg\": tf.keras.losses.MeanSquaredError(),\n",
        "        \"ag_rg\": tf.keras.losses.MeanSquaredError()\n",
        "    },\n",
        "\n",
        "    metrics = {\n",
        "        \"wt_rg\": 'mse',\n",
        "        \"ht_rg\": 'mse',\n",
        "        \"ag_rg\": 'mse'\n",
        "    },\n",
        "\n",
        "    optimizer = tf.keras.optimizers.Adam(learning_rate=0.001)\n",
        ")"
      ],
      "metadata": {
        "id": "h_LArmJdv0rX"
      },
      "execution_count": 20,
      "outputs": []
    },
    {
      "cell_type": "code",
      "source": [
        "encoder.fit(X0, [y0, y1, y2], epochs=30, verbose=2, batch_size=32, validation_split=0.2)"
      ],
      "metadata": {
        "colab": {
          "base_uri": "https://localhost:8080/"
        },
        "id": "avMTkBsrljNt",
        "outputId": "26fbb0fc-a351-4516-f52f-0a38f1e937b4"
      },
      "execution_count": 21,
      "outputs": [
        {
          "output_type": "stream",
          "name": "stdout",
          "text": [
            "Epoch 1/30\n",
            "52/52 - 26s - loss: 16773.3105 - wt_rg_loss: 16378.5742 - ht_rg_loss: 360.6999 - ag_rg_loss: 34.0398 - wt_rg_mse: 16378.5742 - ht_rg_mse: 360.6999 - ag_rg_mse: 34.0398 - val_loss: 4910.7495 - val_wt_rg_loss: 4882.6313 - val_ht_rg_loss: 26.5469 - val_ag_rg_loss: 1.5714 - val_wt_rg_mse: 4882.6313 - val_ht_rg_mse: 26.5469 - val_ag_rg_mse: 1.5714 - 26s/epoch - 499ms/step\n",
            "Epoch 2/30\n",
            "52/52 - 8s - loss: 5946.4424 - wt_rg_loss: 5924.3955 - ht_rg_loss: 21.3186 - ag_rg_loss: 0.7283 - wt_rg_mse: 5924.3955 - ht_rg_mse: 21.3186 - ag_rg_mse: 0.7283 - val_loss: 4736.8184 - val_wt_rg_loss: 4720.1143 - val_ht_rg_loss: 16.4515 - val_ag_rg_loss: 0.2520 - val_wt_rg_mse: 4720.1143 - val_ht_rg_mse: 16.4515 - val_ag_rg_mse: 0.2520 - 8s/epoch - 147ms/step\n",
            "Epoch 3/30\n",
            "52/52 - 8s - loss: 6005.6650 - wt_rg_loss: 5987.0347 - ht_rg_loss: 18.4600 - ag_rg_loss: 0.1704 - wt_rg_mse: 5987.0347 - ht_rg_mse: 18.4600 - ag_rg_mse: 0.1704 - val_loss: 4785.2236 - val_wt_rg_loss: 4768.4263 - val_ht_rg_loss: 16.4803 - val_ag_rg_loss: 0.3174 - val_wt_rg_mse: 4768.4263 - val_ht_rg_mse: 16.4803 - val_ag_rg_mse: 0.3174 - 8s/epoch - 148ms/step\n",
            "Epoch 4/30\n",
            "52/52 - 8s - loss: 6384.3433 - wt_rg_loss: 6361.9624 - ht_rg_loss: 22.0297 - ag_rg_loss: 0.3503 - wt_rg_mse: 6361.9624 - ht_rg_mse: 22.0297 - ag_rg_mse: 0.3503 - val_loss: 4827.2891 - val_wt_rg_loss: 4775.9731 - val_ht_rg_loss: 48.5639 - val_ag_rg_loss: 2.7527 - val_wt_rg_mse: 4775.9731 - val_ht_rg_mse: 48.5639 - val_ag_rg_mse: 2.7527 - 8s/epoch - 147ms/step\n",
            "Epoch 5/30\n",
            "52/52 - 8s - loss: 6674.9282 - wt_rg_loss: 6619.3486 - ht_rg_loss: 53.0689 - ag_rg_loss: 2.5090 - wt_rg_mse: 6619.3486 - ht_rg_mse: 53.0689 - ag_rg_mse: 2.5090 - val_loss: 5160.7261 - val_wt_rg_loss: 5064.5054 - val_ht_rg_loss: 92.1711 - val_ag_rg_loss: 4.0499 - val_wt_rg_mse: 5064.5054 - val_ht_rg_mse: 92.1711 - val_ag_rg_mse: 4.0499 - 8s/epoch - 146ms/step\n",
            "Epoch 6/30\n",
            "52/52 - 8s - loss: 6179.3579 - wt_rg_loss: 6135.8110 - ht_rg_loss: 41.8843 - ag_rg_loss: 1.6609 - wt_rg_mse: 6135.8110 - ht_rg_mse: 41.8843 - ag_rg_mse: 1.6609 - val_loss: 6102.6196 - val_wt_rg_loss: 6051.0684 - val_ht_rg_loss: 49.8086 - val_ag_rg_loss: 1.7438 - val_wt_rg_mse: 6051.0684 - val_ht_rg_mse: 49.8086 - val_ag_rg_mse: 1.7438 - 8s/epoch - 146ms/step\n",
            "Epoch 7/30\n",
            "52/52 - 8s - loss: 6051.6636 - wt_rg_loss: 6016.9951 - ht_rg_loss: 33.0263 - ag_rg_loss: 1.6420 - wt_rg_mse: 6016.9951 - ht_rg_mse: 33.0263 - ag_rg_mse: 1.6420 - val_loss: 4941.7676 - val_wt_rg_loss: 4926.7827 - val_ht_rg_loss: 14.8699 - val_ag_rg_loss: 0.1149 - val_wt_rg_mse: 4926.7827 - val_ht_rg_mse: 14.8699 - val_ag_rg_mse: 0.1149 - 8s/epoch - 146ms/step\n",
            "Epoch 8/30\n",
            "52/52 - 8s - loss: 6000.1528 - wt_rg_loss: 5974.6616 - ht_rg_loss: 24.7223 - ag_rg_loss: 0.7700 - wt_rg_mse: 5974.6616 - ht_rg_mse: 24.7223 - ag_rg_mse: 0.7700 - val_loss: 4944.3232 - val_wt_rg_loss: 4923.2393 - val_ht_rg_loss: 20.9170 - val_ag_rg_loss: 0.1672 - val_wt_rg_mse: 4923.2393 - val_ht_rg_mse: 20.9170 - val_ag_rg_mse: 0.1672 - 8s/epoch - 146ms/step\n",
            "Epoch 9/30\n",
            "52/52 - 8s - loss: 5930.8706 - wt_rg_loss: 5906.4453 - ht_rg_loss: 23.8292 - ag_rg_loss: 0.5950 - wt_rg_mse: 5906.4453 - ht_rg_mse: 23.8292 - ag_rg_mse: 0.5950 - val_loss: 4870.9585 - val_wt_rg_loss: 4847.7007 - val_ht_rg_loss: 22.9215 - val_ag_rg_loss: 0.3365 - val_wt_rg_mse: 4847.7007 - val_ht_rg_mse: 22.9215 - val_ag_rg_mse: 0.3365 - 8s/epoch - 146ms/step\n",
            "Epoch 10/30\n",
            "52/52 - 8s - loss: 6000.0420 - wt_rg_loss: 5977.2891 - ht_rg_loss: 22.2734 - ag_rg_loss: 0.4794 - wt_rg_mse: 5977.2891 - ht_rg_mse: 22.2734 - ag_rg_mse: 0.4794 - val_loss: 5050.1772 - val_wt_rg_loss: 5032.2026 - val_ht_rg_loss: 17.7045 - val_ag_rg_loss: 0.2701 - val_wt_rg_mse: 5032.2026 - val_ht_rg_mse: 17.7045 - val_ag_rg_mse: 0.2701 - 8s/epoch - 146ms/step\n",
            "Epoch 11/30\n",
            "52/52 - 8s - loss: 5715.2627 - wt_rg_loss: 5696.7412 - ht_rg_loss: 18.0397 - ag_rg_loss: 0.4816 - wt_rg_mse: 5696.7412 - ht_rg_mse: 18.0397 - ag_rg_mse: 0.4816 - val_loss: 5025.2075 - val_wt_rg_loss: 5007.6636 - val_ht_rg_loss: 15.3485 - val_ag_rg_loss: 2.1950 - val_wt_rg_mse: 5007.6636 - val_ht_rg_mse: 15.3485 - val_ag_rg_mse: 2.1950 - 8s/epoch - 146ms/step\n",
            "Epoch 12/30\n",
            "52/52 - 8s - loss: 5641.1860 - wt_rg_loss: 5625.2085 - ht_rg_loss: 15.4017 - ag_rg_loss: 0.5742 - wt_rg_mse: 5625.2085 - ht_rg_mse: 15.4017 - ag_rg_mse: 0.5742 - val_loss: 4821.9199 - val_wt_rg_loss: 4807.2300 - val_ht_rg_loss: 14.6178 - val_ag_rg_loss: 0.0725 - val_wt_rg_mse: 4807.2300 - val_ht_rg_mse: 14.6178 - val_ag_rg_mse: 0.0725 - 8s/epoch - 154ms/step\n",
            "Epoch 13/30\n",
            "52/52 - 8s - loss: 6146.2822 - wt_rg_loss: 6113.0679 - ht_rg_loss: 31.8803 - ag_rg_loss: 1.3348 - wt_rg_mse: 6113.0679 - ht_rg_mse: 31.8803 - ag_rg_mse: 1.3348 - val_loss: 4908.1396 - val_wt_rg_loss: 4893.3896 - val_ht_rg_loss: 14.6788 - val_ag_rg_loss: 0.0706 - val_wt_rg_mse: 4893.3896 - val_ht_rg_mse: 14.6788 - val_ag_rg_mse: 0.0706 - 8s/epoch - 146ms/step\n",
            "Epoch 14/30\n",
            "52/52 - 8s - loss: 5751.2178 - wt_rg_loss: 5731.9722 - ht_rg_loss: 18.8009 - ag_rg_loss: 0.4464 - wt_rg_mse: 5731.9722 - ht_rg_mse: 18.8009 - ag_rg_mse: 0.4464 - val_loss: 6952.6504 - val_wt_rg_loss: 6932.1929 - val_ht_rg_loss: 20.3889 - val_ag_rg_loss: 0.0689 - val_wt_rg_mse: 6932.1929 - val_ht_rg_mse: 20.3889 - val_ag_rg_mse: 0.0689 - 8s/epoch - 146ms/step\n",
            "Epoch 15/30\n",
            "52/52 - 8s - loss: 5840.1274 - wt_rg_loss: 5817.1401 - ht_rg_loss: 22.1903 - ag_rg_loss: 0.7997 - wt_rg_mse: 5817.1401 - ht_rg_mse: 22.1903 - ag_rg_mse: 0.7997 - val_loss: 4892.8496 - val_wt_rg_loss: 4869.8447 - val_ht_rg_loss: 22.4711 - val_ag_rg_loss: 0.5334 - val_wt_rg_mse: 4869.8447 - val_ht_rg_mse: 22.4711 - val_ag_rg_mse: 0.5334 - 8s/epoch - 146ms/step\n",
            "Epoch 16/30\n",
            "52/52 - 8s - loss: 5952.2354 - wt_rg_loss: 5923.2095 - ht_rg_loss: 27.7570 - ag_rg_loss: 1.2683 - wt_rg_mse: 5923.2095 - ht_rg_mse: 27.7570 - ag_rg_mse: 1.2683 - val_loss: 5525.9683 - val_wt_rg_loss: 5506.6069 - val_ht_rg_loss: 19.2891 - val_ag_rg_loss: 0.0721 - val_wt_rg_mse: 5506.6069 - val_ht_rg_mse: 19.2891 - val_ag_rg_mse: 0.0721 - 8s/epoch - 146ms/step\n",
            "Epoch 17/30\n",
            "52/52 - 8s - loss: 6216.4663 - wt_rg_loss: 6163.6040 - ht_rg_loss: 49.4822 - ag_rg_loss: 3.3813 - wt_rg_mse: 6163.6040 - ht_rg_mse: 49.4822 - ag_rg_mse: 3.3813 - val_loss: 6343.0078 - val_wt_rg_loss: 6286.9453 - val_ht_rg_loss: 52.6378 - val_ag_rg_loss: 3.4253 - val_wt_rg_mse: 6286.9453 - val_ht_rg_mse: 52.6378 - val_ag_rg_mse: 3.4253 - 8s/epoch - 146ms/step\n",
            "Epoch 18/30\n",
            "52/52 - 8s - loss: 5859.1133 - wt_rg_loss: 5837.0073 - ht_rg_loss: 21.4887 - ag_rg_loss: 0.6164 - wt_rg_mse: 5837.0073 - ht_rg_mse: 21.4887 - ag_rg_mse: 0.6164 - val_loss: 4914.3794 - val_wt_rg_loss: 4898.7593 - val_ht_rg_loss: 15.3560 - val_ag_rg_loss: 0.2638 - val_wt_rg_mse: 4898.7593 - val_ht_rg_mse: 15.3560 - val_ag_rg_mse: 0.2638 - 8s/epoch - 146ms/step\n",
            "Epoch 19/30\n",
            "52/52 - 8s - loss: 5738.7046 - wt_rg_loss: 5710.0024 - ht_rg_loss: 27.5382 - ag_rg_loss: 1.1635 - wt_rg_mse: 5710.0024 - ht_rg_mse: 27.5382 - ag_rg_mse: 1.1635 - val_loss: 5000.5366 - val_wt_rg_loss: 4982.9976 - val_ht_rg_loss: 17.4330 - val_ag_rg_loss: 0.1061 - val_wt_rg_mse: 4982.9976 - val_ht_rg_mse: 17.4330 - val_ag_rg_mse: 0.1061 - 8s/epoch - 147ms/step\n",
            "Epoch 20/30\n",
            "52/52 - 8s - loss: 6067.8057 - wt_rg_loss: 6010.3325 - ht_rg_loss: 54.6262 - ag_rg_loss: 2.8465 - wt_rg_mse: 6010.3325 - ht_rg_mse: 54.6262 - ag_rg_mse: 2.8465 - val_loss: 4852.2681 - val_wt_rg_loss: 4800.8047 - val_ht_rg_loss: 45.0746 - val_ag_rg_loss: 6.3893 - val_wt_rg_mse: 4800.8047 - val_ht_rg_mse: 45.0746 - val_ag_rg_mse: 6.3893 - 8s/epoch - 148ms/step\n",
            "Epoch 21/30\n",
            "52/52 - 8s - loss: 5690.1675 - wt_rg_loss: 5658.5703 - ht_rg_loss: 30.0773 - ag_rg_loss: 1.5202 - wt_rg_mse: 5658.5703 - ht_rg_mse: 30.0773 - ag_rg_mse: 1.5202 - val_loss: 6359.8374 - val_wt_rg_loss: 6295.6484 - val_ht_rg_loss: 62.5954 - val_ag_rg_loss: 1.5930 - val_wt_rg_mse: 6295.6484 - val_ht_rg_mse: 62.5954 - val_ag_rg_mse: 1.5930 - 8s/epoch - 147ms/step\n",
            "Epoch 22/30\n",
            "52/52 - 8s - loss: 5884.1650 - wt_rg_loss: 5845.1948 - ht_rg_loss: 37.4693 - ag_rg_loss: 1.4998 - wt_rg_mse: 5845.1948 - ht_rg_mse: 37.4693 - ag_rg_mse: 1.4998 - val_loss: 6535.4497 - val_wt_rg_loss: 6509.6362 - val_ht_rg_loss: 25.4605 - val_ag_rg_loss: 0.3532 - val_wt_rg_mse: 6509.6362 - val_ht_rg_mse: 25.4605 - val_ag_rg_mse: 0.3532 - 8s/epoch - 147ms/step\n",
            "Epoch 23/30\n",
            "52/52 - 8s - loss: 6041.6807 - wt_rg_loss: 6010.7168 - ht_rg_loss: 30.3713 - ag_rg_loss: 0.5925 - wt_rg_mse: 6010.7168 - ht_rg_mse: 30.3713 - ag_rg_mse: 0.5925 - val_loss: 5834.1958 - val_wt_rg_loss: 5769.7974 - val_ht_rg_loss: 62.4524 - val_ag_rg_loss: 1.9463 - val_wt_rg_mse: 5769.7969 - val_ht_rg_mse: 62.4524 - val_ag_rg_mse: 1.9463 - 8s/epoch - 147ms/step\n",
            "Epoch 24/30\n",
            "52/52 - 8s - loss: 5801.5708 - wt_rg_loss: 5773.5649 - ht_rg_loss: 27.4619 - ag_rg_loss: 0.5426 - wt_rg_mse: 5773.5649 - ht_rg_mse: 27.4619 - ag_rg_mse: 0.5426 - val_loss: 4854.5884 - val_wt_rg_loss: 4825.4326 - val_ht_rg_loss: 28.5810 - val_ag_rg_loss: 0.5743 - val_wt_rg_mse: 4825.4326 - val_ht_rg_mse: 28.5810 - val_ag_rg_mse: 0.5743 - 8s/epoch - 148ms/step\n",
            "Epoch 25/30\n",
            "52/52 - 8s - loss: 5601.4746 - wt_rg_loss: 5577.0542 - ht_rg_loss: 23.8704 - ag_rg_loss: 0.5501 - wt_rg_mse: 5577.0542 - ht_rg_mse: 23.8704 - ag_rg_mse: 0.5501 - val_loss: 4905.9219 - val_wt_rg_loss: 4889.1011 - val_ht_rg_loss: 16.7474 - val_ag_rg_loss: 0.0737 - val_wt_rg_mse: 4889.1011 - val_ht_rg_mse: 16.7474 - val_ag_rg_mse: 0.0737 - 8s/epoch - 146ms/step\n",
            "Epoch 26/30\n",
            "52/52 - 8s - loss: 5707.1572 - wt_rg_loss: 5681.9673 - ht_rg_loss: 24.7476 - ag_rg_loss: 0.4423 - wt_rg_mse: 5681.9673 - ht_rg_mse: 24.7476 - ag_rg_mse: 0.4423 - val_loss: 5509.6885 - val_wt_rg_loss: 5471.6216 - val_ht_rg_loss: 37.5904 - val_ag_rg_loss: 0.4764 - val_wt_rg_mse: 5471.6216 - val_ht_rg_mse: 37.5904 - val_ag_rg_mse: 0.4764 - 8s/epoch - 148ms/step\n",
            "Epoch 27/30\n",
            "52/52 - 8s - loss: 5906.6021 - wt_rg_loss: 5869.6348 - ht_rg_loss: 36.1535 - ag_rg_loss: 0.8132 - wt_rg_mse: 5869.6348 - ht_rg_mse: 36.1535 - ag_rg_mse: 0.8132 - val_loss: 5267.9150 - val_wt_rg_loss: 5236.6973 - val_ht_rg_loss: 30.6458 - val_ag_rg_loss: 0.5719 - val_wt_rg_mse: 5236.6973 - val_ht_rg_mse: 30.6458 - val_ag_rg_mse: 0.5719 - 8s/epoch - 147ms/step\n",
            "Epoch 28/30\n",
            "52/52 - 8s - loss: 5687.7124 - wt_rg_loss: 5662.5898 - ht_rg_loss: 24.3971 - ag_rg_loss: 0.7263 - wt_rg_mse: 5662.5898 - ht_rg_mse: 24.3971 - ag_rg_mse: 0.7263 - val_loss: 5790.5249 - val_wt_rg_loss: 5740.5615 - val_ht_rg_loss: 48.7522 - val_ag_rg_loss: 1.2111 - val_wt_rg_mse: 5740.5615 - val_ht_rg_mse: 48.7522 - val_ag_rg_mse: 1.2111 - 8s/epoch - 147ms/step\n",
            "Epoch 29/30\n",
            "52/52 - 8s - loss: 5687.4629 - wt_rg_loss: 5666.5376 - ht_rg_loss: 20.6736 - ag_rg_loss: 0.2519 - wt_rg_mse: 5666.5376 - ht_rg_mse: 20.6736 - ag_rg_mse: 0.2519 - val_loss: 5296.4648 - val_wt_rg_loss: 5254.1738 - val_ht_rg_loss: 41.7076 - val_ag_rg_loss: 0.5836 - val_wt_rg_mse: 5254.1738 - val_ht_rg_mse: 41.7076 - val_ag_rg_mse: 0.5836 - 8s/epoch - 147ms/step\n",
            "Epoch 30/30\n",
            "52/52 - 8s - loss: 5603.3594 - wt_rg_loss: 5578.8179 - ht_rg_loss: 24.1092 - ag_rg_loss: 0.4335 - wt_rg_mse: 5578.8179 - ht_rg_mse: 24.1092 - ag_rg_mse: 0.4335 - val_loss: 5953.7695 - val_wt_rg_loss: 5885.3447 - val_ht_rg_loss: 67.6334 - val_ag_rg_loss: 0.7910 - val_wt_rg_mse: 5885.3447 - val_ht_rg_mse: 67.6334 - val_ag_rg_mse: 0.7910 - 8s/epoch - 147ms/step\n"
          ]
        },
        {
          "output_type": "execute_result",
          "data": {
            "text/plain": [
              "<keras.callbacks.History at 0x7f16c78c1390>"
            ]
          },
          "metadata": {},
          "execution_count": 21
        }
      ]
    },
    {
      "cell_type": "code",
      "source": [
        "encoder.output"
      ],
      "metadata": {
        "colab": {
          "base_uri": "https://localhost:8080/"
        },
        "id": "OS_zKeP11Buh",
        "outputId": "b46712b7-162c-4908-eab8-2c76e1ee6dc9"
      },
      "execution_count": 22,
      "outputs": [
        {
          "output_type": "execute_result",
          "data": {
            "text/plain": [
              "[<KerasTensor: shape=(None, 1) dtype=float32 (created by layer 'wt_rg')>,\n",
              " <KerasTensor: shape=(None, 1) dtype=float32 (created by layer 'ht_rg')>,\n",
              " <KerasTensor: shape=(None, 1) dtype=float32 (created by layer 'ag_rg')>]"
            ]
          },
          "metadata": {},
          "execution_count": 22
        }
      ]
    },
    {
      "cell_type": "code",
      "source": [
        "pred0, pred1, pred2 = encoder.predict(tf.expand_dims(X0[0], 0))"
      ],
      "metadata": {
        "id": "pknNE0XJ1TtU"
      },
      "execution_count": 23,
      "outputs": []
    },
    {
      "cell_type": "code",
      "source": [
        "pred0"
      ],
      "metadata": {
        "colab": {
          "base_uri": "https://localhost:8080/"
        },
        "id": "iUbdFp4I1gR2",
        "outputId": "d09430b5-094e-4218-f563-25b5bb28de8c"
      },
      "execution_count": 24,
      "outputs": [
        {
          "output_type": "execute_result",
          "data": {
            "text/plain": [
              "array([[233.56485]], dtype=float32)"
            ]
          },
          "metadata": {},
          "execution_count": 24
        }
      ]
    },
    {
      "cell_type": "code",
      "source": [
        "pred1"
      ],
      "metadata": {
        "colab": {
          "base_uri": "https://localhost:8080/"
        },
        "id": "NBWS4n921izy",
        "outputId": "f2e9adba-7b4f-4620-cec2-b63386ff4c3c"
      },
      "execution_count": 25,
      "outputs": [
        {
          "output_type": "execute_result",
          "data": {
            "text/plain": [
              "array([[40.8188]], dtype=float32)"
            ]
          },
          "metadata": {},
          "execution_count": 25
        }
      ]
    },
    {
      "cell_type": "code",
      "source": [
        "pred2"
      ],
      "metadata": {
        "colab": {
          "base_uri": "https://localhost:8080/"
        },
        "id": "JgKtF9Dc1lRW",
        "outputId": "f88062c8-60a6-45f7-ad6b-4f4896facfdb"
      },
      "execution_count": 26,
      "outputs": [
        {
          "output_type": "execute_result",
          "data": {
            "text/plain": [
              "array([[1.4039389]], dtype=float32)"
            ]
          },
          "metadata": {},
          "execution_count": 26
        }
      ]
    },
    {
      "cell_type": "code",
      "source": [
        "y0[0]"
      ],
      "metadata": {
        "colab": {
          "base_uri": "https://localhost:8080/"
        },
        "id": "5wCRToDy1nRH",
        "outputId": "c71ebb5a-eec5-4ecf-a767-f2bf15277b2d"
      },
      "execution_count": 27,
      "outputs": [
        {
          "output_type": "execute_result",
          "data": {
            "text/plain": [
              "<tf.Tensor: shape=(), dtype=float32, numpy=270.0>"
            ]
          },
          "metadata": {},
          "execution_count": 27
        }
      ]
    },
    {
      "cell_type": "code",
      "source": [
        "y1[0]"
      ],
      "metadata": {
        "colab": {
          "base_uri": "https://localhost:8080/"
        },
        "id": "0hmanirI125v",
        "outputId": "1ce60ea2-5f13-482e-a4d9-03eb8aae0de1"
      },
      "execution_count": 28,
      "outputs": [
        {
          "output_type": "execute_result",
          "data": {
            "text/plain": [
              "<tf.Tensor: shape=(), dtype=float32, numpy=50.9>"
            ]
          },
          "metadata": {},
          "execution_count": 28
        }
      ]
    },
    {
      "cell_type": "code",
      "source": [
        "y2[0]"
      ],
      "metadata": {
        "colab": {
          "base_uri": "https://localhost:8080/"
        },
        "id": "NsjDLSIB16cr",
        "outputId": "3d5f72ea-303e-4b3e-9e41-12e130019756"
      },
      "execution_count": 29,
      "outputs": [
        {
          "output_type": "execute_result",
          "data": {
            "text/plain": [
              "<tf.Tensor: shape=(), dtype=float32, numpy=2.0>"
            ]
          },
          "metadata": {},
          "execution_count": 29
        }
      ]
    },
    {
      "cell_type": "code",
      "source": [
        ""
      ],
      "metadata": {
        "id": "n3o5DuYa1951"
      },
      "execution_count": 29,
      "outputs": []
    }
  ]
}