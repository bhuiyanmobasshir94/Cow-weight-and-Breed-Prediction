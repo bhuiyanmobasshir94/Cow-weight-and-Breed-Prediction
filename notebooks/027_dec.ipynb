{
  "nbformat": 4,
  "nbformat_minor": 0,
  "metadata": {
    "colab": {
      "name": "027-dec.ipynb",
      "provenance": [],
      "authorship_tag": "ABX9TyNDD+k6AfV5dFrRJi5MPw8S",
      "include_colab_link": true
    },
    "kernelspec": {
      "name": "python3",
      "display_name": "Python 3"
    },
    "language_info": {
      "name": "python"
    },
    "accelerator": "GPU"
  },
  "cells": [
    {
      "cell_type": "markdown",
      "metadata": {
        "id": "view-in-github",
        "colab_type": "text"
      },
      "source": [
        "<a href=\"https://colab.research.google.com/github/bhuiyanmobasshir94/Cow-weight-and-Breed-Prediction/blob/main/notebooks/027_dec.ipynb\" target=\"_parent\"><img src=\"https://colab.research.google.com/assets/colab-badge.svg\" alt=\"Open In Colab\"/></a>"
      ]
    },
    {
      "cell_type": "code",
      "execution_count": 1,
      "metadata": {
        "id": "B3W_pFmsfyih"
      },
      "outputs": [],
      "source": [
        "import numpy as np\n",
        "import pandas as pd\n",
        "import sys\n",
        "import os\n",
        "import PIL\n",
        "import PIL.Image\n",
        "import tensorflow as tf\n",
        "import tensorflow.keras as keras\n",
        "from tensorflow.keras import layers\n",
        "import tensorflow_datasets as tfds\n",
        "import pathlib\n",
        "from sklearn.model_selection import train_test_split"
      ]
    },
    {
      "cell_type": "code",
      "source": [
        "images_dataset_url = \"https://cv-datasets-2021.s3.amazonaws.com/images.tar.gz\"\n",
        "images_data_dir = tf.keras.utils.get_file(origin=images_dataset_url,\n",
        "                                   fname='images',\n",
        "                                   untar=True)\n",
        "images_data_dir = pathlib.Path(images_data_dir)"
      ],
      "metadata": {
        "colab": {
          "base_uri": "https://localhost:8080/"
        },
        "id": "-HJIoeP8gQX8",
        "outputId": "a97818e7-c463-496a-9bce-b2ccbd491fcf"
      },
      "execution_count": 2,
      "outputs": [
        {
          "output_type": "stream",
          "name": "stdout",
          "text": [
            "Downloading data from https://cv-datasets-2021.s3.amazonaws.com/images.tar.gz\n",
            "833052672/833046463 [==============================] - 53s 0us/step\n",
            "833060864/833046463 [==============================] - 53s 0us/step\n"
          ]
        }
      ]
    },
    {
      "cell_type": "code",
      "source": [
        "yt_images_dataset_url = \"https://cv-datasets-2021.s3.amazonaws.com/yt_images.tar.gz\"\n",
        "yt_images_data_dir = tf.keras.utils.get_file(origin=yt_images_dataset_url,\n",
        "                                   fname='yt_images',\n",
        "                                   untar=True)\n",
        "yt_images_data_dir = pathlib.Path(yt_images_data_dir)"
      ],
      "metadata": {
        "colab": {
          "base_uri": "https://localhost:8080/"
        },
        "id": "wR0GlGtWgp9C",
        "outputId": "22cb78cf-a59a-43b9-fe9a-e771a3df08b8"
      },
      "execution_count": 3,
      "outputs": [
        {
          "output_type": "stream",
          "name": "stdout",
          "text": [
            "Downloading data from https://cv-datasets-2021.s3.amazonaws.com/yt_images.tar.gz\n",
            "4026998784/4026992587 [==============================] - 248s 0us/step\n",
            "4027006976/4026992587 [==============================] - 248s 0us/step\n"
          ]
        }
      ]
    },
    {
      "cell_type": "code",
      "source": [
        "if sys.platform == 'darwin':\n",
        "  os.system(f\"dot_clean {images_data_dir}\")\n",
        "  os.system(f\"dot_clean {yt_images_data_dir}\")\n",
        "elif sys.platform.startswith(\"lin\"):\n",
        "  os.system(f\"cd {images_data_dir} && find . -type f -name '._*' -delete\")\n",
        "  os.system(f\"cd {yt_images_data_dir} && find . -type f -name '._*' -delete\")\n"
      ],
      "metadata": {
        "id": "TO0FsOzFgkLP"
      },
      "execution_count": 4,
      "outputs": []
    },
    {
      "cell_type": "code",
      "source": [
        "image_count = len(list(images_data_dir.glob('*/*.jpg')))\n",
        "print(image_count)"
      ],
      "metadata": {
        "colab": {
          "base_uri": "https://localhost:8080/"
        },
        "id": "Ef98wX12jI95",
        "outputId": "2c7e90be-9230-454e-bee2-bcc98af92677"
      },
      "execution_count": 5,
      "outputs": [
        {
          "output_type": "stream",
          "name": "stdout",
          "text": [
            "2056\n"
          ]
        }
      ]
    },
    {
      "cell_type": "code",
      "source": [
        "yt_image_count = len(list(yt_images_data_dir.glob('*/*.jpg')))\n",
        "print(yt_image_count)"
      ],
      "metadata": {
        "colab": {
          "base_uri": "https://localhost:8080/"
        },
        "id": "O0m9qMV9jRNJ",
        "outputId": "e3f2050f-79c2-4001-b81f-e0b56f5da0d2"
      },
      "execution_count": 6,
      "outputs": [
        {
          "output_type": "stream",
          "name": "stdout",
          "text": [
            "15843\n"
          ]
        }
      ]
    },
    {
      "cell_type": "code",
      "source": [
        "df = pd.read_csv(\"https://cv-datasets-2021.s3.amazonaws.com/dataset.csv\")\n",
        "df.shape"
      ],
      "metadata": {
        "colab": {
          "base_uri": "https://localhost:8080/"
        },
        "id": "H4DBG2Lkogb0",
        "outputId": "689a1b12-69d6-4830-cf0a-e51dc1b199ca"
      },
      "execution_count": 7,
      "outputs": [
        {
          "output_type": "execute_result",
          "data": {
            "text/plain": [
              "(513, 14)"
            ]
          },
          "metadata": {},
          "execution_count": 7
        }
      ]
    },
    {
      "cell_type": "code",
      "source": [
        "df.head(2)"
      ],
      "metadata": {
        "colab": {
          "base_uri": "https://localhost:8080/",
          "height": 112
        },
        "id": "dRPCUNW7CtOO",
        "outputId": "13efd6b5-a1fe-42d6-e7fe-8dffbc92688b"
      },
      "execution_count": 8,
      "outputs": [
        {
          "output_type": "execute_result",
          "data": {
            "text/html": [
              "\n",
              "  <div id=\"df-969abc9d-e529-40d3-81cd-f45f3724e79e\">\n",
              "    <div class=\"colab-df-container\">\n",
              "      <div>\n",
              "<style scoped>\n",
              "    .dataframe tbody tr th:only-of-type {\n",
              "        vertical-align: middle;\n",
              "    }\n",
              "\n",
              "    .dataframe tbody tr th {\n",
              "        vertical-align: top;\n",
              "    }\n",
              "\n",
              "    .dataframe thead th {\n",
              "        text-align: right;\n",
              "    }\n",
              "</style>\n",
              "<table border=\"1\" class=\"dataframe\">\n",
              "  <thead>\n",
              "    <tr style=\"text-align: right;\">\n",
              "      <th></th>\n",
              "      <th>sku</th>\n",
              "      <th>sex</th>\n",
              "      <th>color</th>\n",
              "      <th>breed</th>\n",
              "      <th>feed</th>\n",
              "      <th>age_in_year</th>\n",
              "      <th>teeth</th>\n",
              "      <th>height_in_inch</th>\n",
              "      <th>weight_in_kg</th>\n",
              "      <th>price</th>\n",
              "      <th>size</th>\n",
              "      <th>images_count</th>\n",
              "      <th>yt_images_count</th>\n",
              "      <th>total_images</th>\n",
              "    </tr>\n",
              "  </thead>\n",
              "  <tbody>\n",
              "    <tr>\n",
              "      <th>0</th>\n",
              "      <td>BLF 2340</td>\n",
              "      <td>MALE_BULL</td>\n",
              "      <td>RED</td>\n",
              "      <td>LOCAL</td>\n",
              "      <td>['JUMBOO', 'LUCERNE', 'NAPIER', 'SILAGE', 'STR...</td>\n",
              "      <td>2.0</td>\n",
              "      <td>2</td>\n",
              "      <td>50.9</td>\n",
              "      <td>270.0</td>\n",
              "      <td>19000.0</td>\n",
              "      <td>MEDIUM</td>\n",
              "      <td>4</td>\n",
              "      <td>0</td>\n",
              "      <td>4</td>\n",
              "    </tr>\n",
              "    <tr>\n",
              "      <th>1</th>\n",
              "      <td>BLF 2342</td>\n",
              "      <td>MALE_BULL</td>\n",
              "      <td>NON_RED</td>\n",
              "      <td>LOCAL</td>\n",
              "      <td>['JUMBOO', 'LUCERNE', 'NAPIER', 'SILAGE', 'STR...</td>\n",
              "      <td>2.0</td>\n",
              "      <td>2</td>\n",
              "      <td>52.0</td>\n",
              "      <td>256.0</td>\n",
              "      <td>18000.0</td>\n",
              "      <td>LARGE</td>\n",
              "      <td>4</td>\n",
              "      <td>31</td>\n",
              "      <td>35</td>\n",
              "    </tr>\n",
              "  </tbody>\n",
              "</table>\n",
              "</div>\n",
              "      <button class=\"colab-df-convert\" onclick=\"convertToInteractive('df-969abc9d-e529-40d3-81cd-f45f3724e79e')\"\n",
              "              title=\"Convert this dataframe to an interactive table.\"\n",
              "              style=\"display:none;\">\n",
              "        \n",
              "  <svg xmlns=\"http://www.w3.org/2000/svg\" height=\"24px\"viewBox=\"0 0 24 24\"\n",
              "       width=\"24px\">\n",
              "    <path d=\"M0 0h24v24H0V0z\" fill=\"none\"/>\n",
              "    <path d=\"M18.56 5.44l.94 2.06.94-2.06 2.06-.94-2.06-.94-.94-2.06-.94 2.06-2.06.94zm-11 1L8.5 8.5l.94-2.06 2.06-.94-2.06-.94L8.5 2.5l-.94 2.06-2.06.94zm10 10l.94 2.06.94-2.06 2.06-.94-2.06-.94-.94-2.06-.94 2.06-2.06.94z\"/><path d=\"M17.41 7.96l-1.37-1.37c-.4-.4-.92-.59-1.43-.59-.52 0-1.04.2-1.43.59L10.3 9.45l-7.72 7.72c-.78.78-.78 2.05 0 2.83L4 21.41c.39.39.9.59 1.41.59.51 0 1.02-.2 1.41-.59l7.78-7.78 2.81-2.81c.8-.78.8-2.07 0-2.86zM5.41 20L4 18.59l7.72-7.72 1.47 1.35L5.41 20z\"/>\n",
              "  </svg>\n",
              "      </button>\n",
              "      \n",
              "  <style>\n",
              "    .colab-df-container {\n",
              "      display:flex;\n",
              "      flex-wrap:wrap;\n",
              "      gap: 12px;\n",
              "    }\n",
              "\n",
              "    .colab-df-convert {\n",
              "      background-color: #E8F0FE;\n",
              "      border: none;\n",
              "      border-radius: 50%;\n",
              "      cursor: pointer;\n",
              "      display: none;\n",
              "      fill: #1967D2;\n",
              "      height: 32px;\n",
              "      padding: 0 0 0 0;\n",
              "      width: 32px;\n",
              "    }\n",
              "\n",
              "    .colab-df-convert:hover {\n",
              "      background-color: #E2EBFA;\n",
              "      box-shadow: 0px 1px 2px rgba(60, 64, 67, 0.3), 0px 1px 3px 1px rgba(60, 64, 67, 0.15);\n",
              "      fill: #174EA6;\n",
              "    }\n",
              "\n",
              "    [theme=dark] .colab-df-convert {\n",
              "      background-color: #3B4455;\n",
              "      fill: #D2E3FC;\n",
              "    }\n",
              "\n",
              "    [theme=dark] .colab-df-convert:hover {\n",
              "      background-color: #434B5C;\n",
              "      box-shadow: 0px 1px 3px 1px rgba(0, 0, 0, 0.15);\n",
              "      filter: drop-shadow(0px 1px 2px rgba(0, 0, 0, 0.3));\n",
              "      fill: #FFFFFF;\n",
              "    }\n",
              "  </style>\n",
              "\n",
              "      <script>\n",
              "        const buttonEl =\n",
              "          document.querySelector('#df-969abc9d-e529-40d3-81cd-f45f3724e79e button.colab-df-convert');\n",
              "        buttonEl.style.display =\n",
              "          google.colab.kernel.accessAllowed ? 'block' : 'none';\n",
              "\n",
              "        async function convertToInteractive(key) {\n",
              "          const element = document.querySelector('#df-969abc9d-e529-40d3-81cd-f45f3724e79e');\n",
              "          const dataTable =\n",
              "            await google.colab.kernel.invokeFunction('convertToInteractive',\n",
              "                                                     [key], {});\n",
              "          if (!dataTable) return;\n",
              "\n",
              "          const docLinkHtml = 'Like what you see? Visit the ' +\n",
              "            '<a target=\"_blank\" href=https://colab.research.google.com/notebooks/data_table.ipynb>data table notebook</a>'\n",
              "            + ' to learn more about interactive tables.';\n",
              "          element.innerHTML = '';\n",
              "          dataTable['output_type'] = 'display_data';\n",
              "          await google.colab.output.renderOutput(dataTable, element);\n",
              "          const docLink = document.createElement('div');\n",
              "          docLink.innerHTML = docLinkHtml;\n",
              "          element.appendChild(docLink);\n",
              "        }\n",
              "      </script>\n",
              "    </div>\n",
              "  </div>\n",
              "  "
            ],
            "text/plain": [
              "        sku        sex    color  ... images_count yt_images_count  total_images\n",
              "0  BLF 2340  MALE_BULL      RED  ...            4               0             4\n",
              "1  BLF 2342  MALE_BULL  NON_RED  ...            4              31            35\n",
              "\n",
              "[2 rows x 14 columns]"
            ]
          },
          "metadata": {},
          "execution_count": 8
        }
      ]
    },
    {
      "cell_type": "code",
      "source": [
        "images = list(images_data_dir.glob('*/*.jpg'))\n",
        "yt_images = list(yt_images_data_dir.glob('*/*.jpg'))"
      ],
      "metadata": {
        "id": "ekUY7D5lpzwz"
      },
      "execution_count": 9,
      "outputs": []
    },
    {
      "cell_type": "code",
      "source": [
        "min_height = 0\n",
        "max_height = 0\n",
        "min_width = 0\n",
        "max_width = 0\n",
        "for i, image in enumerate(images):\n",
        "  w, h = PIL.Image.open(str(image)).size\n",
        "  if i == 0:\n",
        "    min_height = h\n",
        "    max_height = h\n",
        "    min_width = w\n",
        "    max_width = w\n",
        "  \n",
        "  if h <= min_height:\n",
        "    min_height = h\n",
        "  if h >= max_height:\n",
        "    max_height = h\n",
        "\n",
        "  if w <= min_width:\n",
        "    min_width = w\n",
        "  if w >= max_width:\n",
        "    max_width = w\n",
        "\n",
        "print(f\"min_height: {min_height}\")\n",
        "print(f\"min_width: {min_width}\")\n",
        "print(f\"max_height: {max_height}\")\n",
        "print(f\"max_width: {max_width}\")"
      ],
      "metadata": {
        "colab": {
          "base_uri": "https://localhost:8080/"
        },
        "id": "FDpz4yme0wX7",
        "outputId": "e9e5e897-62b2-4eca-ea34-de44ba9e90a5"
      },
      "execution_count": 10,
      "outputs": [
        {
          "output_type": "stream",
          "name": "stdout",
          "text": [
            "min_height: 450\n",
            "min_width: 800\n",
            "max_height: 675\n",
            "max_width: 1200\n"
          ]
        }
      ]
    },
    {
      "cell_type": "code",
      "source": [
        "min_height = 0\n",
        "max_height = 0\n",
        "min_width = 0\n",
        "max_width = 0\n",
        "for i, image in enumerate(yt_images):\n",
        "  w, h = PIL.Image.open(str(image)).size\n",
        "  if i == 0:\n",
        "    min_height = h\n",
        "    max_height = h\n",
        "    min_width = w\n",
        "    max_width = w\n",
        "\n",
        "  if h <= min_height:\n",
        "    min_height = h\n",
        "  if h >= max_height:\n",
        "    max_height = h\n",
        "\n",
        "  if w <= min_width:\n",
        "    min_width = w\n",
        "  if w >= max_width:\n",
        "    max_width = w\n",
        "\n",
        "print(f\"min_height: {min_height}\")\n",
        "print(f\"min_width: {min_width}\")\n",
        "print(f\"max_height: {max_height}\")\n",
        "print(f\"max_width: {max_width}\")"
      ],
      "metadata": {
        "colab": {
          "base_uri": "https://localhost:8080/"
        },
        "id": "zzLkutbX3PEM",
        "outputId": "c46bec7e-32f0-4b7f-efbf-40bccc1228ad"
      },
      "execution_count": 11,
      "outputs": [
        {
          "output_type": "stream",
          "name": "stdout",
          "text": [
            "min_height: 720\n",
            "min_width: 1280\n",
            "max_height: 720\n",
            "max_width: 1280\n"
          ]
        }
      ]
    },
    {
      "cell_type": "code",
      "source": [
        "f_df = pd.DataFrame(columns = ['file_path', 'teeth', 'age_in_year', 'breed', 'height_in_inch', 'weight_in_kg'])\n",
        "for index, row in df.iterrows():\n",
        "  images = list(images_data_dir.glob(f\"{row['sku']}/*.jpg\"))\n",
        "  yt_images = list(yt_images_data_dir.glob(f\"{row['sku']}/*.jpg\"))\n",
        "\n",
        "  for image in images:\n",
        "    f_df = f_df.append({'file_path' : image, 'teeth' : row['teeth'], 'age_in_year' : row['age_in_year'], 'breed': row['breed'], 'height_in_inch': row['height_in_inch'], 'weight_in_kg': row['weight_in_kg']}, \n",
        "                ignore_index = True)\n",
        "    \n",
        "  for image in yt_images:\n",
        "    f_df = f_df.append({'file_path' : image, 'teeth' : row['teeth'], 'age_in_year' : row['age_in_year'], 'breed': row['breed'], 'height_in_inch': row['height_in_inch'], 'weight_in_kg': row['weight_in_kg']}, \n",
        "                ignore_index = True)\n"
      ],
      "metadata": {
        "id": "sTf9VTBJCSRP"
      },
      "execution_count": 12,
      "outputs": []
    },
    {
      "cell_type": "code",
      "source": [
        "f_df.shape"
      ],
      "metadata": {
        "colab": {
          "base_uri": "https://localhost:8080/"
        },
        "id": "cmd0yBH0CSNi",
        "outputId": "a681a8f4-3d6e-46c1-a25e-4c42c2402801"
      },
      "execution_count": 13,
      "outputs": [
        {
          "output_type": "execute_result",
          "data": {
            "text/plain": [
              "(17864, 6)"
            ]
          },
          "metadata": {},
          "execution_count": 13
        }
      ]
    },
    {
      "cell_type": "code",
      "source": [
        "f_df.head(1)"
      ],
      "metadata": {
        "colab": {
          "base_uri": "https://localhost:8080/",
          "height": 81
        },
        "id": "yLrlazxDCSIU",
        "outputId": "9c878d3c-1170-48a9-c680-d2dfe4a9bedd"
      },
      "execution_count": 14,
      "outputs": [
        {
          "output_type": "execute_result",
          "data": {
            "text/html": [
              "\n",
              "  <div id=\"df-d6d2bf0f-b88b-41af-bc46-e3af02ff9600\">\n",
              "    <div class=\"colab-df-container\">\n",
              "      <div>\n",
              "<style scoped>\n",
              "    .dataframe tbody tr th:only-of-type {\n",
              "        vertical-align: middle;\n",
              "    }\n",
              "\n",
              "    .dataframe tbody tr th {\n",
              "        vertical-align: top;\n",
              "    }\n",
              "\n",
              "    .dataframe thead th {\n",
              "        text-align: right;\n",
              "    }\n",
              "</style>\n",
              "<table border=\"1\" class=\"dataframe\">\n",
              "  <thead>\n",
              "    <tr style=\"text-align: right;\">\n",
              "      <th></th>\n",
              "      <th>file_path</th>\n",
              "      <th>teeth</th>\n",
              "      <th>age_in_year</th>\n",
              "      <th>breed</th>\n",
              "      <th>height_in_inch</th>\n",
              "      <th>weight_in_kg</th>\n",
              "    </tr>\n",
              "  </thead>\n",
              "  <tbody>\n",
              "    <tr>\n",
              "      <th>0</th>\n",
              "      <td>/root/.keras/datasets/images/BLF 2340/BLF 2340...</td>\n",
              "      <td>2</td>\n",
              "      <td>2.0</td>\n",
              "      <td>LOCAL</td>\n",
              "      <td>50.9</td>\n",
              "      <td>270.0</td>\n",
              "    </tr>\n",
              "  </tbody>\n",
              "</table>\n",
              "</div>\n",
              "      <button class=\"colab-df-convert\" onclick=\"convertToInteractive('df-d6d2bf0f-b88b-41af-bc46-e3af02ff9600')\"\n",
              "              title=\"Convert this dataframe to an interactive table.\"\n",
              "              style=\"display:none;\">\n",
              "        \n",
              "  <svg xmlns=\"http://www.w3.org/2000/svg\" height=\"24px\"viewBox=\"0 0 24 24\"\n",
              "       width=\"24px\">\n",
              "    <path d=\"M0 0h24v24H0V0z\" fill=\"none\"/>\n",
              "    <path d=\"M18.56 5.44l.94 2.06.94-2.06 2.06-.94-2.06-.94-.94-2.06-.94 2.06-2.06.94zm-11 1L8.5 8.5l.94-2.06 2.06-.94-2.06-.94L8.5 2.5l-.94 2.06-2.06.94zm10 10l.94 2.06.94-2.06 2.06-.94-2.06-.94-.94-2.06-.94 2.06-2.06.94z\"/><path d=\"M17.41 7.96l-1.37-1.37c-.4-.4-.92-.59-1.43-.59-.52 0-1.04.2-1.43.59L10.3 9.45l-7.72 7.72c-.78.78-.78 2.05 0 2.83L4 21.41c.39.39.9.59 1.41.59.51 0 1.02-.2 1.41-.59l7.78-7.78 2.81-2.81c.8-.78.8-2.07 0-2.86zM5.41 20L4 18.59l7.72-7.72 1.47 1.35L5.41 20z\"/>\n",
              "  </svg>\n",
              "      </button>\n",
              "      \n",
              "  <style>\n",
              "    .colab-df-container {\n",
              "      display:flex;\n",
              "      flex-wrap:wrap;\n",
              "      gap: 12px;\n",
              "    }\n",
              "\n",
              "    .colab-df-convert {\n",
              "      background-color: #E8F0FE;\n",
              "      border: none;\n",
              "      border-radius: 50%;\n",
              "      cursor: pointer;\n",
              "      display: none;\n",
              "      fill: #1967D2;\n",
              "      height: 32px;\n",
              "      padding: 0 0 0 0;\n",
              "      width: 32px;\n",
              "    }\n",
              "\n",
              "    .colab-df-convert:hover {\n",
              "      background-color: #E2EBFA;\n",
              "      box-shadow: 0px 1px 2px rgba(60, 64, 67, 0.3), 0px 1px 3px 1px rgba(60, 64, 67, 0.15);\n",
              "      fill: #174EA6;\n",
              "    }\n",
              "\n",
              "    [theme=dark] .colab-df-convert {\n",
              "      background-color: #3B4455;\n",
              "      fill: #D2E3FC;\n",
              "    }\n",
              "\n",
              "    [theme=dark] .colab-df-convert:hover {\n",
              "      background-color: #434B5C;\n",
              "      box-shadow: 0px 1px 3px 1px rgba(0, 0, 0, 0.15);\n",
              "      filter: drop-shadow(0px 1px 2px rgba(0, 0, 0, 0.3));\n",
              "      fill: #FFFFFF;\n",
              "    }\n",
              "  </style>\n",
              "\n",
              "      <script>\n",
              "        const buttonEl =\n",
              "          document.querySelector('#df-d6d2bf0f-b88b-41af-bc46-e3af02ff9600 button.colab-df-convert');\n",
              "        buttonEl.style.display =\n",
              "          google.colab.kernel.accessAllowed ? 'block' : 'none';\n",
              "\n",
              "        async function convertToInteractive(key) {\n",
              "          const element = document.querySelector('#df-d6d2bf0f-b88b-41af-bc46-e3af02ff9600');\n",
              "          const dataTable =\n",
              "            await google.colab.kernel.invokeFunction('convertToInteractive',\n",
              "                                                     [key], {});\n",
              "          if (!dataTable) return;\n",
              "\n",
              "          const docLinkHtml = 'Like what you see? Visit the ' +\n",
              "            '<a target=\"_blank\" href=https://colab.research.google.com/notebooks/data_table.ipynb>data table notebook</a>'\n",
              "            + ' to learn more about interactive tables.';\n",
              "          element.innerHTML = '';\n",
              "          dataTable['output_type'] = 'display_data';\n",
              "          await google.colab.output.renderOutput(dataTable, element);\n",
              "          const docLink = document.createElement('div');\n",
              "          docLink.innerHTML = docLinkHtml;\n",
              "          element.appendChild(docLink);\n",
              "        }\n",
              "      </script>\n",
              "    </div>\n",
              "  </div>\n",
              "  "
            ],
            "text/plain": [
              "                                           file_path  ... weight_in_kg\n",
              "0  /root/.keras/datasets/images/BLF 2340/BLF 2340...  ...        270.0\n",
              "\n",
              "[1 rows x 6 columns]"
            ]
          },
          "metadata": {},
          "execution_count": 14
        }
      ]
    },
    {
      "cell_type": "code",
      "source": [
        "train_df, valid_test_df = train_test_split(f_df, test_size=0.3)\n",
        "validation_df, test_df = train_test_split(valid_test_df, test_size=0.3)\n",
        "print(f\"train_df: {train_df.shape}\")\n",
        "print(f\"validation_df: {validation_df.shape}\")\n",
        "print(f\"test_df: {test_df.shape}\")"
      ],
      "metadata": {
        "colab": {
          "base_uri": "https://localhost:8080/"
        },
        "id": "QgSiTmzzDrzA",
        "outputId": "d97977d0-deb5-4cbe-dee3-56180fd9ddaf"
      },
      "execution_count": 15,
      "outputs": [
        {
          "output_type": "stream",
          "name": "stdout",
          "text": [
            "train_df: (12504, 6)\n",
            "validation_df: (3752, 6)\n",
            "test_df: (1608, 6)\n"
          ]
        }
      ]
    },
    {
      "cell_type": "code",
      "source": [
        "# min_height: 450\n",
        "# min_width: 800\n",
        "\n",
        "# input: [image, teeth]\n",
        "# outpur: [age_in_year, breed, height_in_inch, weight_in_kg]\n",
        "\n",
        "# class CustomDataGen(tf.keras.utils.Sequence):\n",
        "    \n",
        "#     def __init__(self, df, X_col, y_col,\n",
        "#                  batch_size,\n",
        "#                  input_size=(450, 800, 3), # (input_height, input_width, input_channel)\n",
        "#                  shuffle=True):\n",
        "        \n",
        "#         self.df = df.copy()\n",
        "#         self.X_col = X_col\n",
        "#         self.y_col = y_col\n",
        "#         self.batch_size = batch_size\n",
        "#         self.input_size = input_size\n",
        "#         self.shuffle = shuffle\n",
        "        \n",
        "#         self.n = len(self.df)\n",
        "#         # self.n_teeth = df[X_col['teeth']].max()\n",
        "#         # self.n_breed = df[y_col['breed']].nunique()\n",
        "    \n",
        "#     def on_epoch_end(self):\n",
        "#         if self.shuffle:\n",
        "#             self.df = self.df.sample(frac=1).reset_index(drop=True)\n",
        "    \n",
        "#     def __get_input(self, path, target_size):\n",
        "#         image = tf.keras.preprocessing.image.load_img(path)\n",
        "#         image_arr = tf.keras.preprocessing.image.img_to_array(image)\n",
        "\n",
        "#         # image_arr = image_arr[ymin:ymin+h, xmin:xmin+w]\n",
        "#         image_arr = tf.image.resize(image_arr,(target_size[0], target_size[1])).numpy()\n",
        "\n",
        "#         return image_arr/255.\n",
        "    \n",
        "#     def __get_output(self, label, num_classes):\n",
        "#         return tf.keras.utils.to_categorical(label, num_classes=num_classes)\n",
        "    \n",
        "#     def __get_data(self, batches):\n",
        "#         # Generates data containing batch_size samples\n",
        "\n",
        "#         path_batch = batches[self.X_col['file_path']]       \n",
        "#         # teeth_batch = batches[self.X_col['teeth']]\n",
        "\n",
        "#         # breed_batch = batches[self.y_col['breed']]\n",
        "#         weight_in_kg_batch = batches[self.y_col['weight_in_kg']]\n",
        "#         height_in_inch_batch = batches[self.y_col['height_in_inch']]\n",
        "#         age_in_year_batch = batches[self.y_col['age_in_year']]\n",
        "\n",
        "#         X0 = np.asarray([self.__get_input(x, self.input_size) for x in path_batch])\n",
        "\n",
        "#         # y0_batch = np.asarray([self.__get_output(y, self.n_teeth) for y in teeth_batch])\n",
        "#         # y1_batch = np.asarray([self.__get_output(y, self.n_breed) for y in breed_batch])\n",
        "\n",
        "#         y0 = np.asarray([tf.cast(y, tf.float32) for y in weight_in_kg_batch])\n",
        "#         y1 = np.asarray([tf.cast(y, tf.float32) for y in height_in_inch_batch])\n",
        "#         y2 = np.asarray([tf.cast(y, tf.float32) for y in age_in_year_batch])\n",
        "\n",
        "#         return X0, tuple([y0, y1, y2])\n",
        "    \n",
        "#     def __getitem__(self, index):\n",
        "        \n",
        "#         batches = self.df[index * self.batch_size:(index + 1) * self.batch_size]\n",
        "#         X, y = self.__get_data(batches)        \n",
        "#         return X, y\n",
        "    \n",
        "#     def __len__(self):\n",
        "#         return self.n // self.batch_size"
      ],
      "metadata": {
        "id": "L_8HLC9VT03R"
      },
      "execution_count": 18,
      "outputs": []
    },
    {
      "cell_type": "code",
      "source": [
        "# traingen = CustomDataGen(train_df,\n",
        "#                          X_col={'file_path':'file_path', 'teeth': 'teeth'},\n",
        "#                          y_col={'breed': 'breed', 'weight_in_kg': 'weight_in_kg', 'height_in_inch': 'height_in_inch', 'age_in_year': 'age_in_year'},\n",
        "#                          batch_size=128, input_size=(450, 800, 3))"
      ],
      "metadata": {
        "id": "AG8j82VLZrPg"
      },
      "execution_count": 19,
      "outputs": []
    },
    {
      "cell_type": "code",
      "source": [
        "# testgen = CustomDataGen(test_df,\n",
        "#                          X_col={'file_path':'file_path', 'teeth': 'teeth'},\n",
        "#                          y_col={'breed': 'breed', 'weight_in_kg': 'weight_in_kg', 'height_in_inch': 'height_in_inch', 'age_in_year': 'age_in_year'},\n",
        "#                          batch_size=128, input_size=(450, 800, 3))"
      ],
      "metadata": {
        "id": "tFSlX4JdayDJ"
      },
      "execution_count": 20,
      "outputs": []
    },
    {
      "cell_type": "code",
      "source": [
        "# validgen = CustomDataGen(validation_df,\n",
        "#                          X_col={'file_path':'file_path', 'teeth': 'teeth'},\n",
        "#                          y_col={'breed': 'breed', 'weight_in_kg': 'weight_in_kg', 'height_in_inch': 'height_in_inch', 'age_in_year': 'age_in_year'},\n",
        "#                          batch_size=128, input_size=(450, 800, 3))"
      ],
      "metadata": {
        "id": "T3ELi9-GkkAz"
      },
      "execution_count": 21,
      "outputs": []
    },
    {
      "cell_type": "code",
      "source": [
        "def __get_input(path, target_size):\n",
        "  image = tf.keras.preprocessing.image.load_img(path)\n",
        "  image_arr = tf.keras.preprocessing.image.img_to_array(image)\n",
        "  image_arr = tf.image.resize(image_arr,(target_size[0], target_size[1])).numpy()\n",
        "  return image_arr/255.\n",
        "\n",
        "def data_loader(df, image_size=(450, 800, 3)):\n",
        "  y0 = tf.cast(df.weight_in_kg, tf.float32)\n",
        "  print(y0.shape)\n",
        "  y1 = tf.cast(df.height_in_inch, tf.float32)\n",
        "  print(y1.shape)\n",
        "  y2 = tf.cast(df.age_in_year, tf.float32)\n",
        "  print(y2.shape)\n",
        "  path_batch = df.file_path\n",
        "  X0 = tf.cast([__get_input(x, image_size) for x in path_batch], tf.float32)\n",
        "  print(X0.shape)\n",
        "\n",
        "  return X0, (y0, y1, y2)"
      ],
      "metadata": {
        "id": "YhNEK1P1o7ay"
      },
      "execution_count": 16,
      "outputs": []
    },
    {
      "cell_type": "code",
      "source": [
        "X0, (y0, y1, y2) = data_loader(f_df, (128, 128, 3))"
      ],
      "metadata": {
        "colab": {
          "base_uri": "https://localhost:8080/"
        },
        "id": "YwD7Wu5Xrb2n",
        "outputId": "0f95402b-13ac-452a-e552-f1c0c1b87ee3"
      },
      "execution_count": 17,
      "outputs": [
        {
          "output_type": "stream",
          "name": "stdout",
          "text": [
            "(17864,)\n",
            "(17864,)\n",
            "(17864,)\n",
            "(17864, 128, 128, 3)\n"
          ]
        }
      ]
    },
    {
      "cell_type": "code",
      "source": [
        "input = keras.Input(shape=(128, 128, 3), name=\"original_img\")\n",
        "x = layers.Conv2D(64, 3, activation=\"relu\")(input)\n",
        "x = layers.Conv2D(128, 3, activation=\"relu\")(x)\n",
        "x = layers.MaxPooling2D(3)(x)\n",
        "x = layers.Conv2D(128, 3, activation=\"relu\")(x)\n",
        "x = layers.Conv2D(64, 3, activation=\"relu\")(x)\n",
        "x = layers.GlobalMaxPooling2D()(x)\n",
        "\n",
        "out_a = keras.layers.Dense(1, activation='linear', name='wt_rg')(x)\n",
        "out_b = keras.layers.Dense(1, activation='linear', name='ht_rg')(x)\n",
        "out_c = keras.layers.Dense(1, activation='linear', name='ag_rg')(x)\n",
        "\n",
        "encoder = keras.Model( inputs = input, outputs = [out_a, out_b, out_c], name=\"encoder\")"
      ],
      "metadata": {
        "id": "QUdjf26kubkr"
      },
      "execution_count": 18,
      "outputs": []
    },
    {
      "cell_type": "code",
      "source": [
        "encoder.compile(\n",
        "    loss = {\n",
        "        \"wt_rg\": tf.keras.losses.MeanSquaredError(),\n",
        "        \"ht_rg\": tf.keras.losses.MeanSquaredError(),\n",
        "        \"ag_rg\": tf.keras.losses.MeanSquaredError()\n",
        "    },\n",
        "\n",
        "    metrics = {\n",
        "        \"wt_rg\": 'mse',\n",
        "        \"ht_rg\": 'mse',\n",
        "        \"ag_rg\": 'mse'\n",
        "    },\n",
        "\n",
        "    optimizer = tf.keras.optimizers.Adam(learning_rate=0.001)\n",
        ")"
      ],
      "metadata": {
        "id": "h_LArmJdv0rX"
      },
      "execution_count": 19,
      "outputs": []
    },
    {
      "cell_type": "code",
      "source": [
        "encoder.fit(X0, [y0, y1, y2], epochs=30, verbose=2, batch_size=32, validation_split=0.2)"
      ],
      "metadata": {
        "colab": {
          "base_uri": "https://localhost:8080/"
        },
        "id": "avMTkBsrljNt",
        "outputId": "f6997c87-e9b2-4483-fa89-1d5fafb6e9b9"
      },
      "execution_count": 20,
      "outputs": [
        {
          "output_type": "stream",
          "name": "stdout",
          "text": [
            "Epoch 1/30\n",
            "447/447 - 79s - loss: 7784.1914 - wt_rg_loss: 7623.8691 - ht_rg_loss: 82.7961 - ag_rg_loss: 77.5288 - wt_rg_mse: 7623.8691 - ht_rg_mse: 82.7961 - ag_rg_mse: 77.5288 - val_loss: 5579.6699 - val_wt_rg_loss: 5524.0474 - val_ht_rg_loss: 54.3921 - val_ag_rg_loss: 1.2297 - val_wt_rg_mse: 5524.0474 - val_ht_rg_mse: 54.3921 - val_ag_rg_mse: 1.2297 - 79s/epoch - 176ms/step\n",
            "Epoch 2/30\n",
            "447/447 - 65s - loss: 5805.7778 - wt_rg_loss: 5775.2319 - ht_rg_loss: 29.9432 - ag_rg_loss: 0.5985 - wt_rg_mse: 5775.2319 - ht_rg_mse: 29.9432 - ag_rg_mse: 0.5985 - val_loss: 5210.5176 - val_wt_rg_loss: 5171.5747 - val_ht_rg_loss: 37.6445 - val_ag_rg_loss: 1.2976 - val_wt_rg_mse: 5171.5747 - val_ht_rg_mse: 37.6445 - val_ag_rg_mse: 1.2976 - 65s/epoch - 145ms/step\n",
            "Epoch 3/30\n",
            "447/447 - 64s - loss: 5352.9272 - wt_rg_loss: 5325.6318 - ht_rg_loss: 26.6129 - ag_rg_loss: 0.6875 - wt_rg_mse: 5325.6318 - ht_rg_mse: 26.6129 - ag_rg_mse: 0.6875 - val_loss: 5195.7939 - val_wt_rg_loss: 5167.7700 - val_ht_rg_loss: 27.4591 - val_ag_rg_loss: 0.5641 - val_wt_rg_mse: 5167.7700 - val_ht_rg_mse: 27.4591 - val_ag_rg_mse: 0.5641 - 64s/epoch - 143ms/step\n",
            "Epoch 4/30\n",
            "447/447 - 64s - loss: 5166.6704 - wt_rg_loss: 5140.6982 - ht_rg_loss: 25.2768 - ag_rg_loss: 0.6940 - wt_rg_mse: 5140.6982 - ht_rg_mse: 25.2768 - ag_rg_mse: 0.6940 - val_loss: 5342.0801 - val_wt_rg_loss: 5315.2036 - val_ht_rg_loss: 26.2378 - val_ag_rg_loss: 0.6401 - val_wt_rg_mse: 5315.2036 - val_ht_rg_mse: 26.2378 - val_ag_rg_mse: 0.6401 - 64s/epoch - 143ms/step\n",
            "Epoch 5/30\n",
            "447/447 - 64s - loss: 5006.5796 - wt_rg_loss: 4978.3164 - ht_rg_loss: 27.1010 - ag_rg_loss: 1.1638 - wt_rg_mse: 4978.3164 - ht_rg_mse: 27.1010 - ag_rg_mse: 1.1638 - val_loss: 5411.7568 - val_wt_rg_loss: 5388.7847 - val_ht_rg_loss: 22.0049 - val_ag_rg_loss: 0.9678 - val_wt_rg_mse: 5388.7847 - val_ht_rg_mse: 22.0049 - val_ag_rg_mse: 0.9678 - 64s/epoch - 143ms/step\n",
            "Epoch 6/30\n",
            "447/447 - 65s - loss: 4696.8457 - wt_rg_loss: 4670.2056 - ht_rg_loss: 25.3323 - ag_rg_loss: 1.3082 - wt_rg_mse: 4670.2056 - ht_rg_mse: 25.3323 - ag_rg_mse: 1.3082 - val_loss: 5212.0767 - val_wt_rg_loss: 5191.2915 - val_ht_rg_loss: 19.6298 - val_ag_rg_loss: 1.1560 - val_wt_rg_mse: 5191.2915 - val_ht_rg_mse: 19.6298 - val_ag_rg_mse: 1.1560 - 65s/epoch - 144ms/step\n",
            "Epoch 7/30\n",
            "447/447 - 64s - loss: 4336.0879 - wt_rg_loss: 4309.9478 - ht_rg_loss: 24.5384 - ag_rg_loss: 1.6034 - wt_rg_mse: 4309.9478 - ht_rg_mse: 24.5384 - ag_rg_mse: 1.6034 - val_loss: 5382.0684 - val_wt_rg_loss: 5348.1978 - val_ht_rg_loss: 29.2146 - val_ag_rg_loss: 4.6564 - val_wt_rg_mse: 5348.1978 - val_ht_rg_mse: 29.2146 - val_ag_rg_mse: 4.6564 - 64s/epoch - 143ms/step\n",
            "Epoch 8/30\n",
            "447/447 - 64s - loss: 4079.1643 - wt_rg_loss: 4048.8030 - ht_rg_loss: 28.6132 - ag_rg_loss: 1.7452 - wt_rg_mse: 4048.8030 - ht_rg_mse: 28.6132 - ag_rg_mse: 1.7452 - val_loss: 5170.8276 - val_wt_rg_loss: 5135.4023 - val_ht_rg_loss: 33.4007 - val_ag_rg_loss: 2.0253 - val_wt_rg_mse: 5135.4023 - val_ht_rg_mse: 33.4007 - val_ag_rg_mse: 2.0253 - 64s/epoch - 143ms/step\n",
            "Epoch 9/30\n",
            "447/447 - 64s - loss: 3729.1606 - wt_rg_loss: 3697.6592 - ht_rg_loss: 27.5473 - ag_rg_loss: 3.9516 - wt_rg_mse: 3697.6592 - ht_rg_mse: 27.5473 - ag_rg_mse: 3.9516 - val_loss: 5239.5625 - val_wt_rg_loss: 5208.0176 - val_ht_rg_loss: 28.4742 - val_ag_rg_loss: 3.0707 - val_wt_rg_mse: 5208.0176 - val_ht_rg_mse: 28.4742 - val_ag_rg_mse: 3.0707 - 64s/epoch - 143ms/step\n",
            "Epoch 10/30\n",
            "447/447 - 64s - loss: 3334.9082 - wt_rg_loss: 3306.7468 - ht_rg_loss: 24.0015 - ag_rg_loss: 4.1567 - wt_rg_mse: 3306.7468 - ht_rg_mse: 24.0015 - ag_rg_mse: 4.1567 - val_loss: 4611.6016 - val_wt_rg_loss: 4585.1035 - val_ht_rg_loss: 22.1829 - val_ag_rg_loss: 4.3151 - val_wt_rg_mse: 4585.1035 - val_ht_rg_mse: 22.1829 - val_ag_rg_mse: 4.3151 - 64s/epoch - 143ms/step\n",
            "Epoch 11/30\n",
            "447/447 - 64s - loss: 3005.6272 - wt_rg_loss: 2977.4778 - ht_rg_loss: 23.9853 - ag_rg_loss: 4.1657 - wt_rg_mse: 2977.4778 - ht_rg_mse: 23.9853 - ag_rg_mse: 4.1657 - val_loss: 4205.5244 - val_wt_rg_loss: 4176.0459 - val_ht_rg_loss: 24.7366 - val_ag_rg_loss: 4.7410 - val_wt_rg_mse: 4176.0459 - val_ht_rg_mse: 24.7366 - val_ag_rg_mse: 4.7410 - 64s/epoch - 143ms/step\n",
            "Epoch 12/30\n",
            "447/447 - 64s - loss: 2699.0242 - wt_rg_loss: 2673.4023 - ht_rg_loss: 21.1057 - ag_rg_loss: 4.5174 - wt_rg_mse: 2673.4023 - ht_rg_mse: 21.1057 - ag_rg_mse: 4.5174 - val_loss: 4337.3306 - val_wt_rg_loss: 4311.5200 - val_ht_rg_loss: 19.8476 - val_ag_rg_loss: 5.9618 - val_wt_rg_mse: 4311.5200 - val_ht_rg_mse: 19.8476 - val_ag_rg_mse: 5.9618 - 64s/epoch - 143ms/step\n",
            "Epoch 13/30\n",
            "447/447 - 64s - loss: 2477.5354 - wt_rg_loss: 2451.2905 - ht_rg_loss: 21.9393 - ag_rg_loss: 4.3050 - wt_rg_mse: 2451.2905 - ht_rg_mse: 21.9393 - ag_rg_mse: 4.3050 - val_loss: 4226.3105 - val_wt_rg_loss: 4199.1099 - val_ht_rg_loss: 22.6761 - val_ag_rg_loss: 4.5241 - val_wt_rg_mse: 4199.1099 - val_ht_rg_mse: 22.6761 - val_ag_rg_mse: 4.5241 - 64s/epoch - 143ms/step\n",
            "Epoch 14/30\n",
            "447/447 - 64s - loss: 2332.9844 - wt_rg_loss: 2308.9424 - ht_rg_loss: 19.8754 - ag_rg_loss: 4.1654 - wt_rg_mse: 2308.9424 - ht_rg_mse: 19.8754 - ag_rg_mse: 4.1654 - val_loss: 4240.6772 - val_wt_rg_loss: 4219.6948 - val_ht_rg_loss: 16.3707 - val_ag_rg_loss: 4.6113 - val_wt_rg_mse: 4219.6948 - val_ht_rg_mse: 16.3707 - val_ag_rg_mse: 4.6113 - 64s/epoch - 143ms/step\n",
            "Epoch 15/30\n",
            "447/447 - 64s - loss: 2186.7551 - wt_rg_loss: 2163.9033 - ht_rg_loss: 18.8631 - ag_rg_loss: 3.9891 - wt_rg_mse: 2163.9033 - ht_rg_mse: 18.8631 - ag_rg_mse: 3.9891 - val_loss: 4212.1675 - val_wt_rg_loss: 4178.4624 - val_ht_rg_loss: 29.8740 - val_ag_rg_loss: 3.8318 - val_wt_rg_mse: 4178.4624 - val_ht_rg_mse: 29.8740 - val_ag_rg_mse: 3.8318 - 64s/epoch - 143ms/step\n",
            "Epoch 16/30\n",
            "447/447 - 64s - loss: 2011.6279 - wt_rg_loss: 1990.0618 - ht_rg_loss: 17.4134 - ag_rg_loss: 4.1520 - wt_rg_mse: 1990.0618 - ht_rg_mse: 17.4134 - ag_rg_mse: 4.1520 - val_loss: 4033.1812 - val_wt_rg_loss: 4008.7507 - val_ht_rg_loss: 20.9023 - val_ag_rg_loss: 3.5279 - val_wt_rg_mse: 4008.7507 - val_ht_rg_mse: 20.9023 - val_ag_rg_mse: 3.5279 - 64s/epoch - 144ms/step\n",
            "Epoch 17/30\n",
            "447/447 - 64s - loss: 1881.2467 - wt_rg_loss: 1860.5039 - ht_rg_loss: 17.1895 - ag_rg_loss: 3.5548 - wt_rg_mse: 1860.5039 - ht_rg_mse: 17.1895 - ag_rg_mse: 3.5548 - val_loss: 4143.0996 - val_wt_rg_loss: 4116.0654 - val_ht_rg_loss: 23.9374 - val_ag_rg_loss: 3.0973 - val_wt_rg_mse: 4116.0654 - val_ht_rg_mse: 23.9374 - val_ag_rg_mse: 3.0973 - 64s/epoch - 143ms/step\n",
            "Epoch 18/30\n",
            "447/447 - 64s - loss: 1723.5726 - wt_rg_loss: 1703.7009 - ht_rg_loss: 16.7738 - ag_rg_loss: 3.0979 - wt_rg_mse: 1703.7009 - ht_rg_mse: 16.7738 - ag_rg_mse: 3.0979 - val_loss: 3899.0020 - val_wt_rg_loss: 3876.7573 - val_ht_rg_loss: 19.1500 - val_ag_rg_loss: 3.0942 - val_wt_rg_mse: 3876.7573 - val_ht_rg_mse: 19.1500 - val_ag_rg_mse: 3.0942 - 64s/epoch - 143ms/step\n",
            "Epoch 19/30\n",
            "447/447 - 64s - loss: 1638.0469 - wt_rg_loss: 1618.2533 - ht_rg_loss: 16.9096 - ag_rg_loss: 2.8841 - wt_rg_mse: 1618.2533 - ht_rg_mse: 16.9096 - ag_rg_mse: 2.8841 - val_loss: 3772.1741 - val_wt_rg_loss: 3754.5906 - val_ht_rg_loss: 14.9204 - val_ag_rg_loss: 2.6631 - val_wt_rg_mse: 3754.5906 - val_ht_rg_mse: 14.9204 - val_ag_rg_mse: 2.6631 - 64s/epoch - 143ms/step\n",
            "Epoch 20/30\n",
            "447/447 - 64s - loss: 1548.1405 - wt_rg_loss: 1528.7980 - ht_rg_loss: 16.9410 - ag_rg_loss: 2.4021 - wt_rg_mse: 1528.7980 - ht_rg_mse: 16.9410 - ag_rg_mse: 2.4021 - val_loss: 3933.8010 - val_wt_rg_loss: 3917.2231 - val_ht_rg_loss: 14.5686 - val_ag_rg_loss: 2.0103 - val_wt_rg_mse: 3917.2234 - val_ht_rg_mse: 14.5686 - val_ag_rg_mse: 2.0103 - 64s/epoch - 143ms/step\n",
            "Epoch 21/30\n",
            "447/447 - 64s - loss: 1413.7920 - wt_rg_loss: 1395.4143 - ht_rg_loss: 16.1218 - ag_rg_loss: 2.2572 - wt_rg_mse: 1395.4143 - ht_rg_mse: 16.1218 - ag_rg_mse: 2.2572 - val_loss: 3728.6487 - val_wt_rg_loss: 3712.0452 - val_ht_rg_loss: 14.7156 - val_ag_rg_loss: 1.8883 - val_wt_rg_mse: 3712.0452 - val_ht_rg_mse: 14.7156 - val_ag_rg_mse: 1.8883 - 64s/epoch - 143ms/step\n",
            "Epoch 22/30\n",
            "447/447 - 64s - loss: 1366.4117 - wt_rg_loss: 1349.1346 - ht_rg_loss: 15.5321 - ag_rg_loss: 1.7444 - wt_rg_mse: 1349.1346 - ht_rg_mse: 15.5321 - ag_rg_mse: 1.7444 - val_loss: 3675.7891 - val_wt_rg_loss: 3660.5015 - val_ht_rg_loss: 13.6091 - val_ag_rg_loss: 1.6781 - val_wt_rg_mse: 3660.5015 - val_ht_rg_mse: 13.6091 - val_ag_rg_mse: 1.6781 - 64s/epoch - 143ms/step\n",
            "Epoch 23/30\n",
            "447/447 - 64s - loss: 1311.8789 - wt_rg_loss: 1294.9392 - ht_rg_loss: 15.5259 - ag_rg_loss: 1.4152 - wt_rg_mse: 1294.9392 - ht_rg_mse: 15.5259 - ag_rg_mse: 1.4152 - val_loss: 3672.7031 - val_wt_rg_loss: 3639.0828 - val_ht_rg_loss: 32.3301 - val_ag_rg_loss: 1.2899 - val_wt_rg_mse: 3639.0828 - val_ht_rg_mse: 32.3301 - val_ag_rg_mse: 1.2899 - 64s/epoch - 143ms/step\n",
            "Epoch 24/30\n",
            "447/447 - 64s - loss: 1174.0599 - wt_rg_loss: 1157.6774 - ht_rg_loss: 15.1479 - ag_rg_loss: 1.2346 - wt_rg_mse: 1157.6774 - ht_rg_mse: 15.1479 - ag_rg_mse: 1.2346 - val_loss: 3905.1792 - val_wt_rg_loss: 3883.1733 - val_ht_rg_loss: 20.6779 - val_ag_rg_loss: 1.3279 - val_wt_rg_mse: 3883.1733 - val_ht_rg_mse: 20.6779 - val_ag_rg_mse: 1.3279 - 64s/epoch - 143ms/step\n",
            "Epoch 25/30\n",
            "447/447 - 64s - loss: 1130.3456 - wt_rg_loss: 1114.7780 - ht_rg_loss: 14.5914 - ag_rg_loss: 0.9760 - wt_rg_mse: 1114.7780 - ht_rg_mse: 14.5914 - ag_rg_mse: 0.9760 - val_loss: 3738.0625 - val_wt_rg_loss: 3723.1572 - val_ht_rg_loss: 14.2585 - val_ag_rg_loss: 0.6466 - val_wt_rg_mse: 3723.1572 - val_ht_rg_mse: 14.2585 - val_ag_rg_mse: 0.6466 - 64s/epoch - 143ms/step\n",
            "Epoch 26/30\n",
            "447/447 - 64s - loss: 1063.0962 - wt_rg_loss: 1048.8677 - ht_rg_loss: 13.4558 - ag_rg_loss: 0.7725 - wt_rg_mse: 1048.8677 - ht_rg_mse: 13.4558 - ag_rg_mse: 0.7725 - val_loss: 3528.7488 - val_wt_rg_loss: 3514.1516 - val_ht_rg_loss: 14.0363 - val_ag_rg_loss: 0.5606 - val_wt_rg_mse: 3514.1516 - val_ht_rg_mse: 14.0363 - val_ag_rg_mse: 0.5606 - 64s/epoch - 143ms/step\n",
            "Epoch 27/30\n",
            "447/447 - 64s - loss: 968.9057 - wt_rg_loss: 954.4319 - ht_rg_loss: 13.8249 - ag_rg_loss: 0.6486 - wt_rg_mse: 954.4319 - ht_rg_mse: 13.8249 - ag_rg_mse: 0.6486 - val_loss: 3521.1829 - val_wt_rg_loss: 3507.3689 - val_ht_rg_loss: 13.1503 - val_ag_rg_loss: 0.6641 - val_wt_rg_mse: 3507.3689 - val_ht_rg_mse: 13.1503 - val_ag_rg_mse: 0.6641 - 64s/epoch - 144ms/step\n",
            "Epoch 28/30\n",
            "447/447 - 64s - loss: 942.5475 - wt_rg_loss: 929.4100 - ht_rg_loss: 12.6540 - ag_rg_loss: 0.4836 - wt_rg_mse: 929.4100 - ht_rg_mse: 12.6540 - ag_rg_mse: 0.4836 - val_loss: 3627.3625 - val_wt_rg_loss: 3613.4189 - val_ht_rg_loss: 13.5572 - val_ag_rg_loss: 0.3861 - val_wt_rg_mse: 3613.4189 - val_ht_rg_mse: 13.5572 - val_ag_rg_mse: 0.3861 - 64s/epoch - 144ms/step\n",
            "Epoch 29/30\n",
            "447/447 - 63s - loss: 832.6978 - wt_rg_loss: 820.8375 - ht_rg_loss: 11.4540 - ag_rg_loss: 0.4067 - wt_rg_mse: 820.8375 - ht_rg_mse: 11.4540 - ag_rg_mse: 0.4067 - val_loss: 3530.6650 - val_wt_rg_loss: 3518.0466 - val_ht_rg_loss: 12.3423 - val_ag_rg_loss: 0.2762 - val_wt_rg_mse: 3518.0466 - val_ht_rg_mse: 12.3423 - val_ag_rg_mse: 0.2762 - 63s/epoch - 142ms/step\n",
            "Epoch 30/30\n",
            "447/447 - 64s - loss: 797.1793 - wt_rg_loss: 785.9750 - ht_rg_loss: 10.8775 - ag_rg_loss: 0.3264 - wt_rg_mse: 785.9750 - ht_rg_mse: 10.8775 - ag_rg_mse: 0.3264 - val_loss: 3601.6235 - val_wt_rg_loss: 3588.9583 - val_ht_rg_loss: 12.3823 - val_ag_rg_loss: 0.2829 - val_wt_rg_mse: 3588.9583 - val_ht_rg_mse: 12.3823 - val_ag_rg_mse: 0.2829 - 64s/epoch - 142ms/step\n"
          ]
        },
        {
          "output_type": "execute_result",
          "data": {
            "text/plain": [
              "<keras.callbacks.History at 0x7f5fa5326bd0>"
            ]
          },
          "metadata": {},
          "execution_count": 20
        }
      ]
    },
    {
      "cell_type": "code",
      "source": [
        "encoder.output"
      ],
      "metadata": {
        "colab": {
          "base_uri": "https://localhost:8080/"
        },
        "id": "OS_zKeP11Buh",
        "outputId": "8893db3b-acac-4657-bacd-c1f80de08f12"
      },
      "execution_count": 21,
      "outputs": [
        {
          "output_type": "execute_result",
          "data": {
            "text/plain": [
              "[<KerasTensor: shape=(None, 1) dtype=float32 (created by layer 'wt_rg')>,\n",
              " <KerasTensor: shape=(None, 1) dtype=float32 (created by layer 'ht_rg')>,\n",
              " <KerasTensor: shape=(None, 1) dtype=float32 (created by layer 'ag_rg')>]"
            ]
          },
          "metadata": {},
          "execution_count": 21
        }
      ]
    },
    {
      "cell_type": "code",
      "source": [
        "pred0, pred1, pred2 = encoder.predict(tf.expand_dims(X0[0], 0))"
      ],
      "metadata": {
        "id": "pknNE0XJ1TtU"
      },
      "execution_count": 22,
      "outputs": []
    },
    {
      "cell_type": "code",
      "source": [
        "pred0"
      ],
      "metadata": {
        "colab": {
          "base_uri": "https://localhost:8080/"
        },
        "id": "iUbdFp4I1gR2",
        "outputId": "986548f3-058e-4acb-b222-ad3fa2d23643"
      },
      "execution_count": 23,
      "outputs": [
        {
          "output_type": "execute_result",
          "data": {
            "text/plain": [
              "array([[179.49106]], dtype=float32)"
            ]
          },
          "metadata": {},
          "execution_count": 23
        }
      ]
    },
    {
      "cell_type": "code",
      "source": [
        "pred1"
      ],
      "metadata": {
        "colab": {
          "base_uri": "https://localhost:8080/"
        },
        "id": "NBWS4n921izy",
        "outputId": "74de7f94-0058-42a4-a499-268245480ac1"
      },
      "execution_count": 24,
      "outputs": [
        {
          "output_type": "execute_result",
          "data": {
            "text/plain": [
              "array([[41.392338]], dtype=float32)"
            ]
          },
          "metadata": {},
          "execution_count": 24
        }
      ]
    },
    {
      "cell_type": "code",
      "source": [
        "pred2"
      ],
      "metadata": {
        "colab": {
          "base_uri": "https://localhost:8080/"
        },
        "id": "JgKtF9Dc1lRW",
        "outputId": "f3995ff8-0770-47b5-898c-cb44c3489dac"
      },
      "execution_count": 25,
      "outputs": [
        {
          "output_type": "execute_result",
          "data": {
            "text/plain": [
              "array([[1.1926677]], dtype=float32)"
            ]
          },
          "metadata": {},
          "execution_count": 25
        }
      ]
    },
    {
      "cell_type": "code",
      "source": [
        "y0[0]"
      ],
      "metadata": {
        "colab": {
          "base_uri": "https://localhost:8080/"
        },
        "id": "5wCRToDy1nRH",
        "outputId": "9bd7c800-6c75-4738-c14c-6e0062c890d4"
      },
      "execution_count": 26,
      "outputs": [
        {
          "output_type": "execute_result",
          "data": {
            "text/plain": [
              "<tf.Tensor: shape=(), dtype=float32, numpy=270.0>"
            ]
          },
          "metadata": {},
          "execution_count": 26
        }
      ]
    },
    {
      "cell_type": "code",
      "source": [
        "y1[0]"
      ],
      "metadata": {
        "colab": {
          "base_uri": "https://localhost:8080/"
        },
        "id": "0hmanirI125v",
        "outputId": "c4606006-83c9-4de6-b344-abbebdd32aa5"
      },
      "execution_count": 27,
      "outputs": [
        {
          "output_type": "execute_result",
          "data": {
            "text/plain": [
              "<tf.Tensor: shape=(), dtype=float32, numpy=50.9>"
            ]
          },
          "metadata": {},
          "execution_count": 27
        }
      ]
    },
    {
      "cell_type": "code",
      "source": [
        "y2[0]"
      ],
      "metadata": {
        "colab": {
          "base_uri": "https://localhost:8080/"
        },
        "id": "NsjDLSIB16cr",
        "outputId": "8b4b9068-901c-43eb-ce52-666e92a2fa2a"
      },
      "execution_count": 28,
      "outputs": [
        {
          "output_type": "execute_result",
          "data": {
            "text/plain": [
              "<tf.Tensor: shape=(), dtype=float32, numpy=2.0>"
            ]
          },
          "metadata": {},
          "execution_count": 28
        }
      ]
    },
    {
      "cell_type": "code",
      "source": [
        ""
      ],
      "metadata": {
        "id": "n3o5DuYa1951"
      },
      "execution_count": 28,
      "outputs": []
    }
  ]
}