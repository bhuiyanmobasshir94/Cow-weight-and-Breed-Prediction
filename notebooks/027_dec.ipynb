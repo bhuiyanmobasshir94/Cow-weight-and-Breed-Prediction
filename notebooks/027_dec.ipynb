{
  "nbformat": 4,
  "nbformat_minor": 0,
  "metadata": {
    "colab": {
      "name": "027-dec.ipynb",
      "provenance": [],
      "toc_visible": true,
      "authorship_tag": "ABX9TyP9l8g5W2a/yahx30tj2XQj",
      "include_colab_link": true
    },
    "kernelspec": {
      "name": "python3",
      "display_name": "Python 3"
    },
    "language_info": {
      "name": "python"
    }
  },
  "cells": [
    {
      "cell_type": "markdown",
      "metadata": {
        "id": "view-in-github",
        "colab_type": "text"
      },
      "source": [
        "<a href=\"https://colab.research.google.com/github/bhuiyanmobasshir94/Cow-weight-and-Breed-Prediction/blob/main/notebooks/027_dec.ipynb\" target=\"_parent\"><img src=\"https://colab.research.google.com/assets/colab-badge.svg\" alt=\"Open In Colab\"/></a>"
      ]
    },
    {
      "cell_type": "code",
      "execution_count": 4,
      "metadata": {
        "id": "B3W_pFmsfyih"
      },
      "outputs": [],
      "source": [
        "import numpy as np\n",
        "import pandas as pd\n",
        "import sys\n",
        "import os\n",
        "import PIL\n",
        "import PIL.Image\n",
        "import tensorflow as tf\n",
        "import tensorflow.keras as keras\n",
        "from tensorflow.keras import layers\n",
        "import tensorflow_datasets as tfds\n",
        "import pathlib"
      ]
    },
    {
      "cell_type": "code",
      "source": [
        "from sklearn.model_selection import train_test_split"
      ],
      "metadata": {
        "id": "zVj2mL3XTDld"
      },
      "execution_count": 5,
      "outputs": []
    },
    {
      "cell_type": "code",
      "source": [
        "images_dataset_url = \"https://cv-datasets-2021.s3.amazonaws.com/images.tar.gz\"\n",
        "images_data_dir = tf.keras.utils.get_file(origin=images_dataset_url,\n",
        "                                   fname='images',\n",
        "                                   untar=True)\n",
        "images_data_dir = pathlib.Path(images_data_dir)"
      ],
      "metadata": {
        "colab": {
          "base_uri": "https://localhost:8080/"
        },
        "id": "-HJIoeP8gQX8",
        "outputId": "5d8bda29-e995-49d9-df1b-996aaa50e46a"
      },
      "execution_count": 6,
      "outputs": [
        {
          "output_type": "stream",
          "name": "stdout",
          "text": [
            "Downloading data from https://cv-datasets-2021.s3.amazonaws.com/images.tar.gz\n",
            "833052672/833046463 [==============================] - 17s 0us/step\n",
            "833060864/833046463 [==============================] - 17s 0us/step\n"
          ]
        }
      ]
    },
    {
      "cell_type": "code",
      "source": [
        "yt_images_dataset_url = \"https://cv-datasets-2021.s3.amazonaws.com/yt_images.tar.gz\"\n",
        "yt_images_data_dir = tf.keras.utils.get_file(origin=yt_images_dataset_url,\n",
        "                                   fname='yt_images',\n",
        "                                   untar=True)\n",
        "yt_images_data_dir = pathlib.Path(yt_images_data_dir)"
      ],
      "metadata": {
        "colab": {
          "base_uri": "https://localhost:8080/"
        },
        "id": "wR0GlGtWgp9C",
        "outputId": "2325ec2c-0a8b-4ca9-da07-7445190b97a2"
      },
      "execution_count": null,
      "outputs": [
        {
          "output_type": "stream",
          "name": "stdout",
          "text": [
            "Downloading data from https://cv-datasets-2021.s3.amazonaws.com/yt_images.tar.gz\n",
            " 292052992/4026992587 [=>............................] - ETA: 47s"
          ]
        }
      ]
    },
    {
      "cell_type": "code",
      "source": [
        "if sys.platform == 'darwin':\n",
        "  os.system(f\"dot_clean {images_data_dir}\")\n",
        "  os.system(f\"dot_clean {yt_images_data_dir}\")\n",
        "elif sys.platform.startswith(\"lin\"):\n",
        "  os.system(f\"cd {images_data_dir} && find . -type f -name '._*' -delete\")\n",
        "  os.system(f\"cd {yt_images_data_dir} && find . -type f -name '._*' -delete\")\n"
      ],
      "metadata": {
        "id": "TO0FsOzFgkLP"
      },
      "execution_count": null,
      "outputs": []
    },
    {
      "cell_type": "code",
      "source": [
        "image_count = len(list(images_data_dir.glob('*/*.jpg')))\n",
        "print(image_count)"
      ],
      "metadata": {
        "id": "Ef98wX12jI95"
      },
      "execution_count": null,
      "outputs": []
    },
    {
      "cell_type": "code",
      "source": [
        "yt_image_count = len(list(yt_images_data_dir.glob('*/*.jpg')))\n",
        "print(yt_image_count)"
      ],
      "metadata": {
        "id": "O0m9qMV9jRNJ"
      },
      "execution_count": null,
      "outputs": []
    },
    {
      "cell_type": "code",
      "source": [
        "df = pd.read_csv(\"https://cv-datasets-2021.s3.amazonaws.com/dataset.csv\")\n",
        "df.shape"
      ],
      "metadata": {
        "id": "H4DBG2Lkogb0"
      },
      "execution_count": null,
      "outputs": []
    },
    {
      "cell_type": "code",
      "source": [
        "df.head(2)"
      ],
      "metadata": {
        "id": "dRPCUNW7CtOO"
      },
      "execution_count": null,
      "outputs": []
    },
    {
      "cell_type": "code",
      "source": [
        "images = list(images_data_dir.glob('*/*.jpg'))\n",
        "yt_images = list(yt_images_data_dir.glob('*/*.jpg'))"
      ],
      "metadata": {
        "id": "ekUY7D5lpzwz"
      },
      "execution_count": null,
      "outputs": []
    },
    {
      "cell_type": "code",
      "source": [
        "min_height = 0\n",
        "max_height = 0\n",
        "min_width = 0\n",
        "max_width = 0\n",
        "for i, image in enumerate(images):\n",
        "  if i == 0:\n",
        "    min_height = h\n",
        "    max_height = h\n",
        "    min_width = w\n",
        "    max_width = w\n",
        "\n",
        "  w, h = PIL.Image.open(str(image)).size\n",
        "  if h <= min_height:\n",
        "    min_height = h\n",
        "  if h >= max_height:\n",
        "    max_height = h\n",
        "\n",
        "  if w <= min_width:\n",
        "    min_width = w\n",
        "  if w >= max_width:\n",
        "    max_width = w\n",
        "\n",
        "print(f\"min_height: {min_height}\")\n",
        "print(f\"min_width: {min_width}\")\n",
        "print(f\"max_height: {max_height}\")\n",
        "print(f\"max_width: {max_width}\")"
      ],
      "metadata": {
        "id": "FDpz4yme0wX7"
      },
      "execution_count": null,
      "outputs": []
    },
    {
      "cell_type": "code",
      "source": [
        "min_height = 0\n",
        "max_height = 0\n",
        "min_width = 0\n",
        "max_width = 0\n",
        "for i, image in enumerate(yt_images):\n",
        "  if i == 0:\n",
        "    min_height = h\n",
        "    max_height = h\n",
        "    min_width = w\n",
        "    max_width = w\n",
        "\n",
        "  w, h = PIL.Image.open(str(image)).size\n",
        "  if h <= min_height:\n",
        "    min_height = h\n",
        "  if h >= max_height:\n",
        "    max_height = h\n",
        "\n",
        "  if w <= min_width:\n",
        "    min_width = w\n",
        "  if w >= max_width:\n",
        "    max_width = w\n",
        "\n",
        "print(f\"min_height: {min_height}\")\n",
        "print(f\"min_width: {min_width}\")\n",
        "print(f\"max_height: {max_height}\")\n",
        "print(f\"max_width: {max_width}\")"
      ],
      "metadata": {
        "id": "zzLkutbX3PEM"
      },
      "execution_count": null,
      "outputs": []
    },
    {
      "cell_type": "code",
      "source": [
        "f_df = pd.DataFrame(columns = ['file_path', 'teeth', 'age_in_year', 'breed', 'height_in_inch', 'weight_in_kg'])\n",
        "for index, row in df.iterrows():\n",
        "  images = list(images_data_dir.glob(f\"{row['sku']}/*.jpg\"))\n",
        "  yt_images = list(yt_images_data_dir.glob(f\"{row['sku']}/*.jpg\"))\n",
        "\n",
        "  for image in images:\n",
        "    f_df = f_df.append({'file_path' : image, 'teeth' : row['teeth'], 'age_in_year' : row['age_in_year'], 'breed': row['breed'], 'height_in_inch': row['height_in_inch'], 'weight_in_kg': row['weight_in_kg']}, \n",
        "                ignore_index = True)\n",
        "    \n",
        "  for image in yt_images:\n",
        "    f_df = f_df.append({'file_path' : image, 'teeth' : row['teeth'], 'age_in_year' : row['age_in_year'], 'breed': row['breed'], 'height_in_inch': row['height_in_inch'], 'weight_in_kg': row['weight_in_kg']}, \n",
        "                ignore_index = True)\n"
      ],
      "metadata": {
        "id": "sTf9VTBJCSRP"
      },
      "execution_count": null,
      "outputs": []
    },
    {
      "cell_type": "code",
      "source": [
        "f_df.shape"
      ],
      "metadata": {
        "id": "cmd0yBH0CSNi"
      },
      "execution_count": null,
      "outputs": []
    },
    {
      "cell_type": "code",
      "source": [
        "f_df.head(1)"
      ],
      "metadata": {
        "id": "yLrlazxDCSIU"
      },
      "execution_count": null,
      "outputs": []
    },
    {
      "cell_type": "code",
      "source": [
        "train_df, valid_test_df = train_test_split(f_df, test_size=0.3)\n",
        "validation_df, test_df = train_test_split(valid_test_df, test_size=0.3)\n",
        "print(f\"train_df: {train_df.shape}\")\n",
        "print(f\"validation_df: {validation_df.shape}\")\n",
        "print(f\"test_df: {test_df.shape}\")"
      ],
      "metadata": {
        "id": "QgSiTmzzDrzA"
      },
      "execution_count": null,
      "outputs": []
    },
    {
      "cell_type": "code",
      "source": [
        "# min_height: 450\n",
        "# min_width: 800\n",
        "\n",
        "# input: [image, teeth]\n",
        "# outpur: [age_in_year, breed, height_in_inch, weight_in_kg]\n",
        "\n",
        "class CustomDataGen(tf.keras.utils.Sequence):\n",
        "    \n",
        "    def __init__(self, df, X_col, y_col,\n",
        "                 batch_size,\n",
        "                 input_size=(450, 800, 3), # (input_height, input_width, input_channel)\n",
        "                 shuffle=True):\n",
        "        \n",
        "        self.df = df.copy()\n",
        "        self.X_col = X_col\n",
        "        self.y_col = y_col\n",
        "        self.batch_size = batch_size\n",
        "        self.input_size = input_size\n",
        "        self.shuffle = shuffle\n",
        "        \n",
        "        self.n = len(self.df)\n",
        "        # self.n_teeth = df[X_col['teeth']].max()\n",
        "        # self.n_breed = df[y_col['breed']].nunique()\n",
        "    \n",
        "    def on_epoch_end(self):\n",
        "        if self.shuffle:\n",
        "            self.df = self.df.sample(frac=1).reset_index(drop=True)\n",
        "    \n",
        "    def __get_input(self, path, target_size):\n",
        "        image = tf.keras.preprocessing.image.load_img(path)\n",
        "        image_arr = tf.keras.preprocessing.image.img_to_array(image)\n",
        "\n",
        "        # image_arr = image_arr[ymin:ymin+h, xmin:xmin+w]\n",
        "        image_arr = tf.image.resize(image_arr,(target_size[0], target_size[1])).numpy()\n",
        "\n",
        "        return image_arr/255.\n",
        "    \n",
        "    def __get_output(self, label, num_classes):\n",
        "        return tf.keras.utils.to_categorical(label, num_classes=num_classes)\n",
        "    \n",
        "    def __get_data(self, batches):\n",
        "        # Generates data containing batch_size samples\n",
        "\n",
        "        path_batch = batches[self.X_col['file_path']]       \n",
        "        # teeth_batch = batches[self.X_col['teeth']]\n",
        "\n",
        "        # breed_batch = batches[self.y_col['breed']]\n",
        "        weight_in_kg_batch = batches[self.y_col['weight_in_kg']]\n",
        "        height_in_inch_batch = batches[self.y_col['height_in_inch']]\n",
        "        age_in_year_batch = batches[self.y_col['age_in_year']]\n",
        "\n",
        "        X0 = np.asarray([self.__get_input(x, self.input_size) for x in path_batch])\n",
        "\n",
        "        # y0_batch = np.asarray([self.__get_output(y, self.n_teeth) for y in teeth_batch])\n",
        "        # y1_batch = np.asarray([self.__get_output(y, self.n_breed) for y in breed_batch])\n",
        "\n",
        "        y0 = np.asarray([tf.cast(y, tf.float32) for y in weight_in_kg_batch])\n",
        "        y1 = np.asarray([tf.cast(y, tf.float32) for y in height_in_inch_batch])\n",
        "        y2 = np.asarray([tf.cast(y, tf.float32) for y in age_in_year_batch])\n",
        "\n",
        "        return X0, tuple([y0, y1, y2])\n",
        "    \n",
        "    def __getitem__(self, index):\n",
        "        \n",
        "        batches = self.df[index * self.batch_size:(index + 1) * self.batch_size]\n",
        "        X, y = self.__get_data(batches)        \n",
        "        return X, y\n",
        "    \n",
        "    def __len__(self):\n",
        "        return self.n // self.batch_size"
      ],
      "metadata": {
        "id": "L_8HLC9VT03R"
      },
      "execution_count": null,
      "outputs": []
    },
    {
      "cell_type": "code",
      "source": [
        "traingen = CustomDataGen(train_df,\n",
        "                         X_col={'file_path':'file_path', 'teeth': 'teeth'},\n",
        "                         y_col={'breed': 'breed', 'weight_in_kg': 'weight_in_kg', 'height_in_inch': 'height_in_inch', 'age_in_year': 'age_in_year'},\n",
        "                         batch_size=128, input_size=(450, 800, 3))"
      ],
      "metadata": {
        "id": "AG8j82VLZrPg"
      },
      "execution_count": null,
      "outputs": []
    },
    {
      "cell_type": "code",
      "source": [
        "testgen = CustomDataGen(test_df,\n",
        "                         X_col={'file_path':'file_path', 'teeth': 'teeth'},\n",
        "                         y_col={'breed': 'breed', 'weight_in_kg': 'weight_in_kg', 'height_in_inch': 'height_in_inch', 'age_in_year': 'age_in_year'},\n",
        "                         batch_size=128, input_size=(450, 800, 3))"
      ],
      "metadata": {
        "id": "tFSlX4JdayDJ"
      },
      "execution_count": null,
      "outputs": []
    },
    {
      "cell_type": "code",
      "source": [
        "validgen = CustomDataGen(validation_df,\n",
        "                         X_col={'file_path':'file_path', 'teeth': 'teeth'},\n",
        "                         y_col={'breed': 'breed', 'weight_in_kg': 'weight_in_kg', 'height_in_inch': 'height_in_inch', 'age_in_year': 'age_in_year'},\n",
        "                         batch_size=128, input_size=(450, 800, 3))"
      ],
      "metadata": {
        "id": "T3ELi9-GkkAz"
      },
      "execution_count": null,
      "outputs": []
    },
    {
      "cell_type": "code",
      "source": [
        "input = keras.Input(shape=(450, 800, 3), name=\"original_img\")\n",
        "x = layers.Conv2D(128, 3, activation=\"relu\")(input)\n",
        "x = layers.Conv2D(256, 3, activation=\"relu\")(x)\n",
        "x = layers.MaxPooling2D(3)(x)\n",
        "x = layers.Conv2D(256, 3, activation=\"relu\")(x)\n",
        "x = layers.Conv2D(128, 3, activation=\"relu\")(x)\n",
        "x = layers.GlobalMaxPooling2D()(x)\n",
        "\n",
        "out_a = keras.layers.Dense(1, activation='linear', name='wt_rg')(x)\n",
        "out_b = keras.layers.Dense(1, activation='linear', name='ht_rg')(x)\n",
        "out_c = keras.layers.Dense(1, activation='linear', name='ag_rg')(x)\n",
        "\n",
        "encoder = keras.Model( inputs = input, outputs = [out_a, out_b, out_c], name=\"encoder\")"
      ],
      "metadata": {
        "id": "QUdjf26kubkr"
      },
      "execution_count": null,
      "outputs": []
    },
    {
      "cell_type": "code",
      "source": [
        "encoder.compile(\n",
        "    loss = {\n",
        "        \"wt_rg\": tf.keras.losses.MeanSquaredError(),\n",
        "        \"ht_rg\": tf.keras.losses.MeanSquaredError(),\n",
        "        \"ag_rg\": tf.keras.losses.MeanSquaredError()\n",
        "    },\n",
        "\n",
        "    metrics = {\n",
        "        \"wt_rg\": 'mse',\n",
        "        \"ht_rg\": 'mse',\n",
        "        \"ag_rg\": 'mse'\n",
        "    },\n",
        "\n",
        "    optimizer = tf.keras.optimizers.Adam(learning_rate=0.001)\n",
        ")"
      ],
      "metadata": {
        "id": "h_LArmJdv0rX"
      },
      "execution_count": null,
      "outputs": []
    },
    {
      "cell_type": "code",
      "source": [
        "y0 = None\n",
        "y1 = None\n",
        "y2 = None\n",
        "x = None\n",
        "for X, y in traingen:\n",
        "  y0, y1, y2 = y\n",
        "  x = X\n",
        "  break\n",
        "encoder.fit(x, [y0, y1, y2], epochs=1, verbose=2, batch_size=10, validation_split=0.2)"
      ],
      "metadata": {
        "id": "qCJrbzNGwTTA"
      },
      "execution_count": null,
      "outputs": []
    },
    {
      "cell_type": "code",
      "source": [
        ""
      ],
      "metadata": {
        "id": "z3QOe-igxJ6H"
      },
      "execution_count": null,
      "outputs": []
    }
  ]
}