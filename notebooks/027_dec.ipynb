{
  "cells": [
    {
      "cell_type": "markdown",
      "metadata": {
        "id": "view-in-github",
        "colab_type": "text"
      },
      "source": [
        "<a href=\"https://colab.research.google.com/github/bhuiyanmobasshir94/Cow-weight-and-Breed-Prediction/blob/main/notebooks/027_dec.ipynb\" target=\"_parent\"><img src=\"https://colab.research.google.com/assets/colab-badge.svg\" alt=\"Open In Colab\"/></a>"
      ]
    },
    {
      "cell_type": "code",
      "execution_count": 77,
      "metadata": {
        "id": "B3W_pFmsfyih"
      },
      "outputs": [],
      "source": [
        "import numpy as np\n",
        "import pandas as pd\n",
        "import sys\n",
        "import os\n",
        "import PIL\n",
        "import PIL.Image\n",
        "import tensorflow as tf\n",
        "import tensorflow.keras as keras\n",
        "from tensorflow.keras import layers\n",
        "import tensorflow_datasets as tfds\n",
        "import pathlib\n",
        "from sklearn.model_selection import train_test_split\n",
        "from sklearn import preprocessing"
      ]
    },
    {
      "cell_type": "code",
      "source": [
        "## Globals \n",
        "YT_IMAGE_TO_TAKE = 4"
      ],
      "metadata": {
        "id": "5kYcqMyc1hS7"
      },
      "execution_count": 48,
      "outputs": []
    },
    {
      "cell_type": "code",
      "execution_count": 2,
      "metadata": {
        "colab": {
          "base_uri": "https://localhost:8080/"
        },
        "id": "-HJIoeP8gQX8",
        "outputId": "d96a1fe3-a2e0-4bf6-9b0a-17f9b98546a8"
      },
      "outputs": [
        {
          "output_type": "stream",
          "name": "stdout",
          "text": [
            "Downloading data from https://cv-datasets-2021.s3.amazonaws.com/images.tar.gz\n",
            "833052672/833046463 [==============================] - 16s 0us/step\n",
            "833060864/833046463 [==============================] - 16s 0us/step\n"
          ]
        }
      ],
      "source": [
        "images_dataset_url = \"https://cv-datasets-2021.s3.amazonaws.com/images.tar.gz\"\n",
        "images_data_dir = tf.keras.utils.get_file(origin=images_dataset_url,\n",
        "                                   fname='images',\n",
        "                                   untar=True)\n",
        "images_data_dir = pathlib.Path(images_data_dir)"
      ]
    },
    {
      "cell_type": "code",
      "execution_count": 3,
      "metadata": {
        "colab": {
          "base_uri": "https://localhost:8080/"
        },
        "id": "wR0GlGtWgp9C",
        "outputId": "21814458-494a-434d-ec83-7332e81feff3"
      },
      "outputs": [
        {
          "output_type": "stream",
          "name": "stdout",
          "text": [
            "Downloading data from https://cv-datasets-2021.s3.amazonaws.com/yt_images.tar.gz\n",
            "4026998784/4026992587 [==============================] - 64s 0us/step\n",
            "4027006976/4026992587 [==============================] - 64s 0us/step\n"
          ]
        }
      ],
      "source": [
        "yt_images_dataset_url = \"https://cv-datasets-2021.s3.amazonaws.com/yt_images.tar.gz\"\n",
        "yt_images_data_dir = tf.keras.utils.get_file(origin=yt_images_dataset_url,\n",
        "                                   fname='yt_images',\n",
        "                                   untar=True)\n",
        "yt_images_data_dir = pathlib.Path(yt_images_data_dir)"
      ]
    },
    {
      "cell_type": "code",
      "execution_count": 4,
      "metadata": {
        "id": "TO0FsOzFgkLP"
      },
      "outputs": [],
      "source": [
        "if sys.platform == 'darwin':\n",
        "  os.system(f\"dot_clean {images_data_dir}\")\n",
        "  os.system(f\"dot_clean {yt_images_data_dir}\")\n",
        "elif sys.platform.startswith(\"lin\"):\n",
        "  os.system(f\"cd {images_data_dir} && find . -type f -name '._*' -delete\")\n",
        "  os.system(f\"cd {yt_images_data_dir} && find . -type f -name '._*' -delete\")\n"
      ]
    },
    {
      "cell_type": "code",
      "execution_count": 49,
      "metadata": {
        "colab": {
          "base_uri": "https://localhost:8080/"
        },
        "id": "Ef98wX12jI95",
        "outputId": "f6e6fe5f-219f-4f59-f3be-756db2bfe4f5"
      },
      "outputs": [
        {
          "output_type": "stream",
          "name": "stdout",
          "text": [
            "2056\n"
          ]
        }
      ],
      "source": [
        "image_count = len(list(images_data_dir.glob('*/*.jpg')))\n",
        "print(image_count)"
      ]
    },
    {
      "cell_type": "code",
      "execution_count": 50,
      "metadata": {
        "colab": {
          "base_uri": "https://localhost:8080/"
        },
        "id": "O0m9qMV9jRNJ",
        "outputId": "31e42d34-8e74-46ac-d4a9-d5f003a769fd"
      },
      "outputs": [
        {
          "output_type": "stream",
          "name": "stdout",
          "text": [
            "15843\n"
          ]
        }
      ],
      "source": [
        "yt_image_count = len(list(yt_images_data_dir.glob('*/*.jpg')))\n",
        "print(yt_image_count)"
      ]
    },
    {
      "cell_type": "code",
      "execution_count": 51,
      "metadata": {
        "colab": {
          "base_uri": "https://localhost:8080/"
        },
        "id": "H4DBG2Lkogb0",
        "outputId": "33f6b58a-9ced-4811-869c-d7bd40fab513"
      },
      "outputs": [
        {
          "output_type": "execute_result",
          "data": {
            "text/plain": [
              "(513, 14)"
            ]
          },
          "metadata": {},
          "execution_count": 51
        }
      ],
      "source": [
        "df = pd.read_csv(\"https://cv-datasets-2021.s3.amazonaws.com/dataset.csv\")\n",
        "df.shape"
      ]
    },
    {
      "cell_type": "code",
      "execution_count": 52,
      "metadata": {
        "colab": {
          "base_uri": "https://localhost:8080/",
          "height": 112
        },
        "id": "dRPCUNW7CtOO",
        "outputId": "f7958572-7408-421d-892b-5d1f6e9e1aee"
      },
      "outputs": [
        {
          "output_type": "execute_result",
          "data": {
            "text/html": [
              "\n",
              "  <div id=\"df-b0ba5cc2-d21a-4908-aa25-b420d06a84cd\">\n",
              "    <div class=\"colab-df-container\">\n",
              "      <div>\n",
              "<style scoped>\n",
              "    .dataframe tbody tr th:only-of-type {\n",
              "        vertical-align: middle;\n",
              "    }\n",
              "\n",
              "    .dataframe tbody tr th {\n",
              "        vertical-align: top;\n",
              "    }\n",
              "\n",
              "    .dataframe thead th {\n",
              "        text-align: right;\n",
              "    }\n",
              "</style>\n",
              "<table border=\"1\" class=\"dataframe\">\n",
              "  <thead>\n",
              "    <tr style=\"text-align: right;\">\n",
              "      <th></th>\n",
              "      <th>sku</th>\n",
              "      <th>sex</th>\n",
              "      <th>color</th>\n",
              "      <th>breed</th>\n",
              "      <th>feed</th>\n",
              "      <th>age_in_year</th>\n",
              "      <th>teeth</th>\n",
              "      <th>height_in_inch</th>\n",
              "      <th>weight_in_kg</th>\n",
              "      <th>price</th>\n",
              "      <th>size</th>\n",
              "      <th>images_count</th>\n",
              "      <th>yt_images_count</th>\n",
              "      <th>total_images</th>\n",
              "    </tr>\n",
              "  </thead>\n",
              "  <tbody>\n",
              "    <tr>\n",
              "      <th>0</th>\n",
              "      <td>BLF 2340</td>\n",
              "      <td>MALE_BULL</td>\n",
              "      <td>RED</td>\n",
              "      <td>LOCAL</td>\n",
              "      <td>['JUMBOO', 'LUCERNE', 'NAPIER', 'SILAGE', 'STR...</td>\n",
              "      <td>2.0</td>\n",
              "      <td>2</td>\n",
              "      <td>50.9</td>\n",
              "      <td>270.0</td>\n",
              "      <td>19000.0</td>\n",
              "      <td>MEDIUM</td>\n",
              "      <td>4</td>\n",
              "      <td>0</td>\n",
              "      <td>4</td>\n",
              "    </tr>\n",
              "    <tr>\n",
              "      <th>1</th>\n",
              "      <td>BLF 2342</td>\n",
              "      <td>MALE_BULL</td>\n",
              "      <td>NON_RED</td>\n",
              "      <td>LOCAL</td>\n",
              "      <td>['JUMBOO', 'LUCERNE', 'NAPIER', 'SILAGE', 'STR...</td>\n",
              "      <td>2.0</td>\n",
              "      <td>2</td>\n",
              "      <td>52.0</td>\n",
              "      <td>256.0</td>\n",
              "      <td>18000.0</td>\n",
              "      <td>LARGE</td>\n",
              "      <td>4</td>\n",
              "      <td>31</td>\n",
              "      <td>35</td>\n",
              "    </tr>\n",
              "  </tbody>\n",
              "</table>\n",
              "</div>\n",
              "      <button class=\"colab-df-convert\" onclick=\"convertToInteractive('df-b0ba5cc2-d21a-4908-aa25-b420d06a84cd')\"\n",
              "              title=\"Convert this dataframe to an interactive table.\"\n",
              "              style=\"display:none;\">\n",
              "        \n",
              "  <svg xmlns=\"http://www.w3.org/2000/svg\" height=\"24px\"viewBox=\"0 0 24 24\"\n",
              "       width=\"24px\">\n",
              "    <path d=\"M0 0h24v24H0V0z\" fill=\"none\"/>\n",
              "    <path d=\"M18.56 5.44l.94 2.06.94-2.06 2.06-.94-2.06-.94-.94-2.06-.94 2.06-2.06.94zm-11 1L8.5 8.5l.94-2.06 2.06-.94-2.06-.94L8.5 2.5l-.94 2.06-2.06.94zm10 10l.94 2.06.94-2.06 2.06-.94-2.06-.94-.94-2.06-.94 2.06-2.06.94z\"/><path d=\"M17.41 7.96l-1.37-1.37c-.4-.4-.92-.59-1.43-.59-.52 0-1.04.2-1.43.59L10.3 9.45l-7.72 7.72c-.78.78-.78 2.05 0 2.83L4 21.41c.39.39.9.59 1.41.59.51 0 1.02-.2 1.41-.59l7.78-7.78 2.81-2.81c.8-.78.8-2.07 0-2.86zM5.41 20L4 18.59l7.72-7.72 1.47 1.35L5.41 20z\"/>\n",
              "  </svg>\n",
              "      </button>\n",
              "      \n",
              "  <style>\n",
              "    .colab-df-container {\n",
              "      display:flex;\n",
              "      flex-wrap:wrap;\n",
              "      gap: 12px;\n",
              "    }\n",
              "\n",
              "    .colab-df-convert {\n",
              "      background-color: #E8F0FE;\n",
              "      border: none;\n",
              "      border-radius: 50%;\n",
              "      cursor: pointer;\n",
              "      display: none;\n",
              "      fill: #1967D2;\n",
              "      height: 32px;\n",
              "      padding: 0 0 0 0;\n",
              "      width: 32px;\n",
              "    }\n",
              "\n",
              "    .colab-df-convert:hover {\n",
              "      background-color: #E2EBFA;\n",
              "      box-shadow: 0px 1px 2px rgba(60, 64, 67, 0.3), 0px 1px 3px 1px rgba(60, 64, 67, 0.15);\n",
              "      fill: #174EA6;\n",
              "    }\n",
              "\n",
              "    [theme=dark] .colab-df-convert {\n",
              "      background-color: #3B4455;\n",
              "      fill: #D2E3FC;\n",
              "    }\n",
              "\n",
              "    [theme=dark] .colab-df-convert:hover {\n",
              "      background-color: #434B5C;\n",
              "      box-shadow: 0px 1px 3px 1px rgba(0, 0, 0, 0.15);\n",
              "      filter: drop-shadow(0px 1px 2px rgba(0, 0, 0, 0.3));\n",
              "      fill: #FFFFFF;\n",
              "    }\n",
              "  </style>\n",
              "\n",
              "      <script>\n",
              "        const buttonEl =\n",
              "          document.querySelector('#df-b0ba5cc2-d21a-4908-aa25-b420d06a84cd button.colab-df-convert');\n",
              "        buttonEl.style.display =\n",
              "          google.colab.kernel.accessAllowed ? 'block' : 'none';\n",
              "\n",
              "        async function convertToInteractive(key) {\n",
              "          const element = document.querySelector('#df-b0ba5cc2-d21a-4908-aa25-b420d06a84cd');\n",
              "          const dataTable =\n",
              "            await google.colab.kernel.invokeFunction('convertToInteractive',\n",
              "                                                     [key], {});\n",
              "          if (!dataTable) return;\n",
              "\n",
              "          const docLinkHtml = 'Like what you see? Visit the ' +\n",
              "            '<a target=\"_blank\" href=https://colab.research.google.com/notebooks/data_table.ipynb>data table notebook</a>'\n",
              "            + ' to learn more about interactive tables.';\n",
              "          element.innerHTML = '';\n",
              "          dataTable['output_type'] = 'display_data';\n",
              "          await google.colab.output.renderOutput(dataTable, element);\n",
              "          const docLink = document.createElement('div');\n",
              "          docLink.innerHTML = docLinkHtml;\n",
              "          element.appendChild(docLink);\n",
              "        }\n",
              "      </script>\n",
              "    </div>\n",
              "  </div>\n",
              "  "
            ],
            "text/plain": [
              "        sku        sex    color  ... images_count yt_images_count  total_images\n",
              "0  BLF 2340  MALE_BULL      RED  ...            4               0             4\n",
              "1  BLF 2342  MALE_BULL  NON_RED  ...            4              31            35\n",
              "\n",
              "[2 rows x 14 columns]"
            ]
          },
          "metadata": {},
          "execution_count": 52
        }
      ],
      "source": [
        "df.head(2)"
      ]
    },
    {
      "cell_type": "code",
      "execution_count": 53,
      "metadata": {
        "id": "ekUY7D5lpzwz"
      },
      "outputs": [],
      "source": [
        "images = list(images_data_dir.glob('*/*.jpg'))\n",
        "yt_images = list(yt_images_data_dir.glob('*/*.jpg'))"
      ]
    },
    {
      "cell_type": "code",
      "execution_count": 54,
      "metadata": {
        "colab": {
          "base_uri": "https://localhost:8080/"
        },
        "id": "FDpz4yme0wX7",
        "outputId": "aebd1322-5eb0-45ee-f0c4-3a682ed78038"
      },
      "outputs": [
        {
          "output_type": "stream",
          "name": "stdout",
          "text": [
            "min_height: 450\n",
            "min_width: 800\n",
            "max_height: 675\n",
            "max_width: 1200\n"
          ]
        }
      ],
      "source": [
        "min_height = 0\n",
        "max_height = 0\n",
        "min_width = 0\n",
        "max_width = 0\n",
        "for i, image in enumerate(images):\n",
        "  w, h = PIL.Image.open(str(image)).size\n",
        "  if i == 0:\n",
        "    min_height = h\n",
        "    max_height = h\n",
        "    min_width = w\n",
        "    max_width = w\n",
        "  \n",
        "  if h <= min_height:\n",
        "    min_height = h\n",
        "  if h >= max_height:\n",
        "    max_height = h\n",
        "\n",
        "  if w <= min_width:\n",
        "    min_width = w\n",
        "  if w >= max_width:\n",
        "    max_width = w\n",
        "\n",
        "print(f\"min_height: {min_height}\")\n",
        "print(f\"min_width: {min_width}\")\n",
        "print(f\"max_height: {max_height}\")\n",
        "print(f\"max_width: {max_width}\")"
      ]
    },
    {
      "cell_type": "code",
      "execution_count": 55,
      "metadata": {
        "colab": {
          "base_uri": "https://localhost:8080/"
        },
        "id": "zzLkutbX3PEM",
        "outputId": "d2d53302-1f3b-4d44-860e-49e82b03dd32"
      },
      "outputs": [
        {
          "output_type": "stream",
          "name": "stdout",
          "text": [
            "min_height: 720\n",
            "min_width: 1280\n",
            "max_height: 720\n",
            "max_width: 1280\n"
          ]
        }
      ],
      "source": [
        "min_height = 0\n",
        "max_height = 0\n",
        "min_width = 0\n",
        "max_width = 0\n",
        "for i, image in enumerate(yt_images):\n",
        "  w, h = PIL.Image.open(str(image)).size\n",
        "  if i == 0:\n",
        "    min_height = h\n",
        "    max_height = h\n",
        "    min_width = w\n",
        "    max_width = w\n",
        "\n",
        "  if h <= min_height:\n",
        "    min_height = h\n",
        "  if h >= max_height:\n",
        "    max_height = h\n",
        "\n",
        "  if w <= min_width:\n",
        "    min_width = w\n",
        "  if w >= max_width:\n",
        "    max_width = w\n",
        "\n",
        "print(f\"min_height: {min_height}\")\n",
        "print(f\"min_width: {min_width}\")\n",
        "print(f\"max_height: {max_height}\")\n",
        "print(f\"max_width: {max_width}\")"
      ]
    },
    {
      "cell_type": "code",
      "execution_count": 56,
      "metadata": {
        "id": "sTf9VTBJCSRP"
      },
      "outputs": [],
      "source": [
        "f_df = pd.DataFrame(columns = ['file_path', 'teeth', 'age_in_year', 'breed', 'height_in_inch', 'weight_in_kg'])\n",
        "for index, row in df.iterrows():\n",
        "  images = list(images_data_dir.glob(f\"{row['sku']}/*.jpg\"))\n",
        "  yt_images = list(yt_images_data_dir.glob(f\"{row['sku']}/*.jpg\"))\n",
        "\n",
        "  for image in images:\n",
        "    f_df = f_df.append({'file_path' : image, 'teeth' : row['teeth'], 'age_in_year' : row['age_in_year'], 'breed': row['breed'], 'height_in_inch': row['height_in_inch'], 'weight_in_kg': row['weight_in_kg']}, \n",
        "                ignore_index = True)\n",
        "    \n",
        "  for idx, image in enumerate(yt_images):\n",
        "    if idx == (YT_IMAGE_TO_TAKE - 1):\n",
        "      break\n",
        "    f_df = f_df.append({'file_path' : image, 'teeth' : row['teeth'], 'age_in_year' : row['age_in_year'], 'breed': row['breed'], 'height_in_inch': row['height_in_inch'], 'weight_in_kg': row['weight_in_kg']}, \n",
        "                ignore_index = True)\n"
      ]
    },
    {
      "cell_type": "code",
      "execution_count": 57,
      "metadata": {
        "colab": {
          "base_uri": "https://localhost:8080/"
        },
        "id": "cmd0yBH0CSNi",
        "outputId": "c8264a6f-a1bf-4485-bdc8-0182cc483efb"
      },
      "outputs": [
        {
          "output_type": "execute_result",
          "data": {
            "text/plain": [
              "(3585, 6)"
            ]
          },
          "metadata": {},
          "execution_count": 57
        }
      ],
      "source": [
        "f_df.shape"
      ]
    },
    {
      "cell_type": "code",
      "execution_count": 58,
      "metadata": {
        "colab": {
          "base_uri": "https://localhost:8080/",
          "height": 81
        },
        "id": "yLrlazxDCSIU",
        "outputId": "c8ddc6ec-221b-4b1e-ffb8-37157979b1f8"
      },
      "outputs": [
        {
          "output_type": "execute_result",
          "data": {
            "text/html": [
              "\n",
              "  <div id=\"df-20fc807e-b03b-4184-81f9-2692427f695b\">\n",
              "    <div class=\"colab-df-container\">\n",
              "      <div>\n",
              "<style scoped>\n",
              "    .dataframe tbody tr th:only-of-type {\n",
              "        vertical-align: middle;\n",
              "    }\n",
              "\n",
              "    .dataframe tbody tr th {\n",
              "        vertical-align: top;\n",
              "    }\n",
              "\n",
              "    .dataframe thead th {\n",
              "        text-align: right;\n",
              "    }\n",
              "</style>\n",
              "<table border=\"1\" class=\"dataframe\">\n",
              "  <thead>\n",
              "    <tr style=\"text-align: right;\">\n",
              "      <th></th>\n",
              "      <th>file_path</th>\n",
              "      <th>teeth</th>\n",
              "      <th>age_in_year</th>\n",
              "      <th>breed</th>\n",
              "      <th>height_in_inch</th>\n",
              "      <th>weight_in_kg</th>\n",
              "    </tr>\n",
              "  </thead>\n",
              "  <tbody>\n",
              "    <tr>\n",
              "      <th>0</th>\n",
              "      <td>/root/.keras/datasets/images/BLF 2340/BLF 2340...</td>\n",
              "      <td>2</td>\n",
              "      <td>2.0</td>\n",
              "      <td>LOCAL</td>\n",
              "      <td>50.9</td>\n",
              "      <td>270.0</td>\n",
              "    </tr>\n",
              "  </tbody>\n",
              "</table>\n",
              "</div>\n",
              "      <button class=\"colab-df-convert\" onclick=\"convertToInteractive('df-20fc807e-b03b-4184-81f9-2692427f695b')\"\n",
              "              title=\"Convert this dataframe to an interactive table.\"\n",
              "              style=\"display:none;\">\n",
              "        \n",
              "  <svg xmlns=\"http://www.w3.org/2000/svg\" height=\"24px\"viewBox=\"0 0 24 24\"\n",
              "       width=\"24px\">\n",
              "    <path d=\"M0 0h24v24H0V0z\" fill=\"none\"/>\n",
              "    <path d=\"M18.56 5.44l.94 2.06.94-2.06 2.06-.94-2.06-.94-.94-2.06-.94 2.06-2.06.94zm-11 1L8.5 8.5l.94-2.06 2.06-.94-2.06-.94L8.5 2.5l-.94 2.06-2.06.94zm10 10l.94 2.06.94-2.06 2.06-.94-2.06-.94-.94-2.06-.94 2.06-2.06.94z\"/><path d=\"M17.41 7.96l-1.37-1.37c-.4-.4-.92-.59-1.43-.59-.52 0-1.04.2-1.43.59L10.3 9.45l-7.72 7.72c-.78.78-.78 2.05 0 2.83L4 21.41c.39.39.9.59 1.41.59.51 0 1.02-.2 1.41-.59l7.78-7.78 2.81-2.81c.8-.78.8-2.07 0-2.86zM5.41 20L4 18.59l7.72-7.72 1.47 1.35L5.41 20z\"/>\n",
              "  </svg>\n",
              "      </button>\n",
              "      \n",
              "  <style>\n",
              "    .colab-df-container {\n",
              "      display:flex;\n",
              "      flex-wrap:wrap;\n",
              "      gap: 12px;\n",
              "    }\n",
              "\n",
              "    .colab-df-convert {\n",
              "      background-color: #E8F0FE;\n",
              "      border: none;\n",
              "      border-radius: 50%;\n",
              "      cursor: pointer;\n",
              "      display: none;\n",
              "      fill: #1967D2;\n",
              "      height: 32px;\n",
              "      padding: 0 0 0 0;\n",
              "      width: 32px;\n",
              "    }\n",
              "\n",
              "    .colab-df-convert:hover {\n",
              "      background-color: #E2EBFA;\n",
              "      box-shadow: 0px 1px 2px rgba(60, 64, 67, 0.3), 0px 1px 3px 1px rgba(60, 64, 67, 0.15);\n",
              "      fill: #174EA6;\n",
              "    }\n",
              "\n",
              "    [theme=dark] .colab-df-convert {\n",
              "      background-color: #3B4455;\n",
              "      fill: #D2E3FC;\n",
              "    }\n",
              "\n",
              "    [theme=dark] .colab-df-convert:hover {\n",
              "      background-color: #434B5C;\n",
              "      box-shadow: 0px 1px 3px 1px rgba(0, 0, 0, 0.15);\n",
              "      filter: drop-shadow(0px 1px 2px rgba(0, 0, 0, 0.3));\n",
              "      fill: #FFFFFF;\n",
              "    }\n",
              "  </style>\n",
              "\n",
              "      <script>\n",
              "        const buttonEl =\n",
              "          document.querySelector('#df-20fc807e-b03b-4184-81f9-2692427f695b button.colab-df-convert');\n",
              "        buttonEl.style.display =\n",
              "          google.colab.kernel.accessAllowed ? 'block' : 'none';\n",
              "\n",
              "        async function convertToInteractive(key) {\n",
              "          const element = document.querySelector('#df-20fc807e-b03b-4184-81f9-2692427f695b');\n",
              "          const dataTable =\n",
              "            await google.colab.kernel.invokeFunction('convertToInteractive',\n",
              "                                                     [key], {});\n",
              "          if (!dataTable) return;\n",
              "\n",
              "          const docLinkHtml = 'Like what you see? Visit the ' +\n",
              "            '<a target=\"_blank\" href=https://colab.research.google.com/notebooks/data_table.ipynb>data table notebook</a>'\n",
              "            + ' to learn more about interactive tables.';\n",
              "          element.innerHTML = '';\n",
              "          dataTable['output_type'] = 'display_data';\n",
              "          await google.colab.output.renderOutput(dataTable, element);\n",
              "          const docLink = document.createElement('div');\n",
              "          docLink.innerHTML = docLinkHtml;\n",
              "          element.appendChild(docLink);\n",
              "        }\n",
              "      </script>\n",
              "    </div>\n",
              "  </div>\n",
              "  "
            ],
            "text/plain": [
              "                                           file_path  ... weight_in_kg\n",
              "0  /root/.keras/datasets/images/BLF 2340/BLF 2340...  ...        270.0\n",
              "\n",
              "[1 rows x 6 columns]"
            ]
          },
          "metadata": {},
          "execution_count": 58
        }
      ],
      "source": [
        "f_df.head(1)"
      ]
    },
    {
      "cell_type": "code",
      "source": [
        "def label_encode(df):\n",
        "  teeth_le = preprocessing.LabelEncoder()\n",
        "  df['teeth']= teeth_le.fit_transform(df['teeth'])\n",
        "  breed_le = preprocessing.LabelEncoder()\n",
        "  df['breed']= breed_le.fit_transform(df['breed'])\n",
        "  age_in_year_le = preprocessing.LabelEncoder()\n",
        "  df['age_in_year']= age_in_year_le.fit_transform(df['age_in_year'])\n",
        "  print(teeth_le.classes_)\n",
        "  print(breed_le.classes_)\n",
        "  print(age_in_year_le.classes_)\n",
        "  return df\n",
        "\n",
        "def inverse_transform(le, series=[]):\n",
        "  return le.inverse_transform(series)\n"
      ],
      "metadata": {
        "id": "3uDbQNKIBCwF"
      },
      "execution_count": 78,
      "outputs": []
    },
    {
      "cell_type": "code",
      "source": [
        "f_df = label_encode(f_df)"
      ],
      "metadata": {
        "colab": {
          "base_uri": "https://localhost:8080/"
        },
        "id": "VOgAnGI2DK7n",
        "outputId": "3d0cdb25-0b4b-4d87-9a5c-467e1566460a"
      },
      "execution_count": 79,
      "outputs": [
        {
          "output_type": "stream",
          "name": "stdout",
          "text": [
            "[2 4 6]\n",
            "['BRAHMA' 'HOSTINE_CROSS' 'LOCAL' 'MIR_KADIM' 'PABNA_BREED'\n",
            " 'RED_CHITTAGONG' 'SAHIWAL' 'SINDHI']\n",
            "[2.  2.5 3. ]\n"
          ]
        }
      ]
    },
    {
      "cell_type": "code",
      "execution_count": 80,
      "metadata": {
        "colab": {
          "base_uri": "https://localhost:8080/"
        },
        "id": "QgSiTmzzDrzA",
        "outputId": "a6bac6b1-3ffb-4bf9-9545-094c4b81e127"
      },
      "outputs": [
        {
          "output_type": "stream",
          "name": "stdout",
          "text": [
            "train_df: (3226, 6)\n",
            "test_df: (359, 6)\n"
          ]
        }
      ],
      "source": [
        "# train_df, valid_test_df = train_test_split(f_df, test_size=0.3)\n",
        "# validation_df, test_df = train_test_split(valid_test_df, test_size=0.3)\n",
        "# print(f\"train_df: {train_df.shape}\")\n",
        "# print(f\"validation_df: {validation_df.shape}\")\n",
        "# print(f\"test_df: {test_df.shape}\")\n",
        "\n",
        "train_df, test_df = train_test_split(f_df, test_size=0.1)\n",
        "print(f\"train_df: {train_df.shape}\")\n",
        "print(f\"test_df: {test_df.shape}\")"
      ]
    },
    {
      "cell_type": "code",
      "execution_count": 60,
      "metadata": {
        "id": "L_8HLC9VT03R"
      },
      "outputs": [],
      "source": [
        "# min_height: 450\n",
        "# min_width: 800\n",
        "\n",
        "# input: [image, teeth]\n",
        "# outpur: [age_in_year, breed, height_in_inch, weight_in_kg]\n",
        "\n",
        "# class CustomDataGen(tf.keras.utils.Sequence):\n",
        "    \n",
        "#     def __init__(self, df, X_col, y_col,\n",
        "#                  batch_size,\n",
        "#                  input_size=(450, 800, 3), # (input_height, input_width, input_channel)\n",
        "#                  shuffle=True):\n",
        "        \n",
        "#         self.df = df.copy()\n",
        "#         self.X_col = X_col\n",
        "#         self.y_col = y_col\n",
        "#         self.batch_size = batch_size\n",
        "#         self.input_size = input_size\n",
        "#         self.shuffle = shuffle\n",
        "        \n",
        "#         self.n = len(self.df)\n",
        "#         # self.n_teeth = df[X_col['teeth']].max()\n",
        "#         # self.n_breed = df[y_col['breed']].nunique()\n",
        "    \n",
        "#     def on_epoch_end(self):\n",
        "#         if self.shuffle:\n",
        "#             self.df = self.df.sample(frac=1).reset_index(drop=True)\n",
        "    \n",
        "#     def __get_input(self, path, target_size):\n",
        "#         image = tf.keras.preprocessing.image.load_img(path)\n",
        "#         image_arr = tf.keras.preprocessing.image.img_to_array(image)\n",
        "\n",
        "#         # image_arr = image_arr[ymin:ymin+h, xmin:xmin+w]\n",
        "#         image_arr = tf.image.resize(image_arr,(target_size[0], target_size[1])).numpy()\n",
        "\n",
        "#         return image_arr/255.\n",
        "    \n",
        "#     def __get_output(self, label, num_classes):\n",
        "#         return tf.keras.utils.to_categorical(label, num_classes=num_classes)\n",
        "    \n",
        "#     def __get_data(self, batches):\n",
        "#         # Generates data containing batch_size samples\n",
        "\n",
        "#         path_batch = batches[self.X_col['file_path']]       \n",
        "#         # teeth_batch = batches[self.X_col['teeth']]\n",
        "\n",
        "#         # breed_batch = batches[self.y_col['breed']]\n",
        "#         weight_in_kg_batch = batches[self.y_col['weight_in_kg']]\n",
        "#         height_in_inch_batch = batches[self.y_col['height_in_inch']]\n",
        "#         age_in_year_batch = batches[self.y_col['age_in_year']]\n",
        "\n",
        "#         X0 = np.asarray([self.__get_input(x, self.input_size) for x in path_batch])\n",
        "\n",
        "#         # y0_batch = np.asarray([self.__get_output(y, self.n_teeth) for y in teeth_batch])\n",
        "#         # y1_batch = np.asarray([self.__get_output(y, self.n_breed) for y in breed_batch])\n",
        "\n",
        "#         y0 = np.asarray([tf.cast(y, tf.float32) for y in weight_in_kg_batch])\n",
        "#         y1 = np.asarray([tf.cast(y, tf.float32) for y in height_in_inch_batch])\n",
        "#         y2 = np.asarray([tf.cast(y, tf.float32) for y in age_in_year_batch])\n",
        "\n",
        "#         return X0, tuple([y0, y1, y2])\n",
        "    \n",
        "#     def __getitem__(self, index):\n",
        "        \n",
        "#         batches = self.df[index * self.batch_size:(index + 1) * self.batch_size]\n",
        "#         X, y = self.__get_data(batches)        \n",
        "#         return X, y\n",
        "    \n",
        "#     def __len__(self):\n",
        "#         return self.n // self.batch_size"
      ]
    },
    {
      "cell_type": "code",
      "execution_count": 61,
      "metadata": {
        "id": "AG8j82VLZrPg"
      },
      "outputs": [],
      "source": [
        "# traingen = CustomDataGen(train_df,\n",
        "#                          X_col={'file_path':'file_path', 'teeth': 'teeth'},\n",
        "#                          y_col={'breed': 'breed', 'weight_in_kg': 'weight_in_kg', 'height_in_inch': 'height_in_inch', 'age_in_year': 'age_in_year'},\n",
        "#                          batch_size=128, input_size=(450, 800, 3))"
      ]
    },
    {
      "cell_type": "code",
      "execution_count": 62,
      "metadata": {
        "id": "tFSlX4JdayDJ"
      },
      "outputs": [],
      "source": [
        "# testgen = CustomDataGen(test_df,\n",
        "#                          X_col={'file_path':'file_path', 'teeth': 'teeth'},\n",
        "#                          y_col={'breed': 'breed', 'weight_in_kg': 'weight_in_kg', 'height_in_inch': 'height_in_inch', 'age_in_year': 'age_in_year'},\n",
        "#                          batch_size=128, input_size=(450, 800, 3))"
      ]
    },
    {
      "cell_type": "code",
      "execution_count": 63,
      "metadata": {
        "id": "T3ELi9-GkkAz"
      },
      "outputs": [],
      "source": [
        "# validgen = CustomDataGen(validation_df,\n",
        "#                          X_col={'file_path':'file_path', 'teeth': 'teeth'},\n",
        "#                          y_col={'breed': 'breed', 'weight_in_kg': 'weight_in_kg', 'height_in_inch': 'height_in_inch', 'age_in_year': 'age_in_year'},\n",
        "#                          batch_size=128, input_size=(450, 800, 3))"
      ]
    },
    {
      "cell_type": "code",
      "execution_count": 108,
      "metadata": {
        "id": "YhNEK1P1o7ay"
      },
      "outputs": [],
      "source": [
        "def __get_input(path, target_size):\n",
        "  image = tf.keras.preprocessing.image.load_img(path)\n",
        "  image_arr = tf.keras.preprocessing.image.img_to_array(image)\n",
        "  image_arr = tf.image.resize(image_arr,(target_size[0], target_size[1])).numpy()\n",
        "  return image_arr/255.\n",
        "\n",
        "def data_loader(df, image_size=(450, 800, 3)):\n",
        "  y0 = tf.cast(df.weight_in_kg, tf.float32)\n",
        "  print(y0.shape)\n",
        "  y1 = tf.cast(df.height_in_inch, tf.float32)\n",
        "  print(y1.shape)\n",
        "  # y2 = tf.cast(df.age_in_year, tf.float32)\n",
        "  y2 = keras.utils.to_categorical(df.age_in_year)\n",
        "  print(y2.shape)\n",
        "  y3 = keras.utils.to_categorical(df.breed)\n",
        "  print(y3.shape)\n",
        "\n",
        "  path_batch = df.file_path\n",
        "  X0 = tf.cast([__get_input(x, image_size) for x in path_batch], tf.float32)\n",
        "  print(X0.shape)\n",
        "  X1 = keras.utils.to_categorical(df.teeth)\n",
        "  print(X1.shape)\n",
        "\n",
        "  return (X0, X1), (y0, y1, y2, y3)"
      ]
    },
    {
      "cell_type": "code",
      "execution_count": 109,
      "metadata": {
        "colab": {
          "base_uri": "https://localhost:8080/"
        },
        "id": "YwD7Wu5Xrb2n",
        "outputId": "657dd73c-48a2-45f4-898a-930b1541b21f"
      },
      "outputs": [
        {
          "output_type": "stream",
          "name": "stdout",
          "text": [
            "(3226,)\n",
            "(3226,)\n",
            "(3226, 3)\n",
            "(3226, 8)\n",
            "(3226, 150, 150, 3)\n",
            "(3226, 3)\n"
          ]
        }
      ],
      "source": [
        "(X0, X1), (y0, y1, y2, y3) = data_loader(train_df, (150, 150, 3))"
      ]
    },
    {
      "cell_type": "code",
      "execution_count": 143,
      "metadata": {
        "id": "QUdjf26kubkr"
      },
      "outputs": [],
      "source": [
        "# input = keras.Input(shape=(128, 128, 3), name=\"original_img\")\n",
        "# x = layers.Conv2D(64, 3, activation=\"relu\")(input)\n",
        "# x = layers.Conv2D(128, 3, activation=\"relu\")(x)\n",
        "# x = layers.MaxPooling2D(3)(x)\n",
        "# x = layers.Conv2D(128, 3, activation=\"relu\")(x)\n",
        "# x = layers.Conv2D(64, 3, activation=\"relu\")(x)\n",
        "# x = layers.GlobalMaxPooling2D()(x)\n",
        "\n",
        "input0 = keras.Input(shape=(150, 150, 3), name=\"img\")\n",
        "x = layers.Conv2D(32, 3, activation=\"relu\")(input0)\n",
        "x = layers.MaxPooling2D(2)(x)\n",
        "x = layers.Conv2D(32, 3, activation=\"relu\")(x)\n",
        "x = layers.MaxPooling2D(2)(x)\n",
        "x = layers.Conv2D(64, 3, activation=\"relu\")(x)\n",
        "x = layers.GlobalMaxPooling2D()(x)\n",
        "\n",
        "input1 = keras.Input(shape=(3,), name=\"teeth\")\n",
        "\n",
        "\n",
        "# out_a = keras.layers.Dense(1, activation='linear', name='wt_rg')(x)\n",
        "out_b = keras.layers.Dense(1, activation='linear', name='ht_rg')(x)\n",
        "# out_c = keras.layers.Dense(1, activation='linear', name='ag_rg')(x)\n",
        "out_c = keras.layers.Dense(3, activation='softmax', name='ag_3cls')(x)\n",
        "out_d = keras.layers.Dense(8, activation='softmax', name='brd_8cls')(x)\n",
        "\n",
        "encoder = keras.Model( inputs = [input0, input1] , outputs = [out_b, out_c, out_d], name=\"encoder\")"
      ]
    },
    {
      "cell_type": "code",
      "execution_count": 144,
      "metadata": {
        "id": "h_LArmJdv0rX"
      },
      "outputs": [],
      "source": [
        "encoder.compile(\n",
        "    loss = {\n",
        "        # \"wt_rg\": tf.keras.losses.MeanSquaredError(),\n",
        "        \"ht_rg\": tf.keras.losses.MeanSquaredError(),\n",
        "        # \"ag_rg\": tf.keras.losses.MeanSquaredError()\n",
        "        \"ag_3cls\": tf.keras.losses.CategoricalCrossentropy(),\n",
        "        \"brd_8cls\": tf.keras.losses.CategoricalCrossentropy()\n",
        "    },\n",
        "\n",
        "    metrics = {\n",
        "        # \"wt_rg\": 'mse',\n",
        "        \"ht_rg\": 'mse',\n",
        "        \"ag_3cls\": 'accuracy',\n",
        "        \"brd_8cls\": 'accuracy'\n",
        "    },\n",
        "\n",
        "    optimizer = tf.keras.optimizers.Adam(learning_rate=0.0001)\n",
        ")"
      ]
    },
    {
      "cell_type": "code",
      "execution_count": 145,
      "metadata": {
        "id": "avMTkBsrljNt",
        "colab": {
          "base_uri": "https://localhost:8080/"
        },
        "outputId": "a32f8f94-9d5a-4d79-9fad-6856749c129a"
      },
      "outputs": [
        {
          "output_type": "stream",
          "name": "stdout",
          "text": [
            "Epoch 1/200\n",
            "81/81 - 8s - loss: 1854.9453 - ht_rg_loss: 1851.5537 - ag_3cls_loss: 1.3661 - brd_8cls_loss: 2.0252 - ht_rg_mse: 1851.5537 - ag_3cls_accuracy: 0.2496 - brd_8cls_accuracy: 0.1081 - val_loss: 1026.7241 - val_ht_rg_loss: 1022.8545 - val_ag_3cls_loss: 2.1738 - val_brd_8cls_loss: 1.6958 - val_ht_rg_mse: 1022.8545 - val_ag_3cls_accuracy: 0.2415 - val_brd_8cls_accuracy: 0.6656 - 8s/epoch - 99ms/step\n",
            "Epoch 2/200\n",
            "81/81 - 3s - loss: 205.1328 - ht_rg_loss: 201.0383 - ag_3cls_loss: 2.4107 - brd_8cls_loss: 1.6837 - ht_rg_mse: 201.0383 - ag_3cls_accuracy: 0.2570 - brd_8cls_accuracy: 0.6919 - val_loss: 21.1234 - val_ht_rg_loss: 18.8579 - val_ag_3cls_loss: 0.7342 - val_brd_8cls_loss: 1.5313 - val_ht_rg_mse: 18.8579 - val_ag_3cls_accuracy: 0.7415 - val_brd_8cls_accuracy: 0.6796 - 3s/epoch - 42ms/step\n",
            "Epoch 3/200\n",
            "81/81 - 3s - loss: 21.4460 - ht_rg_loss: 19.5325 - ag_3cls_loss: 0.6561 - brd_8cls_loss: 1.2575 - ht_rg_mse: 19.5325 - ag_3cls_accuracy: 0.7380 - brd_8cls_accuracy: 0.6919 - val_loss: 20.2456 - val_ht_rg_loss: 18.4042 - val_ag_3cls_loss: 0.6255 - val_brd_8cls_loss: 1.2158 - val_ht_rg_mse: 18.4042 - val_ag_3cls_accuracy: 0.7477 - val_brd_8cls_accuracy: 0.6796 - 3s/epoch - 41ms/step\n",
            "Epoch 4/200\n",
            "81/81 - 3s - loss: 20.9834 - ht_rg_loss: 19.2296 - ag_3cls_loss: 0.6357 - brd_8cls_loss: 1.1182 - ht_rg_mse: 19.2296 - ag_3cls_accuracy: 0.7388 - brd_8cls_accuracy: 0.6919 - val_loss: 19.7958 - val_ht_rg_loss: 18.0030 - val_ag_3cls_loss: 0.6155 - val_brd_8cls_loss: 1.1773 - val_ht_rg_mse: 18.0030 - val_ag_3cls_accuracy: 0.7477 - val_brd_8cls_accuracy: 0.6796 - 3s/epoch - 41ms/step\n",
            "Epoch 5/200\n",
            "81/81 - 3s - loss: 20.4885 - ht_rg_loss: 18.7538 - ag_3cls_loss: 0.6271 - brd_8cls_loss: 1.1076 - ht_rg_mse: 18.7538 - ag_3cls_accuracy: 0.7388 - brd_8cls_accuracy: 0.6919 - val_loss: 19.1285 - val_ht_rg_loss: 17.3460 - val_ag_3cls_loss: 0.6116 - val_brd_8cls_loss: 1.1709 - val_ht_rg_mse: 17.3460 - val_ag_3cls_accuracy: 0.7477 - val_brd_8cls_accuracy: 0.6796 - 3s/epoch - 41ms/step\n",
            "Epoch 6/200\n",
            "81/81 - 3s - loss: 19.9343 - ht_rg_loss: 18.2066 - ag_3cls_loss: 0.6243 - brd_8cls_loss: 1.1033 - ht_rg_mse: 18.2066 - ag_3cls_accuracy: 0.7388 - brd_8cls_accuracy: 0.6919 - val_loss: 18.4508 - val_ht_rg_loss: 16.6726 - val_ag_3cls_loss: 0.6104 - val_brd_8cls_loss: 1.1678 - val_ht_rg_mse: 16.6726 - val_ag_3cls_accuracy: 0.7477 - val_brd_8cls_accuracy: 0.6796 - 3s/epoch - 37ms/step\n",
            "Epoch 7/200\n",
            "81/81 - 3s - loss: 19.3690 - ht_rg_loss: 17.6438 - ag_3cls_loss: 0.6238 - brd_8cls_loss: 1.1014 - ht_rg_mse: 17.6438 - ag_3cls_accuracy: 0.7388 - brd_8cls_accuracy: 0.6919 - val_loss: 17.9210 - val_ht_rg_loss: 16.1502 - val_ag_3cls_loss: 0.6095 - val_brd_8cls_loss: 1.1612 - val_ht_rg_mse: 16.1502 - val_ag_3cls_accuracy: 0.7477 - val_brd_8cls_accuracy: 0.6796 - 3s/epoch - 37ms/step\n",
            "Epoch 8/200\n",
            "81/81 - 4s - loss: 18.7182 - ht_rg_loss: 16.9966 - ag_3cls_loss: 0.6234 - brd_8cls_loss: 1.0981 - ht_rg_mse: 16.9966 - ag_3cls_accuracy: 0.7388 - brd_8cls_accuracy: 0.6919 - val_loss: 17.1261 - val_ht_rg_loss: 15.3576 - val_ag_3cls_loss: 0.6097 - val_brd_8cls_loss: 1.1589 - val_ht_rg_mse: 15.3576 - val_ag_3cls_accuracy: 0.7477 - val_brd_8cls_accuracy: 0.6796 - 4s/epoch - 44ms/step\n",
            "Epoch 9/200\n",
            "81/81 - 3s - loss: 18.2046 - ht_rg_loss: 16.4848 - ag_3cls_loss: 0.6231 - brd_8cls_loss: 1.0966 - ht_rg_mse: 16.4848 - ag_3cls_accuracy: 0.7388 - brd_8cls_accuracy: 0.6919 - val_loss: 16.7880 - val_ht_rg_loss: 15.0257 - val_ag_3cls_loss: 0.6086 - val_brd_8cls_loss: 1.1537 - val_ht_rg_mse: 15.0257 - val_ag_3cls_accuracy: 0.7477 - val_brd_8cls_accuracy: 0.6796 - 3s/epoch - 43ms/step\n",
            "Epoch 10/200\n",
            "81/81 - 4s - loss: 18.0865 - ht_rg_loss: 16.3679 - ag_3cls_loss: 0.6232 - brd_8cls_loss: 1.0953 - ht_rg_mse: 16.3679 - ag_3cls_accuracy: 0.7388 - brd_8cls_accuracy: 0.6919 - val_loss: 16.5916 - val_ht_rg_loss: 14.8360 - val_ag_3cls_loss: 0.6090 - val_brd_8cls_loss: 1.1466 - val_ht_rg_mse: 14.8360 - val_ag_3cls_accuracy: 0.7477 - val_brd_8cls_accuracy: 0.6796 - 4s/epoch - 48ms/step\n",
            "Epoch 11/200\n",
            "81/81 - 4s - loss: 17.8429 - ht_rg_loss: 16.1263 - ag_3cls_loss: 0.6226 - brd_8cls_loss: 1.0939 - ht_rg_mse: 16.1263 - ag_3cls_accuracy: 0.7388 - brd_8cls_accuracy: 0.6919 - val_loss: 16.5058 - val_ht_rg_loss: 14.7545 - val_ag_3cls_loss: 0.6090 - val_brd_8cls_loss: 1.1423 - val_ht_rg_mse: 14.7545 - val_ag_3cls_accuracy: 0.7477 - val_brd_8cls_accuracy: 0.6796 - 4s/epoch - 44ms/step\n",
            "Epoch 12/200\n",
            "81/81 - 3s - loss: 17.6394 - ht_rg_loss: 15.9228 - ag_3cls_loss: 0.6230 - brd_8cls_loss: 1.0936 - ht_rg_mse: 15.9228 - ag_3cls_accuracy: 0.7388 - brd_8cls_accuracy: 0.6919 - val_loss: 16.1840 - val_ht_rg_loss: 14.4351 - val_ag_3cls_loss: 0.6105 - val_brd_8cls_loss: 1.1385 - val_ht_rg_mse: 14.4351 - val_ag_3cls_accuracy: 0.7477 - val_brd_8cls_accuracy: 0.6796 - 3s/epoch - 42ms/step\n",
            "Epoch 13/200\n",
            "81/81 - 4s - loss: 17.5710 - ht_rg_loss: 15.8544 - ag_3cls_loss: 0.6230 - brd_8cls_loss: 1.0936 - ht_rg_mse: 15.8544 - ag_3cls_accuracy: 0.7388 - brd_8cls_accuracy: 0.6919 - val_loss: 16.1122 - val_ht_rg_loss: 14.3671 - val_ag_3cls_loss: 0.6093 - val_brd_8cls_loss: 1.1358 - val_ht_rg_mse: 14.3671 - val_ag_3cls_accuracy: 0.7477 - val_brd_8cls_accuracy: 0.6796 - 4s/epoch - 44ms/step\n",
            "Epoch 14/200\n",
            "81/81 - 4s - loss: 17.4286 - ht_rg_loss: 15.7113 - ag_3cls_loss: 0.6227 - brd_8cls_loss: 1.0946 - ht_rg_mse: 15.7113 - ag_3cls_accuracy: 0.7388 - brd_8cls_accuracy: 0.6919 - val_loss: 16.3316 - val_ht_rg_loss: 14.5872 - val_ag_3cls_loss: 0.6095 - val_brd_8cls_loss: 1.1348 - val_ht_rg_mse: 14.5872 - val_ag_3cls_accuracy: 0.7477 - val_brd_8cls_accuracy: 0.6796 - 4s/epoch - 45ms/step\n",
            "Epoch 15/200\n",
            "81/81 - 3s - loss: 17.3843 - ht_rg_loss: 15.6662 - ag_3cls_loss: 0.6226 - brd_8cls_loss: 1.0955 - ht_rg_mse: 15.6662 - ag_3cls_accuracy: 0.7388 - brd_8cls_accuracy: 0.6919 - val_loss: 16.6440 - val_ht_rg_loss: 14.8983 - val_ag_3cls_loss: 0.6092 - val_brd_8cls_loss: 1.1365 - val_ht_rg_mse: 14.8983 - val_ag_3cls_accuracy: 0.7477 - val_brd_8cls_accuracy: 0.6796 - 3s/epoch - 43ms/step\n",
            "Epoch 16/200\n",
            "81/81 - 3s - loss: 17.4964 - ht_rg_loss: 15.7813 - ag_3cls_loss: 0.6231 - brd_8cls_loss: 1.0919 - ht_rg_mse: 15.7813 - ag_3cls_accuracy: 0.7388 - brd_8cls_accuracy: 0.6919 - val_loss: 15.8654 - val_ht_rg_loss: 14.1219 - val_ag_3cls_loss: 0.6088 - val_brd_8cls_loss: 1.1348 - val_ht_rg_mse: 14.1219 - val_ag_3cls_accuracy: 0.7477 - val_brd_8cls_accuracy: 0.6796 - 3s/epoch - 41ms/step\n",
            "Epoch 17/200\n",
            "81/81 - 4s - loss: 17.1725 - ht_rg_loss: 15.4578 - ag_3cls_loss: 0.6228 - brd_8cls_loss: 1.0919 - ht_rg_mse: 15.4578 - ag_3cls_accuracy: 0.7388 - brd_8cls_accuracy: 0.6919 - val_loss: 15.9998 - val_ht_rg_loss: 14.2570 - val_ag_3cls_loss: 0.6092 - val_brd_8cls_loss: 1.1335 - val_ht_rg_mse: 14.2570 - val_ag_3cls_accuracy: 0.7477 - val_brd_8cls_accuracy: 0.6796 - 4s/epoch - 45ms/step\n",
            "Epoch 18/200\n",
            "81/81 - 3s - loss: 17.0663 - ht_rg_loss: 15.3502 - ag_3cls_loss: 0.6238 - brd_8cls_loss: 1.0923 - ht_rg_mse: 15.3502 - ag_3cls_accuracy: 0.7388 - brd_8cls_accuracy: 0.6919 - val_loss: 15.9062 - val_ht_rg_loss: 14.1650 - val_ag_3cls_loss: 0.6091 - val_brd_8cls_loss: 1.1322 - val_ht_rg_mse: 14.1650 - val_ag_3cls_accuracy: 0.7477 - val_brd_8cls_accuracy: 0.6796 - 3s/epoch - 41ms/step\n",
            "Epoch 19/200\n",
            "81/81 - 3s - loss: 17.0566 - ht_rg_loss: 15.3397 - ag_3cls_loss: 0.6230 - brd_8cls_loss: 1.0939 - ht_rg_mse: 15.3397 - ag_3cls_accuracy: 0.7388 - brd_8cls_accuracy: 0.6919 - val_loss: 15.6715 - val_ht_rg_loss: 13.9272 - val_ag_3cls_loss: 0.6089 - val_brd_8cls_loss: 1.1354 - val_ht_rg_mse: 13.9272 - val_ag_3cls_accuracy: 0.7477 - val_brd_8cls_accuracy: 0.6796 - 3s/epoch - 39ms/step\n",
            "Epoch 20/200\n",
            "81/81 - 3s - loss: 17.0201 - ht_rg_loss: 15.3047 - ag_3cls_loss: 0.6231 - brd_8cls_loss: 1.0922 - ht_rg_mse: 15.3047 - ag_3cls_accuracy: 0.7388 - brd_8cls_accuracy: 0.6919 - val_loss: 15.6144 - val_ht_rg_loss: 13.8711 - val_ag_3cls_loss: 0.6088 - val_brd_8cls_loss: 1.1345 - val_ht_rg_mse: 13.8711 - val_ag_3cls_accuracy: 0.7477 - val_brd_8cls_accuracy: 0.6796 - 3s/epoch - 36ms/step\n",
            "Epoch 21/200\n",
            "81/81 - 3s - loss: 16.9785 - ht_rg_loss: 15.2615 - ag_3cls_loss: 0.6229 - brd_8cls_loss: 1.0940 - ht_rg_mse: 15.2615 - ag_3cls_accuracy: 0.7388 - brd_8cls_accuracy: 0.6919 - val_loss: 15.5764 - val_ht_rg_loss: 13.8322 - val_ag_3cls_loss: 0.6097 - val_brd_8cls_loss: 1.1345 - val_ht_rg_mse: 13.8322 - val_ag_3cls_accuracy: 0.7477 - val_brd_8cls_accuracy: 0.6796 - 3s/epoch - 37ms/step\n",
            "Epoch 22/200\n",
            "81/81 - 3s - loss: 16.8609 - ht_rg_loss: 15.1445 - ag_3cls_loss: 0.6243 - brd_8cls_loss: 1.0921 - ht_rg_mse: 15.1445 - ag_3cls_accuracy: 0.7388 - brd_8cls_accuracy: 0.6919 - val_loss: 15.5861 - val_ht_rg_loss: 13.8436 - val_ag_3cls_loss: 0.6097 - val_brd_8cls_loss: 1.1328 - val_ht_rg_mse: 13.8436 - val_ag_3cls_accuracy: 0.7477 - val_brd_8cls_accuracy: 0.6796 - 3s/epoch - 37ms/step\n",
            "Epoch 23/200\n",
            "81/81 - 3s - loss: 16.9119 - ht_rg_loss: 15.1957 - ag_3cls_loss: 0.6232 - brd_8cls_loss: 1.0929 - ht_rg_mse: 15.1957 - ag_3cls_accuracy: 0.7388 - brd_8cls_accuracy: 0.6919 - val_loss: 15.5781 - val_ht_rg_loss: 13.8297 - val_ag_3cls_loss: 0.6089 - val_brd_8cls_loss: 1.1394 - val_ht_rg_mse: 13.8297 - val_ag_3cls_accuracy: 0.7477 - val_brd_8cls_accuracy: 0.6796 - 3s/epoch - 37ms/step\n",
            "Epoch 24/200\n",
            "81/81 - 3s - loss: 16.6955 - ht_rg_loss: 14.9795 - ag_3cls_loss: 0.6235 - brd_8cls_loss: 1.0926 - ht_rg_mse: 14.9795 - ag_3cls_accuracy: 0.7388 - brd_8cls_accuracy: 0.6919 - val_loss: 15.3733 - val_ht_rg_loss: 13.6308 - val_ag_3cls_loss: 0.6094 - val_brd_8cls_loss: 1.1331 - val_ht_rg_mse: 13.6308 - val_ag_3cls_accuracy: 0.7477 - val_brd_8cls_accuracy: 0.6796 - 3s/epoch - 37ms/step\n",
            "Epoch 25/200\n",
            "81/81 - 3s - loss: 16.7343 - ht_rg_loss: 15.0191 - ag_3cls_loss: 0.6229 - brd_8cls_loss: 1.0922 - ht_rg_mse: 15.0191 - ag_3cls_accuracy: 0.7388 - brd_8cls_accuracy: 0.6919 - val_loss: 15.3386 - val_ht_rg_loss: 13.5950 - val_ag_3cls_loss: 0.6089 - val_brd_8cls_loss: 1.1347 - val_ht_rg_mse: 13.5950 - val_ag_3cls_accuracy: 0.7477 - val_brd_8cls_accuracy: 0.6796 - 3s/epoch - 37ms/step\n",
            "Epoch 26/200\n",
            "81/81 - 3s - loss: 16.5976 - ht_rg_loss: 14.8810 - ag_3cls_loss: 0.6234 - brd_8cls_loss: 1.0932 - ht_rg_mse: 14.8810 - ag_3cls_accuracy: 0.7388 - brd_8cls_accuracy: 0.6919 - val_loss: 15.3750 - val_ht_rg_loss: 13.6312 - val_ag_3cls_loss: 0.6092 - val_brd_8cls_loss: 1.1346 - val_ht_rg_mse: 13.6312 - val_ag_3cls_accuracy: 0.7477 - val_brd_8cls_accuracy: 0.6796 - 3s/epoch - 37ms/step\n",
            "Epoch 27/200\n",
            "81/81 - 3s - loss: 16.8205 - ht_rg_loss: 15.1053 - ag_3cls_loss: 0.6234 - brd_8cls_loss: 1.0918 - ht_rg_mse: 15.1053 - ag_3cls_accuracy: 0.7388 - brd_8cls_accuracy: 0.6919 - val_loss: 15.2807 - val_ht_rg_loss: 13.5360 - val_ag_3cls_loss: 0.6092 - val_brd_8cls_loss: 1.1355 - val_ht_rg_mse: 13.5360 - val_ag_3cls_accuracy: 0.7477 - val_brd_8cls_accuracy: 0.6796 - 3s/epoch - 37ms/step\n",
            "Epoch 28/200\n",
            "81/81 - 3s - loss: 16.4965 - ht_rg_loss: 14.7805 - ag_3cls_loss: 0.6233 - brd_8cls_loss: 1.0927 - ht_rg_mse: 14.7805 - ag_3cls_accuracy: 0.7388 - brd_8cls_accuracy: 0.6919 - val_loss: 15.8978 - val_ht_rg_loss: 14.1523 - val_ag_3cls_loss: 0.6090 - val_brd_8cls_loss: 1.1364 - val_ht_rg_mse: 14.1523 - val_ag_3cls_accuracy: 0.7477 - val_brd_8cls_accuracy: 0.6796 - 3s/epoch - 37ms/step\n",
            "Epoch 29/200\n",
            "81/81 - 3s - loss: 16.4270 - ht_rg_loss: 14.7114 - ag_3cls_loss: 0.6229 - brd_8cls_loss: 1.0927 - ht_rg_mse: 14.7114 - ag_3cls_accuracy: 0.7388 - brd_8cls_accuracy: 0.6919 - val_loss: 15.2115 - val_ht_rg_loss: 13.4679 - val_ag_3cls_loss: 0.6093 - val_brd_8cls_loss: 1.1342 - val_ht_rg_mse: 13.4679 - val_ag_3cls_accuracy: 0.7477 - val_brd_8cls_accuracy: 0.6796 - 3s/epoch - 37ms/step\n",
            "Epoch 30/200\n",
            "81/81 - 3s - loss: 16.4527 - ht_rg_loss: 14.7367 - ag_3cls_loss: 0.6235 - brd_8cls_loss: 1.0926 - ht_rg_mse: 14.7367 - ag_3cls_accuracy: 0.7388 - brd_8cls_accuracy: 0.6919 - val_loss: 15.9157 - val_ht_rg_loss: 14.1748 - val_ag_3cls_loss: 0.6095 - val_brd_8cls_loss: 1.1314 - val_ht_rg_mse: 14.1748 - val_ag_3cls_accuracy: 0.7477 - val_brd_8cls_accuracy: 0.6796 - 3s/epoch - 40ms/step\n",
            "Epoch 31/200\n",
            "81/81 - 3s - loss: 16.4772 - ht_rg_loss: 14.7602 - ag_3cls_loss: 0.6225 - brd_8cls_loss: 1.0945 - ht_rg_mse: 14.7602 - ag_3cls_accuracy: 0.7388 - brd_8cls_accuracy: 0.6919 - val_loss: 15.0604 - val_ht_rg_loss: 13.3144 - val_ag_3cls_loss: 0.6090 - val_brd_8cls_loss: 1.1370 - val_ht_rg_mse: 13.3144 - val_ag_3cls_accuracy: 0.7477 - val_brd_8cls_accuracy: 0.6796 - 3s/epoch - 37ms/step\n",
            "Epoch 32/200\n",
            "81/81 - 3s - loss: 16.3311 - ht_rg_loss: 14.6179 - ag_3cls_loss: 0.6223 - brd_8cls_loss: 1.0908 - ht_rg_mse: 14.6179 - ag_3cls_accuracy: 0.7388 - brd_8cls_accuracy: 0.6919 - val_loss: 15.0490 - val_ht_rg_loss: 13.2980 - val_ag_3cls_loss: 0.6171 - val_brd_8cls_loss: 1.1339 - val_ht_rg_mse: 13.2980 - val_ag_3cls_accuracy: 0.7477 - val_brd_8cls_accuracy: 0.6796 - 3s/epoch - 37ms/step\n",
            "Epoch 33/200\n",
            "81/81 - 3s - loss: 16.2378 - ht_rg_loss: 14.5228 - ag_3cls_loss: 0.6235 - brd_8cls_loss: 1.0915 - ht_rg_mse: 14.5228 - ag_3cls_accuracy: 0.7388 - brd_8cls_accuracy: 0.6919 - val_loss: 15.3378 - val_ht_rg_loss: 13.5944 - val_ag_3cls_loss: 0.6089 - val_brd_8cls_loss: 1.1345 - val_ht_rg_mse: 13.5944 - val_ag_3cls_accuracy: 0.7477 - val_brd_8cls_accuracy: 0.6796 - 3s/epoch - 37ms/step\n",
            "Epoch 34/200\n",
            "81/81 - 3s - loss: 16.1352 - ht_rg_loss: 14.4203 - ag_3cls_loss: 0.6238 - brd_8cls_loss: 1.0911 - ht_rg_mse: 14.4203 - ag_3cls_accuracy: 0.7388 - brd_8cls_accuracy: 0.6919 - val_loss: 14.9071 - val_ht_rg_loss: 13.1652 - val_ag_3cls_loss: 0.6100 - val_brd_8cls_loss: 1.1320 - val_ht_rg_mse: 13.1652 - val_ag_3cls_accuracy: 0.7477 - val_brd_8cls_accuracy: 0.6796 - 3s/epoch - 40ms/step\n",
            "Epoch 35/200\n",
            "81/81 - 3s - loss: 16.0916 - ht_rg_loss: 14.3765 - ag_3cls_loss: 0.6231 - brd_8cls_loss: 1.0920 - ht_rg_mse: 14.3765 - ag_3cls_accuracy: 0.7388 - brd_8cls_accuracy: 0.6919 - val_loss: 14.8711 - val_ht_rg_loss: 13.1221 - val_ag_3cls_loss: 0.6136 - val_brd_8cls_loss: 1.1354 - val_ht_rg_mse: 13.1221 - val_ag_3cls_accuracy: 0.7477 - val_brd_8cls_accuracy: 0.6796 - 3s/epoch - 37ms/step\n",
            "Epoch 36/200\n",
            "81/81 - 3s - loss: 16.1276 - ht_rg_loss: 14.4119 - ag_3cls_loss: 0.6234 - brd_8cls_loss: 1.0923 - ht_rg_mse: 14.4119 - ag_3cls_accuracy: 0.7388 - brd_8cls_accuracy: 0.6919 - val_loss: 14.7942 - val_ht_rg_loss: 13.0474 - val_ag_3cls_loss: 0.6097 - val_brd_8cls_loss: 1.1371 - val_ht_rg_mse: 13.0474 - val_ag_3cls_accuracy: 0.7477 - val_brd_8cls_accuracy: 0.6796 - 3s/epoch - 37ms/step\n",
            "Epoch 37/200\n",
            "81/81 - 3s - loss: 16.0120 - ht_rg_loss: 14.2959 - ag_3cls_loss: 0.6235 - brd_8cls_loss: 1.0926 - ht_rg_mse: 14.2959 - ag_3cls_accuracy: 0.7388 - brd_8cls_accuracy: 0.6919 - val_loss: 14.9781 - val_ht_rg_loss: 13.2323 - val_ag_3cls_loss: 0.6132 - val_brd_8cls_loss: 1.1325 - val_ht_rg_mse: 13.2323 - val_ag_3cls_accuracy: 0.7477 - val_brd_8cls_accuracy: 0.6796 - 3s/epoch - 37ms/step\n",
            "Epoch 38/200\n",
            "81/81 - 3s - loss: 15.8975 - ht_rg_loss: 14.1803 - ag_3cls_loss: 0.6233 - brd_8cls_loss: 1.0938 - ht_rg_mse: 14.1803 - ag_3cls_accuracy: 0.7388 - brd_8cls_accuracy: 0.6919 - val_loss: 14.8472 - val_ht_rg_loss: 13.0994 - val_ag_3cls_loss: 0.6128 - val_brd_8cls_loss: 1.1350 - val_ht_rg_mse: 13.0994 - val_ag_3cls_accuracy: 0.7477 - val_brd_8cls_accuracy: 0.6796 - 3s/epoch - 37ms/step\n",
            "Epoch 39/200\n",
            "81/81 - 3s - loss: 16.1102 - ht_rg_loss: 14.3959 - ag_3cls_loss: 0.6223 - brd_8cls_loss: 1.0920 - ht_rg_mse: 14.3959 - ag_3cls_accuracy: 0.7388 - brd_8cls_accuracy: 0.6919 - val_loss: 14.8857 - val_ht_rg_loss: 13.1392 - val_ag_3cls_loss: 0.6108 - val_brd_8cls_loss: 1.1358 - val_ht_rg_mse: 13.1392 - val_ag_3cls_accuracy: 0.7477 - val_brd_8cls_accuracy: 0.6796 - 3s/epoch - 37ms/step\n",
            "Epoch 40/200\n",
            "81/81 - 3s - loss: 15.7908 - ht_rg_loss: 14.0754 - ag_3cls_loss: 0.6235 - brd_8cls_loss: 1.0918 - ht_rg_mse: 14.0754 - ag_3cls_accuracy: 0.7388 - brd_8cls_accuracy: 0.6919 - val_loss: 14.6059 - val_ht_rg_loss: 12.8584 - val_ag_3cls_loss: 0.6145 - val_brd_8cls_loss: 1.1330 - val_ht_rg_mse: 12.8584 - val_ag_3cls_accuracy: 0.7477 - val_brd_8cls_accuracy: 0.6796 - 3s/epoch - 37ms/step\n",
            "Epoch 41/200\n",
            "81/81 - 3s - loss: 15.7819 - ht_rg_loss: 14.0663 - ag_3cls_loss: 0.6246 - brd_8cls_loss: 1.0910 - ht_rg_mse: 14.0663 - ag_3cls_accuracy: 0.7388 - brd_8cls_accuracy: 0.6919 - val_loss: 14.7115 - val_ht_rg_loss: 12.9657 - val_ag_3cls_loss: 0.6098 - val_brd_8cls_loss: 1.1360 - val_ht_rg_mse: 12.9657 - val_ag_3cls_accuracy: 0.7477 - val_brd_8cls_accuracy: 0.6796 - 3s/epoch - 37ms/step\n",
            "Epoch 42/200\n",
            "81/81 - 3s - loss: 15.8375 - ht_rg_loss: 14.1220 - ag_3cls_loss: 0.6230 - brd_8cls_loss: 1.0925 - ht_rg_mse: 14.1220 - ag_3cls_accuracy: 0.7388 - brd_8cls_accuracy: 0.6919 - val_loss: 14.8249 - val_ht_rg_loss: 13.0753 - val_ag_3cls_loss: 0.6091 - val_brd_8cls_loss: 1.1405 - val_ht_rg_mse: 13.0753 - val_ag_3cls_accuracy: 0.7477 - val_brd_8cls_accuracy: 0.6796 - 3s/epoch - 37ms/step\n",
            "Epoch 43/200\n",
            "81/81 - 3s - loss: 15.7429 - ht_rg_loss: 14.0270 - ag_3cls_loss: 0.6235 - brd_8cls_loss: 1.0924 - ht_rg_mse: 14.0270 - ag_3cls_accuracy: 0.7388 - brd_8cls_accuracy: 0.6919 - val_loss: 14.5141 - val_ht_rg_loss: 12.7699 - val_ag_3cls_loss: 0.6093 - val_brd_8cls_loss: 1.1349 - val_ht_rg_mse: 12.7699 - val_ag_3cls_accuracy: 0.7477 - val_brd_8cls_accuracy: 0.6796 - 3s/epoch - 37ms/step\n",
            "Epoch 44/200\n",
            "81/81 - 3s - loss: 15.6750 - ht_rg_loss: 13.9592 - ag_3cls_loss: 0.6234 - brd_8cls_loss: 1.0924 - ht_rg_mse: 13.9592 - ag_3cls_accuracy: 0.7388 - brd_8cls_accuracy: 0.6919 - val_loss: 14.9966 - val_ht_rg_loss: 13.2466 - val_ag_3cls_loss: 0.6119 - val_brd_8cls_loss: 1.1381 - val_ht_rg_mse: 13.2466 - val_ag_3cls_accuracy: 0.7477 - val_brd_8cls_accuracy: 0.6796 - 3s/epoch - 37ms/step\n",
            "Epoch 45/200\n",
            "81/81 - 3s - loss: 15.7224 - ht_rg_loss: 14.0066 - ag_3cls_loss: 0.6233 - brd_8cls_loss: 1.0925 - ht_rg_mse: 14.0066 - ag_3cls_accuracy: 0.7388 - brd_8cls_accuracy: 0.6919 - val_loss: 14.7430 - val_ht_rg_loss: 13.0001 - val_ag_3cls_loss: 0.6093 - val_brd_8cls_loss: 1.1336 - val_ht_rg_mse: 13.0001 - val_ag_3cls_accuracy: 0.7477 - val_brd_8cls_accuracy: 0.6796 - 3s/epoch - 37ms/step\n",
            "Epoch 46/200\n",
            "81/81 - 3s - loss: 15.5541 - ht_rg_loss: 13.8376 - ag_3cls_loss: 0.6231 - brd_8cls_loss: 1.0934 - ht_rg_mse: 13.8376 - ag_3cls_accuracy: 0.7388 - brd_8cls_accuracy: 0.6919 - val_loss: 14.3899 - val_ht_rg_loss: 12.6474 - val_ag_3cls_loss: 0.6099 - val_brd_8cls_loss: 1.1326 - val_ht_rg_mse: 12.6474 - val_ag_3cls_accuracy: 0.7477 - val_brd_8cls_accuracy: 0.6796 - 3s/epoch - 37ms/step\n",
            "Epoch 47/200\n",
            "81/81 - 3s - loss: 15.6201 - ht_rg_loss: 13.9008 - ag_3cls_loss: 0.6266 - brd_8cls_loss: 1.0927 - ht_rg_mse: 13.9008 - ag_3cls_accuracy: 0.7388 - brd_8cls_accuracy: 0.6919 - val_loss: 14.2867 - val_ht_rg_loss: 12.5411 - val_ag_3cls_loss: 0.6129 - val_brd_8cls_loss: 1.1328 - val_ht_rg_mse: 12.5411 - val_ag_3cls_accuracy: 0.7477 - val_brd_8cls_accuracy: 0.6796 - 3s/epoch - 37ms/step\n",
            "Epoch 48/200\n",
            "81/81 - 3s - loss: 15.3835 - ht_rg_loss: 13.6678 - ag_3cls_loss: 0.6246 - brd_8cls_loss: 1.0912 - ht_rg_mse: 13.6678 - ag_3cls_accuracy: 0.7388 - brd_8cls_accuracy: 0.6919 - val_loss: 14.5030 - val_ht_rg_loss: 12.7571 - val_ag_3cls_loss: 0.6095 - val_brd_8cls_loss: 1.1364 - val_ht_rg_mse: 12.7571 - val_ag_3cls_accuracy: 0.7477 - val_brd_8cls_accuracy: 0.6796 - 3s/epoch - 37ms/step\n",
            "Epoch 49/200\n",
            "81/81 - 3s - loss: 15.3618 - ht_rg_loss: 13.6436 - ag_3cls_loss: 0.6241 - brd_8cls_loss: 1.0941 - ht_rg_mse: 13.6436 - ag_3cls_accuracy: 0.7388 - brd_8cls_accuracy: 0.6919 - val_loss: 14.2305 - val_ht_rg_loss: 12.4805 - val_ag_3cls_loss: 0.6092 - val_brd_8cls_loss: 1.1408 - val_ht_rg_mse: 12.4805 - val_ag_3cls_accuracy: 0.7477 - val_brd_8cls_accuracy: 0.6796 - 3s/epoch - 37ms/step\n",
            "Epoch 50/200\n",
            "81/81 - 3s - loss: 15.3604 - ht_rg_loss: 13.6444 - ag_3cls_loss: 0.6233 - brd_8cls_loss: 1.0926 - ht_rg_mse: 13.6444 - ag_3cls_accuracy: 0.7388 - brd_8cls_accuracy: 0.6919 - val_loss: 14.6166 - val_ht_rg_loss: 12.8672 - val_ag_3cls_loss: 0.6092 - val_brd_8cls_loss: 1.1403 - val_ht_rg_mse: 12.8672 - val_ag_3cls_accuracy: 0.7477 - val_brd_8cls_accuracy: 0.6796 - 3s/epoch - 37ms/step\n",
            "Epoch 51/200\n",
            "81/81 - 4s - loss: 15.0857 - ht_rg_loss: 13.3694 - ag_3cls_loss: 0.6252 - brd_8cls_loss: 1.0911 - ht_rg_mse: 13.3694 - ag_3cls_accuracy: 0.7388 - brd_8cls_accuracy: 0.6919 - val_loss: 14.1600 - val_ht_rg_loss: 12.4154 - val_ag_3cls_loss: 0.6093 - val_brd_8cls_loss: 1.1354 - val_ht_rg_mse: 12.4154 - val_ag_3cls_accuracy: 0.7477 - val_brd_8cls_accuracy: 0.6796 - 4s/epoch - 44ms/step\n",
            "Epoch 52/200\n",
            "81/81 - 3s - loss: 15.0654 - ht_rg_loss: 13.3484 - ag_3cls_loss: 0.6246 - brd_8cls_loss: 1.0924 - ht_rg_mse: 13.3484 - ag_3cls_accuracy: 0.7388 - brd_8cls_accuracy: 0.6919 - val_loss: 14.1129 - val_ht_rg_loss: 12.3647 - val_ag_3cls_loss: 0.6093 - val_brd_8cls_loss: 1.1389 - val_ht_rg_mse: 12.3647 - val_ag_3cls_accuracy: 0.7477 - val_brd_8cls_accuracy: 0.6796 - 3s/epoch - 37ms/step\n",
            "Epoch 53/200\n",
            "81/81 - 3s - loss: 15.0371 - ht_rg_loss: 13.3215 - ag_3cls_loss: 0.6226 - brd_8cls_loss: 1.0931 - ht_rg_mse: 13.3215 - ag_3cls_accuracy: 0.7388 - brd_8cls_accuracy: 0.6919 - val_loss: 14.4404 - val_ht_rg_loss: 12.6983 - val_ag_3cls_loss: 0.6095 - val_brd_8cls_loss: 1.1326 - val_ht_rg_mse: 12.6983 - val_ag_3cls_accuracy: 0.7477 - val_brd_8cls_accuracy: 0.6796 - 3s/epoch - 37ms/step\n",
            "Epoch 54/200\n",
            "81/81 - 3s - loss: 15.0714 - ht_rg_loss: 13.3555 - ag_3cls_loss: 0.6233 - brd_8cls_loss: 1.0927 - ht_rg_mse: 13.3555 - ag_3cls_accuracy: 0.7388 - brd_8cls_accuracy: 0.6919 - val_loss: 14.0227 - val_ht_rg_loss: 12.2814 - val_ag_3cls_loss: 0.6094 - val_brd_8cls_loss: 1.1319 - val_ht_rg_mse: 12.2814 - val_ag_3cls_accuracy: 0.7477 - val_brd_8cls_accuracy: 0.6796 - 3s/epoch - 37ms/step\n",
            "Epoch 55/200\n",
            "81/81 - 3s - loss: 14.9710 - ht_rg_loss: 13.2536 - ag_3cls_loss: 0.6244 - brd_8cls_loss: 1.0930 - ht_rg_mse: 13.2536 - ag_3cls_accuracy: 0.7388 - brd_8cls_accuracy: 0.6919 - val_loss: 14.1795 - val_ht_rg_loss: 12.4341 - val_ag_3cls_loss: 0.6097 - val_brd_8cls_loss: 1.1357 - val_ht_rg_mse: 12.4341 - val_ag_3cls_accuracy: 0.7477 - val_brd_8cls_accuracy: 0.6796 - 3s/epoch - 37ms/step\n",
            "Epoch 56/200\n",
            "81/81 - 3s - loss: 14.9697 - ht_rg_loss: 13.2537 - ag_3cls_loss: 0.6234 - brd_8cls_loss: 1.0926 - ht_rg_mse: 13.2537 - ag_3cls_accuracy: 0.7388 - brd_8cls_accuracy: 0.6919 - val_loss: 14.0999 - val_ht_rg_loss: 12.3528 - val_ag_3cls_loss: 0.6092 - val_brd_8cls_loss: 1.1379 - val_ht_rg_mse: 12.3528 - val_ag_3cls_accuracy: 0.7477 - val_brd_8cls_accuracy: 0.6796 - 3s/epoch - 37ms/step\n",
            "Epoch 57/200\n",
            "81/81 - 3s - loss: 14.9098 - ht_rg_loss: 13.1937 - ag_3cls_loss: 0.6236 - brd_8cls_loss: 1.0925 - ht_rg_mse: 13.1937 - ag_3cls_accuracy: 0.7388 - brd_8cls_accuracy: 0.6919 - val_loss: 13.9436 - val_ht_rg_loss: 12.2005 - val_ag_3cls_loss: 0.6094 - val_brd_8cls_loss: 1.1337 - val_ht_rg_mse: 12.2005 - val_ag_3cls_accuracy: 0.7477 - val_brd_8cls_accuracy: 0.6796 - 3s/epoch - 37ms/step\n",
            "Epoch 58/200\n",
            "81/81 - 3s - loss: 14.7845 - ht_rg_loss: 13.0687 - ag_3cls_loss: 0.6240 - brd_8cls_loss: 1.0917 - ht_rg_mse: 13.0687 - ag_3cls_accuracy: 0.7388 - brd_8cls_accuracy: 0.6919 - val_loss: 13.9592 - val_ht_rg_loss: 12.2162 - val_ag_3cls_loss: 0.6095 - val_brd_8cls_loss: 1.1336 - val_ht_rg_mse: 12.2162 - val_ag_3cls_accuracy: 0.7477 - val_brd_8cls_accuracy: 0.6796 - 3s/epoch - 37ms/step\n",
            "Epoch 59/200\n",
            "81/81 - 3s - loss: 14.8206 - ht_rg_loss: 13.1040 - ag_3cls_loss: 0.6226 - brd_8cls_loss: 1.0940 - ht_rg_mse: 13.1040 - ag_3cls_accuracy: 0.7388 - brd_8cls_accuracy: 0.6919 - val_loss: 14.3170 - val_ht_rg_loss: 12.5733 - val_ag_3cls_loss: 0.6095 - val_brd_8cls_loss: 1.1342 - val_ht_rg_mse: 12.5733 - val_ag_3cls_accuracy: 0.7477 - val_brd_8cls_accuracy: 0.6796 - 3s/epoch - 37ms/step\n",
            "Epoch 60/200\n",
            "81/81 - 3s - loss: 14.7905 - ht_rg_loss: 13.0735 - ag_3cls_loss: 0.6244 - brd_8cls_loss: 1.0926 - ht_rg_mse: 13.0735 - ag_3cls_accuracy: 0.7388 - brd_8cls_accuracy: 0.6919 - val_loss: 14.2139 - val_ht_rg_loss: 12.4607 - val_ag_3cls_loss: 0.6160 - val_brd_8cls_loss: 1.1372 - val_ht_rg_mse: 12.4607 - val_ag_3cls_accuracy: 0.7477 - val_brd_8cls_accuracy: 0.6796 - 3s/epoch - 37ms/step\n",
            "Epoch 61/200\n",
            "81/81 - 3s - loss: 14.7653 - ht_rg_loss: 13.0481 - ag_3cls_loss: 0.6249 - brd_8cls_loss: 1.0924 - ht_rg_mse: 13.0481 - ag_3cls_accuracy: 0.7388 - brd_8cls_accuracy: 0.6919 - val_loss: 14.5524 - val_ht_rg_loss: 12.8071 - val_ag_3cls_loss: 0.6097 - val_brd_8cls_loss: 1.1356 - val_ht_rg_mse: 12.8071 - val_ag_3cls_accuracy: 0.7477 - val_brd_8cls_accuracy: 0.6796 - 3s/epoch - 37ms/step\n",
            "Epoch 62/200\n",
            "81/81 - 3s - loss: 14.6157 - ht_rg_loss: 12.9005 - ag_3cls_loss: 0.6232 - brd_8cls_loss: 1.0920 - ht_rg_mse: 12.9005 - ag_3cls_accuracy: 0.7388 - brd_8cls_accuracy: 0.6919 - val_loss: 13.9745 - val_ht_rg_loss: 12.2334 - val_ag_3cls_loss: 0.6092 - val_brd_8cls_loss: 1.1319 - val_ht_rg_mse: 12.2334 - val_ag_3cls_accuracy: 0.7477 - val_brd_8cls_accuracy: 0.6796 - 3s/epoch - 37ms/step\n",
            "Epoch 63/200\n",
            "81/81 - 3s - loss: 14.8104 - ht_rg_loss: 13.0953 - ag_3cls_loss: 0.6233 - brd_8cls_loss: 1.0918 - ht_rg_mse: 13.0953 - ag_3cls_accuracy: 0.7388 - brd_8cls_accuracy: 0.6919 - val_loss: 14.2265 - val_ht_rg_loss: 12.4849 - val_ag_3cls_loss: 0.6088 - val_brd_8cls_loss: 1.1328 - val_ht_rg_mse: 12.4849 - val_ag_3cls_accuracy: 0.7477 - val_brd_8cls_accuracy: 0.6796 - 3s/epoch - 37ms/step\n",
            "Epoch 64/200\n",
            "81/81 - 3s - loss: 14.6742 - ht_rg_loss: 12.9600 - ag_3cls_loss: 0.6229 - brd_8cls_loss: 1.0913 - ht_rg_mse: 12.9600 - ag_3cls_accuracy: 0.7388 - brd_8cls_accuracy: 0.6919 - val_loss: 14.7316 - val_ht_rg_loss: 12.9890 - val_ag_3cls_loss: 0.6093 - val_brd_8cls_loss: 1.1333 - val_ht_rg_mse: 12.9890 - val_ag_3cls_accuracy: 0.7477 - val_brd_8cls_accuracy: 0.6796 - 3s/epoch - 37ms/step\n",
            "Epoch 65/200\n",
            "81/81 - 3s - loss: 14.4847 - ht_rg_loss: 12.7680 - ag_3cls_loss: 0.6237 - brd_8cls_loss: 1.0930 - ht_rg_mse: 12.7680 - ag_3cls_accuracy: 0.7388 - brd_8cls_accuracy: 0.6919 - val_loss: 14.1288 - val_ht_rg_loss: 12.3817 - val_ag_3cls_loss: 0.6088 - val_brd_8cls_loss: 1.1383 - val_ht_rg_mse: 12.3817 - val_ag_3cls_accuracy: 0.7477 - val_brd_8cls_accuracy: 0.6796 - 3s/epoch - 39ms/step\n",
            "Epoch 66/200\n",
            "81/81 - 3s - loss: 14.3579 - ht_rg_loss: 12.6416 - ag_3cls_loss: 0.6241 - brd_8cls_loss: 1.0921 - ht_rg_mse: 12.6416 - ag_3cls_accuracy: 0.7388 - brd_8cls_accuracy: 0.6919 - val_loss: 13.5941 - val_ht_rg_loss: 11.8529 - val_ag_3cls_loss: 0.6096 - val_brd_8cls_loss: 1.1316 - val_ht_rg_mse: 11.8529 - val_ag_3cls_accuracy: 0.7477 - val_brd_8cls_accuracy: 0.6796 - 3s/epoch - 38ms/step\n",
            "Epoch 67/200\n",
            "81/81 - 3s - loss: 14.3559 - ht_rg_loss: 12.6406 - ag_3cls_loss: 0.6240 - brd_8cls_loss: 1.0913 - ht_rg_mse: 12.6406 - ag_3cls_accuracy: 0.7388 - brd_8cls_accuracy: 0.6919 - val_loss: 13.6878 - val_ht_rg_loss: 11.9423 - val_ag_3cls_loss: 0.6104 - val_brd_8cls_loss: 1.1351 - val_ht_rg_mse: 11.9423 - val_ag_3cls_accuracy: 0.7477 - val_brd_8cls_accuracy: 0.6796 - 3s/epoch - 36ms/step\n",
            "Epoch 68/200\n",
            "81/81 - 3s - loss: 14.5311 - ht_rg_loss: 12.8137 - ag_3cls_loss: 0.6238 - brd_8cls_loss: 1.0936 - ht_rg_mse: 12.8137 - ag_3cls_accuracy: 0.7388 - brd_8cls_accuracy: 0.6919 - val_loss: 14.7541 - val_ht_rg_loss: 13.0085 - val_ag_3cls_loss: 0.6089 - val_brd_8cls_loss: 1.1367 - val_ht_rg_mse: 13.0085 - val_ag_3cls_accuracy: 0.7477 - val_brd_8cls_accuracy: 0.6796 - 3s/epoch - 37ms/step\n",
            "Epoch 69/200\n",
            "81/81 - 3s - loss: 14.3596 - ht_rg_loss: 12.6446 - ag_3cls_loss: 0.6229 - brd_8cls_loss: 1.0921 - ht_rg_mse: 12.6446 - ag_3cls_accuracy: 0.7388 - brd_8cls_accuracy: 0.6919 - val_loss: 13.6923 - val_ht_rg_loss: 11.9476 - val_ag_3cls_loss: 0.6091 - val_brd_8cls_loss: 1.1355 - val_ht_rg_mse: 11.9476 - val_ag_3cls_accuracy: 0.7477 - val_brd_8cls_accuracy: 0.6796 - 3s/epoch - 40ms/step\n",
            "Epoch 70/200\n",
            "81/81 - 3s - loss: 14.1585 - ht_rg_loss: 12.4429 - ag_3cls_loss: 0.6233 - brd_8cls_loss: 1.0922 - ht_rg_mse: 12.4429 - ag_3cls_accuracy: 0.7388 - brd_8cls_accuracy: 0.6919 - val_loss: 13.5719 - val_ht_rg_loss: 11.8273 - val_ag_3cls_loss: 0.6109 - val_brd_8cls_loss: 1.1337 - val_ht_rg_mse: 11.8273 - val_ag_3cls_accuracy: 0.7477 - val_brd_8cls_accuracy: 0.6796 - 3s/epoch - 37ms/step\n",
            "Epoch 71/200\n",
            "81/81 - 3s - loss: 14.1228 - ht_rg_loss: 12.4069 - ag_3cls_loss: 0.6245 - brd_8cls_loss: 1.0915 - ht_rg_mse: 12.4069 - ag_3cls_accuracy: 0.7388 - brd_8cls_accuracy: 0.6919 - val_loss: 13.6059 - val_ht_rg_loss: 11.8602 - val_ag_3cls_loss: 0.6097 - val_brd_8cls_loss: 1.1360 - val_ht_rg_mse: 11.8602 - val_ag_3cls_accuracy: 0.7477 - val_brd_8cls_accuracy: 0.6796 - 3s/epoch - 37ms/step\n",
            "Epoch 72/200\n",
            "81/81 - 3s - loss: 14.0642 - ht_rg_loss: 12.3495 - ag_3cls_loss: 0.6230 - brd_8cls_loss: 1.0918 - ht_rg_mse: 12.3495 - ag_3cls_accuracy: 0.7388 - brd_8cls_accuracy: 0.6919 - val_loss: 13.6109 - val_ht_rg_loss: 11.8628 - val_ag_3cls_loss: 0.6106 - val_brd_8cls_loss: 1.1374 - val_ht_rg_mse: 11.8628 - val_ag_3cls_accuracy: 0.7477 - val_brd_8cls_accuracy: 0.6796 - 3s/epoch - 37ms/step\n",
            "Epoch 73/200\n",
            "81/81 - 3s - loss: 13.9970 - ht_rg_loss: 12.2816 - ag_3cls_loss: 0.6231 - brd_8cls_loss: 1.0923 - ht_rg_mse: 12.2816 - ag_3cls_accuracy: 0.7388 - brd_8cls_accuracy: 0.6919 - val_loss: 14.0846 - val_ht_rg_loss: 12.3442 - val_ag_3cls_loss: 0.6091 - val_brd_8cls_loss: 1.1313 - val_ht_rg_mse: 12.3442 - val_ag_3cls_accuracy: 0.7477 - val_brd_8cls_accuracy: 0.6796 - 3s/epoch - 37ms/step\n",
            "Epoch 74/200\n",
            "81/81 - 3s - loss: 14.1845 - ht_rg_loss: 12.4673 - ag_3cls_loss: 0.6241 - brd_8cls_loss: 1.0931 - ht_rg_mse: 12.4673 - ag_3cls_accuracy: 0.7388 - brd_8cls_accuracy: 0.6919 - val_loss: 13.6372 - val_ht_rg_loss: 11.8890 - val_ag_3cls_loss: 0.6095 - val_brd_8cls_loss: 1.1387 - val_ht_rg_mse: 11.8890 - val_ag_3cls_accuracy: 0.7477 - val_brd_8cls_accuracy: 0.6796 - 3s/epoch - 37ms/step\n",
            "Epoch 75/200\n",
            "81/81 - 3s - loss: 14.1438 - ht_rg_loss: 12.4276 - ag_3cls_loss: 0.6242 - brd_8cls_loss: 1.0920 - ht_rg_mse: 12.4276 - ag_3cls_accuracy: 0.7388 - brd_8cls_accuracy: 0.6919 - val_loss: 13.6198 - val_ht_rg_loss: 11.8687 - val_ag_3cls_loss: 0.6099 - val_brd_8cls_loss: 1.1412 - val_ht_rg_mse: 11.8687 - val_ag_3cls_accuracy: 0.7477 - val_brd_8cls_accuracy: 0.6796 - 3s/epoch - 37ms/step\n",
            "Epoch 76/200\n",
            "81/81 - 3s - loss: 13.8680 - ht_rg_loss: 12.1499 - ag_3cls_loss: 0.6255 - brd_8cls_loss: 1.0927 - ht_rg_mse: 12.1499 - ag_3cls_accuracy: 0.7388 - brd_8cls_accuracy: 0.6919 - val_loss: 13.6481 - val_ht_rg_loss: 11.9032 - val_ag_3cls_loss: 0.6103 - val_brd_8cls_loss: 1.1346 - val_ht_rg_mse: 11.9032 - val_ag_3cls_accuracy: 0.7477 - val_brd_8cls_accuracy: 0.6796 - 3s/epoch - 37ms/step\n",
            "Epoch 77/200\n",
            "81/81 - 3s - loss: 13.8798 - ht_rg_loss: 12.1654 - ag_3cls_loss: 0.6226 - brd_8cls_loss: 1.0918 - ht_rg_mse: 12.1654 - ag_3cls_accuracy: 0.7388 - brd_8cls_accuracy: 0.6919 - val_loss: 13.3549 - val_ht_rg_loss: 11.6018 - val_ag_3cls_loss: 0.6112 - val_brd_8cls_loss: 1.1419 - val_ht_rg_mse: 11.6018 - val_ag_3cls_accuracy: 0.7477 - val_brd_8cls_accuracy: 0.6796 - 3s/epoch - 37ms/step\n",
            "Epoch 78/200\n",
            "81/81 - 3s - loss: 13.8610 - ht_rg_loss: 12.1451 - ag_3cls_loss: 0.6233 - brd_8cls_loss: 1.0925 - ht_rg_mse: 12.1451 - ag_3cls_accuracy: 0.7388 - brd_8cls_accuracy: 0.6919 - val_loss: 13.2944 - val_ht_rg_loss: 11.5515 - val_ag_3cls_loss: 0.6104 - val_brd_8cls_loss: 1.1325 - val_ht_rg_mse: 11.5515 - val_ag_3cls_accuracy: 0.7477 - val_brd_8cls_accuracy: 0.6796 - 3s/epoch - 37ms/step\n",
            "Epoch 79/200\n",
            "81/81 - 3s - loss: 13.8699 - ht_rg_loss: 12.1550 - ag_3cls_loss: 0.6236 - brd_8cls_loss: 1.0912 - ht_rg_mse: 12.1550 - ag_3cls_accuracy: 0.7388 - brd_8cls_accuracy: 0.6919 - val_loss: 14.5903 - val_ht_rg_loss: 12.8464 - val_ag_3cls_loss: 0.6095 - val_brd_8cls_loss: 1.1343 - val_ht_rg_mse: 12.8464 - val_ag_3cls_accuracy: 0.7477 - val_brd_8cls_accuracy: 0.6796 - 3s/epoch - 37ms/step\n",
            "Epoch 80/200\n",
            "81/81 - 3s - loss: 14.0114 - ht_rg_loss: 12.2966 - ag_3cls_loss: 0.6234 - brd_8cls_loss: 1.0913 - ht_rg_mse: 12.2966 - ag_3cls_accuracy: 0.7388 - brd_8cls_accuracy: 0.6919 - val_loss: 13.3788 - val_ht_rg_loss: 11.6343 - val_ag_3cls_loss: 0.6100 - val_brd_8cls_loss: 1.1346 - val_ht_rg_mse: 11.6343 - val_ag_3cls_accuracy: 0.7477 - val_brd_8cls_accuracy: 0.6796 - 3s/epoch - 37ms/step\n",
            "Epoch 81/200\n",
            "81/81 - 3s - loss: 13.7913 - ht_rg_loss: 12.0750 - ag_3cls_loss: 0.6228 - brd_8cls_loss: 1.0935 - ht_rg_mse: 12.0750 - ag_3cls_accuracy: 0.7388 - brd_8cls_accuracy: 0.6919 - val_loss: 13.7292 - val_ht_rg_loss: 11.9842 - val_ag_3cls_loss: 0.6118 - val_brd_8cls_loss: 1.1332 - val_ht_rg_mse: 11.9842 - val_ag_3cls_accuracy: 0.7477 - val_brd_8cls_accuracy: 0.6796 - 3s/epoch - 37ms/step\n",
            "Epoch 82/200\n",
            "81/81 - 3s - loss: 13.7641 - ht_rg_loss: 12.0491 - ag_3cls_loss: 0.6224 - brd_8cls_loss: 1.0925 - ht_rg_mse: 12.0491 - ag_3cls_accuracy: 0.7388 - brd_8cls_accuracy: 0.6919 - val_loss: 14.2611 - val_ht_rg_loss: 12.5159 - val_ag_3cls_loss: 0.6096 - val_brd_8cls_loss: 1.1356 - val_ht_rg_mse: 12.5159 - val_ag_3cls_accuracy: 0.7477 - val_brd_8cls_accuracy: 0.6796 - 3s/epoch - 37ms/step\n",
            "Epoch 83/200\n",
            "81/81 - 3s - loss: 13.8402 - ht_rg_loss: 12.1233 - ag_3cls_loss: 0.6240 - brd_8cls_loss: 1.0929 - ht_rg_mse: 12.1233 - ag_3cls_accuracy: 0.7388 - brd_8cls_accuracy: 0.6919 - val_loss: 13.1301 - val_ht_rg_loss: 11.3795 - val_ag_3cls_loss: 0.6120 - val_brd_8cls_loss: 1.1386 - val_ht_rg_mse: 11.3795 - val_ag_3cls_accuracy: 0.7477 - val_brd_8cls_accuracy: 0.6796 - 3s/epoch - 37ms/step\n",
            "Epoch 84/200\n",
            "81/81 - 3s - loss: 13.6005 - ht_rg_loss: 11.8860 - ag_3cls_loss: 0.6229 - brd_8cls_loss: 1.0915 - ht_rg_mse: 11.8860 - ag_3cls_accuracy: 0.7388 - brd_8cls_accuracy: 0.6919 - val_loss: 13.2575 - val_ht_rg_loss: 11.5102 - val_ag_3cls_loss: 0.6126 - val_brd_8cls_loss: 1.1347 - val_ht_rg_mse: 11.5102 - val_ag_3cls_accuracy: 0.7477 - val_brd_8cls_accuracy: 0.6796 - 3s/epoch - 37ms/step\n",
            "Epoch 85/200\n",
            "81/81 - 3s - loss: 13.5966 - ht_rg_loss: 11.8781 - ag_3cls_loss: 0.6265 - brd_8cls_loss: 1.0920 - ht_rg_mse: 11.8781 - ag_3cls_accuracy: 0.7388 - brd_8cls_accuracy: 0.6919 - val_loss: 13.2844 - val_ht_rg_loss: 11.5388 - val_ag_3cls_loss: 0.6117 - val_brd_8cls_loss: 1.1339 - val_ht_rg_mse: 11.5388 - val_ag_3cls_accuracy: 0.7477 - val_brd_8cls_accuracy: 0.6796 - 3s/epoch - 37ms/step\n",
            "Epoch 86/200\n",
            "81/81 - 3s - loss: 13.4521 - ht_rg_loss: 11.7317 - ag_3cls_loss: 0.6256 - brd_8cls_loss: 1.0948 - ht_rg_mse: 11.7317 - ag_3cls_accuracy: 0.7388 - brd_8cls_accuracy: 0.6919 - val_loss: 13.4046 - val_ht_rg_loss: 11.6564 - val_ag_3cls_loss: 0.6136 - val_brd_8cls_loss: 1.1346 - val_ht_rg_mse: 11.6564 - val_ag_3cls_accuracy: 0.7477 - val_brd_8cls_accuracy: 0.6796 - 3s/epoch - 37ms/step\n",
            "Epoch 87/200\n",
            "81/81 - 3s - loss: 13.5261 - ht_rg_loss: 11.8093 - ag_3cls_loss: 0.6235 - brd_8cls_loss: 1.0934 - ht_rg_mse: 11.8093 - ag_3cls_accuracy: 0.7388 - brd_8cls_accuracy: 0.6919 - val_loss: 13.0152 - val_ht_rg_loss: 11.2706 - val_ag_3cls_loss: 0.6128 - val_brd_8cls_loss: 1.1318 - val_ht_rg_mse: 11.2706 - val_ag_3cls_accuracy: 0.7477 - val_brd_8cls_accuracy: 0.6796 - 3s/epoch - 37ms/step\n",
            "Epoch 88/200\n",
            "81/81 - 3s - loss: 13.4493 - ht_rg_loss: 11.7343 - ag_3cls_loss: 0.6230 - brd_8cls_loss: 1.0920 - ht_rg_mse: 11.7343 - ag_3cls_accuracy: 0.7388 - brd_8cls_accuracy: 0.6919 - val_loss: 13.0784 - val_ht_rg_loss: 11.3350 - val_ag_3cls_loss: 0.6109 - val_brd_8cls_loss: 1.1326 - val_ht_rg_mse: 11.3350 - val_ag_3cls_accuracy: 0.7477 - val_brd_8cls_accuracy: 0.6796 - 3s/epoch - 37ms/step\n",
            "Epoch 89/200\n",
            "81/81 - 3s - loss: 13.5264 - ht_rg_loss: 11.8084 - ag_3cls_loss: 0.6238 - brd_8cls_loss: 1.0942 - ht_rg_mse: 11.8084 - ag_3cls_accuracy: 0.7388 - brd_8cls_accuracy: 0.6919 - val_loss: 12.9804 - val_ht_rg_loss: 11.2334 - val_ag_3cls_loss: 0.6109 - val_brd_8cls_loss: 1.1361 - val_ht_rg_mse: 11.2334 - val_ag_3cls_accuracy: 0.7477 - val_brd_8cls_accuracy: 0.6796 - 3s/epoch - 36ms/step\n",
            "Epoch 90/200\n",
            "81/81 - 3s - loss: 13.4530 - ht_rg_loss: 11.7371 - ag_3cls_loss: 0.6236 - brd_8cls_loss: 1.0922 - ht_rg_mse: 11.7371 - ag_3cls_accuracy: 0.7388 - brd_8cls_accuracy: 0.6919 - val_loss: 12.9787 - val_ht_rg_loss: 11.2343 - val_ag_3cls_loss: 0.6108 - val_brd_8cls_loss: 1.1336 - val_ht_rg_mse: 11.2343 - val_ag_3cls_accuracy: 0.7477 - val_brd_8cls_accuracy: 0.6796 - 3s/epoch - 37ms/step\n",
            "Epoch 91/200\n",
            "81/81 - 3s - loss: 13.2819 - ht_rg_loss: 11.5673 - ag_3cls_loss: 0.6236 - brd_8cls_loss: 1.0910 - ht_rg_mse: 11.5673 - ag_3cls_accuracy: 0.7388 - brd_8cls_accuracy: 0.6919 - val_loss: 12.9517 - val_ht_rg_loss: 11.2077 - val_ag_3cls_loss: 0.6112 - val_brd_8cls_loss: 1.1328 - val_ht_rg_mse: 11.2077 - val_ag_3cls_accuracy: 0.7477 - val_brd_8cls_accuracy: 0.6796 - 3s/epoch - 37ms/step\n",
            "Epoch 92/200\n",
            "81/81 - 3s - loss: 13.2884 - ht_rg_loss: 11.5732 - ag_3cls_loss: 0.6246 - brd_8cls_loss: 1.0906 - ht_rg_mse: 11.5732 - ag_3cls_accuracy: 0.7388 - brd_8cls_accuracy: 0.6919 - val_loss: 13.3379 - val_ht_rg_loss: 11.5934 - val_ag_3cls_loss: 0.6106 - val_brd_8cls_loss: 1.1339 - val_ht_rg_mse: 11.5934 - val_ag_3cls_accuracy: 0.7477 - val_brd_8cls_accuracy: 0.6796 - 3s/epoch - 37ms/step\n",
            "Epoch 93/200\n",
            "81/81 - 3s - loss: 13.3367 - ht_rg_loss: 11.6212 - ag_3cls_loss: 0.6233 - brd_8cls_loss: 1.0923 - ht_rg_mse: 11.6212 - ag_3cls_accuracy: 0.7388 - brd_8cls_accuracy: 0.6919 - val_loss: 12.8998 - val_ht_rg_loss: 11.1543 - val_ag_3cls_loss: 0.6110 - val_brd_8cls_loss: 1.1345 - val_ht_rg_mse: 11.1543 - val_ag_3cls_accuracy: 0.7477 - val_brd_8cls_accuracy: 0.6796 - 3s/epoch - 37ms/step\n",
            "Epoch 94/200\n",
            "81/81 - 3s - loss: 13.2985 - ht_rg_loss: 11.5826 - ag_3cls_loss: 0.6241 - brd_8cls_loss: 1.0917 - ht_rg_mse: 11.5826 - ag_3cls_accuracy: 0.7388 - brd_8cls_accuracy: 0.6919 - val_loss: 13.5124 - val_ht_rg_loss: 11.7636 - val_ag_3cls_loss: 0.6112 - val_brd_8cls_loss: 1.1376 - val_ht_rg_mse: 11.7636 - val_ag_3cls_accuracy: 0.7477 - val_brd_8cls_accuracy: 0.6796 - 3s/epoch - 37ms/step\n",
            "Epoch 95/200\n",
            "81/81 - 3s - loss: 13.1838 - ht_rg_loss: 11.4685 - ag_3cls_loss: 0.6233 - brd_8cls_loss: 1.0920 - ht_rg_mse: 11.4685 - ag_3cls_accuracy: 0.7388 - brd_8cls_accuracy: 0.6919 - val_loss: 12.8492 - val_ht_rg_loss: 11.1026 - val_ag_3cls_loss: 0.6114 - val_brd_8cls_loss: 1.1351 - val_ht_rg_mse: 11.1026 - val_ag_3cls_accuracy: 0.7477 - val_brd_8cls_accuracy: 0.6796 - 3s/epoch - 37ms/step\n",
            "Epoch 96/200\n",
            "81/81 - 3s - loss: 13.1147 - ht_rg_loss: 11.4003 - ag_3cls_loss: 0.6237 - brd_8cls_loss: 1.0907 - ht_rg_mse: 11.4003 - ag_3cls_accuracy: 0.7388 - brd_8cls_accuracy: 0.6919 - val_loss: 12.8479 - val_ht_rg_loss: 11.1011 - val_ag_3cls_loss: 0.6121 - val_brd_8cls_loss: 1.1348 - val_ht_rg_mse: 11.1011 - val_ag_3cls_accuracy: 0.7477 - val_brd_8cls_accuracy: 0.6796 - 3s/epoch - 37ms/step\n",
            "Epoch 97/200\n",
            "81/81 - 3s - loss: 13.0901 - ht_rg_loss: 11.3740 - ag_3cls_loss: 0.6244 - brd_8cls_loss: 1.0917 - ht_rg_mse: 11.3740 - ag_3cls_accuracy: 0.7388 - brd_8cls_accuracy: 0.6919 - val_loss: 12.8164 - val_ht_rg_loss: 11.0712 - val_ag_3cls_loss: 0.6123 - val_brd_8cls_loss: 1.1328 - val_ht_rg_mse: 11.0712 - val_ag_3cls_accuracy: 0.7477 - val_brd_8cls_accuracy: 0.6796 - 3s/epoch - 37ms/step\n",
            "Epoch 98/200\n",
            "81/81 - 3s - loss: 13.5125 - ht_rg_loss: 11.7966 - ag_3cls_loss: 0.6233 - brd_8cls_loss: 1.0925 - ht_rg_mse: 11.7966 - ag_3cls_accuracy: 0.7388 - brd_8cls_accuracy: 0.6919 - val_loss: 13.0891 - val_ht_rg_loss: 11.3459 - val_ag_3cls_loss: 0.6110 - val_brd_8cls_loss: 1.1322 - val_ht_rg_mse: 11.3459 - val_ag_3cls_accuracy: 0.7477 - val_brd_8cls_accuracy: 0.6796 - 3s/epoch - 37ms/step\n",
            "Epoch 99/200\n",
            "81/81 - 3s - loss: 13.1440 - ht_rg_loss: 11.4276 - ag_3cls_loss: 0.6239 - brd_8cls_loss: 1.0924 - ht_rg_mse: 11.4276 - ag_3cls_accuracy: 0.7388 - brd_8cls_accuracy: 0.6919 - val_loss: 13.8693 - val_ht_rg_loss: 12.1233 - val_ag_3cls_loss: 0.6107 - val_brd_8cls_loss: 1.1354 - val_ht_rg_mse: 12.1233 - val_ag_3cls_accuracy: 0.7477 - val_brd_8cls_accuracy: 0.6796 - 3s/epoch - 37ms/step\n",
            "Epoch 100/200\n",
            "81/81 - 3s - loss: 13.1474 - ht_rg_loss: 11.4291 - ag_3cls_loss: 0.6266 - brd_8cls_loss: 1.0917 - ht_rg_mse: 11.4291 - ag_3cls_accuracy: 0.7388 - brd_8cls_accuracy: 0.6919 - val_loss: 12.7519 - val_ht_rg_loss: 11.0064 - val_ag_3cls_loss: 0.6108 - val_brd_8cls_loss: 1.1346 - val_ht_rg_mse: 11.0064 - val_ag_3cls_accuracy: 0.7477 - val_brd_8cls_accuracy: 0.6796 - 3s/epoch - 37ms/step\n",
            "Epoch 101/200\n",
            "81/81 - 3s - loss: 12.9228 - ht_rg_loss: 11.2082 - ag_3cls_loss: 0.6231 - brd_8cls_loss: 1.0914 - ht_rg_mse: 11.2082 - ag_3cls_accuracy: 0.7388 - brd_8cls_accuracy: 0.6919 - val_loss: 12.7639 - val_ht_rg_loss: 11.0199 - val_ag_3cls_loss: 0.6115 - val_brd_8cls_loss: 1.1325 - val_ht_rg_mse: 11.0199 - val_ag_3cls_accuracy: 0.7477 - val_brd_8cls_accuracy: 0.6796 - 3s/epoch - 37ms/step\n",
            "Epoch 102/200\n",
            "81/81 - 3s - loss: 12.9989 - ht_rg_loss: 11.2822 - ag_3cls_loss: 0.6226 - brd_8cls_loss: 1.0941 - ht_rg_mse: 11.2822 - ag_3cls_accuracy: 0.7388 - brd_8cls_accuracy: 0.6919 - val_loss: 12.7086 - val_ht_rg_loss: 10.9568 - val_ag_3cls_loss: 0.6148 - val_brd_8cls_loss: 1.1370 - val_ht_rg_mse: 10.9568 - val_ag_3cls_accuracy: 0.7477 - val_brd_8cls_accuracy: 0.6796 - 3s/epoch - 37ms/step\n",
            "Epoch 103/200\n",
            "81/81 - 3s - loss: 13.0105 - ht_rg_loss: 11.2932 - ag_3cls_loss: 0.6241 - brd_8cls_loss: 1.0933 - ht_rg_mse: 11.2932 - ag_3cls_accuracy: 0.7388 - brd_8cls_accuracy: 0.6919 - val_loss: 12.7052 - val_ht_rg_loss: 10.9597 - val_ag_3cls_loss: 0.6117 - val_brd_8cls_loss: 1.1338 - val_ht_rg_mse: 10.9597 - val_ag_3cls_accuracy: 0.7477 - val_brd_8cls_accuracy: 0.6796 - 3s/epoch - 37ms/step\n",
            "Epoch 104/200\n",
            "81/81 - 3s - loss: 12.8705 - ht_rg_loss: 11.1538 - ag_3cls_loss: 0.6247 - brd_8cls_loss: 1.0921 - ht_rg_mse: 11.1538 - ag_3cls_accuracy: 0.7388 - brd_8cls_accuracy: 0.6919 - val_loss: 13.2134 - val_ht_rg_loss: 11.4691 - val_ag_3cls_loss: 0.6110 - val_brd_8cls_loss: 1.1333 - val_ht_rg_mse: 11.4691 - val_ag_3cls_accuracy: 0.7477 - val_brd_8cls_accuracy: 0.6796 - 3s/epoch - 37ms/step\n",
            "Epoch 105/200\n",
            "81/81 - 3s - loss: 12.9051 - ht_rg_loss: 11.1890 - ag_3cls_loss: 0.6252 - brd_8cls_loss: 1.0909 - ht_rg_mse: 11.1890 - ag_3cls_accuracy: 0.7388 - brd_8cls_accuracy: 0.6919 - val_loss: 13.0223 - val_ht_rg_loss: 11.2767 - val_ag_3cls_loss: 0.6113 - val_brd_8cls_loss: 1.1344 - val_ht_rg_mse: 11.2767 - val_ag_3cls_accuracy: 0.7477 - val_brd_8cls_accuracy: 0.6796 - 3s/epoch - 37ms/step\n",
            "Epoch 106/200\n",
            "81/81 - 3s - loss: 12.9089 - ht_rg_loss: 11.1946 - ag_3cls_loss: 0.6238 - brd_8cls_loss: 1.0905 - ht_rg_mse: 11.1946 - ag_3cls_accuracy: 0.7388 - brd_8cls_accuracy: 0.6919 - val_loss: 13.2770 - val_ht_rg_loss: 11.5288 - val_ag_3cls_loss: 0.6105 - val_brd_8cls_loss: 1.1376 - val_ht_rg_mse: 11.5288 - val_ag_3cls_accuracy: 0.7477 - val_brd_8cls_accuracy: 0.6796 - 3s/epoch - 37ms/step\n",
            "Epoch 107/200\n",
            "81/81 - 3s - loss: 12.9040 - ht_rg_loss: 11.1887 - ag_3cls_loss: 0.6235 - brd_8cls_loss: 1.0918 - ht_rg_mse: 11.1887 - ag_3cls_accuracy: 0.7388 - brd_8cls_accuracy: 0.6919 - val_loss: 12.6074 - val_ht_rg_loss: 10.8496 - val_ag_3cls_loss: 0.6160 - val_brd_8cls_loss: 1.1418 - val_ht_rg_mse: 10.8496 - val_ag_3cls_accuracy: 0.7477 - val_brd_8cls_accuracy: 0.6796 - 3s/epoch - 37ms/step\n",
            "Epoch 108/200\n",
            "81/81 - 3s - loss: 13.1691 - ht_rg_loss: 11.4504 - ag_3cls_loss: 0.6243 - brd_8cls_loss: 1.0943 - ht_rg_mse: 11.4504 - ag_3cls_accuracy: 0.7388 - brd_8cls_accuracy: 0.6919 - val_loss: 13.0196 - val_ht_rg_loss: 11.2709 - val_ag_3cls_loss: 0.6118 - val_brd_8cls_loss: 1.1368 - val_ht_rg_mse: 11.2709 - val_ag_3cls_accuracy: 0.7477 - val_brd_8cls_accuracy: 0.6796 - 3s/epoch - 37ms/step\n",
            "Epoch 109/200\n",
            "81/81 - 3s - loss: 12.7679 - ht_rg_loss: 11.0542 - ag_3cls_loss: 0.6240 - brd_8cls_loss: 1.0898 - ht_rg_mse: 11.0542 - ag_3cls_accuracy: 0.7388 - brd_8cls_accuracy: 0.6919 - val_loss: 12.5463 - val_ht_rg_loss: 10.8009 - val_ag_3cls_loss: 0.6135 - val_brd_8cls_loss: 1.1318 - val_ht_rg_mse: 10.8009 - val_ag_3cls_accuracy: 0.7477 - val_brd_8cls_accuracy: 0.6796 - 3s/epoch - 37ms/step\n",
            "Epoch 110/200\n",
            "81/81 - 3s - loss: 12.8470 - ht_rg_loss: 11.1339 - ag_3cls_loss: 0.6227 - brd_8cls_loss: 1.0903 - ht_rg_mse: 11.1339 - ag_3cls_accuracy: 0.7388 - brd_8cls_accuracy: 0.6919 - val_loss: 12.5367 - val_ht_rg_loss: 10.7838 - val_ag_3cls_loss: 0.6173 - val_brd_8cls_loss: 1.1356 - val_ht_rg_mse: 10.7838 - val_ag_3cls_accuracy: 0.7477 - val_brd_8cls_accuracy: 0.6796 - 3s/epoch - 37ms/step\n",
            "Epoch 111/200\n",
            "81/81 - 3s - loss: 12.6104 - ht_rg_loss: 10.8953 - ag_3cls_loss: 0.6241 - brd_8cls_loss: 1.0910 - ht_rg_mse: 10.8953 - ag_3cls_accuracy: 0.7388 - brd_8cls_accuracy: 0.6919 - val_loss: 12.5501 - val_ht_rg_loss: 10.8030 - val_ag_3cls_loss: 0.6137 - val_brd_8cls_loss: 1.1333 - val_ht_rg_mse: 10.8030 - val_ag_3cls_accuracy: 0.7477 - val_brd_8cls_accuracy: 0.6796 - 3s/epoch - 37ms/step\n",
            "Epoch 112/200\n",
            "81/81 - 3s - loss: 12.7174 - ht_rg_loss: 11.0015 - ag_3cls_loss: 0.6240 - brd_8cls_loss: 1.0919 - ht_rg_mse: 11.0015 - ag_3cls_accuracy: 0.7388 - brd_8cls_accuracy: 0.6919 - val_loss: 12.5587 - val_ht_rg_loss: 10.8142 - val_ag_3cls_loss: 0.6113 - val_brd_8cls_loss: 1.1331 - val_ht_rg_mse: 10.8142 - val_ag_3cls_accuracy: 0.7477 - val_brd_8cls_accuracy: 0.6796 - 3s/epoch - 37ms/step\n",
            "Epoch 113/200\n",
            "81/81 - 3s - loss: 12.5175 - ht_rg_loss: 10.7980 - ag_3cls_loss: 0.6246 - brd_8cls_loss: 1.0950 - ht_rg_mse: 10.7980 - ag_3cls_accuracy: 0.7388 - brd_8cls_accuracy: 0.6919 - val_loss: 12.4939 - val_ht_rg_loss: 10.7450 - val_ag_3cls_loss: 0.6111 - val_brd_8cls_loss: 1.1379 - val_ht_rg_mse: 10.7450 - val_ag_3cls_accuracy: 0.7477 - val_brd_8cls_accuracy: 0.6796 - 3s/epoch - 37ms/step\n",
            "Epoch 114/200\n",
            "81/81 - 3s - loss: 12.6914 - ht_rg_loss: 10.9735 - ag_3cls_loss: 0.6245 - brd_8cls_loss: 1.0934 - ht_rg_mse: 10.9735 - ag_3cls_accuracy: 0.7388 - brd_8cls_accuracy: 0.6919 - val_loss: 12.8433 - val_ht_rg_loss: 11.0929 - val_ag_3cls_loss: 0.6135 - val_brd_8cls_loss: 1.1369 - val_ht_rg_mse: 11.0929 - val_ag_3cls_accuracy: 0.7477 - val_brd_8cls_accuracy: 0.6796 - 3s/epoch - 37ms/step\n",
            "Epoch 115/200\n",
            "81/81 - 3s - loss: 12.6533 - ht_rg_loss: 10.9381 - ag_3cls_loss: 0.6240 - brd_8cls_loss: 1.0912 - ht_rg_mse: 10.9381 - ag_3cls_accuracy: 0.7388 - brd_8cls_accuracy: 0.6919 - val_loss: 13.0722 - val_ht_rg_loss: 11.3262 - val_ag_3cls_loss: 0.6109 - val_brd_8cls_loss: 1.1350 - val_ht_rg_mse: 11.3262 - val_ag_3cls_accuracy: 0.7477 - val_brd_8cls_accuracy: 0.6796 - 3s/epoch - 37ms/step\n",
            "Epoch 116/200\n",
            "81/81 - 3s - loss: 12.5899 - ht_rg_loss: 10.8768 - ag_3cls_loss: 0.6232 - brd_8cls_loss: 1.0900 - ht_rg_mse: 10.8768 - ag_3cls_accuracy: 0.7388 - brd_8cls_accuracy: 0.6919 - val_loss: 12.8602 - val_ht_rg_loss: 11.1160 - val_ag_3cls_loss: 0.6108 - val_brd_8cls_loss: 1.1334 - val_ht_rg_mse: 11.1160 - val_ag_3cls_accuracy: 0.7477 - val_brd_8cls_accuracy: 0.6796 - 3s/epoch - 37ms/step\n",
            "Epoch 117/200\n",
            "81/81 - 3s - loss: 12.5245 - ht_rg_loss: 10.8117 - ag_3cls_loss: 0.6222 - brd_8cls_loss: 1.0906 - ht_rg_mse: 10.8117 - ag_3cls_accuracy: 0.7388 - brd_8cls_accuracy: 0.6919 - val_loss: 12.4357 - val_ht_rg_loss: 10.6866 - val_ag_3cls_loss: 0.6169 - val_brd_8cls_loss: 1.1322 - val_ht_rg_mse: 10.6866 - val_ag_3cls_accuracy: 0.7477 - val_brd_8cls_accuracy: 0.6796 - 3s/epoch - 37ms/step\n",
            "Epoch 118/200\n",
            "81/81 - 3s - loss: 12.4891 - ht_rg_loss: 10.7734 - ag_3cls_loss: 0.6249 - brd_8cls_loss: 1.0908 - ht_rg_mse: 10.7734 - ag_3cls_accuracy: 0.7388 - brd_8cls_accuracy: 0.6919 - val_loss: 12.5355 - val_ht_rg_loss: 10.7868 - val_ag_3cls_loss: 0.6107 - val_brd_8cls_loss: 1.1380 - val_ht_rg_mse: 10.7868 - val_ag_3cls_accuracy: 0.7477 - val_brd_8cls_accuracy: 0.6796 - 3s/epoch - 37ms/step\n",
            "Epoch 119/200\n",
            "81/81 - 3s - loss: 12.3646 - ht_rg_loss: 10.6520 - ag_3cls_loss: 0.6228 - brd_8cls_loss: 1.0899 - ht_rg_mse: 10.6520 - ag_3cls_accuracy: 0.7388 - brd_8cls_accuracy: 0.6919 - val_loss: 12.7138 - val_ht_rg_loss: 10.9702 - val_ag_3cls_loss: 0.6116 - val_brd_8cls_loss: 1.1319 - val_ht_rg_mse: 10.9702 - val_ag_3cls_accuracy: 0.7477 - val_brd_8cls_accuracy: 0.6796 - 3s/epoch - 37ms/step\n",
            "Epoch 120/200\n",
            "81/81 - 3s - loss: 12.3878 - ht_rg_loss: 10.6715 - ag_3cls_loss: 0.6235 - brd_8cls_loss: 1.0928 - ht_rg_mse: 10.6715 - ag_3cls_accuracy: 0.7388 - brd_8cls_accuracy: 0.6919 - val_loss: 12.3344 - val_ht_rg_loss: 10.5882 - val_ag_3cls_loss: 0.6142 - val_brd_8cls_loss: 1.1320 - val_ht_rg_mse: 10.5882 - val_ag_3cls_accuracy: 0.7477 - val_brd_8cls_accuracy: 0.6796 - 3s/epoch - 36ms/step\n",
            "Epoch 121/200\n",
            "81/81 - 3s - loss: 12.3119 - ht_rg_loss: 10.5971 - ag_3cls_loss: 0.6240 - brd_8cls_loss: 1.0908 - ht_rg_mse: 10.5971 - ag_3cls_accuracy: 0.7388 - brd_8cls_accuracy: 0.6919 - val_loss: 12.9780 - val_ht_rg_loss: 11.2362 - val_ag_3cls_loss: 0.6108 - val_brd_8cls_loss: 1.1310 - val_ht_rg_mse: 11.2362 - val_ag_3cls_accuracy: 0.7477 - val_brd_8cls_accuracy: 0.6796 - 3s/epoch - 37ms/step\n",
            "Epoch 122/200\n",
            "81/81 - 3s - loss: 12.4224 - ht_rg_loss: 10.7091 - ag_3cls_loss: 0.6232 - brd_8cls_loss: 1.0901 - ht_rg_mse: 10.7091 - ag_3cls_accuracy: 0.7388 - brd_8cls_accuracy: 0.6919 - val_loss: 12.3304 - val_ht_rg_loss: 10.5868 - val_ag_3cls_loss: 0.6107 - val_brd_8cls_loss: 1.1329 - val_ht_rg_mse: 10.5868 - val_ag_3cls_accuracy: 0.7477 - val_brd_8cls_accuracy: 0.6796 - 3s/epoch - 36ms/step\n",
            "Epoch 123/200\n",
            "81/81 - 3s - loss: 12.4207 - ht_rg_loss: 10.7084 - ag_3cls_loss: 0.6232 - brd_8cls_loss: 1.0891 - ht_rg_mse: 10.7084 - ag_3cls_accuracy: 0.7388 - brd_8cls_accuracy: 0.6919 - val_loss: 13.1297 - val_ht_rg_loss: 11.3862 - val_ag_3cls_loss: 0.6110 - val_brd_8cls_loss: 1.1325 - val_ht_rg_mse: 11.3862 - val_ag_3cls_accuracy: 0.7477 - val_brd_8cls_accuracy: 0.6796 - 3s/epoch - 37ms/step\n",
            "Epoch 124/200\n",
            "81/81 - 3s - loss: 12.3320 - ht_rg_loss: 10.6166 - ag_3cls_loss: 0.6249 - brd_8cls_loss: 1.0906 - ht_rg_mse: 10.6166 - ag_3cls_accuracy: 0.7388 - brd_8cls_accuracy: 0.6919 - val_loss: 12.3978 - val_ht_rg_loss: 10.6485 - val_ag_3cls_loss: 0.6138 - val_brd_8cls_loss: 1.1355 - val_ht_rg_mse: 10.6485 - val_ag_3cls_accuracy: 0.7477 - val_brd_8cls_accuracy: 0.6796 - 3s/epoch - 37ms/step\n",
            "Epoch 125/200\n",
            "81/81 - 3s - loss: 12.2500 - ht_rg_loss: 10.5351 - ag_3cls_loss: 0.6231 - brd_8cls_loss: 1.0918 - ht_rg_mse: 10.5351 - ag_3cls_accuracy: 0.7388 - brd_8cls_accuracy: 0.6919 - val_loss: 12.3044 - val_ht_rg_loss: 10.5609 - val_ag_3cls_loss: 0.6108 - val_brd_8cls_loss: 1.1327 - val_ht_rg_mse: 10.5609 - val_ag_3cls_accuracy: 0.7477 - val_brd_8cls_accuracy: 0.6796 - 3s/epoch - 36ms/step\n",
            "Epoch 126/200\n",
            "81/81 - 3s - loss: 12.3992 - ht_rg_loss: 10.6850 - ag_3cls_loss: 0.6230 - brd_8cls_loss: 1.0912 - ht_rg_mse: 10.6850 - ag_3cls_accuracy: 0.7388 - brd_8cls_accuracy: 0.6919 - val_loss: 12.3195 - val_ht_rg_loss: 10.5734 - val_ag_3cls_loss: 0.6109 - val_brd_8cls_loss: 1.1351 - val_ht_rg_mse: 10.5734 - val_ag_3cls_accuracy: 0.7477 - val_brd_8cls_accuracy: 0.6796 - 3s/epoch - 37ms/step\n",
            "Epoch 127/200\n",
            "81/81 - 3s - loss: 12.2606 - ht_rg_loss: 10.5461 - ag_3cls_loss: 0.6234 - brd_8cls_loss: 1.0911 - ht_rg_mse: 10.5461 - ag_3cls_accuracy: 0.7388 - brd_8cls_accuracy: 0.6919 - val_loss: 12.4903 - val_ht_rg_loss: 10.7428 - val_ag_3cls_loss: 0.6111 - val_brd_8cls_loss: 1.1364 - val_ht_rg_mse: 10.7428 - val_ag_3cls_accuracy: 0.7477 - val_brd_8cls_accuracy: 0.6796 - 3s/epoch - 37ms/step\n",
            "Epoch 128/200\n",
            "81/81 - 3s - loss: 12.2880 - ht_rg_loss: 10.5743 - ag_3cls_loss: 0.6236 - brd_8cls_loss: 1.0901 - ht_rg_mse: 10.5743 - ag_3cls_accuracy: 0.7388 - brd_8cls_accuracy: 0.6919 - val_loss: 12.2108 - val_ht_rg_loss: 10.4656 - val_ag_3cls_loss: 0.6116 - val_brd_8cls_loss: 1.1337 - val_ht_rg_mse: 10.4656 - val_ag_3cls_accuracy: 0.7477 - val_brd_8cls_accuracy: 0.6796 - 3s/epoch - 37ms/step\n",
            "Epoch 129/200\n",
            "81/81 - 3s - loss: 12.3023 - ht_rg_loss: 10.5894 - ag_3cls_loss: 0.6222 - brd_8cls_loss: 1.0907 - ht_rg_mse: 10.5894 - ag_3cls_accuracy: 0.7388 - brd_8cls_accuracy: 0.6919 - val_loss: 12.1934 - val_ht_rg_loss: 10.4479 - val_ag_3cls_loss: 0.6112 - val_brd_8cls_loss: 1.1343 - val_ht_rg_mse: 10.4479 - val_ag_3cls_accuracy: 0.7477 - val_brd_8cls_accuracy: 0.6796 - 3s/epoch - 37ms/step\n",
            "Epoch 130/200\n",
            "81/81 - 3s - loss: 12.1646 - ht_rg_loss: 10.4517 - ag_3cls_loss: 0.6231 - brd_8cls_loss: 1.0897 - ht_rg_mse: 10.4517 - ag_3cls_accuracy: 0.7388 - brd_8cls_accuracy: 0.6919 - val_loss: 12.1747 - val_ht_rg_loss: 10.4227 - val_ag_3cls_loss: 0.6127 - val_brd_8cls_loss: 1.1392 - val_ht_rg_mse: 10.4227 - val_ag_3cls_accuracy: 0.7477 - val_brd_8cls_accuracy: 0.6796 - 3s/epoch - 37ms/step\n",
            "Epoch 131/200\n",
            "81/81 - 3s - loss: 12.2260 - ht_rg_loss: 10.5115 - ag_3cls_loss: 0.6231 - brd_8cls_loss: 1.0914 - ht_rg_mse: 10.5115 - ag_3cls_accuracy: 0.7388 - brd_8cls_accuracy: 0.6919 - val_loss: 12.5089 - val_ht_rg_loss: 10.7594 - val_ag_3cls_loss: 0.6148 - val_brd_8cls_loss: 1.1347 - val_ht_rg_mse: 10.7594 - val_ag_3cls_accuracy: 0.7477 - val_brd_8cls_accuracy: 0.6796 - 3s/epoch - 37ms/step\n",
            "Epoch 132/200\n",
            "81/81 - 3s - loss: 12.3012 - ht_rg_loss: 10.5876 - ag_3cls_loss: 0.6238 - brd_8cls_loss: 1.0899 - ht_rg_mse: 10.5876 - ag_3cls_accuracy: 0.7388 - brd_8cls_accuracy: 0.6919 - val_loss: 12.3670 - val_ht_rg_loss: 10.6208 - val_ag_3cls_loss: 0.6116 - val_brd_8cls_loss: 1.1346 - val_ht_rg_mse: 10.6208 - val_ag_3cls_accuracy: 0.7477 - val_brd_8cls_accuracy: 0.6796 - 3s/epoch - 37ms/step\n",
            "Epoch 133/200\n",
            "81/81 - 3s - loss: 12.0427 - ht_rg_loss: 10.3281 - ag_3cls_loss: 0.6240 - brd_8cls_loss: 1.0906 - ht_rg_mse: 10.3281 - ag_3cls_accuracy: 0.7388 - brd_8cls_accuracy: 0.6919 - val_loss: 12.1944 - val_ht_rg_loss: 10.4463 - val_ag_3cls_loss: 0.6111 - val_brd_8cls_loss: 1.1370 - val_ht_rg_mse: 10.4463 - val_ag_3cls_accuracy: 0.7477 - val_brd_8cls_accuracy: 0.6796 - 3s/epoch - 37ms/step\n",
            "Epoch 134/200\n",
            "81/81 - 3s - loss: 12.0624 - ht_rg_loss: 10.3463 - ag_3cls_loss: 0.6230 - brd_8cls_loss: 1.0932 - ht_rg_mse: 10.3463 - ag_3cls_accuracy: 0.7388 - brd_8cls_accuracy: 0.6919 - val_loss: 12.7385 - val_ht_rg_loss: 10.9916 - val_ag_3cls_loss: 0.6132 - val_brd_8cls_loss: 1.1337 - val_ht_rg_mse: 10.9916 - val_ag_3cls_accuracy: 0.7477 - val_brd_8cls_accuracy: 0.6796 - 3s/epoch - 36ms/step\n",
            "Epoch 135/200\n",
            "81/81 - 3s - loss: 12.1493 - ht_rg_loss: 10.4357 - ag_3cls_loss: 0.6229 - brd_8cls_loss: 1.0907 - ht_rg_mse: 10.4357 - ag_3cls_accuracy: 0.7388 - brd_8cls_accuracy: 0.6919 - val_loss: 12.9762 - val_ht_rg_loss: 11.2328 - val_ag_3cls_loss: 0.6115 - val_brd_8cls_loss: 1.1319 - val_ht_rg_mse: 11.2328 - val_ag_3cls_accuracy: 0.7477 - val_brd_8cls_accuracy: 0.6796 - 3s/epoch - 37ms/step\n",
            "Epoch 136/200\n",
            "81/81 - 3s - loss: 12.1990 - ht_rg_loss: 10.4856 - ag_3cls_loss: 0.6231 - brd_8cls_loss: 1.0902 - ht_rg_mse: 10.4856 - ag_3cls_accuracy: 0.7388 - brd_8cls_accuracy: 0.6919 - val_loss: 12.1753 - val_ht_rg_loss: 10.4325 - val_ag_3cls_loss: 0.6117 - val_brd_8cls_loss: 1.1311 - val_ht_rg_mse: 10.4325 - val_ag_3cls_accuracy: 0.7477 - val_brd_8cls_accuracy: 0.6796 - 3s/epoch - 38ms/step\n",
            "Epoch 137/200\n",
            "81/81 - 3s - loss: 12.2314 - ht_rg_loss: 10.5160 - ag_3cls_loss: 0.6224 - brd_8cls_loss: 1.0929 - ht_rg_mse: 10.5160 - ag_3cls_accuracy: 0.7388 - brd_8cls_accuracy: 0.6919 - val_loss: 12.2010 - val_ht_rg_loss: 10.4544 - val_ag_3cls_loss: 0.6133 - val_brd_8cls_loss: 1.1333 - val_ht_rg_mse: 10.4544 - val_ag_3cls_accuracy: 0.7477 - val_brd_8cls_accuracy: 0.6796 - 3s/epoch - 37ms/step\n",
            "Epoch 138/200\n",
            "81/81 - 3s - loss: 12.2021 - ht_rg_loss: 10.4878 - ag_3cls_loss: 0.6223 - brd_8cls_loss: 1.0920 - ht_rg_mse: 10.4878 - ag_3cls_accuracy: 0.7388 - brd_8cls_accuracy: 0.6919 - val_loss: 13.0172 - val_ht_rg_loss: 11.2717 - val_ag_3cls_loss: 0.6113 - val_brd_8cls_loss: 1.1342 - val_ht_rg_mse: 11.2717 - val_ag_3cls_accuracy: 0.7477 - val_brd_8cls_accuracy: 0.6796 - 3s/epoch - 37ms/step\n",
            "Epoch 139/200\n",
            "81/81 - 3s - loss: 12.1393 - ht_rg_loss: 10.4257 - ag_3cls_loss: 0.6231 - brd_8cls_loss: 1.0904 - ht_rg_mse: 10.4257 - ag_3cls_accuracy: 0.7388 - brd_8cls_accuracy: 0.6919 - val_loss: 12.0279 - val_ht_rg_loss: 10.2825 - val_ag_3cls_loss: 0.6116 - val_brd_8cls_loss: 1.1339 - val_ht_rg_mse: 10.2825 - val_ag_3cls_accuracy: 0.7477 - val_brd_8cls_accuracy: 0.6796 - 3s/epoch - 37ms/step\n",
            "Epoch 140/200\n",
            "81/81 - 3s - loss: 11.9164 - ht_rg_loss: 10.2018 - ag_3cls_loss: 0.6232 - brd_8cls_loss: 1.0914 - ht_rg_mse: 10.2018 - ag_3cls_accuracy: 0.7388 - brd_8cls_accuracy: 0.6919 - val_loss: 13.2524 - val_ht_rg_loss: 11.5098 - val_ag_3cls_loss: 0.6123 - val_brd_8cls_loss: 1.1303 - val_ht_rg_mse: 11.5098 - val_ag_3cls_accuracy: 0.7477 - val_brd_8cls_accuracy: 0.6796 - 3s/epoch - 37ms/step\n",
            "Epoch 141/200\n",
            "81/81 - 3s - loss: 12.0989 - ht_rg_loss: 10.3836 - ag_3cls_loss: 0.6236 - brd_8cls_loss: 1.0917 - ht_rg_mse: 10.3836 - ag_3cls_accuracy: 0.7388 - brd_8cls_accuracy: 0.6919 - val_loss: 12.4746 - val_ht_rg_loss: 10.7295 - val_ag_3cls_loss: 0.6113 - val_brd_8cls_loss: 1.1338 - val_ht_rg_mse: 10.7295 - val_ag_3cls_accuracy: 0.7477 - val_brd_8cls_accuracy: 0.6796 - 3s/epoch - 37ms/step\n",
            "Epoch 142/200\n",
            "81/81 - 3s - loss: 11.9370 - ht_rg_loss: 10.2237 - ag_3cls_loss: 0.6236 - brd_8cls_loss: 1.0897 - ht_rg_mse: 10.2237 - ag_3cls_accuracy: 0.7388 - brd_8cls_accuracy: 0.6919 - val_loss: 12.5786 - val_ht_rg_loss: 10.8374 - val_ag_3cls_loss: 0.6112 - val_brd_8cls_loss: 1.1299 - val_ht_rg_mse: 10.8374 - val_ag_3cls_accuracy: 0.7477 - val_brd_8cls_accuracy: 0.6796 - 3s/epoch - 37ms/step\n",
            "Epoch 143/200\n",
            "81/81 - 3s - loss: 11.9253 - ht_rg_loss: 10.2120 - ag_3cls_loss: 0.6225 - brd_8cls_loss: 1.0909 - ht_rg_mse: 10.2120 - ag_3cls_accuracy: 0.7388 - brd_8cls_accuracy: 0.6919 - val_loss: 11.9880 - val_ht_rg_loss: 10.2401 - val_ag_3cls_loss: 0.6127 - val_brd_8cls_loss: 1.1353 - val_ht_rg_mse: 10.2401 - val_ag_3cls_accuracy: 0.7477 - val_brd_8cls_accuracy: 0.6796 - 3s/epoch - 37ms/step\n",
            "Epoch 144/200\n",
            "81/81 - 3s - loss: 11.9445 - ht_rg_loss: 10.2300 - ag_3cls_loss: 0.6224 - brd_8cls_loss: 1.0920 - ht_rg_mse: 10.2300 - ag_3cls_accuracy: 0.7388 - brd_8cls_accuracy: 0.6919 - val_loss: 12.0331 - val_ht_rg_loss: 10.2880 - val_ag_3cls_loss: 0.6118 - val_brd_8cls_loss: 1.1333 - val_ht_rg_mse: 10.2880 - val_ag_3cls_accuracy: 0.7477 - val_brd_8cls_accuracy: 0.6796 - 3s/epoch - 37ms/step\n",
            "Epoch 145/200\n",
            "81/81 - 3s - loss: 12.1410 - ht_rg_loss: 10.4271 - ag_3cls_loss: 0.6220 - brd_8cls_loss: 1.0919 - ht_rg_mse: 10.4271 - ag_3cls_accuracy: 0.7388 - brd_8cls_accuracy: 0.6919 - val_loss: 11.9683 - val_ht_rg_loss: 10.2220 - val_ag_3cls_loss: 0.6122 - val_brd_8cls_loss: 1.1341 - val_ht_rg_mse: 10.2220 - val_ag_3cls_accuracy: 0.7477 - val_brd_8cls_accuracy: 0.6796 - 3s/epoch - 37ms/step\n",
            "Epoch 146/200\n",
            "81/81 - 3s - loss: 11.8290 - ht_rg_loss: 10.1139 - ag_3cls_loss: 0.6239 - brd_8cls_loss: 1.0913 - ht_rg_mse: 10.1139 - ag_3cls_accuracy: 0.7388 - brd_8cls_accuracy: 0.6919 - val_loss: 12.2570 - val_ht_rg_loss: 10.5107 - val_ag_3cls_loss: 0.6123 - val_brd_8cls_loss: 1.1340 - val_ht_rg_mse: 10.5107 - val_ag_3cls_accuracy: 0.7477 - val_brd_8cls_accuracy: 0.6796 - 3s/epoch - 37ms/step\n",
            "Epoch 147/200\n",
            "81/81 - 3s - loss: 11.8635 - ht_rg_loss: 10.1498 - ag_3cls_loss: 0.6228 - brd_8cls_loss: 1.0909 - ht_rg_mse: 10.1498 - ag_3cls_accuracy: 0.7388 - brd_8cls_accuracy: 0.6919 - val_loss: 13.0817 - val_ht_rg_loss: 11.3363 - val_ag_3cls_loss: 0.6131 - val_brd_8cls_loss: 1.1323 - val_ht_rg_mse: 11.3363 - val_ag_3cls_accuracy: 0.7477 - val_brd_8cls_accuracy: 0.6796 - 3s/epoch - 37ms/step\n",
            "Epoch 148/200\n",
            "81/81 - 3s - loss: 12.0767 - ht_rg_loss: 10.3624 - ag_3cls_loss: 0.6238 - brd_8cls_loss: 1.0905 - ht_rg_mse: 10.3624 - ag_3cls_accuracy: 0.7388 - brd_8cls_accuracy: 0.6919 - val_loss: 12.0527 - val_ht_rg_loss: 10.3071 - val_ag_3cls_loss: 0.6115 - val_brd_8cls_loss: 1.1340 - val_ht_rg_mse: 10.3071 - val_ag_3cls_accuracy: 0.7477 - val_brd_8cls_accuracy: 0.6796 - 3s/epoch - 37ms/step\n",
            "Epoch 149/200\n",
            "81/81 - 3s - loss: 11.8465 - ht_rg_loss: 10.1316 - ag_3cls_loss: 0.6238 - brd_8cls_loss: 1.0911 - ht_rg_mse: 10.1316 - ag_3cls_accuracy: 0.7388 - brd_8cls_accuracy: 0.6919 - val_loss: 11.9366 - val_ht_rg_loss: 10.1905 - val_ag_3cls_loss: 0.6130 - val_brd_8cls_loss: 1.1331 - val_ht_rg_mse: 10.1905 - val_ag_3cls_accuracy: 0.7477 - val_brd_8cls_accuracy: 0.6796 - 3s/epoch - 37ms/step\n",
            "Epoch 150/200\n",
            "81/81 - 3s - loss: 11.8271 - ht_rg_loss: 10.1123 - ag_3cls_loss: 0.6230 - brd_8cls_loss: 1.0918 - ht_rg_mse: 10.1123 - ag_3cls_accuracy: 0.7388 - brd_8cls_accuracy: 0.6919 - val_loss: 11.9561 - val_ht_rg_loss: 10.2123 - val_ag_3cls_loss: 0.6113 - val_brd_8cls_loss: 1.1325 - val_ht_rg_mse: 10.2123 - val_ag_3cls_accuracy: 0.7477 - val_brd_8cls_accuracy: 0.6796 - 3s/epoch - 37ms/step\n",
            "Epoch 151/200\n",
            "81/81 - 3s - loss: 11.8473 - ht_rg_loss: 10.1350 - ag_3cls_loss: 0.6222 - brd_8cls_loss: 1.0902 - ht_rg_mse: 10.1350 - ag_3cls_accuracy: 0.7388 - brd_8cls_accuracy: 0.6919 - val_loss: 11.9500 - val_ht_rg_loss: 10.1976 - val_ag_3cls_loss: 0.6112 - val_brd_8cls_loss: 1.1411 - val_ht_rg_mse: 10.1976 - val_ag_3cls_accuracy: 0.7477 - val_brd_8cls_accuracy: 0.6796 - 3s/epoch - 38ms/step\n",
            "Epoch 152/200\n",
            "81/81 - 3s - loss: 11.8704 - ht_rg_loss: 10.1548 - ag_3cls_loss: 0.6227 - brd_8cls_loss: 1.0929 - ht_rg_mse: 10.1548 - ag_3cls_accuracy: 0.7388 - brd_8cls_accuracy: 0.6919 - val_loss: 11.9068 - val_ht_rg_loss: 10.1642 - val_ag_3cls_loss: 0.6116 - val_brd_8cls_loss: 1.1311 - val_ht_rg_mse: 10.1642 - val_ag_3cls_accuracy: 0.7477 - val_brd_8cls_accuracy: 0.6796 - 3s/epoch - 37ms/step\n",
            "Epoch 153/200\n",
            "81/81 - 3s - loss: 11.7268 - ht_rg_loss: 10.0118 - ag_3cls_loss: 0.6229 - brd_8cls_loss: 1.0920 - ht_rg_mse: 10.0118 - ag_3cls_accuracy: 0.7388 - brd_8cls_accuracy: 0.6919 - val_loss: 12.9545 - val_ht_rg_loss: 11.2092 - val_ag_3cls_loss: 0.6122 - val_brd_8cls_loss: 1.1331 - val_ht_rg_mse: 11.2092 - val_ag_3cls_accuracy: 0.7477 - val_brd_8cls_accuracy: 0.6796 - 3s/epoch - 37ms/step\n",
            "Epoch 154/200\n",
            "81/81 - 3s - loss: 11.8242 - ht_rg_loss: 10.1097 - ag_3cls_loss: 0.6229 - brd_8cls_loss: 1.0916 - ht_rg_mse: 10.1097 - ag_3cls_accuracy: 0.7388 - brd_8cls_accuracy: 0.6919 - val_loss: 11.9023 - val_ht_rg_loss: 10.1560 - val_ag_3cls_loss: 0.6116 - val_brd_8cls_loss: 1.1347 - val_ht_rg_mse: 10.1560 - val_ag_3cls_accuracy: 0.7477 - val_brd_8cls_accuracy: 0.6796 - 3s/epoch - 37ms/step\n",
            "Epoch 155/200\n",
            "81/81 - 3s - loss: 11.7511 - ht_rg_loss: 10.0361 - ag_3cls_loss: 0.6236 - brd_8cls_loss: 1.0913 - ht_rg_mse: 10.0361 - ag_3cls_accuracy: 0.7388 - brd_8cls_accuracy: 0.6919 - val_loss: 11.9883 - val_ht_rg_loss: 10.2430 - val_ag_3cls_loss: 0.6114 - val_brd_8cls_loss: 1.1339 - val_ht_rg_mse: 10.2430 - val_ag_3cls_accuracy: 0.7477 - val_brd_8cls_accuracy: 0.6796 - 3s/epoch - 37ms/step\n",
            "Epoch 156/200\n",
            "81/81 - 3s - loss: 11.7544 - ht_rg_loss: 10.0392 - ag_3cls_loss: 0.6240 - brd_8cls_loss: 1.0912 - ht_rg_mse: 10.0392 - ag_3cls_accuracy: 0.7388 - brd_8cls_accuracy: 0.6919 - val_loss: 13.1843 - val_ht_rg_loss: 11.4317 - val_ag_3cls_loss: 0.6181 - val_brd_8cls_loss: 1.1345 - val_ht_rg_mse: 11.4317 - val_ag_3cls_accuracy: 0.7477 - val_brd_8cls_accuracy: 0.6796 - 3s/epoch - 37ms/step\n",
            "Epoch 157/200\n",
            "81/81 - 3s - loss: 11.9009 - ht_rg_loss: 10.1858 - ag_3cls_loss: 0.6233 - brd_8cls_loss: 1.0918 - ht_rg_mse: 10.1858 - ag_3cls_accuracy: 0.7388 - brd_8cls_accuracy: 0.6919 - val_loss: 11.8286 - val_ht_rg_loss: 10.0787 - val_ag_3cls_loss: 0.6153 - val_brd_8cls_loss: 1.1346 - val_ht_rg_mse: 10.0787 - val_ag_3cls_accuracy: 0.7477 - val_brd_8cls_accuracy: 0.6796 - 3s/epoch - 37ms/step\n",
            "Epoch 158/200\n",
            "81/81 - 3s - loss: 11.8560 - ht_rg_loss: 10.1409 - ag_3cls_loss: 0.6240 - brd_8cls_loss: 1.0910 - ht_rg_mse: 10.1409 - ag_3cls_accuracy: 0.7388 - brd_8cls_accuracy: 0.6919 - val_loss: 11.8158 - val_ht_rg_loss: 10.0613 - val_ag_3cls_loss: 0.6115 - val_brd_8cls_loss: 1.1430 - val_ht_rg_mse: 10.0613 - val_ag_3cls_accuracy: 0.7477 - val_brd_8cls_accuracy: 0.6796 - 3s/epoch - 37ms/step\n",
            "Epoch 159/200\n",
            "81/81 - 3s - loss: 11.7642 - ht_rg_loss: 10.0494 - ag_3cls_loss: 0.6221 - brd_8cls_loss: 1.0926 - ht_rg_mse: 10.0494 - ag_3cls_accuracy: 0.7388 - brd_8cls_accuracy: 0.6919 - val_loss: 11.8574 - val_ht_rg_loss: 10.1056 - val_ag_3cls_loss: 0.6154 - val_brd_8cls_loss: 1.1364 - val_ht_rg_mse: 10.1056 - val_ag_3cls_accuracy: 0.7477 - val_brd_8cls_accuracy: 0.6796 - 3s/epoch - 37ms/step\n",
            "Epoch 160/200\n",
            "81/81 - 3s - loss: 11.6099 - ht_rg_loss: 9.8953 - ag_3cls_loss: 0.6224 - brd_8cls_loss: 1.0922 - ht_rg_mse: 9.8953 - ag_3cls_accuracy: 0.7388 - brd_8cls_accuracy: 0.6919 - val_loss: 11.8090 - val_ht_rg_loss: 10.0655 - val_ag_3cls_loss: 0.6114 - val_brd_8cls_loss: 1.1321 - val_ht_rg_mse: 10.0655 - val_ag_3cls_accuracy: 0.7477 - val_brd_8cls_accuracy: 0.6796 - 3s/epoch - 37ms/step\n",
            "Epoch 161/200\n",
            "81/81 - 3s - loss: 11.5956 - ht_rg_loss: 9.8824 - ag_3cls_loss: 0.6227 - brd_8cls_loss: 1.0905 - ht_rg_mse: 9.8824 - ag_3cls_accuracy: 0.7388 - brd_8cls_accuracy: 0.6919 - val_loss: 11.7879 - val_ht_rg_loss: 10.0416 - val_ag_3cls_loss: 0.6116 - val_brd_8cls_loss: 1.1347 - val_ht_rg_mse: 10.0416 - val_ag_3cls_accuracy: 0.7477 - val_brd_8cls_accuracy: 0.6796 - 3s/epoch - 37ms/step\n",
            "Epoch 162/200\n",
            "81/81 - 3s - loss: 11.6844 - ht_rg_loss: 9.9689 - ag_3cls_loss: 0.6229 - brd_8cls_loss: 1.0925 - ht_rg_mse: 9.9689 - ag_3cls_accuracy: 0.7388 - brd_8cls_accuracy: 0.6919 - val_loss: 11.7801 - val_ht_rg_loss: 10.0384 - val_ag_3cls_loss: 0.6115 - val_brd_8cls_loss: 1.1302 - val_ht_rg_mse: 10.0384 - val_ag_3cls_accuracy: 0.7477 - val_brd_8cls_accuracy: 0.6796 - 3s/epoch - 37ms/step\n",
            "Epoch 163/200\n",
            "81/81 - 3s - loss: 11.7132 - ht_rg_loss: 10.0010 - ag_3cls_loss: 0.6220 - brd_8cls_loss: 1.0903 - ht_rg_mse: 10.0010 - ag_3cls_accuracy: 0.7388 - brd_8cls_accuracy: 0.6919 - val_loss: 12.7093 - val_ht_rg_loss: 10.9636 - val_ag_3cls_loss: 0.6131 - val_brd_8cls_loss: 1.1327 - val_ht_rg_mse: 10.9636 - val_ag_3cls_accuracy: 0.7477 - val_brd_8cls_accuracy: 0.6796 - 3s/epoch - 37ms/step\n",
            "Epoch 164/200\n",
            "81/81 - 3s - loss: 11.8019 - ht_rg_loss: 10.0880 - ag_3cls_loss: 0.6224 - brd_8cls_loss: 1.0915 - ht_rg_mse: 10.0880 - ag_3cls_accuracy: 0.7388 - brd_8cls_accuracy: 0.6919 - val_loss: 11.7999 - val_ht_rg_loss: 10.0523 - val_ag_3cls_loss: 0.6117 - val_brd_8cls_loss: 1.1359 - val_ht_rg_mse: 10.0523 - val_ag_3cls_accuracy: 0.7477 - val_brd_8cls_accuracy: 0.6796 - 3s/epoch - 37ms/step\n",
            "Epoch 165/200\n",
            "81/81 - 3s - loss: 11.6877 - ht_rg_loss: 9.9753 - ag_3cls_loss: 0.6221 - brd_8cls_loss: 1.0903 - ht_rg_mse: 9.9753 - ag_3cls_accuracy: 0.7388 - brd_8cls_accuracy: 0.6919 - val_loss: 11.8895 - val_ht_rg_loss: 10.1424 - val_ag_3cls_loss: 0.6116 - val_brd_8cls_loss: 1.1355 - val_ht_rg_mse: 10.1424 - val_ag_3cls_accuracy: 0.7477 - val_brd_8cls_accuracy: 0.6796 - 3s/epoch - 37ms/step\n",
            "Epoch 166/200\n",
            "81/81 - 3s - loss: 11.6231 - ht_rg_loss: 9.9075 - ag_3cls_loss: 0.6234 - brd_8cls_loss: 1.0921 - ht_rg_mse: 9.9075 - ag_3cls_accuracy: 0.7388 - brd_8cls_accuracy: 0.6919 - val_loss: 11.9576 - val_ht_rg_loss: 10.2069 - val_ag_3cls_loss: 0.6144 - val_brd_8cls_loss: 1.1364 - val_ht_rg_mse: 10.2069 - val_ag_3cls_accuracy: 0.7477 - val_brd_8cls_accuracy: 0.6796 - 3s/epoch - 37ms/step\n",
            "Epoch 167/200\n",
            "81/81 - 3s - loss: 11.8714 - ht_rg_loss: 10.1582 - ag_3cls_loss: 0.6218 - brd_8cls_loss: 1.0914 - ht_rg_mse: 10.1582 - ag_3cls_accuracy: 0.7388 - brd_8cls_accuracy: 0.6919 - val_loss: 11.7938 - val_ht_rg_loss: 10.0440 - val_ag_3cls_loss: 0.6155 - val_brd_8cls_loss: 1.1343 - val_ht_rg_mse: 10.0440 - val_ag_3cls_accuracy: 0.7477 - val_brd_8cls_accuracy: 0.6796 - 3s/epoch - 38ms/step\n",
            "Epoch 168/200\n",
            "81/81 - 3s - loss: 11.5762 - ht_rg_loss: 9.8617 - ag_3cls_loss: 0.6236 - brd_8cls_loss: 1.0908 - ht_rg_mse: 9.8617 - ag_3cls_accuracy: 0.7388 - brd_8cls_accuracy: 0.6919 - val_loss: 11.7151 - val_ht_rg_loss: 9.9722 - val_ag_3cls_loss: 0.6121 - val_brd_8cls_loss: 1.1308 - val_ht_rg_mse: 9.9722 - val_ag_3cls_accuracy: 0.7477 - val_brd_8cls_accuracy: 0.6796 - 3s/epoch - 38ms/step\n",
            "Epoch 169/200\n",
            "81/81 - 3s - loss: 11.6820 - ht_rg_loss: 9.9661 - ag_3cls_loss: 0.6245 - brd_8cls_loss: 1.0914 - ht_rg_mse: 9.9661 - ag_3cls_accuracy: 0.7388 - brd_8cls_accuracy: 0.6919 - val_loss: 11.7816 - val_ht_rg_loss: 10.0367 - val_ag_3cls_loss: 0.6122 - val_brd_8cls_loss: 1.1327 - val_ht_rg_mse: 10.0367 - val_ag_3cls_accuracy: 0.7477 - val_brd_8cls_accuracy: 0.6796 - 3s/epoch - 37ms/step\n",
            "Epoch 170/200\n",
            "81/81 - 3s - loss: 11.5459 - ht_rg_loss: 9.8309 - ag_3cls_loss: 0.6231 - brd_8cls_loss: 1.0918 - ht_rg_mse: 9.8309 - ag_3cls_accuracy: 0.7388 - brd_8cls_accuracy: 0.6919 - val_loss: 11.7176 - val_ht_rg_loss: 9.9734 - val_ag_3cls_loss: 0.6117 - val_brd_8cls_loss: 1.1325 - val_ht_rg_mse: 9.9734 - val_ag_3cls_accuracy: 0.7477 - val_brd_8cls_accuracy: 0.6796 - 3s/epoch - 37ms/step\n",
            "Epoch 171/200\n",
            "81/81 - 3s - loss: 11.7680 - ht_rg_loss: 10.0546 - ag_3cls_loss: 0.6222 - brd_8cls_loss: 1.0912 - ht_rg_mse: 10.0546 - ag_3cls_accuracy: 0.7388 - brd_8cls_accuracy: 0.6919 - val_loss: 12.1141 - val_ht_rg_loss: 10.3709 - val_ag_3cls_loss: 0.6111 - val_brd_8cls_loss: 1.1321 - val_ht_rg_mse: 10.3709 - val_ag_3cls_accuracy: 0.7477 - val_brd_8cls_accuracy: 0.6796 - 3s/epoch - 37ms/step\n",
            "Epoch 172/200\n",
            "81/81 - 3s - loss: 11.5810 - ht_rg_loss: 9.8667 - ag_3cls_loss: 0.6240 - brd_8cls_loss: 1.0903 - ht_rg_mse: 9.8667 - ag_3cls_accuracy: 0.7388 - brd_8cls_accuracy: 0.6919 - val_loss: 13.0435 - val_ht_rg_loss: 11.2849 - val_ag_3cls_loss: 0.6127 - val_brd_8cls_loss: 1.1459 - val_ht_rg_mse: 11.2849 - val_ag_3cls_accuracy: 0.7477 - val_brd_8cls_accuracy: 0.6796 - 3s/epoch - 37ms/step\n",
            "Epoch 173/200\n",
            "81/81 - 3s - loss: 11.5311 - ht_rg_loss: 9.8183 - ag_3cls_loss: 0.6217 - brd_8cls_loss: 1.0911 - ht_rg_mse: 9.8183 - ag_3cls_accuracy: 0.7388 - brd_8cls_accuracy: 0.6919 - val_loss: 12.3465 - val_ht_rg_loss: 10.5900 - val_ag_3cls_loss: 0.6111 - val_brd_8cls_loss: 1.1454 - val_ht_rg_mse: 10.5900 - val_ag_3cls_accuracy: 0.7477 - val_brd_8cls_accuracy: 0.6796 - 3s/epoch - 37ms/step\n",
            "Epoch 174/200\n",
            "81/81 - 3s - loss: 11.5187 - ht_rg_loss: 9.8051 - ag_3cls_loss: 0.6224 - brd_8cls_loss: 1.0911 - ht_rg_mse: 9.8051 - ag_3cls_accuracy: 0.7388 - brd_8cls_accuracy: 0.6919 - val_loss: 11.8772 - val_ht_rg_loss: 10.1334 - val_ag_3cls_loss: 0.6115 - val_brd_8cls_loss: 1.1322 - val_ht_rg_mse: 10.1334 - val_ag_3cls_accuracy: 0.7477 - val_brd_8cls_accuracy: 0.6796 - 3s/epoch - 37ms/step\n",
            "Epoch 175/200\n",
            "81/81 - 3s - loss: 11.5434 - ht_rg_loss: 9.8306 - ag_3cls_loss: 0.6227 - brd_8cls_loss: 1.0901 - ht_rg_mse: 9.8306 - ag_3cls_accuracy: 0.7388 - brd_8cls_accuracy: 0.6919 - val_loss: 11.7558 - val_ht_rg_loss: 10.0115 - val_ag_3cls_loss: 0.6121 - val_brd_8cls_loss: 1.1322 - val_ht_rg_mse: 10.0115 - val_ag_3cls_accuracy: 0.7477 - val_brd_8cls_accuracy: 0.6796 - 3s/epoch - 37ms/step\n",
            "Epoch 176/200\n",
            "81/81 - 3s - loss: 11.6163 - ht_rg_loss: 9.9034 - ag_3cls_loss: 0.6220 - brd_8cls_loss: 1.0909 - ht_rg_mse: 9.9034 - ag_3cls_accuracy: 0.7388 - brd_8cls_accuracy: 0.6919 - val_loss: 11.6628 - val_ht_rg_loss: 9.9179 - val_ag_3cls_loss: 0.6125 - val_brd_8cls_loss: 1.1324 - val_ht_rg_mse: 9.9179 - val_ag_3cls_accuracy: 0.7477 - val_brd_8cls_accuracy: 0.6796 - 3s/epoch - 37ms/step\n",
            "Epoch 177/200\n",
            "81/81 - 3s - loss: 11.5013 - ht_rg_loss: 9.7889 - ag_3cls_loss: 0.6223 - brd_8cls_loss: 1.0901 - ht_rg_mse: 9.7889 - ag_3cls_accuracy: 0.7388 - brd_8cls_accuracy: 0.6919 - val_loss: 11.8578 - val_ht_rg_loss: 10.1131 - val_ag_3cls_loss: 0.6126 - val_brd_8cls_loss: 1.1321 - val_ht_rg_mse: 10.1131 - val_ag_3cls_accuracy: 0.7477 - val_brd_8cls_accuracy: 0.6796 - 3s/epoch - 37ms/step\n",
            "Epoch 178/200\n",
            "81/81 - 3s - loss: 11.7090 - ht_rg_loss: 9.9962 - ag_3cls_loss: 0.6217 - brd_8cls_loss: 1.0911 - ht_rg_mse: 9.9962 - ag_3cls_accuracy: 0.7388 - brd_8cls_accuracy: 0.6919 - val_loss: 11.6747 - val_ht_rg_loss: 9.9258 - val_ag_3cls_loss: 0.6181 - val_brd_8cls_loss: 1.1308 - val_ht_rg_mse: 9.9258 - val_ag_3cls_accuracy: 0.7477 - val_brd_8cls_accuracy: 0.6796 - 3s/epoch - 38ms/step\n",
            "Epoch 179/200\n",
            "81/81 - 3s - loss: 11.6207 - ht_rg_loss: 9.9059 - ag_3cls_loss: 0.6238 - brd_8cls_loss: 1.0911 - ht_rg_mse: 9.9059 - ag_3cls_accuracy: 0.7388 - brd_8cls_accuracy: 0.6919 - val_loss: 11.6713 - val_ht_rg_loss: 9.9238 - val_ag_3cls_loss: 0.6115 - val_brd_8cls_loss: 1.1360 - val_ht_rg_mse: 9.9238 - val_ag_3cls_accuracy: 0.7477 - val_brd_8cls_accuracy: 0.6796 - 3s/epoch - 37ms/step\n",
            "Epoch 180/200\n",
            "81/81 - 3s - loss: 11.4117 - ht_rg_loss: 9.6988 - ag_3cls_loss: 0.6221 - brd_8cls_loss: 1.0908 - ht_rg_mse: 9.6988 - ag_3cls_accuracy: 0.7388 - brd_8cls_accuracy: 0.6919 - val_loss: 12.7299 - val_ht_rg_loss: 10.9862 - val_ag_3cls_loss: 0.6111 - val_brd_8cls_loss: 1.1326 - val_ht_rg_mse: 10.9862 - val_ag_3cls_accuracy: 0.7477 - val_brd_8cls_accuracy: 0.6796 - 3s/epoch - 37ms/step\n",
            "Epoch 181/200\n",
            "81/81 - 3s - loss: 11.6575 - ht_rg_loss: 9.9457 - ag_3cls_loss: 0.6210 - brd_8cls_loss: 1.0908 - ht_rg_mse: 9.9457 - ag_3cls_accuracy: 0.7388 - brd_8cls_accuracy: 0.6919 - val_loss: 12.0800 - val_ht_rg_loss: 10.3349 - val_ag_3cls_loss: 0.6116 - val_brd_8cls_loss: 1.1335 - val_ht_rg_mse: 10.3349 - val_ag_3cls_accuracy: 0.7477 - val_brd_8cls_accuracy: 0.6796 - 3s/epoch - 37ms/step\n",
            "Epoch 182/200\n",
            "81/81 - 3s - loss: 11.3332 - ht_rg_loss: 9.6209 - ag_3cls_loss: 0.6218 - brd_8cls_loss: 1.0905 - ht_rg_mse: 9.6209 - ag_3cls_accuracy: 0.7388 - brd_8cls_accuracy: 0.6919 - val_loss: 11.6190 - val_ht_rg_loss: 9.8746 - val_ag_3cls_loss: 0.6122 - val_brd_8cls_loss: 1.1322 - val_ht_rg_mse: 9.8746 - val_ag_3cls_accuracy: 0.7477 - val_brd_8cls_accuracy: 0.6796 - 3s/epoch - 37ms/step\n",
            "Epoch 183/200\n",
            "81/81 - 3s - loss: 11.3927 - ht_rg_loss: 9.6803 - ag_3cls_loss: 0.6225 - brd_8cls_loss: 1.0900 - ht_rg_mse: 9.6803 - ag_3cls_accuracy: 0.7388 - brd_8cls_accuracy: 0.6919 - val_loss: 12.1849 - val_ht_rg_loss: 10.4409 - val_ag_3cls_loss: 0.6112 - val_brd_8cls_loss: 1.1328 - val_ht_rg_mse: 10.4409 - val_ag_3cls_accuracy: 0.7477 - val_brd_8cls_accuracy: 0.6796 - 3s/epoch - 37ms/step\n",
            "Epoch 184/200\n",
            "81/81 - 3s - loss: 11.4676 - ht_rg_loss: 9.7546 - ag_3cls_loss: 0.6224 - brd_8cls_loss: 1.0906 - ht_rg_mse: 9.7546 - ag_3cls_accuracy: 0.7388 - brd_8cls_accuracy: 0.6919 - val_loss: 12.5865 - val_ht_rg_loss: 10.8429 - val_ag_3cls_loss: 0.6120 - val_brd_8cls_loss: 1.1316 - val_ht_rg_mse: 10.8429 - val_ag_3cls_accuracy: 0.7477 - val_brd_8cls_accuracy: 0.6796 - 3s/epoch - 37ms/step\n",
            "Epoch 185/200\n",
            "81/81 - 3s - loss: 11.4926 - ht_rg_loss: 9.7806 - ag_3cls_loss: 0.6222 - brd_8cls_loss: 1.0898 - ht_rg_mse: 9.7806 - ag_3cls_accuracy: 0.7388 - brd_8cls_accuracy: 0.6919 - val_loss: 11.5976 - val_ht_rg_loss: 9.8547 - val_ag_3cls_loss: 0.6112 - val_brd_8cls_loss: 1.1317 - val_ht_rg_mse: 9.8547 - val_ag_3cls_accuracy: 0.7477 - val_brd_8cls_accuracy: 0.6796 - 3s/epoch - 37ms/step\n",
            "Epoch 186/200\n",
            "81/81 - 3s - loss: 11.4334 - ht_rg_loss: 9.7196 - ag_3cls_loss: 0.6216 - brd_8cls_loss: 1.0922 - ht_rg_mse: 9.7196 - ag_3cls_accuracy: 0.7388 - brd_8cls_accuracy: 0.6919 - val_loss: 11.6336 - val_ht_rg_loss: 9.8899 - val_ag_3cls_loss: 0.6117 - val_brd_8cls_loss: 1.1321 - val_ht_rg_mse: 9.8899 - val_ag_3cls_accuracy: 0.7477 - val_brd_8cls_accuracy: 0.6796 - 3s/epoch - 37ms/step\n",
            "Epoch 187/200\n",
            "81/81 - 3s - loss: 11.5026 - ht_rg_loss: 9.7905 - ag_3cls_loss: 0.6225 - brd_8cls_loss: 1.0897 - ht_rg_mse: 9.7905 - ag_3cls_accuracy: 0.7388 - brd_8cls_accuracy: 0.6919 - val_loss: 11.5944 - val_ht_rg_loss: 9.8479 - val_ag_3cls_loss: 0.6123 - val_brd_8cls_loss: 1.1342 - val_ht_rg_mse: 9.8479 - val_ag_3cls_accuracy: 0.7477 - val_brd_8cls_accuracy: 0.6796 - 3s/epoch - 37ms/step\n",
            "Epoch 188/200\n",
            "81/81 - 3s - loss: 11.4462 - ht_rg_loss: 9.7336 - ag_3cls_loss: 0.6216 - brd_8cls_loss: 1.0910 - ht_rg_mse: 9.7336 - ag_3cls_accuracy: 0.7388 - brd_8cls_accuracy: 0.6919 - val_loss: 12.2378 - val_ht_rg_loss: 10.4953 - val_ag_3cls_loss: 0.6112 - val_brd_8cls_loss: 1.1312 - val_ht_rg_mse: 10.4953 - val_ag_3cls_accuracy: 0.7477 - val_brd_8cls_accuracy: 0.6796 - 3s/epoch - 37ms/step\n",
            "Epoch 189/200\n",
            "81/81 - 3s - loss: 11.4389 - ht_rg_loss: 9.7264 - ag_3cls_loss: 0.6216 - brd_8cls_loss: 1.0909 - ht_rg_mse: 9.7264 - ag_3cls_accuracy: 0.7388 - brd_8cls_accuracy: 0.6919 - val_loss: 12.4457 - val_ht_rg_loss: 10.6968 - val_ag_3cls_loss: 0.6137 - val_brd_8cls_loss: 1.1352 - val_ht_rg_mse: 10.6968 - val_ag_3cls_accuracy: 0.7477 - val_brd_8cls_accuracy: 0.6796 - 3s/epoch - 36ms/step\n",
            "Epoch 190/200\n",
            "81/81 - 3s - loss: 11.1879 - ht_rg_loss: 9.4753 - ag_3cls_loss: 0.6213 - brd_8cls_loss: 1.0912 - ht_rg_mse: 9.4753 - ag_3cls_accuracy: 0.7388 - brd_8cls_accuracy: 0.6919 - val_loss: 13.4627 - val_ht_rg_loss: 11.7190 - val_ag_3cls_loss: 0.6141 - val_brd_8cls_loss: 1.1296 - val_ht_rg_mse: 11.7190 - val_ag_3cls_accuracy: 0.7477 - val_brd_8cls_accuracy: 0.6796 - 3s/epoch - 37ms/step\n",
            "Epoch 191/200\n",
            "81/81 - 3s - loss: 11.3521 - ht_rg_loss: 9.6397 - ag_3cls_loss: 0.6219 - brd_8cls_loss: 1.0905 - ht_rg_mse: 9.6397 - ag_3cls_accuracy: 0.7388 - brd_8cls_accuracy: 0.6919 - val_loss: 11.5614 - val_ht_rg_loss: 9.8185 - val_ag_3cls_loss: 0.6120 - val_brd_8cls_loss: 1.1309 - val_ht_rg_mse: 9.8185 - val_ag_3cls_accuracy: 0.7477 - val_brd_8cls_accuracy: 0.6796 - 3s/epoch - 37ms/step\n",
            "Epoch 192/200\n",
            "81/81 - 3s - loss: 11.3100 - ht_rg_loss: 9.5998 - ag_3cls_loss: 0.6205 - brd_8cls_loss: 1.0896 - ht_rg_mse: 9.5998 - ag_3cls_accuracy: 0.7388 - brd_8cls_accuracy: 0.6919 - val_loss: 11.5656 - val_ht_rg_loss: 9.8115 - val_ag_3cls_loss: 0.6187 - val_brd_8cls_loss: 1.1353 - val_ht_rg_mse: 9.8115 - val_ag_3cls_accuracy: 0.7477 - val_brd_8cls_accuracy: 0.6796 - 3s/epoch - 37ms/step\n",
            "Epoch 193/200\n",
            "81/81 - 3s - loss: 11.2689 - ht_rg_loss: 9.5563 - ag_3cls_loss: 0.6230 - brd_8cls_loss: 1.0896 - ht_rg_mse: 9.5563 - ag_3cls_accuracy: 0.7388 - brd_8cls_accuracy: 0.6919 - val_loss: 11.5716 - val_ht_rg_loss: 9.8274 - val_ag_3cls_loss: 0.6115 - val_brd_8cls_loss: 1.1327 - val_ht_rg_mse: 9.8274 - val_ag_3cls_accuracy: 0.7477 - val_brd_8cls_accuracy: 0.6796 - 3s/epoch - 37ms/step\n",
            "Epoch 194/200\n",
            "81/81 - 3s - loss: 11.4226 - ht_rg_loss: 9.7106 - ag_3cls_loss: 0.6221 - brd_8cls_loss: 1.0899 - ht_rg_mse: 9.7106 - ag_3cls_accuracy: 0.7388 - brd_8cls_accuracy: 0.6919 - val_loss: 12.2195 - val_ht_rg_loss: 10.4760 - val_ag_3cls_loss: 0.6121 - val_brd_8cls_loss: 1.1314 - val_ht_rg_mse: 10.4760 - val_ag_3cls_accuracy: 0.7477 - val_brd_8cls_accuracy: 0.6796 - 3s/epoch - 37ms/step\n",
            "Epoch 195/200\n",
            "81/81 - 3s - loss: 11.2577 - ht_rg_loss: 9.5437 - ag_3cls_loss: 0.6229 - brd_8cls_loss: 1.0911 - ht_rg_mse: 9.5437 - ag_3cls_accuracy: 0.7388 - brd_8cls_accuracy: 0.6919 - val_loss: 12.1561 - val_ht_rg_loss: 10.4079 - val_ag_3cls_loss: 0.6109 - val_brd_8cls_loss: 1.1373 - val_ht_rg_mse: 10.4079 - val_ag_3cls_accuracy: 0.7477 - val_brd_8cls_accuracy: 0.6796 - 3s/epoch - 37ms/step\n",
            "Epoch 196/200\n",
            "81/81 - 3s - loss: 11.3538 - ht_rg_loss: 9.6408 - ag_3cls_loss: 0.6231 - brd_8cls_loss: 1.0899 - ht_rg_mse: 9.6408 - ag_3cls_accuracy: 0.7388 - brd_8cls_accuracy: 0.6919 - val_loss: 12.1891 - val_ht_rg_loss: 10.4472 - val_ag_3cls_loss: 0.6110 - val_brd_8cls_loss: 1.1310 - val_ht_rg_mse: 10.4472 - val_ag_3cls_accuracy: 0.7477 - val_brd_8cls_accuracy: 0.6796 - 3s/epoch - 37ms/step\n",
            "Epoch 197/200\n",
            "81/81 - 3s - loss: 11.4002 - ht_rg_loss: 9.6884 - ag_3cls_loss: 0.6219 - brd_8cls_loss: 1.0899 - ht_rg_mse: 9.6884 - ag_3cls_accuracy: 0.7388 - brd_8cls_accuracy: 0.6919 - val_loss: 11.7891 - val_ht_rg_loss: 10.0450 - val_ag_3cls_loss: 0.6116 - val_brd_8cls_loss: 1.1325 - val_ht_rg_mse: 10.0450 - val_ag_3cls_accuracy: 0.7477 - val_brd_8cls_accuracy: 0.6796 - 3s/epoch - 37ms/step\n",
            "Epoch 198/200\n",
            "81/81 - 3s - loss: 11.3555 - ht_rg_loss: 9.6433 - ag_3cls_loss: 0.6227 - brd_8cls_loss: 1.0896 - ht_rg_mse: 9.6433 - ag_3cls_accuracy: 0.7388 - brd_8cls_accuracy: 0.6919 - val_loss: 12.1755 - val_ht_rg_loss: 10.4330 - val_ag_3cls_loss: 0.6121 - val_brd_8cls_loss: 1.1305 - val_ht_rg_mse: 10.4330 - val_ag_3cls_accuracy: 0.7477 - val_brd_8cls_accuracy: 0.6796 - 3s/epoch - 37ms/step\n",
            "Epoch 199/200\n",
            "81/81 - 3s - loss: 11.3970 - ht_rg_loss: 9.6845 - ag_3cls_loss: 0.6215 - brd_8cls_loss: 1.0910 - ht_rg_mse: 9.6845 - ag_3cls_accuracy: 0.7388 - brd_8cls_accuracy: 0.6919 - val_loss: 11.7927 - val_ht_rg_loss: 10.0440 - val_ag_3cls_loss: 0.6156 - val_brd_8cls_loss: 1.1331 - val_ht_rg_mse: 10.0440 - val_ag_3cls_accuracy: 0.7477 - val_brd_8cls_accuracy: 0.6796 - 3s/epoch - 37ms/step\n",
            "Epoch 200/200\n",
            "81/81 - 3s - loss: 11.2608 - ht_rg_loss: 9.5481 - ag_3cls_loss: 0.6209 - brd_8cls_loss: 1.0919 - ht_rg_mse: 9.5481 - ag_3cls_accuracy: 0.7388 - brd_8cls_accuracy: 0.6919 - val_loss: 11.5108 - val_ht_rg_loss: 9.7683 - val_ag_3cls_loss: 0.6131 - val_brd_8cls_loss: 1.1294 - val_ht_rg_mse: 9.7683 - val_ag_3cls_accuracy: 0.7477 - val_brd_8cls_accuracy: 0.6796 - 3s/epoch - 37ms/step\n"
          ]
        },
        {
          "output_type": "execute_result",
          "data": {
            "text/plain": [
              "<keras.callbacks.History at 0x7f255925bf10>"
            ]
          },
          "metadata": {},
          "execution_count": 145
        }
      ],
      "source": [
        "encoder.fit([X0, X1], [y1, y2, y3], epochs=200, verbose=2, batch_size=32, validation_split=0.2)"
      ]
    },
    {
      "cell_type": "code",
      "execution_count": 149,
      "metadata": {
        "id": "OS_zKeP11Buh",
        "colab": {
          "base_uri": "https://localhost:8080/",
          "height": 865
        },
        "outputId": "b3ef10b2-57fb-4fb8-a3e6-480ee46b1b1b"
      },
      "outputs": [
        {
          "output_type": "execute_result",
          "data": {
            "image/png": "[encoded data removed]",
            "text/plain": [
              "<IPython.core.display.Image object>"
            ]
          },
          "metadata": {},
          "execution_count": 149
        }
      ],
      "source": [
        "# encoder.output\n",
        "keras.utils.plot_model(encoder, \"encoder.png\", show_shapes=True)"
      ]
    },
    {
      "cell_type": "code",
      "source": [
        "(tX0, tX1), (ty0, ty1, ty2, ty3) = data_loader(test_df, (150, 150, 3))"
      ],
      "metadata": {
        "colab": {
          "base_uri": "https://localhost:8080/"
        },
        "id": "U3_Qm4mOJzC4",
        "outputId": "e9727c9a-8d75-48fc-8abe-9bb15a6f9f4c"
      },
      "execution_count": 129,
      "outputs": [
        {
          "output_type": "stream",
          "name": "stdout",
          "text": [
            "(359,)\n",
            "(359,)\n",
            "(359, 3)\n",
            "(359, 8)\n",
            "(359, 150, 150, 3)\n",
            "(359, 3)\n"
          ]
        }
      ]
    },
    {
      "cell_type": "code",
      "source": [
        "test_scores = encoder.evaluate([tX0, tX1], [ty1, ty2, ty3], verbose=2)"
      ],
      "metadata": {
        "colab": {
          "base_uri": "https://localhost:8080/"
        },
        "id": "b7XnFqweNwUB",
        "outputId": "efbc1a1a-cdd6-415b-c370-2fa314f6e9fc"
      },
      "execution_count": 150,
      "outputs": [
        {
          "output_type": "stream",
          "name": "stdout",
          "text": [
            "12/12 - 0s - loss: 12.2895 - ht_rg_loss: 10.5608 - ag_3cls_loss: 0.6094 - brd_8cls_loss: 1.1192 - ht_rg_mse: 10.5608 - ag_3cls_accuracy: 0.7577 - brd_8cls_accuracy: 0.6713 - 224ms/epoch - 19ms/step\n"
          ]
        }
      ]
    },
    {
      "cell_type": "code",
      "source": [
        "print(\"Test loss:\", test_scores[0])\n",
        "print(\"Test accuracy:\", test_scores[1])"
      ],
      "metadata": {
        "colab": {
          "base_uri": "https://localhost:8080/"
        },
        "id": "ix1tL2chOUdA",
        "outputId": "905133f0-f0c7-42c8-9ac2-ed67cefdb5f2"
      },
      "execution_count": 151,
      "outputs": [
        {
          "output_type": "stream",
          "name": "stdout",
          "text": [
            "Test loss: 12.289458274841309\n",
            "Test accuracy: 10.560790061950684\n"
          ]
        }
      ]
    },
    {
      "cell_type": "code",
      "execution_count": 156,
      "metadata": {
        "id": "pknNE0XJ1TtU"
      },
      "outputs": [],
      "source": [
        "p1, p2, p3 = encoder.predict([tf.expand_dims(tX0[0], 0), tf.expand_dims(tX1[0], 0)])"
      ]
    },
    {
      "cell_type": "code",
      "execution_count": 157,
      "metadata": {
        "id": "iUbdFp4I1gR2"
      },
      "outputs": [],
      "source": [
        "# print(p0);ty0[0]"
      ]
    },
    {
      "cell_type": "code",
      "execution_count": 158,
      "metadata": {
        "id": "NBWS4n921izy",
        "colab": {
          "base_uri": "https://localhost:8080/"
        },
        "outputId": "39fc1618-40dc-4fdf-8e6e-387b05fa4ec3"
      },
      "outputs": [
        {
          "output_type": "stream",
          "name": "stdout",
          "text": [
            "[[45.881622]]\n"
          ]
        },
        {
          "output_type": "execute_result",
          "data": {
            "text/plain": [
              "<tf.Tensor: shape=(), dtype=float32, numpy=48.0>"
            ]
          },
          "metadata": {},
          "execution_count": 158
        }
      ],
      "source": [
        "print(p1);ty1[0]"
      ]
    },
    {
      "cell_type": "code",
      "execution_count": 159,
      "metadata": {
        "id": "JgKtF9Dc1lRW",
        "colab": {
          "base_uri": "https://localhost:8080/"
        },
        "outputId": "fd669f34-8835-4830-8c3f-62bf5397f01c"
      },
      "outputs": [
        {
          "output_type": "stream",
          "name": "stdout",
          "text": [
            "0\n"
          ]
        },
        {
          "output_type": "execute_result",
          "data": {
            "text/plain": [
              "1"
            ]
          },
          "metadata": {},
          "execution_count": 159
        }
      ],
      "source": [
        "print(p2.argmax());ty2[0].argmax()"
      ]
    },
    {
      "cell_type": "code",
      "execution_count": 160,
      "metadata": {
        "id": "5wCRToDy1nRH",
        "colab": {
          "base_uri": "https://localhost:8080/"
        },
        "outputId": "a921efb8-ca61-4e41-df7c-22cdba4b5e46"
      },
      "outputs": [
        {
          "output_type": "stream",
          "name": "stdout",
          "text": [
            "2\n"
          ]
        },
        {
          "output_type": "execute_result",
          "data": {
            "text/plain": [
              "7"
            ]
          },
          "metadata": {},
          "execution_count": 160
        }
      ],
      "source": [
        "print(p3.argmax());ty3[0].argmax()"
      ]
    },
    {
      "cell_type": "code",
      "source": [
        ""
      ],
      "metadata": {
        "id": "7hPxQCKTxp49"
      },
      "execution_count": null,
      "outputs": []
    }
  ],
  "metadata": {
    "accelerator": "GPU",
    "colab": {
      "name": "027-dec.ipynb",
      "provenance": [],
      "authorship_tag": "ABX9TyMOc1rA3cshBFdg/WZSPi3n",
      "include_colab_link": true
    },
    "kernelspec": {
      "display_name": "Python 3",
      "name": "python3"
    },
    "language_info": {
      "name": "python"
    }
  },
  "nbformat": 4,
  "nbformat_minor": 0
}