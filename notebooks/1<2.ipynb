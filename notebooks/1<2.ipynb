{
  "cells": [
    {
      "cell_type": "markdown",
      "metadata": {
        "id": "view-in-github",
        "colab_type": "text"
      },
      "source": [
        "<a href=\"https://colab.research.google.com/github/bhuiyanmobasshir94/Cow-weight-and-Breed-Prediction/blob/main/notebooks/027_dec.ipynb\" target=\"_parent\"><img src=\"https://colab.research.google.com/assets/colab-badge.svg\" alt=\"Open In Colab\"/></a>"
      ]
    },
    {
      "cell_type": "code",
      "execution_count": 77,
      "metadata": {
        "id": "B3W_pFmsfyih"
      },
      "outputs": [],
      "source": [
        "import numpy as np\n",
        "import pandas as pd\n",
        "import sys\n",
        "import os\n",
        "import PIL\n",
        "import PIL.Image\n",
        "import tensorflow as tf\n",
        "import tensorflow.keras as keras\n",
        "from tensorflow.keras import layers\n",
        "import tensorflow_datasets as tfds\n",
        "import pathlib\n",
        "from sklearn.model_selection import train_test_split\n",
        "from sklearn import preprocessing"
      ]
    },
    {
      "cell_type": "code",
      "source": [
        "## Globals \n",
        "YT_IMAGE_TO_TAKE = 4"
      ],
      "metadata": {
        "id": "5kYcqMyc1hS7"
      },
      "execution_count": 48,
      "outputs": []
    },
    {
      "cell_type": "code",
      "execution_count": 2,
      "metadata": {
        "colab": {
          "base_uri": "https://localhost:8080/"
        },
        "id": "-HJIoeP8gQX8",
        "outputId": "d96a1fe3-a2e0-4bf6-9b0a-17f9b98546a8"
      },
      "outputs": [
        {
          "output_type": "stream",
          "name": "stdout",
          "text": [
            "Downloading data from https://cv-datasets-2021.s3.amazonaws.com/images.tar.gz\n",
            "833052672/833046463 [==============================] - 16s 0us/step\n",
            "833060864/833046463 [==============================] - 16s 0us/step\n"
          ]
        }
      ],
      "source": [
        "images_dataset_url = \"https://cv-datasets-2021.s3.amazonaws.com/images.tar.gz\"\n",
        "images_data_dir = tf.keras.utils.get_file(origin=images_dataset_url,\n",
        "                                   fname='images',\n",
        "                                   untar=True)\n",
        "images_data_dir = pathlib.Path(images_data_dir)"
      ]
    },
    {
      "cell_type": "code",
      "execution_count": 3,
      "metadata": {
        "colab": {
          "base_uri": "https://localhost:8080/"
        },
        "id": "wR0GlGtWgp9C",
        "outputId": "21814458-494a-434d-ec83-7332e81feff3"
      },
      "outputs": [
        {
          "output_type": "stream",
          "name": "stdout",
          "text": [
            "Downloading data from https://cv-datasets-2021.s3.amazonaws.com/yt_images.tar.gz\n",
            "4026998784/4026992587 [==============================] - 64s 0us/step\n",
            "4027006976/4026992587 [==============================] - 64s 0us/step\n"
          ]
        }
      ],
      "source": [
        "yt_images_dataset_url = \"https://cv-datasets-2021.s3.amazonaws.com/yt_images.tar.gz\"\n",
        "yt_images_data_dir = tf.keras.utils.get_file(origin=yt_images_dataset_url,\n",
        "                                   fname='yt_images',\n",
        "                                   untar=True)\n",
        "yt_images_data_dir = pathlib.Path(yt_images_data_dir)"
      ]
    },
    {
      "cell_type": "code",
      "execution_count": 4,
      "metadata": {
        "id": "TO0FsOzFgkLP"
      },
      "outputs": [],
      "source": [
        "if sys.platform == 'darwin':\n",
        "  os.system(f\"dot_clean {images_data_dir}\")\n",
        "  os.system(f\"dot_clean {yt_images_data_dir}\")\n",
        "elif sys.platform.startswith(\"lin\"):\n",
        "  os.system(f\"cd {images_data_dir} && find . -type f -name '._*' -delete\")\n",
        "  os.system(f\"cd {yt_images_data_dir} && find . -type f -name '._*' -delete\")\n"
      ]
    },
    {
      "cell_type": "code",
      "execution_count": 49,
      "metadata": {
        "colab": {
          "base_uri": "https://localhost:8080/"
        },
        "id": "Ef98wX12jI95",
        "outputId": "f6e6fe5f-219f-4f59-f3be-756db2bfe4f5"
      },
      "outputs": [
        {
          "output_type": "stream",
          "name": "stdout",
          "text": [
            "2056\n"
          ]
        }
      ],
      "source": [
        "image_count = len(list(images_data_dir.glob('*/*.jpg')))\n",
        "print(image_count)"
      ]
    },
    {
      "cell_type": "code",
      "execution_count": 50,
      "metadata": {
        "colab": {
          "base_uri": "https://localhost:8080/"
        },
        "id": "O0m9qMV9jRNJ",
        "outputId": "31e42d34-8e74-46ac-d4a9-d5f003a769fd"
      },
      "outputs": [
        {
          "output_type": "stream",
          "name": "stdout",
          "text": [
            "15843\n"
          ]
        }
      ],
      "source": [
        "yt_image_count = len(list(yt_images_data_dir.glob('*/*.jpg')))\n",
        "print(yt_image_count)"
      ]
    },
    {
      "cell_type": "code",
      "execution_count": 51,
      "metadata": {
        "colab": {
          "base_uri": "https://localhost:8080/"
        },
        "id": "H4DBG2Lkogb0",
        "outputId": "33f6b58a-9ced-4811-869c-d7bd40fab513"
      },
      "outputs": [
        {
          "output_type": "execute_result",
          "data": {
            "text/plain": [
              "(513, 14)"
            ]
          },
          "metadata": {},
          "execution_count": 51
        }
      ],
      "source": [
        "df = pd.read_csv(\"https://cv-datasets-2021.s3.amazonaws.com/dataset.csv\")\n",
        "df.shape"
      ]
    },
    {
      "cell_type": "code",
      "execution_count": 52,
      "metadata": {
        "colab": {
          "base_uri": "https://localhost:8080/",
          "height": 112
        },
        "id": "dRPCUNW7CtOO",
        "outputId": "f7958572-7408-421d-892b-5d1f6e9e1aee"
      },
      "outputs": [
        {
          "output_type": "execute_result",
          "data": {
            "text/html": [
              "\n",
              "  <div id=\"df-b0ba5cc2-d21a-4908-aa25-b420d06a84cd\">\n",
              "    <div class=\"colab-df-container\">\n",
              "      <div>\n",
              "<style scoped>\n",
              "    .dataframe tbody tr th:only-of-type {\n",
              "        vertical-align: middle;\n",
              "    }\n",
              "\n",
              "    .dataframe tbody tr th {\n",
              "        vertical-align: top;\n",
              "    }\n",
              "\n",
              "    .dataframe thead th {\n",
              "        text-align: right;\n",
              "    }\n",
              "</style>\n",
              "<table border=\"1\" class=\"dataframe\">\n",
              "  <thead>\n",
              "    <tr style=\"text-align: right;\">\n",
              "      <th></th>\n",
              "      <th>sku</th>\n",
              "      <th>sex</th>\n",
              "      <th>color</th>\n",
              "      <th>breed</th>\n",
              "      <th>feed</th>\n",
              "      <th>age_in_year</th>\n",
              "      <th>teeth</th>\n",
              "      <th>height_in_inch</th>\n",
              "      <th>weight_in_kg</th>\n",
              "      <th>price</th>\n",
              "      <th>size</th>\n",
              "      <th>images_count</th>\n",
              "      <th>yt_images_count</th>\n",
              "      <th>total_images</th>\n",
              "    </tr>\n",
              "  </thead>\n",
              "  <tbody>\n",
              "    <tr>\n",
              "      <th>0</th>\n",
              "      <td>BLF 2340</td>\n",
              "      <td>MALE_BULL</td>\n",
              "      <td>RED</td>\n",
              "      <td>LOCAL</td>\n",
              "      <td>['JUMBOO', 'LUCERNE', 'NAPIER', 'SILAGE', 'STR...</td>\n",
              "      <td>2.0</td>\n",
              "      <td>2</td>\n",
              "      <td>50.9</td>\n",
              "      <td>270.0</td>\n",
              "      <td>19000.0</td>\n",
              "      <td>MEDIUM</td>\n",
              "      <td>4</td>\n",
              "      <td>0</td>\n",
              "      <td>4</td>\n",
              "    </tr>\n",
              "    <tr>\n",
              "      <th>1</th>\n",
              "      <td>BLF 2342</td>\n",
              "      <td>MALE_BULL</td>\n",
              "      <td>NON_RED</td>\n",
              "      <td>LOCAL</td>\n",
              "      <td>['JUMBOO', 'LUCERNE', 'NAPIER', 'SILAGE', 'STR...</td>\n",
              "      <td>2.0</td>\n",
              "      <td>2</td>\n",
              "      <td>52.0</td>\n",
              "      <td>256.0</td>\n",
              "      <td>18000.0</td>\n",
              "      <td>LARGE</td>\n",
              "      <td>4</td>\n",
              "      <td>31</td>\n",
              "      <td>35</td>\n",
              "    </tr>\n",
              "  </tbody>\n",
              "</table>\n",
              "</div>\n",
              "      <button class=\"colab-df-convert\" onclick=\"convertToInteractive('df-b0ba5cc2-d21a-4908-aa25-b420d06a84cd')\"\n",
              "              title=\"Convert this dataframe to an interactive table.\"\n",
              "              style=\"display:none;\">\n",
              "        \n",
              "  <svg xmlns=\"http://www.w3.org/2000/svg\" height=\"24px\"viewBox=\"0 0 24 24\"\n",
              "       width=\"24px\">\n",
              "    <path d=\"M0 0h24v24H0V0z\" fill=\"none\"/>\n",
              "    <path d=\"M18.56 5.44l.94 2.06.94-2.06 2.06-.94-2.06-.94-.94-2.06-.94 2.06-2.06.94zm-11 1L8.5 8.5l.94-2.06 2.06-.94-2.06-.94L8.5 2.5l-.94 2.06-2.06.94zm10 10l.94 2.06.94-2.06 2.06-.94-2.06-.94-.94-2.06-.94 2.06-2.06.94z\"/><path d=\"M17.41 7.96l-1.37-1.37c-.4-.4-.92-.59-1.43-.59-.52 0-1.04.2-1.43.59L10.3 9.45l-7.72 7.72c-.78.78-.78 2.05 0 2.83L4 21.41c.39.39.9.59 1.41.59.51 0 1.02-.2 1.41-.59l7.78-7.78 2.81-2.81c.8-.78.8-2.07 0-2.86zM5.41 20L4 18.59l7.72-7.72 1.47 1.35L5.41 20z\"/>\n",
              "  </svg>\n",
              "      </button>\n",
              "      \n",
              "  <style>\n",
              "    .colab-df-container {\n",
              "      display:flex;\n",
              "      flex-wrap:wrap;\n",
              "      gap: 12px;\n",
              "    }\n",
              "\n",
              "    .colab-df-convert {\n",
              "      background-color: #E8F0FE;\n",
              "      border: none;\n",
              "      border-radius: 50%;\n",
              "      cursor: pointer;\n",
              "      display: none;\n",
              "      fill: #1967D2;\n",
              "      height: 32px;\n",
              "      padding: 0 0 0 0;\n",
              "      width: 32px;\n",
              "    }\n",
              "\n",
              "    .colab-df-convert:hover {\n",
              "      background-color: #E2EBFA;\n",
              "      box-shadow: 0px 1px 2px rgba(60, 64, 67, 0.3), 0px 1px 3px 1px rgba(60, 64, 67, 0.15);\n",
              "      fill: #174EA6;\n",
              "    }\n",
              "\n",
              "    [theme=dark] .colab-df-convert {\n",
              "      background-color: #3B4455;\n",
              "      fill: #D2E3FC;\n",
              "    }\n",
              "\n",
              "    [theme=dark] .colab-df-convert:hover {\n",
              "      background-color: #434B5C;\n",
              "      box-shadow: 0px 1px 3px 1px rgba(0, 0, 0, 0.15);\n",
              "      filter: drop-shadow(0px 1px 2px rgba(0, 0, 0, 0.3));\n",
              "      fill: #FFFFFF;\n",
              "    }\n",
              "  </style>\n",
              "\n",
              "      <script>\n",
              "        const buttonEl =\n",
              "          document.querySelector('#df-b0ba5cc2-d21a-4908-aa25-b420d06a84cd button.colab-df-convert');\n",
              "        buttonEl.style.display =\n",
              "          google.colab.kernel.accessAllowed ? 'block' : 'none';\n",
              "\n",
              "        async function convertToInteractive(key) {\n",
              "          const element = document.querySelector('#df-b0ba5cc2-d21a-4908-aa25-b420d06a84cd');\n",
              "          const dataTable =\n",
              "            await google.colab.kernel.invokeFunction('convertToInteractive',\n",
              "                                                     [key], {});\n",
              "          if (!dataTable) return;\n",
              "\n",
              "          const docLinkHtml = 'Like what you see? Visit the ' +\n",
              "            '<a target=\"_blank\" href=https://colab.research.google.com/notebooks/data_table.ipynb>data table notebook</a>'\n",
              "            + ' to learn more about interactive tables.';\n",
              "          element.innerHTML = '';\n",
              "          dataTable['output_type'] = 'display_data';\n",
              "          await google.colab.output.renderOutput(dataTable, element);\n",
              "          const docLink = document.createElement('div');\n",
              "          docLink.innerHTML = docLinkHtml;\n",
              "          element.appendChild(docLink);\n",
              "        }\n",
              "      </script>\n",
              "    </div>\n",
              "  </div>\n",
              "  "
            ],
            "text/plain": [
              "        sku        sex    color  ... images_count yt_images_count  total_images\n",
              "0  BLF 2340  MALE_BULL      RED  ...            4               0             4\n",
              "1  BLF 2342  MALE_BULL  NON_RED  ...            4              31            35\n",
              "\n",
              "[2 rows x 14 columns]"
            ]
          },
          "metadata": {},
          "execution_count": 52
        }
      ],
      "source": [
        "df.head(2)"
      ]
    },
    {
      "cell_type": "code",
      "execution_count": 53,
      "metadata": {
        "id": "ekUY7D5lpzwz"
      },
      "outputs": [],
      "source": [
        "images = list(images_data_dir.glob('*/*.jpg'))\n",
        "yt_images = list(yt_images_data_dir.glob('*/*.jpg'))"
      ]
    },
    {
      "cell_type": "code",
      "execution_count": 54,
      "metadata": {
        "colab": {
          "base_uri": "https://localhost:8080/"
        },
        "id": "FDpz4yme0wX7",
        "outputId": "aebd1322-5eb0-45ee-f0c4-3a682ed78038"
      },
      "outputs": [
        {
          "output_type": "stream",
          "name": "stdout",
          "text": [
            "min_height: 450\n",
            "min_width: 800\n",
            "max_height: 675\n",
            "max_width: 1200\n"
          ]
        }
      ],
      "source": [
        "min_height = 0\n",
        "max_height = 0\n",
        "min_width = 0\n",
        "max_width = 0\n",
        "for i, image in enumerate(images):\n",
        "  w, h = PIL.Image.open(str(image)).size\n",
        "  if i == 0:\n",
        "    min_height = h\n",
        "    max_height = h\n",
        "    min_width = w\n",
        "    max_width = w\n",
        "  \n",
        "  if h <= min_height:\n",
        "    min_height = h\n",
        "  if h >= max_height:\n",
        "    max_height = h\n",
        "\n",
        "  if w <= min_width:\n",
        "    min_width = w\n",
        "  if w >= max_width:\n",
        "    max_width = w\n",
        "\n",
        "print(f\"min_height: {min_height}\")\n",
        "print(f\"min_width: {min_width}\")\n",
        "print(f\"max_height: {max_height}\")\n",
        "print(f\"max_width: {max_width}\")"
      ]
    },
    {
      "cell_type": "code",
      "execution_count": 55,
      "metadata": {
        "colab": {
          "base_uri": "https://localhost:8080/"
        },
        "id": "zzLkutbX3PEM",
        "outputId": "d2d53302-1f3b-4d44-860e-49e82b03dd32"
      },
      "outputs": [
        {
          "output_type": "stream",
          "name": "stdout",
          "text": [
            "min_height: 720\n",
            "min_width: 1280\n",
            "max_height: 720\n",
            "max_width: 1280\n"
          ]
        }
      ],
      "source": [
        "min_height = 0\n",
        "max_height = 0\n",
        "min_width = 0\n",
        "max_width = 0\n",
        "for i, image in enumerate(yt_images):\n",
        "  w, h = PIL.Image.open(str(image)).size\n",
        "  if i == 0:\n",
        "    min_height = h\n",
        "    max_height = h\n",
        "    min_width = w\n",
        "    max_width = w\n",
        "\n",
        "  if h <= min_height:\n",
        "    min_height = h\n",
        "  if h >= max_height:\n",
        "    max_height = h\n",
        "\n",
        "  if w <= min_width:\n",
        "    min_width = w\n",
        "  if w >= max_width:\n",
        "    max_width = w\n",
        "\n",
        "print(f\"min_height: {min_height}\")\n",
        "print(f\"min_width: {min_width}\")\n",
        "print(f\"max_height: {max_height}\")\n",
        "print(f\"max_width: {max_width}\")"
      ]
    },
    {
      "cell_type": "code",
      "execution_count": 56,
      "metadata": {
        "id": "sTf9VTBJCSRP"
      },
      "outputs": [],
      "source": [
        "f_df = pd.DataFrame(columns = ['file_path', 'teeth', 'age_in_year', 'breed', 'height_in_inch', 'weight_in_kg'])\n",
        "for index, row in df.iterrows():\n",
        "  images = list(images_data_dir.glob(f\"{row['sku']}/*.jpg\"))\n",
        "  yt_images = list(yt_images_data_dir.glob(f\"{row['sku']}/*.jpg\"))\n",
        "\n",
        "  for image in images:\n",
        "    f_df = f_df.append({'file_path' : image, 'teeth' : row['teeth'], 'age_in_year' : row['age_in_year'], 'breed': row['breed'], 'height_in_inch': row['height_in_inch'], 'weight_in_kg': row['weight_in_kg']}, \n",
        "                ignore_index = True)\n",
        "    \n",
        "  for idx, image in enumerate(yt_images):\n",
        "    if idx == (YT_IMAGE_TO_TAKE - 1):\n",
        "      break\n",
        "    f_df = f_df.append({'file_path' : image, 'teeth' : row['teeth'], 'age_in_year' : row['age_in_year'], 'breed': row['breed'], 'height_in_inch': row['height_in_inch'], 'weight_in_kg': row['weight_in_kg']}, \n",
        "                ignore_index = True)\n"
      ]
    },
    {
      "cell_type": "code",
      "execution_count": 57,
      "metadata": {
        "colab": {
          "base_uri": "https://localhost:8080/"
        },
        "id": "cmd0yBH0CSNi",
        "outputId": "c8264a6f-a1bf-4485-bdc8-0182cc483efb"
      },
      "outputs": [
        {
          "output_type": "execute_result",
          "data": {
            "text/plain": [
              "(3585, 6)"
            ]
          },
          "metadata": {},
          "execution_count": 57
        }
      ],
      "source": [
        "f_df.shape"
      ]
    },
    {
      "cell_type": "code",
      "execution_count": 58,
      "metadata": {
        "colab": {
          "base_uri": "https://localhost:8080/",
          "height": 81
        },
        "id": "yLrlazxDCSIU",
        "outputId": "c8ddc6ec-221b-4b1e-ffb8-37157979b1f8"
      },
      "outputs": [
        {
          "output_type": "execute_result",
          "data": {
            "text/html": [
              "\n",
              "  <div id=\"df-20fc807e-b03b-4184-81f9-2692427f695b\">\n",
              "    <div class=\"colab-df-container\">\n",
              "      <div>\n",
              "<style scoped>\n",
              "    .dataframe tbody tr th:only-of-type {\n",
              "        vertical-align: middle;\n",
              "    }\n",
              "\n",
              "    .dataframe tbody tr th {\n",
              "        vertical-align: top;\n",
              "    }\n",
              "\n",
              "    .dataframe thead th {\n",
              "        text-align: right;\n",
              "    }\n",
              "</style>\n",
              "<table border=\"1\" class=\"dataframe\">\n",
              "  <thead>\n",
              "    <tr style=\"text-align: right;\">\n",
              "      <th></th>\n",
              "      <th>file_path</th>\n",
              "      <th>teeth</th>\n",
              "      <th>age_in_year</th>\n",
              "      <th>breed</th>\n",
              "      <th>height_in_inch</th>\n",
              "      <th>weight_in_kg</th>\n",
              "    </tr>\n",
              "  </thead>\n",
              "  <tbody>\n",
              "    <tr>\n",
              "      <th>0</th>\n",
              "      <td>/root/.keras/datasets/images/BLF 2340/BLF 2340...</td>\n",
              "      <td>2</td>\n",
              "      <td>2.0</td>\n",
              "      <td>LOCAL</td>\n",
              "      <td>50.9</td>\n",
              "      <td>270.0</td>\n",
              "    </tr>\n",
              "  </tbody>\n",
              "</table>\n",
              "</div>\n",
              "      <button class=\"colab-df-convert\" onclick=\"convertToInteractive('df-20fc807e-b03b-4184-81f9-2692427f695b')\"\n",
              "              title=\"Convert this dataframe to an interactive table.\"\n",
              "              style=\"display:none;\">\n",
              "        \n",
              "  <svg xmlns=\"http://www.w3.org/2000/svg\" height=\"24px\"viewBox=\"0 0 24 24\"\n",
              "       width=\"24px\">\n",
              "    <path d=\"M0 0h24v24H0V0z\" fill=\"none\"/>\n",
              "    <path d=\"M18.56 5.44l.94 2.06.94-2.06 2.06-.94-2.06-.94-.94-2.06-.94 2.06-2.06.94zm-11 1L8.5 8.5l.94-2.06 2.06-.94-2.06-.94L8.5 2.5l-.94 2.06-2.06.94zm10 10l.94 2.06.94-2.06 2.06-.94-2.06-.94-.94-2.06-.94 2.06-2.06.94z\"/><path d=\"M17.41 7.96l-1.37-1.37c-.4-.4-.92-.59-1.43-.59-.52 0-1.04.2-1.43.59L10.3 9.45l-7.72 7.72c-.78.78-.78 2.05 0 2.83L4 21.41c.39.39.9.59 1.41.59.51 0 1.02-.2 1.41-.59l7.78-7.78 2.81-2.81c.8-.78.8-2.07 0-2.86zM5.41 20L4 18.59l7.72-7.72 1.47 1.35L5.41 20z\"/>\n",
              "  </svg>\n",
              "      </button>\n",
              "      \n",
              "  <style>\n",
              "    .colab-df-container {\n",
              "      display:flex;\n",
              "      flex-wrap:wrap;\n",
              "      gap: 12px;\n",
              "    }\n",
              "\n",
              "    .colab-df-convert {\n",
              "      background-color: #E8F0FE;\n",
              "      border: none;\n",
              "      border-radius: 50%;\n",
              "      cursor: pointer;\n",
              "      display: none;\n",
              "      fill: #1967D2;\n",
              "      height: 32px;\n",
              "      padding: 0 0 0 0;\n",
              "      width: 32px;\n",
              "    }\n",
              "\n",
              "    .colab-df-convert:hover {\n",
              "      background-color: #E2EBFA;\n",
              "      box-shadow: 0px 1px 2px rgba(60, 64, 67, 0.3), 0px 1px 3px 1px rgba(60, 64, 67, 0.15);\n",
              "      fill: #174EA6;\n",
              "    }\n",
              "\n",
              "    [theme=dark] .colab-df-convert {\n",
              "      background-color: #3B4455;\n",
              "      fill: #D2E3FC;\n",
              "    }\n",
              "\n",
              "    [theme=dark] .colab-df-convert:hover {\n",
              "      background-color: #434B5C;\n",
              "      box-shadow: 0px 1px 3px 1px rgba(0, 0, 0, 0.15);\n",
              "      filter: drop-shadow(0px 1px 2px rgba(0, 0, 0, 0.3));\n",
              "      fill: #FFFFFF;\n",
              "    }\n",
              "  </style>\n",
              "\n",
              "      <script>\n",
              "        const buttonEl =\n",
              "          document.querySelector('#df-20fc807e-b03b-4184-81f9-2692427f695b button.colab-df-convert');\n",
              "        buttonEl.style.display =\n",
              "          google.colab.kernel.accessAllowed ? 'block' : 'none';\n",
              "\n",
              "        async function convertToInteractive(key) {\n",
              "          const element = document.querySelector('#df-20fc807e-b03b-4184-81f9-2692427f695b');\n",
              "          const dataTable =\n",
              "            await google.colab.kernel.invokeFunction('convertToInteractive',\n",
              "                                                     [key], {});\n",
              "          if (!dataTable) return;\n",
              "\n",
              "          const docLinkHtml = 'Like what you see? Visit the ' +\n",
              "            '<a target=\"_blank\" href=https://colab.research.google.com/notebooks/data_table.ipynb>data table notebook</a>'\n",
              "            + ' to learn more about interactive tables.';\n",
              "          element.innerHTML = '';\n",
              "          dataTable['output_type'] = 'display_data';\n",
              "          await google.colab.output.renderOutput(dataTable, element);\n",
              "          const docLink = document.createElement('div');\n",
              "          docLink.innerHTML = docLinkHtml;\n",
              "          element.appendChild(docLink);\n",
              "        }\n",
              "      </script>\n",
              "    </div>\n",
              "  </div>\n",
              "  "
            ],
            "text/plain": [
              "                                           file_path  ... weight_in_kg\n",
              "0  /root/.keras/datasets/images/BLF 2340/BLF 2340...  ...        270.0\n",
              "\n",
              "[1 rows x 6 columns]"
            ]
          },
          "metadata": {},
          "execution_count": 58
        }
      ],
      "source": [
        "f_df.head(1)"
      ]
    },
    {
      "cell_type": "code",
      "source": [
        "def label_encode(df):\n",
        "  teeth_le = preprocessing.LabelEncoder()\n",
        "  df['teeth']= teeth_le.fit_transform(df['teeth'])\n",
        "  breed_le = preprocessing.LabelEncoder()\n",
        "  df['breed']= breed_le.fit_transform(df['breed'])\n",
        "  age_in_year_le = preprocessing.LabelEncoder()\n",
        "  df['age_in_year']= age_in_year_le.fit_transform(df['age_in_year'])\n",
        "  print(teeth_le.classes_)\n",
        "  print(breed_le.classes_)\n",
        "  print(age_in_year_le.classes_)\n",
        "  return df\n",
        "\n",
        "def inverse_transform(le, series=[]):\n",
        "  return le.inverse_transform(series)\n"
      ],
      "metadata": {
        "id": "3uDbQNKIBCwF"
      },
      "execution_count": 78,
      "outputs": []
    },
    {
      "cell_type": "code",
      "source": [
        "f_df = label_encode(f_df)"
      ],
      "metadata": {
        "colab": {
          "base_uri": "https://localhost:8080/"
        },
        "id": "VOgAnGI2DK7n",
        "outputId": "3d0cdb25-0b4b-4d87-9a5c-467e1566460a"
      },
      "execution_count": 79,
      "outputs": [
        {
          "output_type": "stream",
          "name": "stdout",
          "text": [
            "[2 4 6]\n",
            "['BRAHMA' 'HOSTINE_CROSS' 'LOCAL' 'MIR_KADIM' 'PABNA_BREED'\n",
            " 'RED_CHITTAGONG' 'SAHIWAL' 'SINDHI']\n",
            "[2.  2.5 3. ]\n"
          ]
        }
      ]
    },
    {
      "cell_type": "code",
      "execution_count": 80,
      "metadata": {
        "colab": {
          "base_uri": "https://localhost:8080/"
        },
        "id": "QgSiTmzzDrzA",
        "outputId": "a6bac6b1-3ffb-4bf9-9545-094c4b81e127"
      },
      "outputs": [
        {
          "output_type": "stream",
          "name": "stdout",
          "text": [
            "train_df: (3226, 6)\n",
            "test_df: (359, 6)\n"
          ]
        }
      ],
      "source": [
        "# train_df, valid_test_df = train_test_split(f_df, test_size=0.3)\n",
        "# validation_df, test_df = train_test_split(valid_test_df, test_size=0.3)\n",
        "# print(f\"train_df: {train_df.shape}\")\n",
        "# print(f\"validation_df: {validation_df.shape}\")\n",
        "# print(f\"test_df: {test_df.shape}\")\n",
        "\n",
        "train_df, test_df = train_test_split(f_df, test_size=0.1)\n",
        "print(f\"train_df: {train_df.shape}\")\n",
        "print(f\"test_df: {test_df.shape}\")"
      ]
    },
    {
      "cell_type": "code",
      "execution_count": 60,
      "metadata": {
        "id": "L_8HLC9VT03R"
      },
      "outputs": [],
      "source": [
        "# min_height: 450\n",
        "# min_width: 800\n",
        "\n",
        "# input: [image, teeth]\n",
        "# outpur: [age_in_year, breed, height_in_inch, weight_in_kg]\n",
        "\n",
        "# class CustomDataGen(tf.keras.utils.Sequence):\n",
        "    \n",
        "#     def __init__(self, df, X_col, y_col,\n",
        "#                  batch_size,\n",
        "#                  input_size=(450, 800, 3), # (input_height, input_width, input_channel)\n",
        "#                  shuffle=True):\n",
        "        \n",
        "#         self.df = df.copy()\n",
        "#         self.X_col = X_col\n",
        "#         self.y_col = y_col\n",
        "#         self.batch_size = batch_size\n",
        "#         self.input_size = input_size\n",
        "#         self.shuffle = shuffle\n",
        "        \n",
        "#         self.n = len(self.df)\n",
        "#         # self.n_teeth = df[X_col['teeth']].max()\n",
        "#         # self.n_breed = df[y_col['breed']].nunique()\n",
        "    \n",
        "#     def on_epoch_end(self):\n",
        "#         if self.shuffle:\n",
        "#             self.df = self.df.sample(frac=1).reset_index(drop=True)\n",
        "    \n",
        "#     def __get_input(self, path, target_size):\n",
        "#         image = tf.keras.preprocessing.image.load_img(path)\n",
        "#         image_arr = tf.keras.preprocessing.image.img_to_array(image)\n",
        "\n",
        "#         # image_arr = image_arr[ymin:ymin+h, xmin:xmin+w]\n",
        "#         image_arr = tf.image.resize(image_arr,(target_size[0], target_size[1])).numpy()\n",
        "\n",
        "#         return image_arr/255.\n",
        "    \n",
        "#     def __get_output(self, label, num_classes):\n",
        "#         return tf.keras.utils.to_categorical(label, num_classes=num_classes)\n",
        "    \n",
        "#     def __get_data(self, batches):\n",
        "#         # Generates data containing batch_size samples\n",
        "\n",
        "#         path_batch = batches[self.X_col['file_path']]       \n",
        "#         # teeth_batch = batches[self.X_col['teeth']]\n",
        "\n",
        "#         # breed_batch = batches[self.y_col['breed']]\n",
        "#         weight_in_kg_batch = batches[self.y_col['weight_in_kg']]\n",
        "#         height_in_inch_batch = batches[self.y_col['height_in_inch']]\n",
        "#         age_in_year_batch = batches[self.y_col['age_in_year']]\n",
        "\n",
        "#         X0 = np.asarray([self.__get_input(x, self.input_size) for x in path_batch])\n",
        "\n",
        "#         # y0_batch = np.asarray([self.__get_output(y, self.n_teeth) for y in teeth_batch])\n",
        "#         # y1_batch = np.asarray([self.__get_output(y, self.n_breed) for y in breed_batch])\n",
        "\n",
        "#         y0 = np.asarray([tf.cast(y, tf.float32) for y in weight_in_kg_batch])\n",
        "#         y1 = np.asarray([tf.cast(y, tf.float32) for y in height_in_inch_batch])\n",
        "#         y2 = np.asarray([tf.cast(y, tf.float32) for y in age_in_year_batch])\n",
        "\n",
        "#         return X0, tuple([y0, y1, y2])\n",
        "    \n",
        "#     def __getitem__(self, index):\n",
        "        \n",
        "#         batches = self.df[index * self.batch_size:(index + 1) * self.batch_size]\n",
        "#         X, y = self.__get_data(batches)        \n",
        "#         return X, y\n",
        "    \n",
        "#     def __len__(self):\n",
        "#         return self.n // self.batch_size"
      ]
    },
    {
      "cell_type": "code",
      "execution_count": 61,
      "metadata": {
        "id": "AG8j82VLZrPg"
      },
      "outputs": [],
      "source": [
        "# traingen = CustomDataGen(train_df,\n",
        "#                          X_col={'file_path':'file_path', 'teeth': 'teeth'},\n",
        "#                          y_col={'breed': 'breed', 'weight_in_kg': 'weight_in_kg', 'height_in_inch': 'height_in_inch', 'age_in_year': 'age_in_year'},\n",
        "#                          batch_size=128, input_size=(450, 800, 3))"
      ]
    },
    {
      "cell_type": "code",
      "execution_count": 62,
      "metadata": {
        "id": "tFSlX4JdayDJ"
      },
      "outputs": [],
      "source": [
        "# testgen = CustomDataGen(test_df,\n",
        "#                          X_col={'file_path':'file_path', 'teeth': 'teeth'},\n",
        "#                          y_col={'breed': 'breed', 'weight_in_kg': 'weight_in_kg', 'height_in_inch': 'height_in_inch', 'age_in_year': 'age_in_year'},\n",
        "#                          batch_size=128, input_size=(450, 800, 3))"
      ]
    },
    {
      "cell_type": "code",
      "execution_count": 63,
      "metadata": {
        "id": "T3ELi9-GkkAz"
      },
      "outputs": [],
      "source": [
        "# validgen = CustomDataGen(validation_df,\n",
        "#                          X_col={'file_path':'file_path', 'teeth': 'teeth'},\n",
        "#                          y_col={'breed': 'breed', 'weight_in_kg': 'weight_in_kg', 'height_in_inch': 'height_in_inch', 'age_in_year': 'age_in_year'},\n",
        "#                          batch_size=128, input_size=(450, 800, 3))"
      ]
    },
    {
      "cell_type": "code",
      "execution_count": 108,
      "metadata": {
        "id": "YhNEK1P1o7ay"
      },
      "outputs": [],
      "source": [
        "def __get_input(path, target_size):\n",
        "  image = tf.keras.preprocessing.image.load_img(path)\n",
        "  image_arr = tf.keras.preprocessing.image.img_to_array(image)\n",
        "  image_arr = tf.image.resize(image_arr,(target_size[0], target_size[1])).numpy()\n",
        "  return image_arr/255.\n",
        "\n",
        "def data_loader(df, image_size=(450, 800, 3)):\n",
        "  y0 = tf.cast(df.weight_in_kg, tf.float32)\n",
        "  print(y0.shape)\n",
        "  y1 = tf.cast(df.height_in_inch, tf.float32)\n",
        "  print(y1.shape)\n",
        "  # y2 = tf.cast(df.age_in_year, tf.float32)\n",
        "  y2 = keras.utils.to_categorical(df.age_in_year)\n",
        "  print(y2.shape)\n",
        "  y3 = keras.utils.to_categorical(df.breed)\n",
        "  print(y3.shape)\n",
        "\n",
        "  path_batch = df.file_path\n",
        "  X0 = tf.cast([__get_input(x, image_size) for x in path_batch], tf.float32)\n",
        "  print(X0.shape)\n",
        "  X1 = keras.utils.to_categorical(df.teeth)\n",
        "  print(X1.shape)\n",
        "\n",
        "  return (X0, X1), (y0, y1, y2, y3)"
      ]
    },
    {
      "cell_type": "code",
      "execution_count": 109,
      "metadata": {
        "colab": {
          "base_uri": "https://localhost:8080/"
        },
        "id": "YwD7Wu5Xrb2n",
        "outputId": "657dd73c-48a2-45f4-898a-930b1541b21f"
      },
      "outputs": [
        {
          "output_type": "stream",
          "name": "stdout",
          "text": [
            "(3226,)\n",
            "(3226,)\n",
            "(3226, 3)\n",
            "(3226, 8)\n",
            "(3226, 150, 150, 3)\n",
            "(3226, 3)\n"
          ]
        }
      ],
      "source": [
        "(X0, X1), (y0, y1, y2, y3) = data_loader(train_df, (150, 150, 3))"
      ]
    },
    {
      "cell_type": "code",
      "execution_count": 164,
      "metadata": {
        "id": "QUdjf26kubkr"
      },
      "outputs": [],
      "source": [
        "# input = keras.Input(shape=(128, 128, 3), name=\"original_img\")\n",
        "# x = layers.Conv2D(64, 3, activation=\"relu\")(input)\n",
        "# x = layers.Conv2D(128, 3, activation=\"relu\")(x)\n",
        "# x = layers.MaxPooling2D(3)(x)\n",
        "# x = layers.Conv2D(128, 3, activation=\"relu\")(x)\n",
        "# x = layers.Conv2D(64, 3, activation=\"relu\")(x)\n",
        "# x = layers.GlobalMaxPooling2D()(x)\n",
        "\n",
        "input0 = keras.Input(shape=(150, 150, 3), name=\"img\")\n",
        "x = layers.Conv2D(32, 3, activation=\"relu\")(input0)\n",
        "x = layers.MaxPooling2D(2)(x)\n",
        "x = layers.Conv2D(32, 3, activation=\"relu\")(x)\n",
        "x = layers.MaxPooling2D(2)(x)\n",
        "x = layers.Conv2D(64, 3, activation=\"relu\")(x)\n",
        "x = layers.GlobalMaxPooling2D()(x)\n",
        "\n",
        "# input1 = keras.Input(shape=(3,), name=\"teeth\")\n",
        "\n",
        "\n",
        "# out_a = keras.layers.Dense(1, activation='linear', name='wt_rg')(x)\n",
        "# out_b = keras.layers.Dense(1, activation='linear', name='ht_rg')(x)\n",
        "# out_c = keras.layers.Dense(1, activation='linear', name='ag_rg')(x)\n",
        "out_c = keras.layers.Dense(3, activation='softmax', name='ag_3cls')(x)\n",
        "out_d = keras.layers.Dense(8, activation='softmax', name='brd_8cls')(x)\n",
        "\n",
        "encoder = keras.Model( inputs = input0 , outputs = [out_c, out_d], name=\"encoder\")"
      ]
    },
    {
      "cell_type": "code",
      "execution_count": 165,
      "metadata": {
        "id": "h_LArmJdv0rX"
      },
      "outputs": [],
      "source": [
        "encoder.compile(\n",
        "    loss = {\n",
        "        # \"wt_rg\": tf.keras.losses.MeanSquaredError(),\n",
        "        # \"ht_rg\": tf.keras.losses.MeanSquaredError(),\n",
        "        # \"ag_rg\": tf.keras.losses.MeanSquaredError()\n",
        "        \"ag_3cls\": tf.keras.losses.CategoricalCrossentropy(),\n",
        "        \"brd_8cls\": tf.keras.losses.CategoricalCrossentropy()\n",
        "    },\n",
        "\n",
        "    metrics = {\n",
        "        # \"wt_rg\": 'mse',\n",
        "        # \"ht_rg\": 'mse',\n",
        "        \"ag_3cls\": 'accuracy',\n",
        "        \"brd_8cls\": 'accuracy'\n",
        "    },\n",
        "\n",
        "    optimizer = tf.keras.optimizers.Adam(learning_rate=0.0001)\n",
        ")"
      ]
    },
    {
      "cell_type": "code",
      "execution_count": 166,
      "metadata": {
        "id": "avMTkBsrljNt",
        "colab": {
          "base_uri": "https://localhost:8080/"
        },
        "outputId": "6806decd-1ef9-4f76-d070-6b6f55220e87"
      },
      "outputs": [
        {
          "output_type": "stream",
          "name": "stdout",
          "text": [
            "Epoch 1/30\n",
            "81/81 - 7s - loss: 2.1282 - ag_3cls_loss: 0.7959 - brd_8cls_loss: 1.3323 - ag_3cls_accuracy: 0.6593 - brd_8cls_accuracy: 0.6919 - val_loss: 1.8079 - val_ag_3cls_loss: 0.6298 - val_brd_8cls_loss: 1.1780 - val_ag_3cls_accuracy: 0.7477 - val_brd_8cls_accuracy: 0.6796 - 7s/epoch - 89ms/step\n",
            "Epoch 2/30\n",
            "81/81 - 3s - loss: 1.7459 - ag_3cls_loss: 0.6316 - brd_8cls_loss: 1.1142 - ag_3cls_accuracy: 0.7388 - brd_8cls_accuracy: 0.6919 - val_loss: 1.7531 - val_ag_3cls_loss: 0.6124 - val_brd_8cls_loss: 1.1406 - val_ag_3cls_accuracy: 0.7477 - val_brd_8cls_accuracy: 0.6796 - 3s/epoch - 41ms/step\n",
            "Epoch 3/30\n",
            "81/81 - 4s - loss: 1.7202 - ag_3cls_loss: 0.6233 - brd_8cls_loss: 1.0969 - ag_3cls_accuracy: 0.7388 - brd_8cls_accuracy: 0.6919 - val_loss: 1.7472 - val_ag_3cls_loss: 0.6115 - val_brd_8cls_loss: 1.1356 - val_ag_3cls_accuracy: 0.7477 - val_brd_8cls_accuracy: 0.6796 - 4s/epoch - 45ms/step\n",
            "Epoch 4/30\n",
            "81/81 - 3s - loss: 1.7172 - ag_3cls_loss: 0.6238 - brd_8cls_loss: 1.0935 - ag_3cls_accuracy: 0.7388 - brd_8cls_accuracy: 0.6919 - val_loss: 1.7498 - val_ag_3cls_loss: 0.6140 - val_brd_8cls_loss: 1.1358 - val_ag_3cls_accuracy: 0.7477 - val_brd_8cls_accuracy: 0.6796 - 3s/epoch - 39ms/step\n",
            "Epoch 5/30\n",
            "81/81 - 3s - loss: 1.7132 - ag_3cls_loss: 0.6219 - brd_8cls_loss: 1.0913 - ag_3cls_accuracy: 0.7388 - brd_8cls_accuracy: 0.6919 - val_loss: 1.7436 - val_ag_3cls_loss: 0.6098 - val_brd_8cls_loss: 1.1339 - val_ag_3cls_accuracy: 0.7477 - val_brd_8cls_accuracy: 0.6796 - 3s/epoch - 37ms/step\n",
            "Epoch 6/30\n",
            "81/81 - 3s - loss: 1.7107 - ag_3cls_loss: 0.6220 - brd_8cls_loss: 1.0887 - ag_3cls_accuracy: 0.7388 - brd_8cls_accuracy: 0.6919 - val_loss: 1.7452 - val_ag_3cls_loss: 0.6100 - val_brd_8cls_loss: 1.1353 - val_ag_3cls_accuracy: 0.7477 - val_brd_8cls_accuracy: 0.6796 - 3s/epoch - 37ms/step\n",
            "Epoch 7/30\n",
            "81/81 - 3s - loss: 1.7092 - ag_3cls_loss: 0.6208 - brd_8cls_loss: 1.0884 - ag_3cls_accuracy: 0.7388 - brd_8cls_accuracy: 0.6919 - val_loss: 1.7441 - val_ag_3cls_loss: 0.6097 - val_brd_8cls_loss: 1.1344 - val_ag_3cls_accuracy: 0.7477 - val_brd_8cls_accuracy: 0.6796 - 3s/epoch - 36ms/step\n",
            "Epoch 8/30\n",
            "81/81 - 3s - loss: 1.7083 - ag_3cls_loss: 0.6200 - brd_8cls_loss: 1.0883 - ag_3cls_accuracy: 0.7388 - brd_8cls_accuracy: 0.6919 - val_loss: 1.7453 - val_ag_3cls_loss: 0.6097 - val_brd_8cls_loss: 1.1356 - val_ag_3cls_accuracy: 0.7477 - val_brd_8cls_accuracy: 0.6796 - 3s/epoch - 37ms/step\n",
            "Epoch 9/30\n",
            "81/81 - 3s - loss: 1.7060 - ag_3cls_loss: 0.6189 - brd_8cls_loss: 1.0871 - ag_3cls_accuracy: 0.7388 - brd_8cls_accuracy: 0.6919 - val_loss: 1.7427 - val_ag_3cls_loss: 0.6097 - val_brd_8cls_loss: 1.1330 - val_ag_3cls_accuracy: 0.7477 - val_brd_8cls_accuracy: 0.6796 - 3s/epoch - 36ms/step\n",
            "Epoch 10/30\n",
            "81/81 - 3s - loss: 1.7050 - ag_3cls_loss: 0.6197 - brd_8cls_loss: 1.0853 - ag_3cls_accuracy: 0.7388 - brd_8cls_accuracy: 0.6919 - val_loss: 1.7405 - val_ag_3cls_loss: 0.6100 - val_brd_8cls_loss: 1.1305 - val_ag_3cls_accuracy: 0.7477 - val_brd_8cls_accuracy: 0.6796 - 3s/epoch - 36ms/step\n",
            "Epoch 11/30\n",
            "81/81 - 3s - loss: 1.7020 - ag_3cls_loss: 0.6181 - brd_8cls_loss: 1.0839 - ag_3cls_accuracy: 0.7388 - brd_8cls_accuracy: 0.6919 - val_loss: 1.7400 - val_ag_3cls_loss: 0.6097 - val_brd_8cls_loss: 1.1303 - val_ag_3cls_accuracy: 0.7477 - val_brd_8cls_accuracy: 0.6796 - 3s/epoch - 37ms/step\n",
            "Epoch 12/30\n",
            "81/81 - 3s - loss: 1.7016 - ag_3cls_loss: 0.6181 - brd_8cls_loss: 1.0835 - ag_3cls_accuracy: 0.7388 - brd_8cls_accuracy: 0.6919 - val_loss: 1.7413 - val_ag_3cls_loss: 0.6102 - val_brd_8cls_loss: 1.1311 - val_ag_3cls_accuracy: 0.7477 - val_brd_8cls_accuracy: 0.6796 - 3s/epoch - 40ms/step\n",
            "Epoch 13/30\n",
            "81/81 - 4s - loss: 1.7004 - ag_3cls_loss: 0.6183 - brd_8cls_loss: 1.0821 - ag_3cls_accuracy: 0.7388 - brd_8cls_accuracy: 0.6919 - val_loss: 1.7393 - val_ag_3cls_loss: 0.6100 - val_brd_8cls_loss: 1.1293 - val_ag_3cls_accuracy: 0.7477 - val_brd_8cls_accuracy: 0.6796 - 4s/epoch - 45ms/step\n",
            "Epoch 14/30\n",
            "81/81 - 4s - loss: 1.6963 - ag_3cls_loss: 0.6172 - brd_8cls_loss: 1.0791 - ag_3cls_accuracy: 0.7388 - brd_8cls_accuracy: 0.6919 - val_loss: 1.7383 - val_ag_3cls_loss: 0.6094 - val_brd_8cls_loss: 1.1289 - val_ag_3cls_accuracy: 0.7477 - val_brd_8cls_accuracy: 0.6796 - 4s/epoch - 43ms/step\n",
            "Epoch 15/30\n",
            "81/81 - 3s - loss: 1.6949 - ag_3cls_loss: 0.6160 - brd_8cls_loss: 1.0789 - ag_3cls_accuracy: 0.7388 - brd_8cls_accuracy: 0.6919 - val_loss: 1.7395 - val_ag_3cls_loss: 0.6102 - val_brd_8cls_loss: 1.1293 - val_ag_3cls_accuracy: 0.7477 - val_brd_8cls_accuracy: 0.6796 - 3s/epoch - 43ms/step\n",
            "Epoch 16/30\n",
            "81/81 - 4s - loss: 1.6924 - ag_3cls_loss: 0.6157 - brd_8cls_loss: 1.0768 - ag_3cls_accuracy: 0.7388 - brd_8cls_accuracy: 0.6919 - val_loss: 1.7379 - val_ag_3cls_loss: 0.6100 - val_brd_8cls_loss: 1.1279 - val_ag_3cls_accuracy: 0.7477 - val_brd_8cls_accuracy: 0.6796 - 4s/epoch - 47ms/step\n",
            "Epoch 17/30\n",
            "81/81 - 3s - loss: 1.6915 - ag_3cls_loss: 0.6157 - brd_8cls_loss: 1.0758 - ag_3cls_accuracy: 0.7388 - brd_8cls_accuracy: 0.6919 - val_loss: 1.7355 - val_ag_3cls_loss: 0.6105 - val_brd_8cls_loss: 1.1250 - val_ag_3cls_accuracy: 0.7477 - val_brd_8cls_accuracy: 0.6796 - 3s/epoch - 41ms/step\n",
            "Epoch 18/30\n",
            "81/81 - 3s - loss: 1.6866 - ag_3cls_loss: 0.6140 - brd_8cls_loss: 1.0726 - ag_3cls_accuracy: 0.7388 - brd_8cls_accuracy: 0.6919 - val_loss: 1.7399 - val_ag_3cls_loss: 0.6134 - val_brd_8cls_loss: 1.1266 - val_ag_3cls_accuracy: 0.7477 - val_brd_8cls_accuracy: 0.6796 - 3s/epoch - 41ms/step\n",
            "Epoch 19/30\n",
            "81/81 - 3s - loss: 1.6860 - ag_3cls_loss: 0.6137 - brd_8cls_loss: 1.0723 - ag_3cls_accuracy: 0.7388 - brd_8cls_accuracy: 0.6919 - val_loss: 1.7335 - val_ag_3cls_loss: 0.6097 - val_brd_8cls_loss: 1.1238 - val_ag_3cls_accuracy: 0.7477 - val_brd_8cls_accuracy: 0.6796 - 3s/epoch - 41ms/step\n",
            "Epoch 20/30\n",
            "81/81 - 4s - loss: 1.6805 - ag_3cls_loss: 0.6118 - brd_8cls_loss: 1.0687 - ag_3cls_accuracy: 0.7388 - brd_8cls_accuracy: 0.6919 - val_loss: 1.7320 - val_ag_3cls_loss: 0.6093 - val_brd_8cls_loss: 1.1227 - val_ag_3cls_accuracy: 0.7477 - val_brd_8cls_accuracy: 0.6796 - 4s/epoch - 44ms/step\n",
            "Epoch 21/30\n",
            "81/81 - 3s - loss: 1.6786 - ag_3cls_loss: 0.6103 - brd_8cls_loss: 1.0683 - ag_3cls_accuracy: 0.7388 - brd_8cls_accuracy: 0.6919 - val_loss: 1.7405 - val_ag_3cls_loss: 0.6192 - val_brd_8cls_loss: 1.1213 - val_ag_3cls_accuracy: 0.7477 - val_brd_8cls_accuracy: 0.6796 - 3s/epoch - 40ms/step\n",
            "Epoch 22/30\n",
            "81/81 - 3s - loss: 1.6761 - ag_3cls_loss: 0.6126 - brd_8cls_loss: 1.0635 - ag_3cls_accuracy: 0.7388 - brd_8cls_accuracy: 0.6919 - val_loss: 1.7353 - val_ag_3cls_loss: 0.6154 - val_brd_8cls_loss: 1.1199 - val_ag_3cls_accuracy: 0.7477 - val_brd_8cls_accuracy: 0.6796 - 3s/epoch - 41ms/step\n",
            "Epoch 23/30\n",
            "81/81 - 3s - loss: 1.6742 - ag_3cls_loss: 0.6115 - brd_8cls_loss: 1.0627 - ag_3cls_accuracy: 0.7388 - brd_8cls_accuracy: 0.6919 - val_loss: 1.7306 - val_ag_3cls_loss: 0.6119 - val_brd_8cls_loss: 1.1188 - val_ag_3cls_accuracy: 0.7477 - val_brd_8cls_accuracy: 0.6796 - 3s/epoch - 36ms/step\n",
            "Epoch 24/30\n",
            "81/81 - 3s - loss: 1.6728 - ag_3cls_loss: 0.6123 - brd_8cls_loss: 1.0605 - ag_3cls_accuracy: 0.7388 - brd_8cls_accuracy: 0.6919 - val_loss: 1.7278 - val_ag_3cls_loss: 0.6101 - val_brd_8cls_loss: 1.1178 - val_ag_3cls_accuracy: 0.7477 - val_brd_8cls_accuracy: 0.6796 - 3s/epoch - 37ms/step\n",
            "Epoch 25/30\n",
            "81/81 - 3s - loss: 1.6699 - ag_3cls_loss: 0.6097 - brd_8cls_loss: 1.0601 - ag_3cls_accuracy: 0.7388 - brd_8cls_accuracy: 0.6919 - val_loss: 1.7284 - val_ag_3cls_loss: 0.6103 - val_brd_8cls_loss: 1.1181 - val_ag_3cls_accuracy: 0.7477 - val_brd_8cls_accuracy: 0.6796 - 3s/epoch - 40ms/step\n",
            "Epoch 26/30\n",
            "81/81 - 3s - loss: 1.6634 - ag_3cls_loss: 0.6068 - brd_8cls_loss: 1.0567 - ag_3cls_accuracy: 0.7388 - brd_8cls_accuracy: 0.6919 - val_loss: 1.7266 - val_ag_3cls_loss: 0.6116 - val_brd_8cls_loss: 1.1150 - val_ag_3cls_accuracy: 0.7477 - val_brd_8cls_accuracy: 0.6796 - 3s/epoch - 37ms/step\n",
            "Epoch 27/30\n",
            "81/81 - 3s - loss: 1.6624 - ag_3cls_loss: 0.6079 - brd_8cls_loss: 1.0545 - ag_3cls_accuracy: 0.7388 - brd_8cls_accuracy: 0.6919 - val_loss: 1.7265 - val_ag_3cls_loss: 0.6117 - val_brd_8cls_loss: 1.1148 - val_ag_3cls_accuracy: 0.7477 - val_brd_8cls_accuracy: 0.6796 - 3s/epoch - 37ms/step\n",
            "Epoch 28/30\n",
            "81/81 - 3s - loss: 1.6573 - ag_3cls_loss: 0.6061 - brd_8cls_loss: 1.0513 - ag_3cls_accuracy: 0.7388 - brd_8cls_accuracy: 0.6919 - val_loss: 1.7393 - val_ag_3cls_loss: 0.6194 - val_brd_8cls_loss: 1.1199 - val_ag_3cls_accuracy: 0.7477 - val_brd_8cls_accuracy: 0.6796 - 3s/epoch - 37ms/step\n",
            "Epoch 29/30\n",
            "81/81 - 3s - loss: 1.6518 - ag_3cls_loss: 0.6046 - brd_8cls_loss: 1.0472 - ag_3cls_accuracy: 0.7388 - brd_8cls_accuracy: 0.6919 - val_loss: 1.7269 - val_ag_3cls_loss: 0.6121 - val_brd_8cls_loss: 1.1148 - val_ag_3cls_accuracy: 0.7477 - val_brd_8cls_accuracy: 0.6796 - 3s/epoch - 37ms/step\n",
            "Epoch 30/30\n",
            "81/81 - 3s - loss: 1.6492 - ag_3cls_loss: 0.6024 - brd_8cls_loss: 1.0468 - ag_3cls_accuracy: 0.7388 - brd_8cls_accuracy: 0.6919 - val_loss: 1.7224 - val_ag_3cls_loss: 0.6114 - val_brd_8cls_loss: 1.1111 - val_ag_3cls_accuracy: 0.7477 - val_brd_8cls_accuracy: 0.6796 - 3s/epoch - 37ms/step\n"
          ]
        },
        {
          "output_type": "execute_result",
          "data": {
            "text/plain": [
              "<keras.callbacks.History at 0x7f2558efca90>"
            ]
          },
          "metadata": {},
          "execution_count": 166
        }
      ],
      "source": [
        "encoder.fit(X0, [y2, y3], epochs=30, verbose=2, batch_size=32, validation_split=0.2)"
      ]
    },
    {
      "cell_type": "code",
      "execution_count": 167,
      "metadata": {
        "id": "OS_zKeP11Buh",
        "colab": {
          "base_uri": "https://localhost:8080/",
          "height": 865
        },
        "outputId": "413c71c4-39f4-4e14-f188-a2b026c62207"
      },
      "outputs": [
        {
          "output_type": "execute_result",
          "data": {
            "image/png": "[encoded data removed]",
            "text/plain": [
              "<IPython.core.display.Image object>"
            ]
          },
          "metadata": {},
          "execution_count": 167
        }
      ],
      "source": [
        "# encoder.output\n",
        "keras.utils.plot_model(encoder, \"encoder.png\", show_shapes=True)"
      ]
    },
    {
      "cell_type": "code",
      "source": [
        "(tX0, tX1), (ty0, ty1, ty2, ty3) = data_loader(test_df, (150, 150, 3))"
      ],
      "metadata": {
        "colab": {
          "base_uri": "https://localhost:8080/"
        },
        "id": "U3_Qm4mOJzC4",
        "outputId": "e9727c9a-8d75-48fc-8abe-9bb15a6f9f4c"
      },
      "execution_count": 129,
      "outputs": [
        {
          "output_type": "stream",
          "name": "stdout",
          "text": [
            "(359,)\n",
            "(359,)\n",
            "(359, 3)\n",
            "(359, 8)\n",
            "(359, 150, 150, 3)\n",
            "(359, 3)\n"
          ]
        }
      ]
    },
    {
      "cell_type": "code",
      "source": [
        "test_scores = encoder.evaluate(tX0, [ty2, ty3], verbose=2)"
      ],
      "metadata": {
        "colab": {
          "base_uri": "https://localhost:8080/"
        },
        "id": "b7XnFqweNwUB",
        "outputId": "72e8ab44-55cb-4fd4-8fc0-c6b1339f8810"
      },
      "execution_count": 168,
      "outputs": [
        {
          "output_type": "stream",
          "name": "stdout",
          "text": [
            "12/12 - 0s - loss: 1.7061 - ag_3cls_loss: 0.6055 - brd_8cls_loss: 1.1006 - ag_3cls_accuracy: 0.7577 - brd_8cls_accuracy: 0.6713 - 193ms/epoch - 16ms/step\n"
          ]
        }
      ]
    },
    {
      "cell_type": "code",
      "source": [
        "print(\"Test loss:\", test_scores[0])\n",
        "print(\"Test accuracy:\", test_scores[1])"
      ],
      "metadata": {
        "colab": {
          "base_uri": "https://localhost:8080/"
        },
        "id": "ix1tL2chOUdA",
        "outputId": "9a3dba5e-c6d5-4083-88c5-a5d58ad327a1"
      },
      "execution_count": 169,
      "outputs": [
        {
          "output_type": "stream",
          "name": "stdout",
          "text": [
            "Test loss: 1.706093668937683\n",
            "Test accuracy: 0.6055063009262085\n"
          ]
        }
      ]
    },
    {
      "cell_type": "code",
      "execution_count": 156,
      "metadata": {
        "id": "pknNE0XJ1TtU"
      },
      "outputs": [],
      "source": [
        "p1, p2, p3 = encoder.predict([tf.expand_dims(tX0[0], 0), tf.expand_dims(tX1[0], 0)])"
      ]
    },
    {
      "cell_type": "code",
      "execution_count": 157,
      "metadata": {
        "id": "iUbdFp4I1gR2"
      },
      "outputs": [],
      "source": [
        "# print(p0);ty0[0]"
      ]
    },
    {
      "cell_type": "code",
      "execution_count": 158,
      "metadata": {
        "id": "NBWS4n921izy",
        "colab": {
          "base_uri": "https://localhost:8080/"
        },
        "outputId": "39fc1618-40dc-4fdf-8e6e-387b05fa4ec3"
      },
      "outputs": [
        {
          "output_type": "stream",
          "name": "stdout",
          "text": [
            "[[45.881622]]\n"
          ]
        },
        {
          "output_type": "execute_result",
          "data": {
            "text/plain": [
              "<tf.Tensor: shape=(), dtype=float32, numpy=48.0>"
            ]
          },
          "metadata": {},
          "execution_count": 158
        }
      ],
      "source": [
        "print(p1);ty1[0]"
      ]
    },
    {
      "cell_type": "code",
      "execution_count": 159,
      "metadata": {
        "id": "JgKtF9Dc1lRW",
        "colab": {
          "base_uri": "https://localhost:8080/"
        },
        "outputId": "fd669f34-8835-4830-8c3f-62bf5397f01c"
      },
      "outputs": [
        {
          "output_type": "stream",
          "name": "stdout",
          "text": [
            "0\n"
          ]
        },
        {
          "output_type": "execute_result",
          "data": {
            "text/plain": [
              "1"
            ]
          },
          "metadata": {},
          "execution_count": 159
        }
      ],
      "source": [
        "print(p2.argmax());ty2[0].argmax()"
      ]
    },
    {
      "cell_type": "code",
      "execution_count": 160,
      "metadata": {
        "id": "5wCRToDy1nRH",
        "colab": {
          "base_uri": "https://localhost:8080/"
        },
        "outputId": "a921efb8-ca61-4e41-df7c-22cdba4b5e46"
      },
      "outputs": [
        {
          "output_type": "stream",
          "name": "stdout",
          "text": [
            "2\n"
          ]
        },
        {
          "output_type": "execute_result",
          "data": {
            "text/plain": [
              "7"
            ]
          },
          "metadata": {},
          "execution_count": 160
        }
      ],
      "source": [
        "print(p3.argmax());ty3[0].argmax()"
      ]
    },
    {
      "cell_type": "code",
      "source": [
        ""
      ],
      "metadata": {
        "id": "7hPxQCKTxp49"
      },
      "execution_count": null,
      "outputs": []
    }
  ],
  "metadata": {
    "accelerator": "GPU",
    "colab": {
      "name": "027-dec.ipynb",
      "provenance": [],
      "authorship_tag": "ABX9TyPEZkw4o1Gn/nQJGNLyYzlf",
      "include_colab_link": true
    },
    "kernelspec": {
      "display_name": "Python 3",
      "name": "python3"
    },
    "language_info": {
      "name": "python"
    }
  },
  "nbformat": 4,
  "nbformat_minor": 0
}