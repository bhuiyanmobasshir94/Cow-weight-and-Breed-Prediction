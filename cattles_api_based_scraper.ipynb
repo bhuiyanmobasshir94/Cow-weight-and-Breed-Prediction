{
 "metadata": {
  "language_info": {
   "codemirror_mode": {
    "name": "ipython",
    "version": 3
   },
   "file_extension": ".py",
   "mimetype": "text/x-python",
   "name": "python",
   "nbconvert_exporter": "python",
   "pygments_lexer": "ipython3",
   "version": "3.7.10"
  },
  "orig_nbformat": 4,
  "kernelspec": {
   "name": "python3",
   "display_name": "Python 3.7.10 64-bit ('test_1': conda)"
  },
  "interpreter": {
   "hash": "115df88ecd41b7c79ed6d06fd08fdeae1d9fb7db03893aa65e0d4e75740854d4"
  }
 },
 "nbformat": 4,
 "nbformat_minor": 2,
 "cells": [
  {
   "cell_type": "code",
   "execution_count": 101,
   "metadata": {},
   "outputs": [],
   "source": [
    "import requests\n",
    "import joblib\n",
    "import os\n",
    "import json\n",
    "from collections import defaultdict\n",
    "from datetime import datetime"
   ]
  },
  {
   "cell_type": "code",
   "execution_count": 102,
   "metadata": {},
   "outputs": [],
   "source": [
    "DATA_DICT_LIST = []"
   ]
  },
  {
   "cell_type": "code",
   "execution_count": 103,
   "metadata": {},
   "outputs": [],
   "source": [
    "def scrape(url):\n",
    "    response = requests.get(url).content\n",
    "    json_response = json.loads(response)\n",
    "    return json_response\n",
    "\n",
    "def download_image(img_url, img_name):\n",
    "    img_bytes = requests.get(img_url).content\n",
    "    with open(img_name, 'wb') as img_file:\n",
    "        img_file.write(img_bytes)\n",
    "        print(f'{img_name} was downloaded...', end=\"\\r\\n\")\n",
    "\n",
    "def all_cattles():\n",
    "    url = 'https://admin.bengalmeat.com/api/cattle/'\n",
    "    json_response = scrape(url)\n",
    "    if json_response[\"status\"] is True:\n",
    "        data_count = json_response[\"data\"][\"count\"] + 1\n",
    "        print(\"Data Count ===== \", json_response[\"data\"][\"count\"])\n",
    "        for offset in range(0, data_count, 20):\n",
    "            url = f'https://admin.bengalmeat.com/api/cattle/?limit=20&offset={offset}'\n",
    "            json_response = scrape(url)\n",
    "            DATA_DICT_LIST.extend(json_response[\"data\"][\"results\"])\n",
    "    assert (data_count - 1) == len(DATA_DICT_LIST)\n",
    "    print(\"Downloaded data Count ===== \", len(DATA_DICT_LIST))"
   ]
  },
  {
   "cell_type": "code",
   "execution_count": 104,
   "metadata": {},
   "outputs": [
    {
     "output_type": "stream",
     "name": "stdout",
     "text": [
      "Data Count =====  322\n",
      "Downloaded data Count =====  322\n"
     ]
    }
   ],
   "source": [
    "all_cattles()"
   ]
  },
  {
   "cell_type": "code",
   "execution_count": 105,
   "metadata": {},
   "outputs": [],
   "source": [
    "ext = str(datetime.today().date()).replace('-','_')"
   ]
  },
  {
   "cell_type": "code",
   "execution_count": 106,
   "metadata": {},
   "outputs": [
    {
     "output_type": "execute_result",
     "data": {
      "text/plain": [
       "['pickles/DATA_DICT_LIST_2021_06_24.pkl']"
      ]
     },
     "metadata": {},
     "execution_count": 106
    }
   ],
   "source": [
    "joblib.dump(DATA_DICT_LIST, f'pickles/DATA_DICT_LIST_{ext}.pkl')"
   ]
  },
  {
   "cell_type": "code",
   "execution_count": 107,
   "metadata": {},
   "outputs": [],
   "source": [
    "IMAGES_DICT = defaultdict(list)\n",
    "for value in DATA_DICT_LIST:\n",
    "    IMAGES_DICT[value['sku']].append(value['thumbnail'])\n",
    "    for slide in value['slides']:\n",
    "        IMAGES_DICT[value['sku']].append(slide['image'])"
   ]
  },
  {
   "cell_type": "code",
   "execution_count": 108,
   "metadata": {},
   "outputs": [
    {
     "output_type": "execute_result",
     "data": {
      "text/plain": [
       "['pickles/IMAGES_DICT_2021_06_24.pkl']"
      ]
     },
     "metadata": {},
     "execution_count": 108
    }
   ],
   "source": [
    "joblib.dump(IMAGES_DICT, f'pickles/IMAGES_DICT_{ext}.pkl')"
   ]
  },
  {
   "cell_type": "code",
   "execution_count": 109,
   "metadata": {
    "tags": []
   },
   "outputs": [
    {
     "output_type": "stream",
     "name": "stdout",
     "text": [
      "images/BLF2205/BLF2205_0.jpg was downloaded...\n",
      "images/BLF2205/BLF2205_1.jpg was downloaded...\n",
      "images/BLF2205/BLF2205_2.jpg was downloaded...\n",
      "images/BLF2205/BLF2205_3.jpg was downloaded...\n",
      "images/BLF2203/BLF2203_0.jpg was downloaded...\n",
      "images/BLF2203/BLF2203_1.jpg was downloaded...\n",
      "images/BLF2203/BLF2203_2.jpg was downloaded...\n",
      "images/BLF2203/BLF2203_3.jpg was downloaded...\n"
     ]
    }
   ],
   "source": [
    "IMAGES_DICT = dict(IMAGES_DICT)\n",
    "\n",
    "for key, value in IMAGES_DICT.items():\n",
    "    if os.path.exists(f'images/{key}'):\n",
    "        for index, img_url in enumerate(value):\n",
    "            img_name = f'images/{key}/{key}_{index}.jpg'\n",
    "            if not os.path.exists(img_name):\n",
    "                download_image(img_url, img_name)\n",
    "    else:\n",
    "        os.mkdir(f'images/{key}')\n",
    "        for index, img_url in enumerate(value):\n",
    "            img_name = f'images/{key}/{key}_{index}.jpg'\n",
    "            if not os.path.exists(img_name):\n",
    "                download_image(img_url, img_name)\n"
   ]
  },
  {
   "cell_type": "code",
   "execution_count": 110,
   "metadata": {},
   "outputs": [
    {
     "output_type": "stream",
     "name": "stdout",
     "text": [
      "Total images scraped =>  1296\nTotal cow scraped =>  324\n"
     ]
    }
   ],
   "source": [
    "image_count = 0\n",
    "dir_count = 0\n",
    "for dirname, _, filenames in os.walk('images'):\n",
    "    # print(dirname)\n",
    "    # print(filenames)\n",
    "    if os.path.exists(dirname) and dirname is not \"images\":\n",
    "        dir_count += 1\n",
    "    for filename in filenames:\n",
    "        if os.path.exists(os.path.join(dirname, filename)):\n",
    "            image_count +=1\n",
    "print(\"Total images scraped => \", image_count)\n",
    "print(\"Total cow scraped => \", dir_count)"
   ]
  },
  {
   "cell_type": "code",
   "execution_count": null,
   "metadata": {},
   "outputs": [],
   "source": []
  },
  {
   "cell_type": "code",
   "execution_count": null,
   "metadata": {},
   "outputs": [],
   "source": []
  }
 ]
}