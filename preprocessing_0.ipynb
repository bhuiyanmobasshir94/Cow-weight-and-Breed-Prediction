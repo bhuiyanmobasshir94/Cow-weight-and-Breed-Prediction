{
 "metadata": {
  "language_info": {
   "codemirror_mode": {
    "name": "ipython",
    "version": 3
   },
   "file_extension": ".py",
   "mimetype": "text/x-python",
   "name": "python",
   "nbconvert_exporter": "python",
   "pygments_lexer": "ipython3",
   "version": "3.7.10"
  },
  "orig_nbformat": 4,
  "kernelspec": {
   "name": "python3",
   "display_name": "Python 3.7.10 64-bit ('test_1': conda)"
  },
  "interpreter": {
   "hash": "115df88ecd41b7c79ed6d06fd08fdeae1d9fb7db03893aa65e0d4e75740854d4"
  }
 },
 "nbformat": 4,
 "nbformat_minor": 2,
 "cells": [
  {
   "cell_type": "code",
   "execution_count": 1,
   "metadata": {},
   "outputs": [],
   "source": [
    "import numpy as np\n",
    "import pandas as pd\n",
    "import joblib\n",
    "import os\n",
    "import requests\n",
    "import json\n",
    "import time\n",
    "import concurrent.futures\n",
    "import glob\n",
    "from tqdm import tqdm\n",
    "from pytube import YouTube\n",
    "import cv2"
   ]
  },
  {
   "cell_type": "code",
   "execution_count": 2,
   "metadata": {},
   "outputs": [],
   "source": [
    "details = glob.glob(\"details/*.pkl\")"
   ]
  },
  {
   "cell_type": "code",
   "execution_count": 3,
   "metadata": {},
   "outputs": [],
   "source": [
    "data_list = []"
   ]
  },
  {
   "cell_type": "code",
   "execution_count": 4,
   "metadata": {},
   "outputs": [
    {
     "output_type": "stream",
     "name": "stderr",
     "text": [
      "100%|██████████| 453/453 [00:00<00:00, 3456.85it/s]\n"
     ]
    }
   ],
   "source": [
    "for i, pkl in tqdm(enumerate(details), total=len(details)):\n",
    "    data = joblib.load(pkl)\n",
    "    data_list.append(data)"
   ]
  },
  {
   "cell_type": "code",
   "execution_count": 5,
   "metadata": {},
   "outputs": [],
   "source": [
    "df = pd.DataFrame.from_dict(data_list, orient='columns')"
   ]
  },
  {
   "cell_type": "code",
   "execution_count": 6,
   "metadata": {},
   "outputs": [
    {
     "output_type": "execute_result",
     "data": {
      "text/plain": [
       "['id',\n",
       " 'sku',\n",
       " 'type',\n",
       " 'sex',\n",
       " 'color',\n",
       " 'breed',\n",
       " 'feed',\n",
       " 'age_in_month',\n",
       " 'slides',\n",
       " 'sale_offer_percentage',\n",
       " 'feedlot_in_month',\n",
       " 'teeth',\n",
       " 'parts_available',\n",
       " 'height_in_inch',\n",
       " 'youtube_slug',\n",
       " 'weight_in_kg',\n",
       " 'price',\n",
       " 'is_special',\n",
       " 'is_dewormed',\n",
       " 'is_fmd_vaccinated',\n",
       " 'is_anthrax_vaccinated',\n",
       " 'is_lumpy_skin_disease',\n",
       " 'size',\n",
       " 'thumbnail',\n",
       " 'created_at',\n",
       " 'status']"
      ]
     },
     "metadata": {},
     "execution_count": 6
    }
   ],
   "source": [
    "df.columns.to_list()"
   ]
  },
  {
   "cell_type": "code",
   "execution_count": 7,
   "metadata": {},
   "outputs": [],
   "source": [
    "columns = ['sku', 'type', 'sex', 'color', 'breed', 'feed', 'age_in_month', 'feedlot_in_month', 'teeth', 'height_in_inch', 'youtube_slug', 'weight_in_kg', 'price', 'size']\n",
    "df = df.loc[:, columns]"
   ]
  },
  {
   "cell_type": "code",
   "execution_count": 8,
   "metadata": {},
   "outputs": [
    {
     "output_type": "execute_result",
     "data": {
      "text/plain": [
       "       sku type        sex    color           breed  \\\n",
       "0  BLF2002  COW  MALE_BULL  NON_RED           LOCAL   \n",
       "1  BLF2003  COW  MALE_BULL      RED           LOCAL   \n",
       "2  BLF2004  COW  MALE_BULL      RED           LOCAL   \n",
       "3  BLF2005  COW  MALE_BULL  NON_RED           LOCAL   \n",
       "4  BLF2008  COW  MALE_BULL      RED  RED_CHITTAGONG   \n",
       "\n",
       "                                                feed age_in_month  \\\n",
       "0  [JUMBOO, LUCERNE, NAPIER, SILAGE, STRAW, CORN,...    2.5 Years   \n",
       "1  [JUMBOO, LUCERNE, NAPIER, SILAGE, STRAW, CORN,...      2 Years   \n",
       "2  [JUMBOO, LUCERNE, NAPIER, SILAGE, STRAW, CORN,...      2 Years   \n",
       "3  [JUMBOO, LUCERNE, NAPIER, SILAGE, STRAW, CORN,...      2 Years   \n",
       "4  [JUMBOO, LUCERNE, NAPIER, SILAGE, STRAW, CORN,...      2 Years   \n",
       "\n",
       "  feedlot_in_month  teeth  height_in_inch       youtube_slug  weight_in_kg  \\\n",
       "0         3 Months      4            51.0  I0FFZuejRlo?rel=0         296.0   \n",
       "1         3 Months      2            44.0        TZREqa_GhBU         212.0   \n",
       "2         3 Months      2            43.5        0gab9HKzRSQ         202.0   \n",
       "3         3 Months      2            45.0        jeBvgtUPias         205.0   \n",
       "4         3 Months      2            43.2        VsfL3AENFnU         215.0   \n",
       "\n",
       "       price     size  \n",
       "0  125000.00    LARGE  \n",
       "1   92000.00  MINIMUM  \n",
       "2   88000.00  MINIMUM  \n",
       "3   88000.00   MEDIUM  \n",
       "4   95000.00  MINIMUM  "
      ],
      "text/html": "<div>\n<style scoped>\n    .dataframe tbody tr th:only-of-type {\n        vertical-align: middle;\n    }\n\n    .dataframe tbody tr th {\n        vertical-align: top;\n    }\n\n    .dataframe thead th {\n        text-align: right;\n    }\n</style>\n<table border=\"1\" class=\"dataframe\">\n  <thead>\n    <tr style=\"text-align: right;\">\n      <th></th>\n      <th>sku</th>\n      <th>type</th>\n      <th>sex</th>\n      <th>color</th>\n      <th>breed</th>\n      <th>feed</th>\n      <th>age_in_month</th>\n      <th>feedlot_in_month</th>\n      <th>teeth</th>\n      <th>height_in_inch</th>\n      <th>youtube_slug</th>\n      <th>weight_in_kg</th>\n      <th>price</th>\n      <th>size</th>\n    </tr>\n  </thead>\n  <tbody>\n    <tr>\n      <th>0</th>\n      <td>BLF2002</td>\n      <td>COW</td>\n      <td>MALE_BULL</td>\n      <td>NON_RED</td>\n      <td>LOCAL</td>\n      <td>[JUMBOO, LUCERNE, NAPIER, SILAGE, STRAW, CORN,...</td>\n      <td>2.5 Years</td>\n      <td>3 Months</td>\n      <td>4</td>\n      <td>51.0</td>\n      <td>I0FFZuejRlo?rel=0</td>\n      <td>296.0</td>\n      <td>125000.00</td>\n      <td>LARGE</td>\n    </tr>\n    <tr>\n      <th>1</th>\n      <td>BLF2003</td>\n      <td>COW</td>\n      <td>MALE_BULL</td>\n      <td>RED</td>\n      <td>LOCAL</td>\n      <td>[JUMBOO, LUCERNE, NAPIER, SILAGE, STRAW, CORN,...</td>\n      <td>2 Years</td>\n      <td>3 Months</td>\n      <td>2</td>\n      <td>44.0</td>\n      <td>TZREqa_GhBU</td>\n      <td>212.0</td>\n      <td>92000.00</td>\n      <td>MINIMUM</td>\n    </tr>\n    <tr>\n      <th>2</th>\n      <td>BLF2004</td>\n      <td>COW</td>\n      <td>MALE_BULL</td>\n      <td>RED</td>\n      <td>LOCAL</td>\n      <td>[JUMBOO, LUCERNE, NAPIER, SILAGE, STRAW, CORN,...</td>\n      <td>2 Years</td>\n      <td>3 Months</td>\n      <td>2</td>\n      <td>43.5</td>\n      <td>0gab9HKzRSQ</td>\n      <td>202.0</td>\n      <td>88000.00</td>\n      <td>MINIMUM</td>\n    </tr>\n    <tr>\n      <th>3</th>\n      <td>BLF2005</td>\n      <td>COW</td>\n      <td>MALE_BULL</td>\n      <td>NON_RED</td>\n      <td>LOCAL</td>\n      <td>[JUMBOO, LUCERNE, NAPIER, SILAGE, STRAW, CORN,...</td>\n      <td>2 Years</td>\n      <td>3 Months</td>\n      <td>2</td>\n      <td>45.0</td>\n      <td>jeBvgtUPias</td>\n      <td>205.0</td>\n      <td>88000.00</td>\n      <td>MEDIUM</td>\n    </tr>\n    <tr>\n      <th>4</th>\n      <td>BLF2008</td>\n      <td>COW</td>\n      <td>MALE_BULL</td>\n      <td>RED</td>\n      <td>RED_CHITTAGONG</td>\n      <td>[JUMBOO, LUCERNE, NAPIER, SILAGE, STRAW, CORN,...</td>\n      <td>2 Years</td>\n      <td>3 Months</td>\n      <td>2</td>\n      <td>43.2</td>\n      <td>VsfL3AENFnU</td>\n      <td>215.0</td>\n      <td>95000.00</td>\n      <td>MINIMUM</td>\n    </tr>\n  </tbody>\n</table>\n</div>"
     },
     "metadata": {},
     "execution_count": 8
    }
   ],
   "source": [
    "df.head()"
   ]
  },
  {
   "cell_type": "code",
   "execution_count": 9,
   "metadata": {},
   "outputs": [
    {
     "output_type": "execute_result",
     "data": {
      "text/plain": [
       "       sku       youtube_slug\n",
       "0  BLF2002  I0FFZuejRlo?rel=0\n",
       "1  BLF2003        TZREqa_GhBU\n",
       "2  BLF2004        0gab9HKzRSQ\n",
       "3  BLF2005        jeBvgtUPias\n",
       "4  BLF2008        VsfL3AENFnU"
      ],
      "text/html": "<div>\n<style scoped>\n    .dataframe tbody tr th:only-of-type {\n        vertical-align: middle;\n    }\n\n    .dataframe tbody tr th {\n        vertical-align: top;\n    }\n\n    .dataframe thead th {\n        text-align: right;\n    }\n</style>\n<table border=\"1\" class=\"dataframe\">\n  <thead>\n    <tr style=\"text-align: right;\">\n      <th></th>\n      <th>sku</th>\n      <th>youtube_slug</th>\n    </tr>\n  </thead>\n  <tbody>\n    <tr>\n      <th>0</th>\n      <td>BLF2002</td>\n      <td>I0FFZuejRlo?rel=0</td>\n    </tr>\n    <tr>\n      <th>1</th>\n      <td>BLF2003</td>\n      <td>TZREqa_GhBU</td>\n    </tr>\n    <tr>\n      <th>2</th>\n      <td>BLF2004</td>\n      <td>0gab9HKzRSQ</td>\n    </tr>\n    <tr>\n      <th>3</th>\n      <td>BLF2005</td>\n      <td>jeBvgtUPias</td>\n    </tr>\n    <tr>\n      <th>4</th>\n      <td>BLF2008</td>\n      <td>VsfL3AENFnU</td>\n    </tr>\n  </tbody>\n</table>\n</div>"
     },
     "metadata": {},
     "execution_count": 9
    }
   ],
   "source": [
    "df_sku_slug = df.loc[:, [\"sku\", \"youtube_slug\"]]\n",
    "df_sku_slug.head()"
   ]
  },
  {
   "cell_type": "code",
   "execution_count": 10,
   "metadata": {},
   "outputs": [
    {
     "output_type": "execute_result",
     "data": {
      "text/plain": [
       "453"
      ]
     },
     "metadata": {},
     "execution_count": 10
    }
   ],
   "source": [
    "len(df_sku_slug.loc[:, \"youtube_slug\"].values)"
   ]
  },
  {
   "cell_type": "code",
   "execution_count": 11,
   "metadata": {},
   "outputs": [],
   "source": [
    "sku_slug_list = []\n",
    "for index, row in df_sku_slug.iterrows():\n",
    "    sku_slug_list.append((row['sku'], row['youtube_slug']))"
   ]
  },
  {
   "cell_type": "code",
   "execution_count": 12,
   "metadata": {},
   "outputs": [
    {
     "output_type": "execute_result",
     "data": {
      "text/plain": [
       "('BLF2002', 'I0FFZuejRlo?rel=0')"
      ]
     },
     "metadata": {},
     "execution_count": 12
    }
   ],
   "source": [
    "sku_slug_list[0]"
   ]
  },
  {
   "cell_type": "code",
   "execution_count": 13,
   "metadata": {},
   "outputs": [],
   "source": [
    "existed = 0\n",
    "downloaded = 0"
   ]
  },
  {
   "cell_type": "code",
   "execution_count": 14,
   "metadata": {},
   "outputs": [],
   "source": [
    "apply_tuple = lambda f: lambda args: f(*args)\n",
    "\n",
    "def sku2filename(sku):\n",
    "    splitted_list = list(sku)\n",
    "    file_name = ''.join(splitted_list[:3]) + ' ' + ''.join(splitted_list[3:]) + '.mp4'\n",
    "    return file_name\n",
    "\n",
    "@apply_tuple\n",
    "def yt2imgs(sku, slug):\n",
    "    url = f'https://www.youtube.com/watch?v={slug}'\n",
    "    path = f'yt_videos/{sku}'\n",
    "    if not os.path.exists(path):\n",
    "        os.mkdir(path)\n",
    "    if len(os.listdir(path)) == 1 or os.listdir(path)[0] == sku2filename(sku):\n",
    "        # print(f\"Video already existed for sku: {sku}...\")\n",
    "        global existed\n",
    "        existed += 1\n",
    "        return None\n",
    "    try:\n",
    "        YouTube(url).streams.filter(progressive=True, file_extension='mp4').order_by('resolution').desc().first().download(path)\n",
    "        # print(f\"Downloaded the video for sku: {sku}...\")\n",
    "        global downloaded\n",
    "        downloaded += 1\n",
    "    except Exception as e:\n",
    "        print(f'Got exception for {url}, exception: {e}')\n"
   ]
  },
  {
   "cell_type": "code",
   "execution_count": 15,
   "metadata": {
    "tags": []
   },
   "outputs": [
    {
     "output_type": "stream",
     "name": "stdout",
     "text": [
      "========================================\nFinished in 0.05153660000000038 seconds\nTotal downloaded => 0\nTotal existed => 449\n========================================\n"
     ]
    }
   ],
   "source": [
    "import time\n",
    "t1 = time.perf_counter()\n",
    "\n",
    "with concurrent.futures.ThreadPoolExecutor() as executor:\n",
    "    executor.map(yt2imgs, sku_slug_list)\n",
    "\n",
    "t2 = time.perf_counter()\n",
    "\n",
    "print(\"========================================\")\n",
    "print(f\"Finished in {t2-t1} seconds\")\n",
    "print(f\"Total downloaded => {downloaded}\")\n",
    "print(f\"Total existed => {existed}\")\n",
    "print(\"========================================\")"
   ]
  },
  {
   "cell_type": "code",
   "execution_count": 16,
   "metadata": {},
   "outputs": [],
   "source": [
    "yt_video_path_list = []\n",
    "for dirname, _, filenames in os.walk(\"yt_videos\"):\n",
    "    for filename in filenames:\n",
    "        sku = dirname.split(\"\\\\\")[1]\n",
    "        yt_video_path_list.append((sku, f\"yt_videos/{sku}/{filename}\")) #os.path.join(dirname, filename)"
   ]
  },
  {
   "cell_type": "code",
   "execution_count": 17,
   "metadata": {},
   "outputs": [
    {
     "output_type": "execute_result",
     "data": {
      "text/plain": [
       "449"
      ]
     },
     "metadata": {},
     "execution_count": 17
    }
   ],
   "source": [
    "len(yt_video_path_list)"
   ]
  },
  {
   "cell_type": "code",
   "execution_count": 18,
   "metadata": {},
   "outputs": [
    {
     "output_type": "execute_result",
     "data": {
      "text/plain": [
       "[('BLF2002', 'yt_videos/BLF2002/BLF 2002.mp4'),\n",
       " ('BLF2003', 'yt_videos/BLF2003/BLF 2003.mp4'),\n",
       " ('BLF2004', 'yt_videos/BLF2004/BLF 2004.mp4'),\n",
       " ('BLF2005', 'yt_videos/BLF2005/BLF 2005.mp4'),\n",
       " ('BLF2008', 'yt_videos/BLF2008/BLF 2008.mp4')]"
      ]
     },
     "metadata": {},
     "execution_count": 18
    }
   ],
   "source": [
    "yt_video_path_list[:5]"
   ]
  },
  {
   "cell_type": "code",
   "execution_count": 19,
   "metadata": {},
   "outputs": [],
   "source": [
    "total_video_processed = 0"
   ]
  },
  {
   "cell_type": "code",
   "execution_count": 20,
   "metadata": {},
   "outputs": [],
   "source": [
    "@apply_tuple\n",
    "def video2images(sku, path, delay = .4, min_image = 25, max_image = 30):\n",
    "    cam = cv2.VideoCapture(path)\n",
    "    output_path = f\"yt_images/{sku}\"\n",
    "    if not os.path.exists(output_path):\n",
    "        os.makedirs(output_path)\n",
    "    if len(os.listdir(output_path)) > min_image: return\n",
    "\n",
    "    fps = int(cam.get(cv2.CAP_PROP_FPS))\n",
    "    currentframe = 0\n",
    "    count = 0\n",
    "    while(True):\n",
    "        ret,frame = cam.read()\n",
    "        if ret:\n",
    "            if currentframe == 0:\n",
    "                currentframe += 1 \n",
    "                continue\n",
    "            image_path = f\"yt_images/{sku}/{sku}_{count}.jpg\"\n",
    "            cv2.imwrite(image_path, frame)\n",
    "            if cv2.imread(image_path) is None:\n",
    "                os.remove(image_path)\n",
    "            if count == max_image: break\n",
    "            count += 1\n",
    "            if delay:\n",
    "                currentframe += delay * fps\n",
    "                cam.set(1, currentframe)\n",
    "        else:\n",
    "            break\n",
    "    global total_video_processed\n",
    "    total_video_processed += 1\n",
    "    cam.release()\n",
    "    cv2.destroyAllWindows()\n",
    "    print(f\"Total images processed from this video => {count}\")"
   ]
  },
  {
   "cell_type": "code",
   "execution_count": 21,
   "metadata": {},
   "outputs": [
    {
     "output_type": "stream",
     "name": "stdout",
     "text": [
      "Total images processed from this video => 40\n",
      "Total images processed from this video => 40\n",
      "Total images processed from this video => 40\n",
      "Total images processed from this video => 40\n",
      "Total images processed from this video => 39\n",
      "Total images processed from this video => 38\n",
      "Total images processed from this video => 39\n",
      "Total images processed from this video => 37\n"
     ]
    },
    {
     "output_type": "error",
     "ename": "KeyboardInterrupt",
     "evalue": "",
     "traceback": [
      "\u001b[1;31m---------------------------------------------------------------------------\u001b[0m",
      "\u001b[1;31mKeyboardInterrupt\u001b[0m                         Traceback (most recent call last)",
      "\u001b[1;32m<ipython-input-21-09cbfff0e39d>\u001b[0m in \u001b[0;36m<module>\u001b[1;34m\u001b[0m\n\u001b[0;32m      6\u001b[0m \u001b[1;33m\u001b[0m\u001b[0m\n\u001b[0;32m      7\u001b[0m \u001b[1;32mfor\u001b[0m \u001b[0margs\u001b[0m \u001b[1;32min\u001b[0m \u001b[0myt_video_path_list\u001b[0m\u001b[1;33m:\u001b[0m\u001b[1;33m\u001b[0m\u001b[1;33m\u001b[0m\u001b[0m\n\u001b[1;32m----> 8\u001b[1;33m     \u001b[0mvideo2images\u001b[0m\u001b[1;33m(\u001b[0m\u001b[0margs\u001b[0m\u001b[1;33m)\u001b[0m\u001b[1;33m\u001b[0m\u001b[1;33m\u001b[0m\u001b[0m\n\u001b[0m\u001b[0;32m      9\u001b[0m \u001b[1;33m\u001b[0m\u001b[0m\n\u001b[0;32m     10\u001b[0m \u001b[0mt2\u001b[0m \u001b[1;33m=\u001b[0m \u001b[0mtime\u001b[0m\u001b[1;33m.\u001b[0m\u001b[0mperf_counter\u001b[0m\u001b[1;33m(\u001b[0m\u001b[1;33m)\u001b[0m\u001b[1;33m\u001b[0m\u001b[1;33m\u001b[0m\u001b[0m\n",
      "\u001b[1;32m<ipython-input-14-911dfe69acb6>\u001b[0m in \u001b[0;36m<lambda>\u001b[1;34m(args)\u001b[0m\n\u001b[1;32m----> 1\u001b[1;33m \u001b[0mapply_tuple\u001b[0m \u001b[1;33m=\u001b[0m \u001b[1;32mlambda\u001b[0m \u001b[0mf\u001b[0m\u001b[1;33m:\u001b[0m \u001b[1;32mlambda\u001b[0m \u001b[0margs\u001b[0m\u001b[1;33m:\u001b[0m \u001b[0mf\u001b[0m\u001b[1;33m(\u001b[0m\u001b[1;33m*\u001b[0m\u001b[0margs\u001b[0m\u001b[1;33m)\u001b[0m\u001b[1;33m\u001b[0m\u001b[1;33m\u001b[0m\u001b[0m\n\u001b[0m\u001b[0;32m      2\u001b[0m \u001b[1;33m\u001b[0m\u001b[0m\n\u001b[0;32m      3\u001b[0m \u001b[1;32mdef\u001b[0m \u001b[0msku2filename\u001b[0m\u001b[1;33m(\u001b[0m\u001b[0msku\u001b[0m\u001b[1;33m)\u001b[0m\u001b[1;33m:\u001b[0m\u001b[1;33m\u001b[0m\u001b[1;33m\u001b[0m\u001b[0m\n\u001b[0;32m      4\u001b[0m     \u001b[0msplitted_list\u001b[0m \u001b[1;33m=\u001b[0m \u001b[0mlist\u001b[0m\u001b[1;33m(\u001b[0m\u001b[0msku\u001b[0m\u001b[1;33m)\u001b[0m\u001b[1;33m\u001b[0m\u001b[1;33m\u001b[0m\u001b[0m\n\u001b[0;32m      5\u001b[0m     \u001b[0mfile_name\u001b[0m \u001b[1;33m=\u001b[0m \u001b[1;34m''\u001b[0m\u001b[1;33m.\u001b[0m\u001b[0mjoin\u001b[0m\u001b[1;33m(\u001b[0m\u001b[0msplitted_list\u001b[0m\u001b[1;33m[\u001b[0m\u001b[1;33m:\u001b[0m\u001b[1;36m3\u001b[0m\u001b[1;33m]\u001b[0m\u001b[1;33m)\u001b[0m \u001b[1;33m+\u001b[0m \u001b[1;34m' '\u001b[0m \u001b[1;33m+\u001b[0m \u001b[1;34m''\u001b[0m\u001b[1;33m.\u001b[0m\u001b[0mjoin\u001b[0m\u001b[1;33m(\u001b[0m\u001b[0msplitted_list\u001b[0m\u001b[1;33m[\u001b[0m\u001b[1;36m3\u001b[0m\u001b[1;33m:\u001b[0m\u001b[1;33m]\u001b[0m\u001b[1;33m)\u001b[0m \u001b[1;33m+\u001b[0m \u001b[1;34m'.mp4'\u001b[0m\u001b[1;33m\u001b[0m\u001b[1;33m\u001b[0m\u001b[0m\n",
      "\u001b[1;32m<ipython-input-20-e59155e206ee>\u001b[0m in \u001b[0;36mvideo2images\u001b[1;34m(sku, path, delay, min_image, max_image)\u001b[0m\n\u001b[0;32m     24\u001b[0m             \u001b[1;32mif\u001b[0m \u001b[0mdelay\u001b[0m\u001b[1;33m:\u001b[0m\u001b[1;33m\u001b[0m\u001b[1;33m\u001b[0m\u001b[0m\n\u001b[0;32m     25\u001b[0m                 \u001b[0mcurrentframe\u001b[0m \u001b[1;33m+=\u001b[0m \u001b[0mdelay\u001b[0m \u001b[1;33m*\u001b[0m \u001b[0mfps\u001b[0m\u001b[1;33m\u001b[0m\u001b[1;33m\u001b[0m\u001b[0m\n\u001b[1;32m---> 26\u001b[1;33m                 \u001b[0mcam\u001b[0m\u001b[1;33m.\u001b[0m\u001b[0mset\u001b[0m\u001b[1;33m(\u001b[0m\u001b[1;36m1\u001b[0m\u001b[1;33m,\u001b[0m \u001b[0mcurrentframe\u001b[0m\u001b[1;33m)\u001b[0m\u001b[1;33m\u001b[0m\u001b[1;33m\u001b[0m\u001b[0m\n\u001b[0m\u001b[0;32m     27\u001b[0m         \u001b[1;32melse\u001b[0m\u001b[1;33m:\u001b[0m\u001b[1;33m\u001b[0m\u001b[1;33m\u001b[0m\u001b[0m\n\u001b[0;32m     28\u001b[0m             \u001b[1;32mbreak\u001b[0m\u001b[1;33m\u001b[0m\u001b[1;33m\u001b[0m\u001b[0m\n",
      "\u001b[1;31mKeyboardInterrupt\u001b[0m: "
     ]
    }
   ],
   "source": [
    "import time\n",
    "t1 = time.perf_counter()\n",
    "\n",
    "# with concurrent.futures.ThreadPoolExecutor() as executor:\n",
    "#     executor.map(video2images, yt_video_path_list)\n",
    "\n",
    "for args in yt_video_path_list:\n",
    "    video2images(args)\n",
    "\n",
    "t2 = time.perf_counter()\n",
    "\n",
    "print(\"========================================\")\n",
    "print(f\"Finished in {t2-t1} seconds\")\n",
    "print(f\"Total videos processed => {total_video_processed}\")\n",
    "print(\"========================================\")"
   ]
  },
  {
   "cell_type": "code",
   "execution_count": null,
   "metadata": {},
   "outputs": [],
   "source": []
  }
 ]
}