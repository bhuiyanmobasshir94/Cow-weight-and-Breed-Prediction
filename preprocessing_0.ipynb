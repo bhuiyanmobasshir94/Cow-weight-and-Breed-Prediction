{
 "metadata": {
  "language_info": {
   "codemirror_mode": {
    "name": "ipython",
    "version": 3
   },
   "file_extension": ".py",
   "mimetype": "text/x-python",
   "name": "python",
   "nbconvert_exporter": "python",
   "pygments_lexer": "ipython3",
   "version": "3.7.10"
  },
  "orig_nbformat": 4,
  "kernelspec": {
   "name": "python3",
   "display_name": "Python 3.7.10 64-bit ('test_1': conda)"
  },
  "interpreter": {
   "hash": "115df88ecd41b7c79ed6d06fd08fdeae1d9fb7db03893aa65e0d4e75740854d4"
  }
 },
 "nbformat": 4,
 "nbformat_minor": 2,
 "cells": [
  {
   "cell_type": "code",
   "execution_count": 4,
   "metadata": {},
   "outputs": [],
   "source": [
    "import numpy as np\n",
    "import pandas as pd\n",
    "import joblib\n",
    "import os\n",
    "import requests\n",
    "import json\n",
    "import time\n",
    "import concurrent.futures\n",
    "import glob\n",
    "from tqdm import tqdm"
   ]
  },
  {
   "cell_type": "code",
   "execution_count": 5,
   "metadata": {},
   "outputs": [],
   "source": [
    "details = glob.glob(\"details/*.pkl\")"
   ]
  },
  {
   "cell_type": "code",
   "execution_count": 6,
   "metadata": {},
   "outputs": [],
   "source": [
    "data_list = []"
   ]
  },
  {
   "cell_type": "code",
   "execution_count": 7,
   "metadata": {},
   "outputs": [
    {
     "output_type": "stream",
     "name": "stderr",
     "text": [
      "100%|██████████| 453/453 [00:02<00:00, 210.61it/s]\n"
     ]
    }
   ],
   "source": [
    "for i, pkl in tqdm(enumerate(details), total=len(details)):\n",
    "    data = joblib.load(pkl)\n",
    "    data_list.append(data)"
   ]
  },
  {
   "cell_type": "code",
   "execution_count": 14,
   "metadata": {},
   "outputs": [],
   "source": [
    "df = pd.DataFrame.from_dict(data_list, orient='columns')"
   ]
  },
  {
   "cell_type": "code",
   "execution_count": 15,
   "metadata": {},
   "outputs": [
    {
     "output_type": "execute_result",
     "data": {
      "text/plain": [
       "['id',\n",
       " 'sku',\n",
       " 'type',\n",
       " 'sex',\n",
       " 'color',\n",
       " 'breed',\n",
       " 'feed',\n",
       " 'age_in_month',\n",
       " 'slides',\n",
       " 'sale_offer_percentage',\n",
       " 'feedlot_in_month',\n",
       " 'teeth',\n",
       " 'parts_available',\n",
       " 'height_in_inch',\n",
       " 'youtube_slug',\n",
       " 'weight_in_kg',\n",
       " 'price',\n",
       " 'is_special',\n",
       " 'is_dewormed',\n",
       " 'is_fmd_vaccinated',\n",
       " 'is_anthrax_vaccinated',\n",
       " 'is_lumpy_skin_disease',\n",
       " 'size',\n",
       " 'thumbnail',\n",
       " 'created_at',\n",
       " 'status']"
      ]
     },
     "metadata": {},
     "execution_count": 15
    }
   ],
   "source": [
    "df.columns.to_list()"
   ]
  },
  {
   "cell_type": "code",
   "execution_count": 16,
   "metadata": {},
   "outputs": [],
   "source": [
    "columns = ['sku', 'type', 'sex', 'color', 'breed', 'feed', 'age_in_month', 'feedlot_in_month', 'teeth', 'height_in_inch', 'youtube_slug', 'weight_in_kg', 'price', 'size']\n",
    "df = df.loc[:, columns]"
   ]
  },
  {
   "cell_type": "code",
   "execution_count": 17,
   "metadata": {},
   "outputs": [
    {
     "output_type": "execute_result",
     "data": {
      "text/plain": [
       "sku                                                           BLF2002\n",
       "type                                                              COW\n",
       "sex                                                         MALE_BULL\n",
       "color                                                         NON_RED\n",
       "breed                                                           LOCAL\n",
       "feed                [JUMBOO, LUCERNE, NAPIER, SILAGE, STRAW, CORN,...\n",
       "age_in_month                                                2.5 Years\n",
       "feedlot_in_month                                             3 Months\n",
       "teeth                                                               4\n",
       "height_in_inch                                                   51.0\n",
       "youtube_slug                                        I0FFZuejRlo?rel=0\n",
       "weight_in_kg                                                    296.0\n",
       "price                                                       125000.00\n",
       "size                                                            LARGE\n",
       "Name: 0, dtype: object"
      ]
     },
     "metadata": {},
     "execution_count": 17
    }
   ],
   "source": [
    "df.loc[0,:]"
   ]
  },
  {
   "cell_type": "code",
   "execution_count": null,
   "metadata": {},
   "outputs": [],
   "source": []
  }
 ]
}