{
 "metadata": {
  "language_info": {
   "codemirror_mode": {
    "name": "ipython",
    "version": 3
   },
   "file_extension": ".py",
   "mimetype": "text/x-python",
   "name": "python",
   "nbconvert_exporter": "python",
   "pygments_lexer": "ipython3",
   "version": "3.7.10"
  },
  "orig_nbformat": 4,
  "kernelspec": {
   "name": "python3",
   "display_name": "Python 3.7.10 64-bit ('test_1': conda)"
  },
  "interpreter": {
   "hash": "115df88ecd41b7c79ed6d06fd08fdeae1d9fb7db03893aa65e0d4e75740854d4"
  }
 },
 "nbformat": 4,
 "nbformat_minor": 2,
 "cells": [
  {
   "cell_type": "code",
   "execution_count": 1,
   "metadata": {},
   "outputs": [],
   "source": [
    "import numpy as np\n",
    "import pandas as pd\n",
    "import joblib\n",
    "import os\n",
    "import time\n",
    "import glob\n",
    "from tqdm import tqdm"
   ]
  },
  {
   "cell_type": "code",
   "execution_count": 2,
   "metadata": {},
   "outputs": [],
   "source": [
    "df = pd.read_csv(\"data/pickles_to_df.csv\")"
   ]
  },
  {
   "cell_type": "code",
   "execution_count": 3,
   "metadata": {},
   "outputs": [
    {
     "output_type": "execute_result",
     "data": {
      "text/plain": [
       "                                     id       sku type        sex    color  \\\n",
       "0  1d9ff108-60dc-4f9e-98b4-e85ced1c6a67  BLF 2340  COW  MALE_BULL      RED   \n",
       "1  685f6e3e-2ed6-46ec-9b3c-4c52a7913ed4  BLF 2342  COW  MALE_BULL  NON_RED   \n",
       "\n",
       "   breed                                               feed age_in_month  \\\n",
       "0  LOCAL  ['JUMBOO', 'LUCERNE', 'NAPIER', 'SILAGE', 'STR...      2 Years   \n",
       "1  LOCAL  ['JUMBOO', 'LUCERNE', 'NAPIER', 'SILAGE', 'STR...      2 Years   \n",
       "\n",
       "                                              slides  sale_offer_percentage  \\\n",
       "0  [{'id': '640e1e9e-3f5e-4792-93d2-6a5f53594698'...                    0.0   \n",
       "1  [{'id': '4cc01c8c-0fa9-412b-89b4-de611f612b38'...                    0.0   \n",
       "\n",
       "   ...    price  is_special  is_dewormed  is_fmd_vaccinated  \\\n",
       "0  ...  19000.0       False         True               True   \n",
       "1  ...  18000.0       False         True               True   \n",
       "\n",
       "  is_anthrax_vaccinated  is_lumpy_skin_disease    size  \\\n",
       "0                  True                   True  MEDIUM   \n",
       "1                  True                   True   LARGE   \n",
       "\n",
       "                                           thumbnail  \\\n",
       "0  https://uploads-prod.aws.bengalmeat.com/media/...   \n",
       "1  https://uploads-prod.aws.bengalmeat.com/media/...   \n",
       "\n",
       "                         created_at          status  \n",
       "0  2021-07-17T20:02:29.885357+06:00  SHARED_ORDERED  \n",
       "1  2021-07-17T20:13:06.519925+06:00          SHARED  \n",
       "\n",
       "[2 rows x 26 columns]"
      ],
      "text/html": "<div>\n<style scoped>\n    .dataframe tbody tr th:only-of-type {\n        vertical-align: middle;\n    }\n\n    .dataframe tbody tr th {\n        vertical-align: top;\n    }\n\n    .dataframe thead th {\n        text-align: right;\n    }\n</style>\n<table border=\"1\" class=\"dataframe\">\n  <thead>\n    <tr style=\"text-align: right;\">\n      <th></th>\n      <th>id</th>\n      <th>sku</th>\n      <th>type</th>\n      <th>sex</th>\n      <th>color</th>\n      <th>breed</th>\n      <th>feed</th>\n      <th>age_in_month</th>\n      <th>slides</th>\n      <th>sale_offer_percentage</th>\n      <th>...</th>\n      <th>price</th>\n      <th>is_special</th>\n      <th>is_dewormed</th>\n      <th>is_fmd_vaccinated</th>\n      <th>is_anthrax_vaccinated</th>\n      <th>is_lumpy_skin_disease</th>\n      <th>size</th>\n      <th>thumbnail</th>\n      <th>created_at</th>\n      <th>status</th>\n    </tr>\n  </thead>\n  <tbody>\n    <tr>\n      <th>0</th>\n      <td>1d9ff108-60dc-4f9e-98b4-e85ced1c6a67</td>\n      <td>BLF 2340</td>\n      <td>COW</td>\n      <td>MALE_BULL</td>\n      <td>RED</td>\n      <td>LOCAL</td>\n      <td>['JUMBOO', 'LUCERNE', 'NAPIER', 'SILAGE', 'STR...</td>\n      <td>2 Years</td>\n      <td>[{'id': '640e1e9e-3f5e-4792-93d2-6a5f53594698'...</td>\n      <td>0.0</td>\n      <td>...</td>\n      <td>19000.0</td>\n      <td>False</td>\n      <td>True</td>\n      <td>True</td>\n      <td>True</td>\n      <td>True</td>\n      <td>MEDIUM</td>\n      <td>https://uploads-prod.aws.bengalmeat.com/media/...</td>\n      <td>2021-07-17T20:02:29.885357+06:00</td>\n      <td>SHARED_ORDERED</td>\n    </tr>\n    <tr>\n      <th>1</th>\n      <td>685f6e3e-2ed6-46ec-9b3c-4c52a7913ed4</td>\n      <td>BLF 2342</td>\n      <td>COW</td>\n      <td>MALE_BULL</td>\n      <td>NON_RED</td>\n      <td>LOCAL</td>\n      <td>['JUMBOO', 'LUCERNE', 'NAPIER', 'SILAGE', 'STR...</td>\n      <td>2 Years</td>\n      <td>[{'id': '4cc01c8c-0fa9-412b-89b4-de611f612b38'...</td>\n      <td>0.0</td>\n      <td>...</td>\n      <td>18000.0</td>\n      <td>False</td>\n      <td>True</td>\n      <td>True</td>\n      <td>True</td>\n      <td>True</td>\n      <td>LARGE</td>\n      <td>https://uploads-prod.aws.bengalmeat.com/media/...</td>\n      <td>2021-07-17T20:13:06.519925+06:00</td>\n      <td>SHARED</td>\n    </tr>\n  </tbody>\n</table>\n<p>2 rows × 26 columns</p>\n</div>"
     },
     "metadata": {},
     "execution_count": 3
    }
   ],
   "source": [
    "df.head(2)"
   ]
  },
  {
   "cell_type": "code",
   "execution_count": 4,
   "metadata": {},
   "outputs": [
    {
     "output_type": "execute_result",
     "data": {
      "text/plain": [
       "(514, 26)"
      ]
     },
     "metadata": {},
     "execution_count": 4
    }
   ],
   "source": [
    "df.shape"
   ]
  },
  {
   "cell_type": "code",
   "execution_count": 5,
   "metadata": {},
   "outputs": [],
   "source": [
    "columns = ['sku', 'type', 'sex', 'color', 'breed', 'feed', 'age_in_month', 'feedlot_in_month', 'teeth', 'height_in_inch', 'weight_in_kg', 'price', 'size']\n",
    "df = df.loc[:, columns]"
   ]
  },
  {
   "cell_type": "code",
   "execution_count": 6,
   "metadata": {},
   "outputs": [
    {
     "output_type": "execute_result",
     "data": {
      "text/plain": [
       "        sku type        sex    color  breed  \\\n",
       "0  BLF 2340  COW  MALE_BULL      RED  LOCAL   \n",
       "1  BLF 2342  COW  MALE_BULL  NON_RED  LOCAL   \n",
       "\n",
       "                                                feed age_in_month  \\\n",
       "0  ['JUMBOO', 'LUCERNE', 'NAPIER', 'SILAGE', 'STR...      2 Years   \n",
       "1  ['JUMBOO', 'LUCERNE', 'NAPIER', 'SILAGE', 'STR...      2 Years   \n",
       "\n",
       "  feedlot_in_month  teeth  height_in_inch  weight_in_kg    price    size  \n",
       "0         3 Months      2            50.9         270.0  19000.0  MEDIUM  \n",
       "1         3 Months      2            52.0         256.0  18000.0   LARGE  "
      ],
      "text/html": "<div>\n<style scoped>\n    .dataframe tbody tr th:only-of-type {\n        vertical-align: middle;\n    }\n\n    .dataframe tbody tr th {\n        vertical-align: top;\n    }\n\n    .dataframe thead th {\n        text-align: right;\n    }\n</style>\n<table border=\"1\" class=\"dataframe\">\n  <thead>\n    <tr style=\"text-align: right;\">\n      <th></th>\n      <th>sku</th>\n      <th>type</th>\n      <th>sex</th>\n      <th>color</th>\n      <th>breed</th>\n      <th>feed</th>\n      <th>age_in_month</th>\n      <th>feedlot_in_month</th>\n      <th>teeth</th>\n      <th>height_in_inch</th>\n      <th>weight_in_kg</th>\n      <th>price</th>\n      <th>size</th>\n    </tr>\n  </thead>\n  <tbody>\n    <tr>\n      <th>0</th>\n      <td>BLF 2340</td>\n      <td>COW</td>\n      <td>MALE_BULL</td>\n      <td>RED</td>\n      <td>LOCAL</td>\n      <td>['JUMBOO', 'LUCERNE', 'NAPIER', 'SILAGE', 'STR...</td>\n      <td>2 Years</td>\n      <td>3 Months</td>\n      <td>2</td>\n      <td>50.9</td>\n      <td>270.0</td>\n      <td>19000.0</td>\n      <td>MEDIUM</td>\n    </tr>\n    <tr>\n      <th>1</th>\n      <td>BLF 2342</td>\n      <td>COW</td>\n      <td>MALE_BULL</td>\n      <td>NON_RED</td>\n      <td>LOCAL</td>\n      <td>['JUMBOO', 'LUCERNE', 'NAPIER', 'SILAGE', 'STR...</td>\n      <td>2 Years</td>\n      <td>3 Months</td>\n      <td>2</td>\n      <td>52.0</td>\n      <td>256.0</td>\n      <td>18000.0</td>\n      <td>LARGE</td>\n    </tr>\n  </tbody>\n</table>\n</div>"
     },
     "metadata": {},
     "execution_count": 6
    }
   ],
   "source": [
    "df.head(2)"
   ]
  },
  {
   "cell_type": "code",
   "execution_count": 7,
   "metadata": {},
   "outputs": [
    {
     "output_type": "stream",
     "name": "stdout",
     "text": [
      "['MALE_BULL', 'FEMALE_HEIFER']\n2\n"
     ]
    }
   ],
   "source": [
    "unique_sex = list(df.sex.unique()) # Input\n",
    "print(unique_sex)\n",
    "print(len(unique_sex))"
   ]
  },
  {
   "cell_type": "code",
   "execution_count": 8,
   "metadata": {},
   "outputs": [
    {
     "output_type": "stream",
     "name": "stdout",
     "text": [
      "[2, 4, 6]\n",
      "3\n"
     ]
    }
   ],
   "source": [
    "unique_teeth = list(df.teeth.unique()) # Input\n",
    "print(unique_teeth)\n",
    "print(len(unique_teeth))"
   ]
  },
  {
   "cell_type": "code",
   "execution_count": 9,
   "metadata": {},
   "outputs": [
    {
     "output_type": "stream",
     "name": "stdout",
     "text": [
      "['LOCAL', 'SAHIWAL', 'RED_CHITTAGONG', 'SINDHI', 'PABNA_BREED', 'HOSTINE_CROSS', 'BRAHMA', 'MIR_KADIM']\n8\n"
     ]
    }
   ],
   "source": [
    "unique_breed = list(df.breed.unique()) # Output\n",
    "print(unique_breed)\n",
    "print(len(unique_breed))"
   ]
  },
  {
   "cell_type": "code",
   "execution_count": 10,
   "metadata": {},
   "outputs": [
    {
     "output_type": "stream",
     "name": "stdout",
     "text": [
      "['2 Years', '2.5 Years', '3 Years']\n3\n"
     ]
    }
   ],
   "source": [
    "unique_age_in_month = list(df.age_in_month.unique()) # Output\n",
    "print(unique_age_in_month)\n",
    "print(len(unique_age_in_month))"
   ]
  },
  {
   "cell_type": "code",
   "execution_count": 11,
   "metadata": {},
   "outputs": [
    {
     "output_type": "stream",
     "name": "stdout",
     "text": [
      "[50.9, 52.0, 48.5, 51.0, 44.0, 43.5, 45.0, 48.0, 46.0, 43.2, 47.0, 45.8, 42.0, 44.6, 45.2, 49.0, 46.6, 44.5, 48.7, 47.2, 50.0, 41.0, 45.6, 47.1, 44.3, 43.7, 53.6, 47.5, 50.3, 46.8, 42.9, 46.9, 48.3, 42.6, 43.0, 48.4, 47.3, 45.5, 49.2, 49.8, 49.3, 43.1, 42.4, 49.4, 55.5, 49.6, 45.7, 48.1, 44.8, 45.4, 51.6, 42.2, 40.6, 47.7, 41.5, 44.4, 46.5, 46.3, 47.8, 44.9, 52.8, 51.5, 50.7, 55.0, 50.4, 43.4, 50.5, 45.3, 49.5, 46.2, 47.6, 45.9, 44.2, 41.6, 39.0, 41.4, 45.1, 47.9, 41.2, 42.3, 43.6, 40.0, 57.6, 52.1, 50.8, 51.9, 54.0, 54.9, 57.0, 53.0, 56.4, 50.2, 51.1, 52.5, 56.1, 56.8, 52.3, 42.8, 43.3, 52.4, 44.7, 39.1, 38.0, 38.8, 42.5, 58.2, 51.2]\n107\n"
     ]
    }
   ],
   "source": [
    "unique_height_in_inch = list(df.height_in_inch.unique()) # Output\n",
    "print(unique_height_in_inch)\n",
    "print(len(unique_height_in_inch))"
   ]
  },
  {
   "cell_type": "code",
   "execution_count": 12,
   "metadata": {},
   "outputs": [
    {
     "output_type": "stream",
     "name": "stdout",
     "text": [
      "[270.0, 256.0, 279.0, 296.0, 212.0, 202.0, 205.0, 258.0, 240.0, 215.0, 226.0, 224.0, 245.0, 255.0, 185.0, 200.0, 210.0, 250.0, 211.0, 225.0, 230.0, 265.0, 160.0, 242.0, 235.0, 220.0, 345.0, 282.0, 246.0, 315.0, 285.0, 300.0, 275.0, 216.0, 302.0, 273.0, 218.0, 213.0, 288.0, 267.0, 286.0, 305.0, 227.0, 236.0, 281.0, 272.0, 262.0, 239.0, 280.0, 217.0, 195.0, 223.0, 287.0, 271.0, 263.0, 252.0, 222.0, 221.0, 0.0, 257.0, 295.0, 208.0, 238.0, 179.0, 181.0, 259.0, 277.0, 291.0, 247.0, 283.0, 260.0, 201.0, 234.0, 244.0, 170.0, 249.0, 289.0, 266.0, 199.0, 219.0, 172.0, 204.0, 268.0, 180.0, 232.0, 229.0, 203.0, 241.0, 254.0, 261.0, 269.0, 196.0, 248.0, 209.0, 299.0, 311.0, 189.0, 194.0, 207.0, 214.0, 197.0, 251.0, 228.0, 206.0, 231.0, 183.0, 164.0, 176.0, 174.0, 186.0, 162.0, 154.0, 237.0, 173.0, 264.0, 191.0, 182.0, 161.0, 178.0, 198.0, 150.0, 155.0, 816.0, 606.0, 383.0, 375.0, 430.0, 340.0, 322.0, 243.0, 457.0, 415.0, 278.0, 438.0, 355.0, 330.0, 545.0, 378.0, 407.0, 487.0, 297.0, 276.0, 546.0, 477.0, 293.0, 389.0, 380.0, 365.0, 434.0, 390.0, 511.0, 420.0, 414.0, 440.0, 466.0, 421.0, 497.0, 419.0, 444.0, 459.0, 424.0, 412.0, 376.0, 381.0, 310.0, 423.0, 192.0, 188.0, 187.0, 382.0, 233.0, 348.0, 372.0, 316.0, 294.0, 359.0, 274.0, 307.0, 152.0, 510.0, 698.0]\n181\n"
     ]
    }
   ],
   "source": [
    "unique_weight_in_kg = list(df.weight_in_kg.unique()) # Output\n",
    "print(unique_weight_in_kg)\n",
    "print(len(unique_weight_in_kg))"
   ]
  },
  {
   "cell_type": "code",
   "execution_count": 13,
   "metadata": {},
   "outputs": [
    {
     "output_type": "stream",
     "name": "stdout",
     "text": [
      "[19000.0, 18000.0, 120000.0, 125000.0, 92000.0, 88000.0, 112000.0, 102000.0, 95000.0, 96000.0, 105000.0, 104000.0, 108000.0, 79000.0, 85000.0, 91000.0, 97000.0, 98000.0, 89000.0, 111000.0, 90000.0, 106000.0, 71000.0, 99000.0, 87000.0, 100000.0, 86000.0, 93000.0, 146000.0, 122000.0, 109000.0, 136000.0, 123000.0, 129000.0, 119000.0, 94000.0, 131000.0, 117000.0, 115000.0, 127000.0, 80000.0, 107000.0, 121000.0, 130000.0, 103000.0, 118000.0, 84000.0, 116000.0, 20000.0, 114000.0, 81000.0, 128000.0, 101000.0, 78000.0, 110000.0, 133000.0, 126000.0, 75000.0, 76000.0, 113000.0, 134000.0, 83000.0, 74000.0, 82000.0, 73000.0, 72000.0, 70000.0, 77000.0, 124000.0, 107930.0, 66000.0, 60000.0, 16000.0, 335000.0, 265000.0, 162000.0, 161000.0, 180000.0, 143000.0, 135000.0, 138000.0, 197000.0, 179000.0, 185000.0, 24000.0, 142000.0, 230000.0, 163000.0, 172000.0, 208000.0, 203000.0, 26000.0, 158000.0, 210000.0, 174000.0, 171000.0, 182000.0, 30000.0, 25000.0, 209000.0, 173000.0, 184000.0, 189000.0, 175000.0, 170000.0, 156000.0, 164000.0, 145000.0, 28000.0, 160000.0, 152000.0, 132000.0, 67000.0, 244800.0, 176000.0]\n115\n"
     ]
    }
   ],
   "source": [
    "unique_price = list(df.price.unique()) # Output\n",
    "print(unique_price)\n",
    "print(len(unique_price))"
   ]
  },
  {
   "cell_type": "code",
   "execution_count": 14,
   "metadata": {},
   "outputs": [
    {
     "output_type": "stream",
     "name": "stdout",
     "text": [
      "['3 Months', '3 Years', '24 Months', '12 Months', '6 Months', '4 Months']\n6\n"
     ]
    }
   ],
   "source": [
    "unique_feedlot_in_month = list(df.feedlot_in_month.unique()) # None\n",
    "print(unique_feedlot_in_month)\n",
    "print(len(unique_feedlot_in_month))"
   ]
  },
  {
   "cell_type": "code",
   "execution_count": 15,
   "metadata": {},
   "outputs": [
    {
     "output_type": "stream",
     "name": "stdout",
     "text": [
      "['RED', 'NON_RED']\n2\n"
     ]
    }
   ],
   "source": [
    "unique_color = list(df.color.unique()) # None\n",
    "print(unique_color)\n",
    "print(len(unique_color))"
   ]
  },
  {
   "cell_type": "code",
   "execution_count": 16,
   "metadata": {},
   "outputs": [
    {
     "output_type": "stream",
     "name": "stdout",
     "text": [
      "['MEDIUM', 'LARGE', 'MINIMUM', 'EXTRA_LARGE', nan]\n5\n"
     ]
    }
   ],
   "source": [
    "unique_size = list(df.loc[:, \"size\"].unique()) # None\n",
    "print(unique_size)\n",
    "print(len(unique_size))"
   ]
  },
  {
   "cell_type": "code",
   "execution_count": 17,
   "metadata": {},
   "outputs": [
    {
     "output_type": "stream",
     "name": "stdout",
     "text": [
      "['COW']\n1\n"
     ]
    }
   ],
   "source": [
    "unique_type = list(df.loc[:, \"type\"].unique()) # None\n",
    "print(unique_type)\n",
    "print(len(unique_type))"
   ]
  },
  {
   "cell_type": "code",
   "execution_count": 18,
   "metadata": {},
   "outputs": [],
   "source": []
  }
 ]
}