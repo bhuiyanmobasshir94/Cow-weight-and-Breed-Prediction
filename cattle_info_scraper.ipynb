{
 "metadata": {
  "language_info": {
   "codemirror_mode": {
    "name": "ipython",
    "version": 3
   },
   "file_extension": ".py",
   "mimetype": "text/x-python",
   "name": "python",
   "nbconvert_exporter": "python",
   "pygments_lexer": "ipython3",
   "version": "3.7.10"
  },
  "orig_nbformat": 4,
  "kernelspec": {
   "name": "python3",
   "display_name": "Python 3.7.10 64-bit ('test_1': conda)"
  },
  "interpreter": {
   "hash": "115df88ecd41b7c79ed6d06fd08fdeae1d9fb7db03893aa65e0d4e75740854d4"
  }
 },
 "nbformat": 4,
 "nbformat_minor": 2,
 "cells": [
  {
   "cell_type": "code",
   "execution_count": 13,
   "metadata": {},
   "outputs": [],
   "source": [
    "import os\n",
    "import joblib\n",
    "import json\n",
    "from collections import defaultdict\n",
    "import requests\n",
    "import time\n",
    "import concurrent.futures"
   ]
  },
  {
   "cell_type": "code",
   "execution_count": 2,
   "metadata": {},
   "outputs": [
    {
     "output_type": "stream",
     "name": "stdout",
     "text": [
      "290\n"
     ]
    }
   ],
   "source": [
    "url_set = joblib.load('pickles/url_set.pkl')\n",
    "print(len(url_set))"
   ]
  },
  {
   "cell_type": "code",
   "execution_count": 3,
   "metadata": {},
   "outputs": [],
   "source": [
    "DATA_DICT_LIST = []"
   ]
  },
  {
   "source": [
    "for offset, url in enumerate(url_set):\n",
    "    file_path = f'bm_outputs/{offset}/output/api/cattle/{url.split(\"/\")[-1]}/detail/index.html'\n",
    "    with open(file_path, 'r') as f:\n",
    "        content = f.read()\n",
    "        json_dict = json.loads(content)\n",
    "        DATA_DICT_LIST.append(json_dict[\"data\"])\n"
   ],
   "cell_type": "code",
   "metadata": {},
   "execution_count": 4,
   "outputs": []
  },
  {
   "cell_type": "code",
   "execution_count": 5,
   "metadata": {},
   "outputs": [
    {
     "output_type": "stream",
     "name": "stdout",
     "text": [
      "290\n"
     ]
    }
   ],
   "source": [
    "print(len(DATA_DICT_LIST))"
   ]
  },
  {
   "cell_type": "code",
   "execution_count": 6,
   "metadata": {},
   "outputs": [
    {
     "output_type": "execute_result",
     "data": {
      "text/plain": [
       "['pickles/DATA_DICT_LIST.pkl']"
      ]
     },
     "metadata": {},
     "execution_count": 6
    }
   ],
   "source": [
    "joblib.dump(DATA_DICT_LIST, 'pickles/DATA_DICT_LIST.pkl')"
   ]
  },
  {
   "cell_type": "code",
   "execution_count": 7,
   "metadata": {},
   "outputs": [
    {
     "output_type": "execute_result",
     "data": {
      "text/plain": [
       "{'id': 'c054429d-a295-4d3e-a36e-e74c19c6b7f9',\n",
       " 'sku': 'BLF2123',\n",
       " 'type': 'COW',\n",
       " 'sex': 'MALE_BULL',\n",
       " 'color': 'RED',\n",
       " 'breed': 'SINDHI',\n",
       " 'feed': ['JUMBOO',\n",
       "  'LUCERNE',\n",
       "  'NAPIER',\n",
       "  'SILAGE',\n",
       "  'STRAW',\n",
       "  'CORN',\n",
       "  'CONCENTRATE_MIX'],\n",
       " 'age_in_month': '2.5 Years',\n",
       " 'slides': [{'id': '37400451-a144-4e97-a201-70d2ad255cb0',\n",
       "   'image': 'https://uploads-prod.aws.bengalmeat.com/media/cattle-image/2021/BLF_2123_2.jpg'},\n",
       "  {'id': 'd7aa96cd-b9b0-4970-8e67-819a59312521',\n",
       "   'image': 'https://uploads-prod.aws.bengalmeat.com/media/cattle-image/2021/BLF_2123_3.jpg'},\n",
       "  {'id': 'cabd7ef1-c47c-4e89-8643-4cb2cc70965a',\n",
       "   'image': 'https://uploads-prod.aws.bengalmeat.com/media/cattle-image/2021/BLF_2123_4.jpg'}],\n",
       " 'sale_offer_percentage': 0.0,\n",
       " 'feedlot_in_month': '3 Months',\n",
       " 'teeth': 4,\n",
       " 'parts_available': 0,\n",
       " 'height_in_inch': 51.6,\n",
       " 'youtube_slug': 'it4aUr4Yk78',\n",
       " 'weight_in_kg': 300.0,\n",
       " 'price': '130000.00',\n",
       " 'is_special': True,\n",
       " 'is_dewormed': True,\n",
       " 'is_fmd_vaccinated': True,\n",
       " 'is_anthrax_vaccinated': True,\n",
       " 'is_lumpy_skin_disease': True,\n",
       " 'size': 'LARGE',\n",
       " 'thumbnail': 'https://uploads-prod.aws.bengalmeat.com/media/cattle-thumbnail/2021/BLF_2123_1.jpg',\n",
       " 'created_at': '2021-06-20T12:17:08.545773+06:00',\n",
       " 'status': 'AVAILABLE'}"
      ]
     },
     "metadata": {},
     "execution_count": 7
    }
   ],
   "source": [
    "DATA_DICT_LIST[0]"
   ]
  },
  {
   "cell_type": "code",
   "execution_count": 8,
   "metadata": {},
   "outputs": [],
   "source": [
    "IMAGES_DICT = defaultdict(list)"
   ]
  },
  {
   "cell_type": "code",
   "execution_count": 9,
   "metadata": {},
   "outputs": [],
   "source": [
    "for value in DATA_DICT_LIST:\n",
    "    IMAGES_DICT[value['sku']].append(value['thumbnail'])\n",
    "    for slide in value['slides']:\n",
    "        IMAGES_DICT[value['sku']].append(slide['image'])\n"
   ]
  },
  {
   "cell_type": "code",
   "execution_count": 10,
   "metadata": {},
   "outputs": [
    {
     "output_type": "execute_result",
     "data": {
      "text/plain": [
       "['https://uploads-prod.aws.bengalmeat.com/media/cattle-thumbnail/2021/BLF_2123_1.jpg',\n",
       " 'https://uploads-prod.aws.bengalmeat.com/media/cattle-image/2021/BLF_2123_2.jpg',\n",
       " 'https://uploads-prod.aws.bengalmeat.com/media/cattle-image/2021/BLF_2123_3.jpg',\n",
       " 'https://uploads-prod.aws.bengalmeat.com/media/cattle-image/2021/BLF_2123_4.jpg']"
      ]
     },
     "metadata": {},
     "execution_count": 10
    }
   ],
   "source": [
    "IMAGES_DICT['BLF2123']"
   ]
  },
  {
   "cell_type": "code",
   "execution_count": 11,
   "metadata": {},
   "outputs": [
    {
     "output_type": "execute_result",
     "data": {
      "text/plain": [
       "['pickles/IMAGES_DICT.pkl']"
      ]
     },
     "metadata": {},
     "execution_count": 11
    }
   ],
   "source": [
    "joblib.dump(IMAGES_DICT, 'pickles/IMAGES_DICT.pkl')"
   ]
  },
  {
   "cell_type": "code",
   "execution_count": 12,
   "metadata": {},
   "outputs": [],
   "source": [
    "IMAGES_DICT = dict(IMAGES_DICT)"
   ]
  },
  {
   "cell_type": "code",
   "execution_count": 14,
   "metadata": {},
   "outputs": [],
   "source": [
    "for key, value in IMAGES_DICT.items():\n",
    "    if os.path.exists(f'images/{key}'):\n",
    "        for img_url in value:\n",
    "            img_bytes = requests.get(img_url).content\n",
    "            img_name = img_url.split('/')[3]\n",
    "            img_name = f'images/{key}/{img_name}.jpg'\n",
    "            with open(img_name, 'wb') as img_file:\n",
    "                img_file.write(img_bytes)\n",
    "                print(f'{img_name} was downloaded...')\n",
    "    else:\n",
    "        os.mkdir(f'images/{key}')"
   ]
  },
  {
   "cell_type": "code",
   "execution_count": null,
   "metadata": {},
   "outputs": [],
   "source": []
  },
  {
   "cell_type": "code",
   "execution_count": 4,
   "metadata": {
    "tags": []
   },
   "outputs": [],
   "source": [
    "# for dirname, _, filenames in os.walk('bm_outputs'):\n",
    "#     print(dirname)\n",
    "#     print(filenames)\n",
    "#     for filename in filenames:\n",
    "#         os.path.join(dirname, filename)"
   ]
  },
  {
   "cell_type": "code",
   "execution_count": null,
   "metadata": {},
   "outputs": [],
   "source": []
  }
 ]
}